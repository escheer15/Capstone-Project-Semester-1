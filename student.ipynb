{
 "cells": [
  {
   "cell_type": "markdown",
   "metadata": {},
   "source": [
    "# Semester 1 Project Submission\n",
    "\n"
   ]
  },
  {
   "cell_type": "markdown",
   "metadata": {},
   "source": [
    "## Elliot"
   ]
  },
  {
   "cell_type": "code",
   "execution_count": null,
   "metadata": {},
   "outputs": [],
   "source": [
    "# Your code here - remember to use markdown cells for comments as well!"
   ]
  },
  {
   "cell_type": "markdown",
   "metadata": {},
   "source": [
    "## Ian"
   ]
  },
  {
   "cell_type": "code",
   "execution_count": null,
   "metadata": {},
   "outputs": [],
   "source": [
    "# Your code here - remember to use markdown cells for comments as well!"
   ]
  },
  {
   "cell_type": "markdown",
   "metadata": {},
   "source": [
    "## Frida"
   ]
  },
  {
   "cell_type": "code",
   "execution_count": 21,
   "metadata": {},
   "outputs": [],
   "source": [
    "# Importing\n",
    "import pandas as pd"
   ]
  },
  {
   "cell_type": "code",
   "execution_count": 22,
   "metadata": {},
   "outputs": [
    {
     "data": {
      "text/html": [
       "<div>\n",
       "<style scoped>\n",
       "    .dataframe tbody tr th:only-of-type {\n",
       "        vertical-align: middle;\n",
       "    }\n",
       "\n",
       "    .dataframe tbody tr th {\n",
       "        vertical-align: top;\n",
       "    }\n",
       "\n",
       "    .dataframe thead th {\n",
       "        text-align: right;\n",
       "    }\n",
       "</style>\n",
       "<table border=\"1\" class=\"dataframe\">\n",
       "  <thead>\n",
       "    <tr style=\"text-align: right;\">\n",
       "      <th></th>\n",
       "      <th>synopsis</th>\n",
       "      <th>rating</th>\n",
       "      <th>genre</th>\n",
       "      <th>director</th>\n",
       "      <th>writer</th>\n",
       "      <th>theater_date</th>\n",
       "      <th>dvd_date</th>\n",
       "      <th>currency</th>\n",
       "      <th>box_office</th>\n",
       "      <th>runtime</th>\n",
       "      <th>studio</th>\n",
       "    </tr>\n",
       "    <tr>\n",
       "      <th>id</th>\n",
       "      <th></th>\n",
       "      <th></th>\n",
       "      <th></th>\n",
       "      <th></th>\n",
       "      <th></th>\n",
       "      <th></th>\n",
       "      <th></th>\n",
       "      <th></th>\n",
       "      <th></th>\n",
       "      <th></th>\n",
       "      <th></th>\n",
       "    </tr>\n",
       "  </thead>\n",
       "  <tbody>\n",
       "    <tr>\n",
       "      <th>1</th>\n",
       "      <td>This gritty, fast-paced, and innovative police...</td>\n",
       "      <td>R</td>\n",
       "      <td>Action and Adventure|Classics|Drama</td>\n",
       "      <td>William Friedkin</td>\n",
       "      <td>Ernest Tidyman</td>\n",
       "      <td>Oct 9, 1971</td>\n",
       "      <td>Sep 25, 2001</td>\n",
       "      <td>NaN</td>\n",
       "      <td>NaN</td>\n",
       "      <td>104 minutes</td>\n",
       "      <td>NaN</td>\n",
       "    </tr>\n",
       "    <tr>\n",
       "      <th>3</th>\n",
       "      <td>New York City, not-too-distant-future: Eric Pa...</td>\n",
       "      <td>R</td>\n",
       "      <td>Drama|Science Fiction and Fantasy</td>\n",
       "      <td>David Cronenberg</td>\n",
       "      <td>David Cronenberg|Don DeLillo</td>\n",
       "      <td>Aug 17, 2012</td>\n",
       "      <td>Jan 1, 2013</td>\n",
       "      <td>$</td>\n",
       "      <td>600,000</td>\n",
       "      <td>108 minutes</td>\n",
       "      <td>Entertainment One</td>\n",
       "    </tr>\n",
       "    <tr>\n",
       "      <th>5</th>\n",
       "      <td>Illeana Douglas delivers a superb performance ...</td>\n",
       "      <td>R</td>\n",
       "      <td>Drama|Musical and Performing Arts</td>\n",
       "      <td>Allison Anders</td>\n",
       "      <td>Allison Anders</td>\n",
       "      <td>Sep 13, 1996</td>\n",
       "      <td>Apr 18, 2000</td>\n",
       "      <td>NaN</td>\n",
       "      <td>NaN</td>\n",
       "      <td>116 minutes</td>\n",
       "      <td>NaN</td>\n",
       "    </tr>\n",
       "    <tr>\n",
       "      <th>6</th>\n",
       "      <td>Michael Douglas runs afoul of a treacherous su...</td>\n",
       "      <td>R</td>\n",
       "      <td>Drama|Mystery and Suspense</td>\n",
       "      <td>Barry Levinson</td>\n",
       "      <td>Paul Attanasio|Michael Crichton</td>\n",
       "      <td>Dec 9, 1994</td>\n",
       "      <td>Aug 27, 1997</td>\n",
       "      <td>NaN</td>\n",
       "      <td>NaN</td>\n",
       "      <td>128 minutes</td>\n",
       "      <td>NaN</td>\n",
       "    </tr>\n",
       "    <tr>\n",
       "      <th>7</th>\n",
       "      <td>NaN</td>\n",
       "      <td>NR</td>\n",
       "      <td>Drama|Romance</td>\n",
       "      <td>Rodney Bennett</td>\n",
       "      <td>Giles Cooper</td>\n",
       "      <td>NaN</td>\n",
       "      <td>NaN</td>\n",
       "      <td>NaN</td>\n",
       "      <td>NaN</td>\n",
       "      <td>200 minutes</td>\n",
       "      <td>NaN</td>\n",
       "    </tr>\n",
       "  </tbody>\n",
       "</table>\n",
       "</div>"
      ],
      "text/plain": [
       "                                             synopsis rating  \\\n",
       "id                                                             \n",
       "1   This gritty, fast-paced, and innovative police...      R   \n",
       "3   New York City, not-too-distant-future: Eric Pa...      R   \n",
       "5   Illeana Douglas delivers a superb performance ...      R   \n",
       "6   Michael Douglas runs afoul of a treacherous su...      R   \n",
       "7                                                 NaN     NR   \n",
       "\n",
       "                                  genre          director  \\\n",
       "id                                                          \n",
       "1   Action and Adventure|Classics|Drama  William Friedkin   \n",
       "3     Drama|Science Fiction and Fantasy  David Cronenberg   \n",
       "5     Drama|Musical and Performing Arts    Allison Anders   \n",
       "6            Drama|Mystery and Suspense    Barry Levinson   \n",
       "7                         Drama|Romance    Rodney Bennett   \n",
       "\n",
       "                             writer  theater_date      dvd_date currency  \\\n",
       "id                                                                         \n",
       "1                    Ernest Tidyman   Oct 9, 1971  Sep 25, 2001      NaN   \n",
       "3      David Cronenberg|Don DeLillo  Aug 17, 2012   Jan 1, 2013        $   \n",
       "5                    Allison Anders  Sep 13, 1996  Apr 18, 2000      NaN   \n",
       "6   Paul Attanasio|Michael Crichton   Dec 9, 1994  Aug 27, 1997      NaN   \n",
       "7                      Giles Cooper           NaN           NaN      NaN   \n",
       "\n",
       "   box_office      runtime             studio  \n",
       "id                                             \n",
       "1         NaN  104 minutes                NaN  \n",
       "3     600,000  108 minutes  Entertainment One  \n",
       "5         NaN  116 minutes                NaN  \n",
       "6         NaN  128 minutes                NaN  \n",
       "7         NaN  200 minutes                NaN  "
      ]
     },
     "execution_count": 22,
     "metadata": {},
     "output_type": "execute_result"
    }
   ],
   "source": [
    "# Reading the \"Movie info\" file\n",
    "movie_info_df = pd.read_csv('databases/rt.movie_info.tsv', sep='\\t', encoding = 'utf-8', index_col=0)\n",
    "movie_info_df.head()"
   ]
  },
  {
   "cell_type": "markdown",
   "metadata": {},
   "source": [
    "### Data Cleaning"
   ]
  },
  {
   "cell_type": "code",
   "execution_count": 18,
   "metadata": {},
   "outputs": [
    {
     "name": "stdout",
     "output_type": "stream",
     "text": [
      "<class 'pandas.core.frame.DataFrame'>\n",
      "Int64Index: 1560 entries, 1 to 2000\n",
      "Data columns (total 11 columns):\n",
      " #   Column        Non-Null Count  Dtype \n",
      "---  ------        --------------  ----- \n",
      " 0   synopsis      1498 non-null   object\n",
      " 1   rating        1557 non-null   object\n",
      " 2   genre         1552 non-null   object\n",
      " 3   director      1361 non-null   object\n",
      " 4   writer        1111 non-null   object\n",
      " 5   theater_date  1201 non-null   object\n",
      " 6   dvd_date      1201 non-null   object\n",
      " 7   currency      340 non-null    object\n",
      " 8   box_office    340 non-null    object\n",
      " 9   runtime       1530 non-null   object\n",
      " 10  studio        494 non-null    object\n",
      "dtypes: object(11)\n",
      "memory usage: 146.2+ KB\n"
     ]
    }
   ],
   "source": [
    "# Data frame overview. Column information, name-data type.\n",
    "movie_info_df.info()"
   ]
  },
  {
   "cell_type": "code",
   "execution_count": 3,
   "metadata": {},
   "outputs": [
    {
     "data": {
      "text/html": [
       "<div>\n",
       "<style scoped>\n",
       "    .dataframe tbody tr th:only-of-type {\n",
       "        vertical-align: middle;\n",
       "    }\n",
       "\n",
       "    .dataframe tbody tr th {\n",
       "        vertical-align: top;\n",
       "    }\n",
       "\n",
       "    .dataframe thead th {\n",
       "        text-align: right;\n",
       "    }\n",
       "</style>\n",
       "<table border=\"1\" class=\"dataframe\">\n",
       "  <thead>\n",
       "    <tr style=\"text-align: right;\">\n",
       "      <th></th>\n",
       "      <th>synopsis</th>\n",
       "      <th>rating</th>\n",
       "      <th>genre</th>\n",
       "      <th>director</th>\n",
       "      <th>writer</th>\n",
       "      <th>theater_date</th>\n",
       "      <th>dvd_date</th>\n",
       "      <th>currency</th>\n",
       "      <th>box_office</th>\n",
       "      <th>runtime</th>\n",
       "      <th>studio</th>\n",
       "    </tr>\n",
       "  </thead>\n",
       "  <tbody>\n",
       "    <tr>\n",
       "      <th>count</th>\n",
       "      <td>1498</td>\n",
       "      <td>1557</td>\n",
       "      <td>1552</td>\n",
       "      <td>1361</td>\n",
       "      <td>1111</td>\n",
       "      <td>1201</td>\n",
       "      <td>1201</td>\n",
       "      <td>340</td>\n",
       "      <td>340</td>\n",
       "      <td>1530</td>\n",
       "      <td>494</td>\n",
       "    </tr>\n",
       "    <tr>\n",
       "      <th>unique</th>\n",
       "      <td>1497</td>\n",
       "      <td>6</td>\n",
       "      <td>299</td>\n",
       "      <td>1125</td>\n",
       "      <td>1069</td>\n",
       "      <td>1025</td>\n",
       "      <td>717</td>\n",
       "      <td>1</td>\n",
       "      <td>336</td>\n",
       "      <td>142</td>\n",
       "      <td>200</td>\n",
       "    </tr>\n",
       "    <tr>\n",
       "      <th>top</th>\n",
       "      <td>A group of air crash survivors are stranded in...</td>\n",
       "      <td>R</td>\n",
       "      <td>Drama</td>\n",
       "      <td>Steven Spielberg</td>\n",
       "      <td>Woody Allen</td>\n",
       "      <td>Jan 1, 1987</td>\n",
       "      <td>Jun 1, 2004</td>\n",
       "      <td>$</td>\n",
       "      <td>600,000</td>\n",
       "      <td>90 minutes</td>\n",
       "      <td>Universal Pictures</td>\n",
       "    </tr>\n",
       "    <tr>\n",
       "      <th>freq</th>\n",
       "      <td>2</td>\n",
       "      <td>521</td>\n",
       "      <td>151</td>\n",
       "      <td>10</td>\n",
       "      <td>4</td>\n",
       "      <td>8</td>\n",
       "      <td>11</td>\n",
       "      <td>340</td>\n",
       "      <td>2</td>\n",
       "      <td>72</td>\n",
       "      <td>35</td>\n",
       "    </tr>\n",
       "  </tbody>\n",
       "</table>\n",
       "</div>"
      ],
      "text/plain": [
       "                                                 synopsis rating  genre  \\\n",
       "count                                                1498   1557   1552   \n",
       "unique                                               1497      6    299   \n",
       "top     A group of air crash survivors are stranded in...      R  Drama   \n",
       "freq                                                    2    521    151   \n",
       "\n",
       "                director       writer theater_date     dvd_date currency  \\\n",
       "count               1361         1111         1201         1201      340   \n",
       "unique              1125         1069         1025          717        1   \n",
       "top     Steven Spielberg  Woody Allen  Jan 1, 1987  Jun 1, 2004        $   \n",
       "freq                  10            4            8           11      340   \n",
       "\n",
       "       box_office     runtime              studio  \n",
       "count         340        1530                 494  \n",
       "unique        336         142                 200  \n",
       "top       600,000  90 minutes  Universal Pictures  \n",
       "freq            2          72                  35  "
      ]
     },
     "execution_count": 3,
     "metadata": {},
     "output_type": "execute_result"
    }
   ],
   "source": [
    "# Column information, name-data type.\n",
    "movie_info_df.describe()"
   ]
  },
  {
   "cell_type": "code",
   "execution_count": 23,
   "metadata": {},
   "outputs": [
    {
     "data": {
      "text/plain": [
       "synopsis          62\n",
       "rating             3\n",
       "genre              8\n",
       "director         199\n",
       "writer           449\n",
       "theater_date     359\n",
       "dvd_date         359\n",
       "currency        1220\n",
       "box_office      1220\n",
       "runtime           30\n",
       "studio          1066\n",
       "dtype: int64"
      ]
     },
     "execution_count": 23,
     "metadata": {},
     "output_type": "execute_result"
    }
   ],
   "source": [
    "# Missing values\n",
    "movie_info_df.isna().sum()"
   ]
  },
  {
   "cell_type": "code",
   "execution_count": 24,
   "metadata": {},
   "outputs": [],
   "source": [
    "# Removing duplicate records\n",
    "movie_info_df = movie_info_df.drop_duplicates()"
   ]
  },
  {
   "cell_type": "code",
   "execution_count": 30,
   "metadata": {},
   "outputs": [],
   "source": [
    "# Changing NaN values for String \"Not Available\"\n",
    "movie_info_df['synopsis'] = movie_info_df['synopsis'].fillna('Not Available')\n",
    "movie_info_df['rating'] = movie_info_df['rating'].fillna('Not Available')\n",
    "movie_info_df['genre'] = movie_info_df['genre'].fillna('Not Available')\n",
    "movie_info_df['director'] = movie_info_df['director'].fillna('Not Available')\n",
    "movie_info_df['theater_date'] = movie_info_df['theater_date'].fillna('Not Available')\n",
    "movie_info_df['dvd_date'] = movie_info_df['dvd_date'].fillna('Not Available')\n",
    "movie_info_df['runtime'] = movie_info_df['runtime'].fillna('Not Available')\n",
    "movie_info_df['studio'] = movie_info_df['studio'].fillna('Not Available')\n",
    "movie_info_df['writer'] = movie_info_df['writer'].fillna('Not Available')"
   ]
  },
  {
   "cell_type": "code",
   "execution_count": 31,
   "metadata": {},
   "outputs": [
    {
     "data": {
      "text/plain": [
       "synopsis        0\n",
       "rating          0\n",
       "genre           0\n",
       "director        0\n",
       "writer          0\n",
       "theater_date    0\n",
       "dvd_date        0\n",
       "currency        0\n",
       "box_office      0\n",
       "runtime         0\n",
       "studio          0\n",
       "dtype: int64"
      ]
     },
     "execution_count": 31,
     "metadata": {},
     "output_type": "execute_result"
    }
   ],
   "source": [
    "# Changing NaN values for 0 in Box Office column\n",
    "movie_info_df['box_office'] = movie_info_df['box_office'].fillna(0)\n",
    "\n",
    "# Remmoving commas from Box Office values\n",
    "movie_info_df['box_office'] = movie_info_df['box_office'].replace({',':''}, regex=True)\n",
    "\n",
    "# Converting Box Office values into Integers\n",
    "movie_info_df['box_office'] = movie_info_df['box_office'].astype(float)"
   ]
  },
  {
   "cell_type": "code",
   "execution_count": null,
   "metadata": {},
   "outputs": [],
   "source": [
    "# Checking possible Currency values\n",
    "currency_values = set(movie_info_df.loc[:,\"currency\"])\n",
    "currency_values\n",
    "\n",
    "# Changing NaN values for \"$\" in Currency column\n",
    "movie_info_df['currency'] = movie_info_df['currency'].fillna('$')\n",
    "\n",
    "# Confirming that there in no more NaN values \n",
    "movie_info_df.isna().sum()"
   ]
  },
  {
   "cell_type": "code",
   "execution_count": 10,
   "metadata": {},
   "outputs": [
    {
     "data": {
      "text/html": [
       "<div>\n",
       "<style scoped>\n",
       "    .dataframe tbody tr th:only-of-type {\n",
       "        vertical-align: middle;\n",
       "    }\n",
       "\n",
       "    .dataframe tbody tr th {\n",
       "        vertical-align: top;\n",
       "    }\n",
       "\n",
       "    .dataframe thead th {\n",
       "        text-align: right;\n",
       "    }\n",
       "</style>\n",
       "<table border=\"1\" class=\"dataframe\">\n",
       "  <thead>\n",
       "    <tr style=\"text-align: right;\">\n",
       "      <th></th>\n",
       "      <th>synopsis</th>\n",
       "      <th>rating</th>\n",
       "      <th>genre</th>\n",
       "      <th>director</th>\n",
       "      <th>writer</th>\n",
       "      <th>theater_date</th>\n",
       "      <th>dvd_date</th>\n",
       "      <th>currency</th>\n",
       "      <th>box_office</th>\n",
       "      <th>runtime</th>\n",
       "      <th>studio</th>\n",
       "    </tr>\n",
       "    <tr>\n",
       "      <th>id</th>\n",
       "      <th></th>\n",
       "      <th></th>\n",
       "      <th></th>\n",
       "      <th></th>\n",
       "      <th></th>\n",
       "      <th></th>\n",
       "      <th></th>\n",
       "      <th></th>\n",
       "      <th></th>\n",
       "      <th></th>\n",
       "      <th></th>\n",
       "    </tr>\n",
       "  </thead>\n",
       "  <tbody>\n",
       "    <tr>\n",
       "      <th>108</th>\n",
       "      <td>A picture-perfect family moves into an upscale...</td>\n",
       "      <td>R</td>\n",
       "      <td>Comedy|Drama|Kids and Family</td>\n",
       "      <td>Derrick Borte</td>\n",
       "      <td>Derrick Borte</td>\n",
       "      <td>Apr 16, 2010</td>\n",
       "      <td>Aug 10, 2010</td>\n",
       "      <td>$</td>\n",
       "      <td>1,000,000</td>\n",
       "      <td>93 minutes</td>\n",
       "      <td>Roadside Attractions</td>\n",
       "    </tr>\n",
       "    <tr>\n",
       "      <th>22</th>\n",
       "      <td>Two-time Academy Award Winner Kevin Spacey giv...</td>\n",
       "      <td>R</td>\n",
       "      <td>Comedy|Drama|Mystery and Suspense</td>\n",
       "      <td>George Hickenlooper</td>\n",
       "      <td>Norman Snider</td>\n",
       "      <td>Dec 17, 2010</td>\n",
       "      <td>Apr 5, 2011</td>\n",
       "      <td>$</td>\n",
       "      <td>1,039,869</td>\n",
       "      <td>108 minutes</td>\n",
       "      <td>ATO Pictures</td>\n",
       "    </tr>\n",
       "    <tr>\n",
       "      <th>1046</th>\n",
       "      <td>Writer/director Rodrigo Garca (Nine Lives) tea...</td>\n",
       "      <td>R</td>\n",
       "      <td>Drama</td>\n",
       "      <td>NaN</td>\n",
       "      <td>NaN</td>\n",
       "      <td>May 7, 2010</td>\n",
       "      <td>Dec 14, 2010</td>\n",
       "      <td>$</td>\n",
       "      <td>1,110,286</td>\n",
       "      <td>126 minutes</td>\n",
       "      <td>Sony Pictures Classics</td>\n",
       "    </tr>\n",
       "    <tr>\n",
       "      <th>1398</th>\n",
       "      <td>A heartfelt tale of inspiration, hope and rede...</td>\n",
       "      <td>PG</td>\n",
       "      <td>Drama|Kids and Family|Faith and Spirituality</td>\n",
       "      <td>David Nixon|Patrick Doughtie</td>\n",
       "      <td>NaN</td>\n",
       "      <td>Apr 9, 2010</td>\n",
       "      <td>Aug 10, 2010</td>\n",
       "      <td>$</td>\n",
       "      <td>1,121,000</td>\n",
       "      <td>110 minutes</td>\n",
       "      <td>Vivendi Entertainment</td>\n",
       "    </tr>\n",
       "    <tr>\n",
       "      <th>1564</th>\n",
       "      <td>Real-life sweethearts Michael Cera and Charlyn...</td>\n",
       "      <td>PG-13</td>\n",
       "      <td>Comedy</td>\n",
       "      <td>Nicholas Jasenovec</td>\n",
       "      <td>Nicholas Jasenovec|Charlyne Yi</td>\n",
       "      <td>Aug 14, 2009</td>\n",
       "      <td>Dec 1, 2009</td>\n",
       "      <td>$</td>\n",
       "      <td>1,149,350</td>\n",
       "      <td>89 minutes</td>\n",
       "      <td>Overture Films</td>\n",
       "    </tr>\n",
       "  </tbody>\n",
       "</table>\n",
       "</div>"
      ],
      "text/plain": [
       "                                               synopsis rating  \\\n",
       "id                                                               \n",
       "108   A picture-perfect family moves into an upscale...      R   \n",
       "22    Two-time Academy Award Winner Kevin Spacey giv...      R   \n",
       "1046  Writer/director Rodrigo Garca (Nine Lives) tea...      R   \n",
       "1398  A heartfelt tale of inspiration, hope and rede...     PG   \n",
       "1564  Real-life sweethearts Michael Cera and Charlyn...  PG-13   \n",
       "\n",
       "                                             genre  \\\n",
       "id                                                   \n",
       "108                   Comedy|Drama|Kids and Family   \n",
       "22               Comedy|Drama|Mystery and Suspense   \n",
       "1046                                         Drama   \n",
       "1398  Drama|Kids and Family|Faith and Spirituality   \n",
       "1564                                        Comedy   \n",
       "\n",
       "                          director                          writer  \\\n",
       "id                                                                   \n",
       "108                  Derrick Borte                   Derrick Borte   \n",
       "22             George Hickenlooper                   Norman Snider   \n",
       "1046                           NaN                             NaN   \n",
       "1398  David Nixon|Patrick Doughtie                             NaN   \n",
       "1564            Nicholas Jasenovec  Nicholas Jasenovec|Charlyne Yi   \n",
       "\n",
       "      theater_date      dvd_date currency box_office      runtime  \\\n",
       "id                                                                  \n",
       "108   Apr 16, 2010  Aug 10, 2010        $  1,000,000   93 minutes   \n",
       "22    Dec 17, 2010   Apr 5, 2011        $  1,039,869  108 minutes   \n",
       "1046   May 7, 2010  Dec 14, 2010        $  1,110,286  126 minutes   \n",
       "1398   Apr 9, 2010  Aug 10, 2010        $  1,121,000  110 minutes   \n",
       "1564  Aug 14, 2009   Dec 1, 2009        $  1,149,350   89 minutes   \n",
       "\n",
       "                      studio  \n",
       "id                            \n",
       "108     Roadside Attractions  \n",
       "22              ATO Pictures  \n",
       "1046  Sony Pictures Classics  \n",
       "1398   Vivendi Entertainment  \n",
       "1564          Overture Films  "
      ]
     },
     "execution_count": 10,
     "metadata": {},
     "output_type": "execute_result"
    }
   ],
   "source": [
    "# Movies with highest earnings\n",
    "box_o = movie_info_df.sort_values('box_office')\n",
    "box_o.head(5)"
   ]
  },
  {
   "cell_type": "code",
   "execution_count": 14,
   "metadata": {},
   "outputs": [
    {
     "data": {
      "text/plain": [
       "id\n",
       "1        [Oct, 9,, 1971]\n",
       "3       [Aug, 17,, 2012]\n",
       "5       [Sep, 13,, 1996]\n",
       "6        [Dec, 9,, 1994]\n",
       "7                    NaN\n",
       "              ...       \n",
       "1996    [Aug, 18,, 2006]\n",
       "1997    [Jul, 23,, 1993]\n",
       "1998     [Jan, 1,, 1962]\n",
       "1999     [Apr, 1,, 1993]\n",
       "2000    [Sep, 27,, 2001]\n",
       "Name: theater_date, Length: 1560, dtype: object"
      ]
     },
     "execution_count": 14,
     "metadata": {},
     "output_type": "execute_result"
    }
   ],
   "source": [
    "#type(movie_info_df.loc[1,\"theater_date\"])\n",
    "m = movie_info_df[\"theater_date\"].str.split()\n",
    "m"
   ]
  },
  {
   "cell_type": "markdown",
   "metadata": {},
   "source": [
    "## Enrique"
   ]
  },
  {
   "cell_type": "code",
   "execution_count": null,
   "metadata": {},
   "outputs": [],
   "source": [
    "# Your code here - remember to use markdown cells for comments as well!"
   ]
  },
  {
   "cell_type": "markdown",
   "metadata": {},
   "source": [
    "## John"
   ]
  },
  {
   "cell_type": "code",
   "execution_count": null,
   "metadata": {},
   "outputs": [],
   "source": [
    "# Your code here - remember to use markdown cells for comments as well!"
   ]
  },
  {
   "cell_type": "code",
   "execution_count": null,
   "metadata": {},
   "outputs": [],
   "source": []
  },
  {
   "cell_type": "code",
   "execution_count": null,
   "metadata": {},
   "outputs": [],
   "source": []
  },
  {
   "cell_type": "code",
   "execution_count": null,
   "metadata": {},
   "outputs": [],
   "source": []
  }
 ],
 "metadata": {
  "kernelspec": {
   "display_name": "Python 3 (ipykernel)",
   "language": "python",
   "name": "python3"
  },
  "language_info": {
   "codemirror_mode": {
    "name": "ipython",
    "version": 3
   },
   "file_extension": ".py",
   "mimetype": "text/x-python",
   "name": "python",
   "nbconvert_exporter": "python",
   "pygments_lexer": "ipython3",
   "version": "3.9.12"
  }
 },
 "nbformat": 4,
 "nbformat_minor": 2
}
