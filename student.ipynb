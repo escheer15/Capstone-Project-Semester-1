{
 "cells": [
  {
   "cell_type": "markdown",
   "metadata": {},
   "source": [
    "# Semester 1 Project Submission\n",
    "\n"
   ]
  },
  {
   "cell_type": "markdown",
   "metadata": {},
   "source": [
    "## Elliot"
   ]
  },
  {
   "cell_type": "markdown",
   "metadata": {},
   "source": [
    "### The Movie Database Data Cleanse"
   ]
  },
  {
   "cell_type": "code",
   "execution_count": 7,
   "metadata": {},
   "outputs": [],
   "source": [
    "#import needed libraries\n",
    "import pandas as pd"
   ]
  },
  {
   "cell_type": "code",
   "execution_count": 8,
   "metadata": {
    "scrolled": false
   },
   "outputs": [
    {
     "data": {
      "text/html": [
       "<div>\n",
       "<style scoped>\n",
       "    .dataframe tbody tr th:only-of-type {\n",
       "        vertical-align: middle;\n",
       "    }\n",
       "\n",
       "    .dataframe tbody tr th {\n",
       "        vertical-align: top;\n",
       "    }\n",
       "\n",
       "    .dataframe thead th {\n",
       "        text-align: right;\n",
       "    }\n",
       "</style>\n",
       "<table border=\"1\" class=\"dataframe\">\n",
       "  <thead>\n",
       "    <tr style=\"text-align: right;\">\n",
       "      <th></th>\n",
       "      <th>genre_ids</th>\n",
       "      <th>id</th>\n",
       "      <th>original_language</th>\n",
       "      <th>popularity</th>\n",
       "      <th>release_date</th>\n",
       "      <th>title</th>\n",
       "      <th>vote_average</th>\n",
       "      <th>vote_count</th>\n",
       "    </tr>\n",
       "  </thead>\n",
       "  <tbody>\n",
       "    <tr>\n",
       "      <th>0</th>\n",
       "      <td>[12, 14, 10751]</td>\n",
       "      <td>12444</td>\n",
       "      <td>en</td>\n",
       "      <td>33.533</td>\n",
       "      <td>2010-11-19</td>\n",
       "      <td>Harry Potter and the Deathly Hallows: Part 1</td>\n",
       "      <td>7.7</td>\n",
       "      <td>10788</td>\n",
       "    </tr>\n",
       "    <tr>\n",
       "      <th>1</th>\n",
       "      <td>[14, 12, 16, 10751]</td>\n",
       "      <td>10191</td>\n",
       "      <td>en</td>\n",
       "      <td>28.734</td>\n",
       "      <td>2010-03-26</td>\n",
       "      <td>How to Train Your Dragon</td>\n",
       "      <td>7.7</td>\n",
       "      <td>7610</td>\n",
       "    </tr>\n",
       "    <tr>\n",
       "      <th>2</th>\n",
       "      <td>[12, 28, 878]</td>\n",
       "      <td>10138</td>\n",
       "      <td>en</td>\n",
       "      <td>28.515</td>\n",
       "      <td>2010-05-07</td>\n",
       "      <td>Iron Man 2</td>\n",
       "      <td>6.8</td>\n",
       "      <td>12368</td>\n",
       "    </tr>\n",
       "    <tr>\n",
       "      <th>3</th>\n",
       "      <td>[16, 35, 10751]</td>\n",
       "      <td>862</td>\n",
       "      <td>en</td>\n",
       "      <td>28.005</td>\n",
       "      <td>1995-11-22</td>\n",
       "      <td>Toy Story</td>\n",
       "      <td>7.9</td>\n",
       "      <td>10174</td>\n",
       "    </tr>\n",
       "    <tr>\n",
       "      <th>4</th>\n",
       "      <td>[28, 878, 12]</td>\n",
       "      <td>27205</td>\n",
       "      <td>en</td>\n",
       "      <td>27.920</td>\n",
       "      <td>2010-07-16</td>\n",
       "      <td>Inception</td>\n",
       "      <td>8.3</td>\n",
       "      <td>22186</td>\n",
       "    </tr>\n",
       "    <tr>\n",
       "      <th>...</th>\n",
       "      <td>...</td>\n",
       "      <td>...</td>\n",
       "      <td>...</td>\n",
       "      <td>...</td>\n",
       "      <td>...</td>\n",
       "      <td>...</td>\n",
       "      <td>...</td>\n",
       "      <td>...</td>\n",
       "    </tr>\n",
       "    <tr>\n",
       "      <th>26512</th>\n",
       "      <td>[27, 18]</td>\n",
       "      <td>488143</td>\n",
       "      <td>en</td>\n",
       "      <td>0.600</td>\n",
       "      <td>2018-10-13</td>\n",
       "      <td>Laboratory Conditions</td>\n",
       "      <td>0.0</td>\n",
       "      <td>1</td>\n",
       "    </tr>\n",
       "    <tr>\n",
       "      <th>26513</th>\n",
       "      <td>[18, 53]</td>\n",
       "      <td>485975</td>\n",
       "      <td>en</td>\n",
       "      <td>0.600</td>\n",
       "      <td>2018-05-01</td>\n",
       "      <td>_EXHIBIT_84xxx_</td>\n",
       "      <td>0.0</td>\n",
       "      <td>1</td>\n",
       "    </tr>\n",
       "    <tr>\n",
       "      <th>26514</th>\n",
       "      <td>[14, 28, 12]</td>\n",
       "      <td>381231</td>\n",
       "      <td>en</td>\n",
       "      <td>0.600</td>\n",
       "      <td>2018-10-01</td>\n",
       "      <td>The Last One</td>\n",
       "      <td>0.0</td>\n",
       "      <td>1</td>\n",
       "    </tr>\n",
       "    <tr>\n",
       "      <th>26515</th>\n",
       "      <td>[10751, 12, 28]</td>\n",
       "      <td>366854</td>\n",
       "      <td>en</td>\n",
       "      <td>0.600</td>\n",
       "      <td>2018-06-22</td>\n",
       "      <td>Trailer Made</td>\n",
       "      <td>0.0</td>\n",
       "      <td>1</td>\n",
       "    </tr>\n",
       "    <tr>\n",
       "      <th>26516</th>\n",
       "      <td>[53, 27]</td>\n",
       "      <td>309885</td>\n",
       "      <td>en</td>\n",
       "      <td>0.600</td>\n",
       "      <td>2018-10-05</td>\n",
       "      <td>The Church</td>\n",
       "      <td>0.0</td>\n",
       "      <td>1</td>\n",
       "    </tr>\n",
       "  </tbody>\n",
       "</table>\n",
       "<p>25497 rows × 8 columns</p>\n",
       "</div>"
      ],
      "text/plain": [
       "                 genre_ids      id original_language  popularity release_date  \\\n",
       "0          [12, 14, 10751]   12444                en      33.533   2010-11-19   \n",
       "1      [14, 12, 16, 10751]   10191                en      28.734   2010-03-26   \n",
       "2            [12, 28, 878]   10138                en      28.515   2010-05-07   \n",
       "3          [16, 35, 10751]     862                en      28.005   1995-11-22   \n",
       "4            [28, 878, 12]   27205                en      27.920   2010-07-16   \n",
       "...                    ...     ...               ...         ...          ...   \n",
       "26512             [27, 18]  488143                en       0.600   2018-10-13   \n",
       "26513             [18, 53]  485975                en       0.600   2018-05-01   \n",
       "26514         [14, 28, 12]  381231                en       0.600   2018-10-01   \n",
       "26515      [10751, 12, 28]  366854                en       0.600   2018-06-22   \n",
       "26516             [53, 27]  309885                en       0.600   2018-10-05   \n",
       "\n",
       "                                              title  vote_average  vote_count  \n",
       "0      Harry Potter and the Deathly Hallows: Part 1           7.7       10788  \n",
       "1                          How to Train Your Dragon           7.7        7610  \n",
       "2                                        Iron Man 2           6.8       12368  \n",
       "3                                         Toy Story           7.9       10174  \n",
       "4                                         Inception           8.3       22186  \n",
       "...                                             ...           ...         ...  \n",
       "26512                         Laboratory Conditions           0.0           1  \n",
       "26513                               _EXHIBIT_84xxx_           0.0           1  \n",
       "26514                                  The Last One           0.0           1  \n",
       "26515                                  Trailer Made           0.0           1  \n",
       "26516                                    The Church           0.0           1  \n",
       "\n",
       "[25497 rows x 8 columns]"
      ]
     },
     "execution_count": 8,
     "metadata": {},
     "output_type": "execute_result"
    }
   ],
   "source": [
    "#read tmdb file, make sure values are in the same format, and drop null values\n",
    "tmdb_movie_db = pd.read_csv('databases/tmdb.movies.csv', na_filter=True, na_values='[]', encoding = 'utf-8', index_col = 0)\n",
    "tmdb_movie_db.dropna()\n",
    "#drop extra title column\n",
    "tmdb_movie_db = tmdb_movie_db.drop('original_title', axis = 1)\n",
    "#standardize release date into date format\n",
    "tmdb_movie_db['release_date'] = pd.to_datetime(tmdb_movie_db['release_date'])\n",
    "#strip whitespace from title\n",
    "tmdb_movie_db['title'] = tmdb_movie_db['title'].str.strip()\n",
    "#remove duplicates\n",
    "tmdb_movie_db = tmdb_movie_db.drop_duplicates()\n",
    "#convert genre_ids to name\n",
    "#df.where()\n",
    "\n",
    "tmdb_movie_db"
   ]
  },
  {
   "cell_type": "code",
   "execution_count": 9,
   "metadata": {
    "scrolled": true
   },
   "outputs": [
    {
     "name": "stdout",
     "output_type": "stream",
     "text": [
      "<class 'pandas.core.frame.DataFrame'>\n",
      "Int64Index: 25497 entries, 0 to 26516\n",
      "Data columns (total 8 columns):\n",
      " #   Column             Non-Null Count  Dtype         \n",
      "---  ------             --------------  -----         \n",
      " 0   genre_ids          23036 non-null  object        \n",
      " 1   id                 25497 non-null  int64         \n",
      " 2   original_language  25497 non-null  object        \n",
      " 3   popularity         25497 non-null  float64       \n",
      " 4   release_date       25497 non-null  datetime64[ns]\n",
      " 5   title              25497 non-null  object        \n",
      " 6   vote_average       25497 non-null  float64       \n",
      " 7   vote_count         25497 non-null  int64         \n",
      "dtypes: datetime64[ns](1), float64(2), int64(2), object(3)\n",
      "memory usage: 1.8+ MB\n"
     ]
    }
   ],
   "source": [
    "#information regarding The Movie Database\n",
    "tmdb_movie_db.info()"
   ]
  },
  {
   "cell_type": "code",
   "execution_count": 10,
   "metadata": {},
   "outputs": [
    {
     "data": {
      "text/plain": [
       "genre_ids            2461\n",
       "id                      0\n",
       "original_language       0\n",
       "popularity              0\n",
       "release_date            0\n",
       "title                   0\n",
       "vote_average            0\n",
       "vote_count              0\n",
       "dtype: int64"
      ]
     },
     "execution_count": 10,
     "metadata": {},
     "output_type": "execute_result"
    }
   ],
   "source": [
    "#check to see if there any null values\n",
    "tmdb_movie_db.isnull().sum()"
   ]
  },
  {
   "cell_type": "code",
   "execution_count": 11,
   "metadata": {},
   "outputs": [
    {
     "data": {
      "text/plain": [
       "False    25497\n",
       "dtype: int64"
      ]
     },
     "execution_count": 11,
     "metadata": {},
     "output_type": "execute_result"
    }
   ],
   "source": [
    "#check to see that there are no duplicates\n",
    "tmdb_movie_db.duplicated().value_counts() "
   ]
  },
  {
   "cell_type": "code",
   "execution_count": 12,
   "metadata": {},
   "outputs": [
    {
     "data": {
      "text/plain": [
       "(25497, 8)"
      ]
     },
     "execution_count": 12,
     "metadata": {},
     "output_type": "execute_result"
    }
   ],
   "source": [
    "#view shape of data\n",
    "tmdb_movie_db.shape"
   ]
  },
  {
   "cell_type": "markdown",
   "metadata": {},
   "source": [
    "### The Numbers Data Cleanse"
   ]
  },
  {
   "cell_type": "code",
   "execution_count": 45,
   "metadata": {},
   "outputs": [
    {
     "data": {
      "text/html": [
       "<div>\n",
       "<style scoped>\n",
       "    .dataframe tbody tr th:only-of-type {\n",
       "        vertical-align: middle;\n",
       "    }\n",
       "\n",
       "    .dataframe tbody tr th {\n",
       "        vertical-align: top;\n",
       "    }\n",
       "\n",
       "    .dataframe thead th {\n",
       "        text-align: right;\n",
       "    }\n",
       "</style>\n",
       "<table border=\"1\" class=\"dataframe\">\n",
       "  <thead>\n",
       "    <tr style=\"text-align: right;\">\n",
       "      <th></th>\n",
       "      <th>release_date</th>\n",
       "      <th>movie</th>\n",
       "      <th>production_budget</th>\n",
       "      <th>domestic_gross</th>\n",
       "      <th>worldwide_gross</th>\n",
       "      <th>dom_gross / budget</th>\n",
       "      <th>ww_gross / budget</th>\n",
       "    </tr>\n",
       "    <tr>\n",
       "      <th>id</th>\n",
       "      <th></th>\n",
       "      <th></th>\n",
       "      <th></th>\n",
       "      <th></th>\n",
       "      <th></th>\n",
       "      <th></th>\n",
       "      <th></th>\n",
       "    </tr>\n",
       "  </thead>\n",
       "  <tbody>\n",
       "    <tr>\n",
       "      <th>1</th>\n",
       "      <td>2009-12-18</td>\n",
       "      <td>Avatar</td>\n",
       "      <td>425000000</td>\n",
       "      <td>760507625</td>\n",
       "      <td>2.776345e+09</td>\n",
       "      <td>1.789430</td>\n",
       "      <td>6.532577</td>\n",
       "    </tr>\n",
       "    <tr>\n",
       "      <th>2</th>\n",
       "      <td>2011-05-20</td>\n",
       "      <td>Pirates of the Caribbean: On Stranger Tides</td>\n",
       "      <td>410600000</td>\n",
       "      <td>241063875</td>\n",
       "      <td>1.045664e+09</td>\n",
       "      <td>0.587101</td>\n",
       "      <td>2.546673</td>\n",
       "    </tr>\n",
       "    <tr>\n",
       "      <th>3</th>\n",
       "      <td>2019-06-07</td>\n",
       "      <td>Dark Phoenix</td>\n",
       "      <td>350000000</td>\n",
       "      <td>42762350</td>\n",
       "      <td>1.497624e+08</td>\n",
       "      <td>0.122178</td>\n",
       "      <td>0.427892</td>\n",
       "    </tr>\n",
       "    <tr>\n",
       "      <th>4</th>\n",
       "      <td>2015-05-01</td>\n",
       "      <td>Avengers: Age of Ultron</td>\n",
       "      <td>330600000</td>\n",
       "      <td>459005868</td>\n",
       "      <td>1.403014e+09</td>\n",
       "      <td>1.388403</td>\n",
       "      <td>4.243841</td>\n",
       "    </tr>\n",
       "    <tr>\n",
       "      <th>5</th>\n",
       "      <td>2017-12-15</td>\n",
       "      <td>Star Wars Ep. VIII: The Last Jedi</td>\n",
       "      <td>317000000</td>\n",
       "      <td>620181382</td>\n",
       "      <td>1.316722e+09</td>\n",
       "      <td>1.956408</td>\n",
       "      <td>4.153696</td>\n",
       "    </tr>\n",
       "    <tr>\n",
       "      <th>...</th>\n",
       "      <td>...</td>\n",
       "      <td>...</td>\n",
       "      <td>...</td>\n",
       "      <td>...</td>\n",
       "      <td>...</td>\n",
       "      <td>...</td>\n",
       "      <td>...</td>\n",
       "    </tr>\n",
       "    <tr>\n",
       "      <th>78</th>\n",
       "      <td>2018-12-31</td>\n",
       "      <td>Red 11</td>\n",
       "      <td>7000</td>\n",
       "      <td>0</td>\n",
       "      <td>0.000000e+00</td>\n",
       "      <td>0.000000</td>\n",
       "      <td>0.000000</td>\n",
       "    </tr>\n",
       "    <tr>\n",
       "      <th>79</th>\n",
       "      <td>1999-04-02</td>\n",
       "      <td>Following</td>\n",
       "      <td>6000</td>\n",
       "      <td>48482</td>\n",
       "      <td>2.404950e+05</td>\n",
       "      <td>8.080333</td>\n",
       "      <td>40.082500</td>\n",
       "    </tr>\n",
       "    <tr>\n",
       "      <th>80</th>\n",
       "      <td>2005-07-13</td>\n",
       "      <td>Return to the Land of Wonders</td>\n",
       "      <td>5000</td>\n",
       "      <td>1338</td>\n",
       "      <td>1.338000e+03</td>\n",
       "      <td>0.267600</td>\n",
       "      <td>0.267600</td>\n",
       "    </tr>\n",
       "    <tr>\n",
       "      <th>81</th>\n",
       "      <td>2015-09-29</td>\n",
       "      <td>A Plague So Pleasant</td>\n",
       "      <td>1400</td>\n",
       "      <td>0</td>\n",
       "      <td>0.000000e+00</td>\n",
       "      <td>0.000000</td>\n",
       "      <td>0.000000</td>\n",
       "    </tr>\n",
       "    <tr>\n",
       "      <th>82</th>\n",
       "      <td>2005-08-05</td>\n",
       "      <td>My Date With Drew</td>\n",
       "      <td>1100</td>\n",
       "      <td>181041</td>\n",
       "      <td>1.810410e+05</td>\n",
       "      <td>164.582727</td>\n",
       "      <td>164.582727</td>\n",
       "    </tr>\n",
       "  </tbody>\n",
       "</table>\n",
       "<p>5782 rows × 7 columns</p>\n",
       "</div>"
      ],
      "text/plain": [
       "   release_date                                        movie  \\\n",
       "id                                                             \n",
       "1    2009-12-18                                       Avatar   \n",
       "2    2011-05-20  Pirates of the Caribbean: On Stranger Tides   \n",
       "3    2019-06-07                                 Dark Phoenix   \n",
       "4    2015-05-01                      Avengers: Age of Ultron   \n",
       "5    2017-12-15            Star Wars Ep. VIII: The Last Jedi   \n",
       "..          ...                                          ...   \n",
       "78   2018-12-31                                       Red 11   \n",
       "79   1999-04-02                                    Following   \n",
       "80   2005-07-13                Return to the Land of Wonders   \n",
       "81   2015-09-29                         A Plague So Pleasant   \n",
       "82   2005-08-05                            My Date With Drew   \n",
       "\n",
       "    production_budget  domestic_gross  worldwide_gross  dom_gross / budget  \\\n",
       "id                                                                           \n",
       "1           425000000       760507625     2.776345e+09            1.789430   \n",
       "2           410600000       241063875     1.045664e+09            0.587101   \n",
       "3           350000000        42762350     1.497624e+08            0.122178   \n",
       "4           330600000       459005868     1.403014e+09            1.388403   \n",
       "5           317000000       620181382     1.316722e+09            1.956408   \n",
       "..                ...             ...              ...                 ...   \n",
       "78               7000               0     0.000000e+00            0.000000   \n",
       "79               6000           48482     2.404950e+05            8.080333   \n",
       "80               5000            1338     1.338000e+03            0.267600   \n",
       "81               1400               0     0.000000e+00            0.000000   \n",
       "82               1100          181041     1.810410e+05          164.582727   \n",
       "\n",
       "    ww_gross / budget  \n",
       "id                     \n",
       "1            6.532577  \n",
       "2            2.546673  \n",
       "3            0.427892  \n",
       "4            4.243841  \n",
       "5            4.153696  \n",
       "..                ...  \n",
       "78           0.000000  \n",
       "79          40.082500  \n",
       "80           0.267600  \n",
       "81           0.000000  \n",
       "82         164.582727  \n",
       "\n",
       "[5782 rows x 7 columns]"
      ]
     },
     "execution_count": 45,
     "metadata": {},
     "output_type": "execute_result"
    }
   ],
   "source": [
    "#read tn file, make sure values are in the same format, and drop null values\n",
    "tn_movie_db = pd.read_csv('databases/tn.movie_budgets.csv', na_filter=True, na_values='[]', encoding = 'utf-8', index_col = 0)\n",
    "tn_movie_db.dropna()\n",
    "#standardize release date into date format\n",
    "tn_movie_db['release_date'] = pd.to_datetime(tn_movie_db['release_date'])\n",
    "#strip whitespace from title\n",
    "tn_movie_db['movie'] = tn_movie_db['movie'].str.strip()\n",
    "#strip $\n",
    "tn_movie_db['production_budget'] = tn_movie_db['production_budget'].str.strip('$')\n",
    "tn_movie_db['domestic_gross'] = tn_movie_db['domestic_gross'].str.strip('$')\n",
    "tn_movie_db['worldwide_gross'] = tn_movie_db['worldwide_gross'].str.strip('$')\n",
    "#remove ,\n",
    "tn_movie_db['production_budget'] = tn_movie_db['production_budget'].replace(\",\", \"\", regex=True)\n",
    "tn_movie_db['domestic_gross'] = tn_movie_db['domestic_gross'].replace(\",\", \"\", regex=True)\n",
    "tn_movie_db['worldwide_gross'] = tn_movie_db['worldwide_gross'].replace(\",\", \"\", regex=True)\n",
    "#convert to integers\n",
    "tn_movie_db['production_budget'] = tn_movie_db['production_budget'].astype(int)\n",
    "tn_movie_db['domestic_gross'] = tn_movie_db['domestic_gross'].astype(int)\n",
    "tn_movie_db['worldwide_gross'] = tn_movie_db['worldwide_gross'].astype(float)\n",
    "#create metric ratios\n",
    "tn_movie_db['dom_gross / budget'] = tn_movie_db['domestic_gross'] / tn_movie_db['production_budget']\n",
    "tn_movie_db['ww_gross / budget'] = tn_movie_db['worldwide_gross'] / tn_movie_db['production_budget']\n",
    "\n",
    "tn_movie_db"
   ]
  },
  {
   "cell_type": "code",
   "execution_count": 14,
   "metadata": {},
   "outputs": [
    {
     "name": "stdout",
     "output_type": "stream",
     "text": [
      "<class 'pandas.core.frame.DataFrame'>\n",
      "Int64Index: 5782 entries, 1 to 82\n",
      "Data columns (total 7 columns):\n",
      " #   Column              Non-Null Count  Dtype         \n",
      "---  ------              --------------  -----         \n",
      " 0   release_date        5782 non-null   datetime64[ns]\n",
      " 1   movie               5782 non-null   object        \n",
      " 2   production_budget   5782 non-null   int32         \n",
      " 3   domestic_gross      5782 non-null   int32         \n",
      " 4   worldwide_gross     5782 non-null   float64       \n",
      " 5   ww_gross / budget   5782 non-null   float64       \n",
      " 6   dom_gross / budget  5782 non-null   float64       \n",
      "dtypes: datetime64[ns](1), float64(3), int32(2), object(1)\n",
      "memory usage: 316.2+ KB\n"
     ]
    }
   ],
   "source": [
    "#information regarding The Numbers\n",
    "tn_movie_db.info()"
   ]
  },
  {
   "cell_type": "code",
   "execution_count": 15,
   "metadata": {
    "scrolled": true
   },
   "outputs": [
    {
     "data": {
      "text/plain": [
       "release_date          0\n",
       "movie                 0\n",
       "production_budget     0\n",
       "domestic_gross        0\n",
       "worldwide_gross       0\n",
       "ww_gross / budget     0\n",
       "dom_gross / budget    0\n",
       "dtype: int64"
      ]
     },
     "execution_count": 15,
     "metadata": {},
     "output_type": "execute_result"
    }
   ],
   "source": [
    "#check to see if there any null values\n",
    "tn_movie_db.isnull().sum()"
   ]
  },
  {
   "cell_type": "code",
   "execution_count": 16,
   "metadata": {},
   "outputs": [
    {
     "data": {
      "text/plain": [
       "False    5782\n",
       "dtype: int64"
      ]
     },
     "execution_count": 16,
     "metadata": {},
     "output_type": "execute_result"
    }
   ],
   "source": [
    "#check to see that there are no duplicates\n",
    "tn_movie_db.duplicated().value_counts() "
   ]
  },
  {
   "cell_type": "code",
   "execution_count": 17,
   "metadata": {},
   "outputs": [
    {
     "data": {
      "text/plain": [
       "(5782, 7)"
      ]
     },
     "execution_count": 17,
     "metadata": {},
     "output_type": "execute_result"
    }
   ],
   "source": [
    "#view shape of data\n",
    "tn_movie_db.shape"
   ]
  },
  {
   "cell_type": "markdown",
   "metadata": {},
   "source": [
    "### Data Visualization"
   ]
  },
  {
   "cell_type": "markdown",
   "metadata": {},
   "source": [
    "Merge both tables to combine data to connect genres to production costs and boxoffice revenue"
   ]
  },
  {
   "cell_type": "code",
   "execution_count": 37,
   "metadata": {},
   "outputs": [
    {
     "data": {
      "text/html": [
       "<div>\n",
       "<style scoped>\n",
       "    .dataframe tbody tr th:only-of-type {\n",
       "        vertical-align: middle;\n",
       "    }\n",
       "\n",
       "    .dataframe tbody tr th {\n",
       "        vertical-align: top;\n",
       "    }\n",
       "\n",
       "    .dataframe thead th {\n",
       "        text-align: right;\n",
       "    }\n",
       "</style>\n",
       "<table border=\"1\" class=\"dataframe\">\n",
       "  <thead>\n",
       "    <tr style=\"text-align: right;\">\n",
       "      <th></th>\n",
       "      <th>genre_ids</th>\n",
       "      <th>id</th>\n",
       "      <th>original_language</th>\n",
       "      <th>popularity</th>\n",
       "      <th>release_date</th>\n",
       "      <th>title</th>\n",
       "      <th>vote_average</th>\n",
       "      <th>vote_count</th>\n",
       "      <th>production_budget</th>\n",
       "      <th>domestic_gross</th>\n",
       "      <th>worldwide_gross</th>\n",
       "      <th>dom_gross / budget</th>\n",
       "      <th>ww_gross / budget</th>\n",
       "    </tr>\n",
       "  </thead>\n",
       "  <tbody>\n",
       "    <tr>\n",
       "      <th>0</th>\n",
       "      <td>[12, 14, 10751]</td>\n",
       "      <td>12444</td>\n",
       "      <td>en</td>\n",
       "      <td>33.533</td>\n",
       "      <td>2010-11-19</td>\n",
       "      <td>Harry Potter and the Deathly Hallows: Part 1</td>\n",
       "      <td>7.7</td>\n",
       "      <td>10788</td>\n",
       "      <td>125000000.0</td>\n",
       "      <td>296131568.0</td>\n",
       "      <td>960431568.0</td>\n",
       "      <td>2.369053</td>\n",
       "      <td>7.683453</td>\n",
       "    </tr>\n",
       "    <tr>\n",
       "      <th>1</th>\n",
       "      <td>[14, 12, 16, 10751]</td>\n",
       "      <td>10191</td>\n",
       "      <td>en</td>\n",
       "      <td>28.734</td>\n",
       "      <td>2010-03-26</td>\n",
       "      <td>How to Train Your Dragon</td>\n",
       "      <td>7.7</td>\n",
       "      <td>7610</td>\n",
       "      <td>165000000.0</td>\n",
       "      <td>217581232.0</td>\n",
       "      <td>494870992.0</td>\n",
       "      <td>1.318674</td>\n",
       "      <td>2.999218</td>\n",
       "    </tr>\n",
       "    <tr>\n",
       "      <th>2</th>\n",
       "      <td>[12, 28, 878]</td>\n",
       "      <td>10138</td>\n",
       "      <td>en</td>\n",
       "      <td>28.515</td>\n",
       "      <td>2010-05-07</td>\n",
       "      <td>Iron Man 2</td>\n",
       "      <td>6.8</td>\n",
       "      <td>12368</td>\n",
       "      <td>170000000.0</td>\n",
       "      <td>312433331.0</td>\n",
       "      <td>621156389.0</td>\n",
       "      <td>1.837843</td>\n",
       "      <td>3.653861</td>\n",
       "    </tr>\n",
       "    <tr>\n",
       "      <th>3</th>\n",
       "      <td>[16, 35, 10751]</td>\n",
       "      <td>862</td>\n",
       "      <td>en</td>\n",
       "      <td>28.005</td>\n",
       "      <td>1995-11-22</td>\n",
       "      <td>Toy Story</td>\n",
       "      <td>7.9</td>\n",
       "      <td>10174</td>\n",
       "      <td>30000000.0</td>\n",
       "      <td>191796233.0</td>\n",
       "      <td>364545516.0</td>\n",
       "      <td>6.393208</td>\n",
       "      <td>12.151517</td>\n",
       "    </tr>\n",
       "    <tr>\n",
       "      <th>4</th>\n",
       "      <td>[28, 878, 12]</td>\n",
       "      <td>27205</td>\n",
       "      <td>en</td>\n",
       "      <td>27.920</td>\n",
       "      <td>2010-07-16</td>\n",
       "      <td>Inception</td>\n",
       "      <td>8.3</td>\n",
       "      <td>22186</td>\n",
       "      <td>160000000.0</td>\n",
       "      <td>292576195.0</td>\n",
       "      <td>835524642.0</td>\n",
       "      <td>1.828601</td>\n",
       "      <td>5.222029</td>\n",
       "    </tr>\n",
       "    <tr>\n",
       "      <th>...</th>\n",
       "      <td>...</td>\n",
       "      <td>...</td>\n",
       "      <td>...</td>\n",
       "      <td>...</td>\n",
       "      <td>...</td>\n",
       "      <td>...</td>\n",
       "      <td>...</td>\n",
       "      <td>...</td>\n",
       "      <td>...</td>\n",
       "      <td>...</td>\n",
       "      <td>...</td>\n",
       "      <td>...</td>\n",
       "      <td>...</td>\n",
       "    </tr>\n",
       "    <tr>\n",
       "      <th>23711</th>\n",
       "      <td>[53, 18, 27]</td>\n",
       "      <td>510284</td>\n",
       "      <td>en</td>\n",
       "      <td>5.972</td>\n",
       "      <td>2019-02-01</td>\n",
       "      <td>Braid</td>\n",
       "      <td>6.4</td>\n",
       "      <td>18</td>\n",
       "      <td>1660000.0</td>\n",
       "      <td>0.0</td>\n",
       "      <td>80745.0</td>\n",
       "      <td>0.000000</td>\n",
       "      <td>0.048642</td>\n",
       "    </tr>\n",
       "    <tr>\n",
       "      <th>23747</th>\n",
       "      <td>[18, 10752]</td>\n",
       "      <td>514407</td>\n",
       "      <td>en</td>\n",
       "      <td>5.599</td>\n",
       "      <td>2018-10-26</td>\n",
       "      <td>Indivisible</td>\n",
       "      <td>5.4</td>\n",
       "      <td>13</td>\n",
       "      <td>2700000.0</td>\n",
       "      <td>3511417.0</td>\n",
       "      <td>3588305.0</td>\n",
       "      <td>1.300525</td>\n",
       "      <td>1.329002</td>\n",
       "    </tr>\n",
       "    <tr>\n",
       "      <th>23795</th>\n",
       "      <td>[18, 28, 80]</td>\n",
       "      <td>547590</td>\n",
       "      <td>en</td>\n",
       "      <td>5.274</td>\n",
       "      <td>2019-05-03</td>\n",
       "      <td>El Chicano</td>\n",
       "      <td>9.0</td>\n",
       "      <td>1</td>\n",
       "      <td>8000000.0</td>\n",
       "      <td>700261.0</td>\n",
       "      <td>700261.0</td>\n",
       "      <td>0.087533</td>\n",
       "      <td>0.087533</td>\n",
       "    </tr>\n",
       "    <tr>\n",
       "      <th>23907</th>\n",
       "      <td>[18, 35, 28, 80]</td>\n",
       "      <td>506971</td>\n",
       "      <td>ur</td>\n",
       "      <td>4.486</td>\n",
       "      <td>2018-07-20</td>\n",
       "      <td>Teefa in Trouble</td>\n",
       "      <td>7.6</td>\n",
       "      <td>11</td>\n",
       "      <td>1500000.0</td>\n",
       "      <td>0.0</td>\n",
       "      <td>98806.0</td>\n",
       "      <td>0.000000</td>\n",
       "      <td>0.065871</td>\n",
       "    </tr>\n",
       "    <tr>\n",
       "      <th>24219</th>\n",
       "      <td>[28, 12, 16]</td>\n",
       "      <td>332718</td>\n",
       "      <td>en</td>\n",
       "      <td>2.707</td>\n",
       "      <td>2018-02-02</td>\n",
       "      <td>Bilal: A New Breed of Hero</td>\n",
       "      <td>6.8</td>\n",
       "      <td>54</td>\n",
       "      <td>30000000.0</td>\n",
       "      <td>490973.0</td>\n",
       "      <td>648599.0</td>\n",
       "      <td>0.016366</td>\n",
       "      <td>0.021620</td>\n",
       "    </tr>\n",
       "  </tbody>\n",
       "</table>\n",
       "<p>1271 rows × 13 columns</p>\n",
       "</div>"
      ],
      "text/plain": [
       "                 genre_ids      id original_language  popularity release_date  \\\n",
       "0          [12, 14, 10751]   12444                en      33.533   2010-11-19   \n",
       "1      [14, 12, 16, 10751]   10191                en      28.734   2010-03-26   \n",
       "2            [12, 28, 878]   10138                en      28.515   2010-05-07   \n",
       "3          [16, 35, 10751]     862                en      28.005   1995-11-22   \n",
       "4            [28, 878, 12]   27205                en      27.920   2010-07-16   \n",
       "...                    ...     ...               ...         ...          ...   \n",
       "23711         [53, 18, 27]  510284                en       5.972   2019-02-01   \n",
       "23747          [18, 10752]  514407                en       5.599   2018-10-26   \n",
       "23795         [18, 28, 80]  547590                en       5.274   2019-05-03   \n",
       "23907     [18, 35, 28, 80]  506971                ur       4.486   2018-07-20   \n",
       "24219         [28, 12, 16]  332718                en       2.707   2018-02-02   \n",
       "\n",
       "                                              title  vote_average  vote_count  \\\n",
       "0      Harry Potter and the Deathly Hallows: Part 1           7.7       10788   \n",
       "1                          How to Train Your Dragon           7.7        7610   \n",
       "2                                        Iron Man 2           6.8       12368   \n",
       "3                                         Toy Story           7.9       10174   \n",
       "4                                         Inception           8.3       22186   \n",
       "...                                             ...           ...         ...   \n",
       "23711                                         Braid           6.4          18   \n",
       "23747                                   Indivisible           5.4          13   \n",
       "23795                                    El Chicano           9.0           1   \n",
       "23907                              Teefa in Trouble           7.6          11   \n",
       "24219                    Bilal: A New Breed of Hero           6.8          54   \n",
       "\n",
       "       production_budget  domestic_gross  worldwide_gross  dom_gross / budget  \\\n",
       "0            125000000.0     296131568.0      960431568.0            2.369053   \n",
       "1            165000000.0     217581232.0      494870992.0            1.318674   \n",
       "2            170000000.0     312433331.0      621156389.0            1.837843   \n",
       "3             30000000.0     191796233.0      364545516.0            6.393208   \n",
       "4            160000000.0     292576195.0      835524642.0            1.828601   \n",
       "...                  ...             ...              ...                 ...   \n",
       "23711          1660000.0             0.0          80745.0            0.000000   \n",
       "23747          2700000.0       3511417.0        3588305.0            1.300525   \n",
       "23795          8000000.0        700261.0         700261.0            0.087533   \n",
       "23907          1500000.0             0.0          98806.0            0.000000   \n",
       "24219         30000000.0        490973.0         648599.0            0.016366   \n",
       "\n",
       "       ww_gross / budget  \n",
       "0               7.683453  \n",
       "1               2.999218  \n",
       "2               3.653861  \n",
       "3              12.151517  \n",
       "4               5.222029  \n",
       "...                  ...  \n",
       "23711           0.048642  \n",
       "23747           1.329002  \n",
       "23795           0.087533  \n",
       "23907           0.065871  \n",
       "24219           0.021620  \n",
       "\n",
       "[1271 rows x 13 columns]"
      ]
     },
     "execution_count": 37,
     "metadata": {},
     "output_type": "execute_result"
    }
   ],
   "source": [
    "#merge title and movie name\n",
    "tn_movie_db = tn_movie_db.rename(columns = {\"movie\":\"title\"})\n",
    "\n",
    "#special cases where movie titles do not match\n",
    "tn_movie_db['title'].replace({'Harry Potter and the Deathly Hallows: Part I' : 'Harry Potter and the Deathly Hallows: Part 1'}, inplace=True)\n",
    "tn_movie_db['title'].replace({'Harry Potter and the Deathly Hallows: Part II' : 'Harry Potter and the Deathly Hallows: Part 2'}, inplace=True)\n",
    "tmdb_movie_db['title'].replace({'Fast & Furious 6':'Fast and Furious 6'}, inplace=True)\n",
    "tn_movie_db['title'].replace({'Star Wars: The Force Awakens' : 'Star Wars Ep. VII: The Force Awakens'}, inplace=True)\n",
    "tn_movie_db['title'].replace({'Star Wars: The Last Jedi' : 'Star Wars Ep. VIII: The Last Jedi'}, inplace=True)\n",
    "\n",
    "#merge databases\n",
    "movie_db = tmdb_movie_db.merge(tn_movie_db, how = 'left')\n",
    "\n",
    "#drop null values\n",
    "movie_db.dropna()"
   ]
  },
  {
   "cell_type": "code",
   "execution_count": null,
   "metadata": {},
   "outputs": [],
   "source": [
    "\n",
    "#table = pd.concat([tmdb_movie_db, tn_movie_db], axis = 1)\n",
    "#tmdb_movie_db.join(tn_movie_db, how = 'outer')\n",
    "#tn_movie_db.merge(tmdb_movie_db, how = 'left')\n",
    "\n",
    "#tmdb_movie_db.iloc[0].title\n",
    "#tn_movie_db\n",
    "\n",
    "#df.loc[df['column_name'].isin(some_values)]"
   ]
  },
  {
   "cell_type": "code",
   "execution_count": 40,
   "metadata": {},
   "outputs": [],
   "source": [
    "# Import matplotlib\n",
    "import matplotlib.pyplot as plt\n",
    "\n",
    "# Set plot space as inline for inline plots and qt for external plots\n",
    "%matplotlib inline"
   ]
  },
  {
   "cell_type": "code",
   "execution_count": 47,
   "metadata": {},
   "outputs": [
    {
     "data": {
      "text/plain": [
       "[99]                    3565\n",
       "[18]                    2119\n",
       "[35]                    1622\n",
       "[27]                    1125\n",
       "[53]                     466\n",
       "                        ... \n",
       "[28, 16, 10770]            1\n",
       "[12, 14, 10749, 878]       1\n",
       "[14, 35, 878, 10751]       1\n",
       "[12, 10749, 18]            1\n",
       "[10751, 12, 28]            1\n",
       "Name: genre_ids, Length: 2476, dtype: int64"
      ]
     },
     "execution_count": 47,
     "metadata": {},
     "output_type": "execute_result"
    }
   ],
   "source": [
    "#information regarding genres\n",
    "movie_db['genre_ids'].value_counts()"
   ]
  },
  {
   "cell_type": "code",
   "execution_count": null,
   "metadata": {},
   "outputs": [],
   "source": [
    "fig, ax = plt.subplots(figsize=(12, 10))\n",
    "\n",
    "ax.bar(movie_db['dom_gross / budget'].mean(), 10, tick_label = movie_db['genre_ids'])\n",
    "\n",
    "ax.set_title('Average Dom_gross / Budget Ratio per Genres')\n",
    "ax.set_ylabel('Average Dom_gross / Budget')\n",
    "ax.set_xlabel('Movie Genres');\n",
    "\n",
    "\n",
    "\n",
    "#x = movie_db['genre_ids']\n",
    "\n",
    "#y = movie_db['dom_gross / budget'].mean()\n",
    "\n",
    "#plt.hist(x, bins = 1000, edgecolor='black', color='#00C8AD')\n",
    "#plt.xlabel('Movie Genres')\n",
    "#plt.ylabel('Average Dom_gross / Budget')\n",
    "#plt.title('Average Dom_gross / Budget Ratio per Genres')\n",
    "#plt.show()"
   ]
  },
  {
   "cell_type": "code",
   "execution_count": null,
   "metadata": {},
   "outputs": [],
   "source": [
    "x = movie_db['genre_ids']\n",
    "\n",
    "y = movie_db['ww_gross / budget'].mean()\n",
    "\n",
    "plt.hist(x, bins = 50, edgecolor='black')\n",
    "plt.xlabel('Movie Genres')\n",
    "plt.ylabel('Average WW_gross / Budget')\n",
    "plt.title('Average WW_gross / Budget Ratio per Genres')\n",
    "plt.show()"
   ]
  },
  {
   "cell_type": "code",
   "execution_count": null,
   "metadata": {},
   "outputs": [],
   "source": [
    "(profit per genre)"
   ]
  },
  {
   "cell_type": "markdown",
   "metadata": {},
   "source": [
    "## Ian"
   ]
  },
  {
   "cell_type": "code",
   "execution_count": null,
   "metadata": {},
   "outputs": [],
   "source": [
    "# Your code here - remember to use markdown cells for comments as well!"
   ]
  },
  {
   "cell_type": "markdown",
   "metadata": {},
   "source": [
    "## Frida"
   ]
  },
  {
   "cell_type": "code",
   "execution_count": null,
   "metadata": {},
   "outputs": [],
   "source": [
    "# Your code here - remember to use markdown cells for comments as well!"
   ]
  },
  {
   "cell_type": "markdown",
   "metadata": {},
   "source": [
    "## Enrique"
   ]
  },
  {
   "cell_type": "code",
   "execution_count": null,
   "metadata": {},
   "outputs": [],
   "source": [
    "# Your code here - remember to use markdown cells for comments as well!"
   ]
  },
  {
   "cell_type": "markdown",
   "metadata": {},
   "source": [
    "## John"
   ]
  },
  {
   "cell_type": "code",
   "execution_count": null,
   "metadata": {},
   "outputs": [],
   "source": [
    "# Your code here - remember to use markdown cells for comments as well!"
   ]
  },
  {
   "cell_type": "code",
   "execution_count": null,
   "metadata": {},
   "outputs": [],
   "source": []
  },
  {
   "cell_type": "code",
   "execution_count": null,
   "metadata": {},
   "outputs": [],
   "source": []
  },
  {
   "cell_type": "code",
   "execution_count": null,
   "metadata": {},
   "outputs": [],
   "source": []
  }
 ],
 "metadata": {
  "kernelspec": {
   "display_name": "Python 3 (ipykernel)",
   "language": "python",
   "name": "python3"
  },
  "language_info": {
   "codemirror_mode": {
    "name": "ipython",
    "version": 3
   },
   "file_extension": ".py",
   "mimetype": "text/x-python",
   "name": "python",
   "nbconvert_exporter": "python",
   "pygments_lexer": "ipython3",
   "version": "3.9.12"
  }
 },
 "nbformat": 4,
 "nbformat_minor": 2
}
