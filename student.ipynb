{
 "cells": [
  {
   "cell_type": "markdown",
   "id": "c6061aee",
   "metadata": {},
   "source": [
    "# Semester 1 Project Submission"
   ]
  },
  {
   "cell_type": "markdown",
   "id": "3dd73ef4",
   "metadata": {},
   "source": [
    "## Libraries"
   ]
  },
  {
   "cell_type": "code",
   "execution_count": null,
   "id": "bd7f44c4",
   "metadata": {},
   "outputs": [],
   "source": [
    "#import needed libraries\n",
    "import pandas as pd\n",
    "import numpy as np\n",
    "import math\n",
    "import collections\n",
    "import scipy.stats as stats\n",
    "from math import sqrt\n",
    "import matplotlib.pyplot as plt\n",
    "import seaborn as sns\n",
    "import csv\n",
    "\n",
    "# Importing librarys for text cleaning\n",
    "import re\n",
    "import math\n",
    "import nltk \n",
    "nltk.download('stopwords')\n",
    "from nltk.corpus import stopwords\n",
    "\n",
    "#set plot space as inline for inline plots and qt for external plots\n",
    "%matplotlib inline"
   ]
  },
  {
   "cell_type": "markdown",
   "metadata": {},
   "source": [
    "## Elliot"
   ]
  },
  {
   "cell_type": "code",
   "execution_count": 4,
   "metadata": {
    "scrolled": false
   },
   "outputs": [
    {
     "data": {
      "text/html": [
       "<div>\n",
       "<style scoped>\n",
       "    .dataframe tbody tr th:only-of-type {\n",
       "        vertical-align: middle;\n",
       "    }\n",
       "\n",
       "    .dataframe tbody tr th {\n",
       "        vertical-align: top;\n",
       "    }\n",
       "\n",
       "    .dataframe thead th {\n",
       "        text-align: right;\n",
       "    }\n",
       "</style>\n",
       "<table border=\"1\" class=\"dataframe\">\n",
       "  <thead>\n",
       "    <tr style=\"text-align: right;\">\n",
       "      <th></th>\n",
       "      <th>genre_ids</th>\n",
       "      <th>id</th>\n",
       "      <th>original_language</th>\n",
       "      <th>popularity</th>\n",
       "      <th>release_date</th>\n",
       "      <th>title</th>\n",
       "      <th>vote_average</th>\n",
       "      <th>vote_count</th>\n",
       "    </tr>\n",
       "  </thead>\n",
       "  <tbody>\n",
       "    <tr>\n",
       "      <th>0</th>\n",
       "      <td>[12, 14, 10751]</td>\n",
       "      <td>12444</td>\n",
       "      <td>en</td>\n",
       "      <td>33.533</td>\n",
       "      <td>2010-11-19</td>\n",
       "      <td>Harry Potter and the Deathly Hallows: Part 1</td>\n",
       "      <td>7.7</td>\n",
       "      <td>10788</td>\n",
       "    </tr>\n",
       "    <tr>\n",
       "      <th>1</th>\n",
       "      <td>[14, 12, 16, 10751]</td>\n",
       "      <td>10191</td>\n",
       "      <td>en</td>\n",
       "      <td>28.734</td>\n",
       "      <td>2010-03-26</td>\n",
       "      <td>How to Train Your Dragon</td>\n",
       "      <td>7.7</td>\n",
       "      <td>7610</td>\n",
       "    </tr>\n",
       "    <tr>\n",
       "      <th>2</th>\n",
       "      <td>[12, 28, 878]</td>\n",
       "      <td>10138</td>\n",
       "      <td>en</td>\n",
       "      <td>28.515</td>\n",
       "      <td>2010-05-07</td>\n",
       "      <td>Iron Man 2</td>\n",
       "      <td>6.8</td>\n",
       "      <td>12368</td>\n",
       "    </tr>\n",
       "    <tr>\n",
       "      <th>3</th>\n",
       "      <td>[16, 35, 10751]</td>\n",
       "      <td>862</td>\n",
       "      <td>en</td>\n",
       "      <td>28.005</td>\n",
       "      <td>1995-11-22</td>\n",
       "      <td>Toy Story</td>\n",
       "      <td>7.9</td>\n",
       "      <td>10174</td>\n",
       "    </tr>\n",
       "    <tr>\n",
       "      <th>4</th>\n",
       "      <td>[28, 878, 12]</td>\n",
       "      <td>27205</td>\n",
       "      <td>en</td>\n",
       "      <td>27.920</td>\n",
       "      <td>2010-07-16</td>\n",
       "      <td>Inception</td>\n",
       "      <td>8.3</td>\n",
       "      <td>22186</td>\n",
       "    </tr>\n",
       "    <tr>\n",
       "      <th>...</th>\n",
       "      <td>...</td>\n",
       "      <td>...</td>\n",
       "      <td>...</td>\n",
       "      <td>...</td>\n",
       "      <td>...</td>\n",
       "      <td>...</td>\n",
       "      <td>...</td>\n",
       "      <td>...</td>\n",
       "    </tr>\n",
       "    <tr>\n",
       "      <th>26512</th>\n",
       "      <td>[27, 18]</td>\n",
       "      <td>488143</td>\n",
       "      <td>en</td>\n",
       "      <td>0.600</td>\n",
       "      <td>2018-10-13</td>\n",
       "      <td>Laboratory Conditions</td>\n",
       "      <td>0.0</td>\n",
       "      <td>1</td>\n",
       "    </tr>\n",
       "    <tr>\n",
       "      <th>26513</th>\n",
       "      <td>[18, 53]</td>\n",
       "      <td>485975</td>\n",
       "      <td>en</td>\n",
       "      <td>0.600</td>\n",
       "      <td>2018-05-01</td>\n",
       "      <td>_EXHIBIT_84xxx_</td>\n",
       "      <td>0.0</td>\n",
       "      <td>1</td>\n",
       "    </tr>\n",
       "    <tr>\n",
       "      <th>26514</th>\n",
       "      <td>[14, 28, 12]</td>\n",
       "      <td>381231</td>\n",
       "      <td>en</td>\n",
       "      <td>0.600</td>\n",
       "      <td>2018-10-01</td>\n",
       "      <td>The Last One</td>\n",
       "      <td>0.0</td>\n",
       "      <td>1</td>\n",
       "    </tr>\n",
       "    <tr>\n",
       "      <th>26515</th>\n",
       "      <td>[10751, 12, 28]</td>\n",
       "      <td>366854</td>\n",
       "      <td>en</td>\n",
       "      <td>0.600</td>\n",
       "      <td>2018-06-22</td>\n",
       "      <td>Trailer Made</td>\n",
       "      <td>0.0</td>\n",
       "      <td>1</td>\n",
       "    </tr>\n",
       "    <tr>\n",
       "      <th>26516</th>\n",
       "      <td>[53, 27]</td>\n",
       "      <td>309885</td>\n",
       "      <td>en</td>\n",
       "      <td>0.600</td>\n",
       "      <td>2018-10-05</td>\n",
       "      <td>The Church</td>\n",
       "      <td>0.0</td>\n",
       "      <td>1</td>\n",
       "    </tr>\n",
       "  </tbody>\n",
       "</table>\n",
       "<p>25497 rows × 8 columns</p>\n",
       "</div>"
      ],
      "text/plain": [
       "                 genre_ids      id original_language  popularity release_date  \\\n",
       "0          [12, 14, 10751]   12444                en      33.533   2010-11-19   \n",
       "1      [14, 12, 16, 10751]   10191                en      28.734   2010-03-26   \n",
       "2            [12, 28, 878]   10138                en      28.515   2010-05-07   \n",
       "3          [16, 35, 10751]     862                en      28.005   1995-11-22   \n",
       "4            [28, 878, 12]   27205                en      27.920   2010-07-16   \n",
       "...                    ...     ...               ...         ...          ...   \n",
       "26512             [27, 18]  488143                en       0.600   2018-10-13   \n",
       "26513             [18, 53]  485975                en       0.600   2018-05-01   \n",
       "26514         [14, 28, 12]  381231                en       0.600   2018-10-01   \n",
       "26515      [10751, 12, 28]  366854                en       0.600   2018-06-22   \n",
       "26516             [53, 27]  309885                en       0.600   2018-10-05   \n",
       "\n",
       "                                              title  vote_average  vote_count  \n",
       "0      Harry Potter and the Deathly Hallows: Part 1           7.7       10788  \n",
       "1                          How to Train Your Dragon           7.7        7610  \n",
       "2                                        Iron Man 2           6.8       12368  \n",
       "3                                         Toy Story           7.9       10174  \n",
       "4                                         Inception           8.3       22186  \n",
       "...                                             ...           ...         ...  \n",
       "26512                         Laboratory Conditions           0.0           1  \n",
       "26513                               _EXHIBIT_84xxx_           0.0           1  \n",
       "26514                                  The Last One           0.0           1  \n",
       "26515                                  Trailer Made           0.0           1  \n",
       "26516                                    The Church           0.0           1  \n",
       "\n",
       "[25497 rows x 8 columns]"
      ]
     },
     "execution_count": 4,
     "metadata": {},
     "output_type": "execute_result"
    }
   ],
   "source": [
    "#read tmdb file, make sure values are in the same format, and drop null values\n",
    "tmdb_movie_db = pd.read_csv('databases/tmdb.movies.csv', na_filter=True, na_values='[]', encoding = 'utf-8', index_col = 0)\n",
    "tmdb_movie_db.dropna()\n",
    "#drop extra title column\n",
    "tmdb_movie_db = tmdb_movie_db.drop('original_title', axis = 1)\n",
    "#standardize release date into date format\n",
    "tmdb_movie_db['release_date'] = pd.to_datetime(tmdb_movie_db['release_date'])\n",
    "#strip whitespace from title\n",
    "tmdb_movie_db['title'] = tmdb_movie_db['title'].str.strip()\n",
    "#remove duplicates\n",
    "tmdb_movie_db = tmdb_movie_db.drop_duplicates()\n",
    "\n",
    "tmdb_movie_db"
   ]
  },
  {
   "cell_type": "markdown",
   "metadata": {},
   "source": [
    "Movie Genre Key"
   ]
  },
  {
   "cell_type": "markdown",
   "metadata": {},
   "source": [
    "Action: 28 Adventure: 12 Animation: 16 Comedy: 35 Crime: 80 Documentary: 99 Drama: 18 Family: 10751 Fantasy: 14 History: 36 Horror: 27 Music: 10402 Mystery: 9648 Romance: 10749 Science Fiction: 878 TV Movie: 10770 Thriller: 53 War: 10752 Western: 37"
   ]
  },
  {
   "cell_type": "markdown",
   "metadata": {},
   "source": [
    "Popularity Model is based on:"
   ]
  },
  {
   "cell_type": "markdown",
   "metadata": {},
   "source": [
    "Number of votes for the day"
   ]
  },
  {
   "cell_type": "markdown",
   "metadata": {},
   "source": [
    "Number of views for the day"
   ]
  },
  {
   "cell_type": "markdown",
   "metadata": {},
   "source": [
    "Number of users who marked it as a \"favourite\" for the day"
   ]
  },
  {
   "cell_type": "markdown",
   "metadata": {},
   "source": [
    "Number of users who added it to their \"watchlist\" for the day"
   ]
  },
  {
   "cell_type": "markdown",
   "metadata": {},
   "source": [
    "Release date"
   ]
  },
  {
   "cell_type": "markdown",
   "metadata": {},
   "source": [
    "Number of total votes"
   ]
  },
  {
   "cell_type": "markdown",
   "metadata": {},
   "source": [
    "Previous days score"
   ]
  },
  {
   "cell_type": "code",
   "execution_count": null,
   "metadata": {},
   "outputs": [],
   "source": [
    "#information regarding The Movie Database\n",
    "tmdb_movie_db.info()"
   ]
  },
  {
   "cell_type": "code",
   "execution_count": null,
   "metadata": {},
   "outputs": [],
   "source": [
    "#check to see if there any null values\n",
    "tmdb_movie_db.isnull().sum()"
   ]
  },
  {
   "cell_type": "code",
   "execution_count": null,
   "metadata": {},
   "outputs": [],
   "source": [
    "#check to see that there are no duplicates\n",
    "tmdb_movie_db.duplicated().value_counts() "
   ]
  },
  {
   "cell_type": "code",
   "execution_count": null,
   "metadata": {},
   "outputs": [],
   "source": [
    "#view shape of data\n",
    "tmdb_movie_db.shape"
   ]
  },
  {
   "cell_type": "markdown",
   "metadata": {},
   "source": [
    "## The Numbers Data Cleanse"
   ]
  },
  {
   "cell_type": "code",
   "execution_count": null,
   "metadata": {},
   "outputs": [],
   "source": [
    "#read tn file, make sure values are in the same format, and drop null values\n",
    "tn_movie_db = pd.read_csv('databases/tn.movie_budgets.csv', na_filter=True, na_values='[]', encoding = 'utf-8', index_col = 0)\n",
    "tn_movie_db.dropna()\n",
    "#standardize release date into date format\n",
    "tn_movie_db['release_date'] = pd.to_datetime(tn_movie_db['release_date'])\n",
    "#strip whitespace from title\n",
    "tn_movie_db['movie'] = tn_movie_db['movie'].str.strip()\n",
    "#strip $\n",
    "tn_movie_db['production_budget'] = tn_movie_db['production_budget'].str.strip('$')\n",
    "tn_movie_db['domestic_gross'] = tn_movie_db['domestic_gross'].str.strip('$')\n",
    "tn_movie_db['worldwide_gross'] = tn_movie_db['worldwide_gross'].str.strip('$')\n",
    "#remove ,\n",
    "tn_movie_db['production_budget'] = tn_movie_db['production_budget'].replace(\",\", \"\", regex=True)\n",
    "tn_movie_db['domestic_gross'] = tn_movie_db['domestic_gross'].replace(\",\", \"\", regex=True)\n",
    "tn_movie_db['worldwide_gross'] = tn_movie_db['worldwide_gross'].replace(\",\", \"\", regex=True)\n",
    "#convert to integers\n",
    "tn_movie_db['production_budget'] = tn_movie_db['production_budget'].astype(int)\n",
    "tn_movie_db['domestic_gross'] = tn_movie_db['domestic_gross'].astype(int)\n",
    "tn_movie_db['worldwide_gross'] = tn_movie_db['worldwide_gross'].astype(float)\n",
    "#create metric ratios\n",
    "tn_movie_db['dom_gross / budget'] = tn_movie_db['domestic_gross'] / tn_movie_db['production_budget']\n",
    "tn_movie_db['ww_gross / budget'] = tn_movie_db['worldwide_gross'] / tn_movie_db['production_budget']\n",
    "tn_movie_db['dom_profit'] = tn_movie_db['domestic_gross'] - tn_movie_db['production_budget']\n",
    "tn_movie_db['profit'] = tn_movie_db['worldwide_gross'] - tn_movie_db['production_budget']\n",
    "\n",
    "tn_movie_db"
   ]
  },
  {
   "cell_type": "code",
   "execution_count": null,
   "metadata": {},
   "outputs": [],
   "source": [
    "#information regarding The Numbers\n",
    "tn_movie_db.info()"
   ]
  },
  {
   "cell_type": "code",
   "execution_count": null,
   "metadata": {},
   "outputs": [],
   "source": [
    "#check to see if there any null values\n",
    "tn_movie_db.isnull().sum()"
   ]
  },
  {
   "cell_type": "code",
   "execution_count": null,
   "metadata": {},
   "outputs": [],
   "source": [
    "#check to see that there are no duplicates\n",
    "tn_movie_db.duplicated().value_counts() "
   ]
  },
  {
   "cell_type": "code",
   "execution_count": null,
   "metadata": {},
   "outputs": [],
   "source": [
    "#view shape of data\n",
    "tn_movie_db.shape"
   ]
  },
  {
   "cell_type": "markdown",
   "metadata": {},
   "source": [
    "## Data Visualization"
   ]
  },
  {
   "cell_type": "markdown",
   "metadata": {},
   "source": [
    "Merge both tables to combine data to connect genres to production costs and boxoffice revenue"
   ]
  },
  {
   "cell_type": "code",
   "execution_count": null,
   "metadata": {},
   "outputs": [],
   "source": [
    "#merge title and movie name\n",
    "tn_movie_db = tn_movie_db.rename(columns = {\"movie\":\"title\"})\n",
    "\n",
    "#special cases where movie titles do not match\n",
    "tn_movie_db['title'].replace({'Harry Potter and the Deathly Hallows: Part I' : 'Harry Potter and the Deathly Hallows: Part 1'}, inplace=True)\n",
    "tn_movie_db['title'].replace({'Harry Potter and the Deathly Hallows: Part II' : 'Harry Potter and the Deathly Hallows: Part 2'}, inplace=True)\n",
    "tmdb_movie_db['title'].replace({'Fast & Furious 6':'Fast and Furious 6'}, inplace=True)\n",
    "tn_movie_db['title'].replace({'Star Wars: The Force Awakens' : 'Star Wars Ep. VII: The Force Awakens'}, inplace=True)\n",
    "tn_movie_db['title'].replace({'Star Wars: The Last Jedi' : 'Star Wars Ep. VIII: The Last Jedi'}, inplace=True)\n",
    "\n",
    "#merge databases\n",
    "movie_db = tmdb_movie_db.merge(tn_movie_db, how = 'left')\n",
    "\n",
    "#drop null values\n",
    "movie_db = movie_db.dropna()\n",
    "\n",
    "movie_db"
   ]
  },
  {
   "cell_type": "markdown",
   "metadata": {},
   "source": [
    "Remove outliers"
   ]
  },
  {
   "cell_type": "code",
   "execution_count": null,
   "metadata": {},
   "outputs": [],
   "source": [
    "#check to see if worldwide_gross and domestic_gross is 0 to remove outliers\n",
    "dcount = 0\n",
    "for x in movie_db['domestic_gross']:\n",
    "    if x == 0:\n",
    "        dcount += 1\n",
    "print(dcount)\n",
    "\n",
    "wwcount = 0\n",
    "for x in movie_db['worldwide_gross']:\n",
    "    if x == 0:\n",
    "        wwcount += 1\n",
    "print(wwcount)"
   ]
  },
  {
   "cell_type": "code",
   "execution_count": null,
   "metadata": {},
   "outputs": [],
   "source": [
    "#remove values that have 0 in the domestic_gross column\n",
    "new_movie_db = movie_db.drop(movie_db[movie_db['domestic_gross'] < 1].index)\n",
    "new_movie_db"
   ]
  },
  {
   "cell_type": "code",
   "execution_count": null,
   "metadata": {},
   "outputs": [],
   "source": [
    "#check to make sure that there are no values with 0\n",
    "new_movie_db.loc[movie_db['worldwide_gross'] < 1]\n",
    "sorted(new_movie_db['worldwide_gross'].value_counts().index.to_list())"
   ]
  },
  {
   "cell_type": "code",
   "execution_count": null,
   "metadata": {},
   "outputs": [],
   "source": [
    "#information regarding new db\n",
    "new_movie_db.dtypes"
   ]
  },
  {
   "cell_type": "markdown",
   "metadata": {},
   "source": [
    "### Domestic Revenue per Rating Graph"
   ]
  },
  {
   "cell_type": "code",
   "execution_count": null,
   "metadata": {},
   "outputs": [],
   "source": [
    "#determine outliers\n",
    "p25 = np.percentile(new_movie_db['domestic_gross'], 25)\n",
    "p75 = np.percentile(new_movie_db['domestic_gross'], 75)\n",
    "iqr = p75 - p25\n",
    "outlier = p75 + (1.5 * iqr)\n",
    "#create db that removes upper outliers\n",
    "dr_movie_db = new_movie_db.drop(new_movie_db[new_movie_db['domestic_gross'] > outlier].index)\n",
    "dr_movie_db"
   ]
  },
  {
   "cell_type": "code",
   "execution_count": null,
   "metadata": {},
   "outputs": [],
   "source": [
    "#graph visual\n",
    "x = dr_movie_db['vote_average']\n",
    "\n",
    "y = dr_movie_db['domestic_gross']\n",
    "\n",
    "plt.scatter(x, y)\n",
    "plt.xlabel('Rating')\n",
    "plt.ylabel('Domestic Revenue')\n",
    "plt.title('Domestic Revenue per Rating')\n",
    "\n",
    "plt.show()"
   ]
  },
  {
   "cell_type": "code",
   "execution_count": null,
   "metadata": {},
   "outputs": [],
   "source": [
    "#create line of best fit\n",
    "sns.lmplot(x = 'vote_average', y = 'domestic_gross', data = dr_movie_db, height = 8, aspect = 1.5);"
   ]
  },
  {
   "cell_type": "markdown",
   "metadata": {},
   "source": [
    "### Worldwide Revenue per Rating Graph"
   ]
  },
  {
   "cell_type": "code",
   "execution_count": null,
   "metadata": {},
   "outputs": [],
   "source": [
    "#determine outliers\n",
    "p25 = np.percentile(new_movie_db['worldwide_gross'], 25)\n",
    "p75 = np.percentile(new_movie_db['worldwide_gross'], 75)\n",
    "iqr = p75 - p25\n",
    "outlier = p75 + (1.5 * iqr)\n",
    "#create db that removes upper outliers\n",
    "wwr_movie_db = new_movie_db.drop(new_movie_db[new_movie_db['worldwide_gross'] > outlier].index)\n",
    "wwr_movie_db"
   ]
  },
  {
   "cell_type": "code",
   "execution_count": null,
   "metadata": {},
   "outputs": [],
   "source": [
    "#graph visual\n",
    "x = wwr_movie_db['vote_average']\n",
    "\n",
    "y = wwr_movie_db['worldwide_gross']\n",
    "\n",
    "plt.scatter(x, y)\n",
    "plt.xlabel('Rating')\n",
    "plt.ylabel('Worldwide Revenue (hundred million $)')\n",
    "plt.title('Worldwide Revenue per Rating')\n",
    "plt.show()"
   ]
  },
  {
   "cell_type": "code",
   "execution_count": null,
   "metadata": {},
   "outputs": [],
   "source": [
    "#create line of best fit\n",
    "sns.lmplot(x = 'vote_average', y = 'worldwide_gross', data = wwr_movie_db, height = 8, aspect = 1.5);"
   ]
  },
  {
   "cell_type": "markdown",
   "metadata": {},
   "source": [
    "### Domestic Profit per Rating Graph"
   ]
  },
  {
   "cell_type": "code",
   "execution_count": null,
   "metadata": {},
   "outputs": [],
   "source": [
    "#graph visual\n",
    "x = new_movie_db['vote_average']\n",
    "\n",
    "y = new_movie_db['dom_profit']\n",
    "\n",
    "plt.scatter(x, y)\n",
    "plt.xlabel('Rating')\n",
    "plt.ylabel('Domestic Profit')\n",
    "plt.title('Domestic Profit per Rating')\n",
    "plt.show()"
   ]
  },
  {
   "cell_type": "code",
   "execution_count": null,
   "metadata": {},
   "outputs": [],
   "source": [
    "#create line of best fit\n",
    "sns.lmplot(x = 'vote_average', y = 'dom_profit', data = new_movie_db, height = 8, aspect = 1.5);"
   ]
  },
  {
   "cell_type": "markdown",
   "metadata": {},
   "source": [
    "### Profit per Rating Graph"
   ]
  },
  {
   "cell_type": "code",
   "execution_count": null,
   "metadata": {},
   "outputs": [],
   "source": [
    "#determine outliers\n",
    "p25 = np.percentile(new_movie_db['profit'], 25)\n",
    "p75 = np.percentile(new_movie_db['profit'], 75)\n",
    "iqr = p75 - p25\n",
    "outlier = p75 + (1.5 * iqr)\n",
    "#create db that removes upper outliers\n",
    "wwp_movie_db = new_movie_db.drop(new_movie_db[new_movie_db['worldwide_gross'] > outlier].index)\n",
    "wwp_movie_db"
   ]
  },
  {
   "cell_type": "code",
   "execution_count": null,
   "metadata": {},
   "outputs": [],
   "source": [
    "#determine outliers\n",
    "p25 = np.percentile(wwp_movie_db['vote_average'], 25)\n",
    "p75 = np.percentile(wwp_movie_db['vote_average'], 75)\n",
    "iqr = p75 - p25\n",
    "outlier = p75 + (1.5 * iqr)\n",
    "#create db that removes upper outliers\n",
    "wwp1_movie_db = wwp_movie_db.drop(wwp_movie_db[wwp_movie_db['vote_average'] > outlier].index)\n",
    "wwp1_movie_db"
   ]
  },
  {
   "cell_type": "code",
   "execution_count": null,
   "metadata": {},
   "outputs": [],
   "source": [
    "#graph visual\n",
    "x = wwp1_movie_db['vote_average']\n",
    "\n",
    "y = wwp1_movie_db['profit']\n",
    "\n",
    "plt.scatter(x, y)\n",
    "plt.xlabel('Rating')\n",
    "plt.ylabel('Profit (hundred million $)')\n",
    "plt.title('Profit per Rating')\n",
    "plt.show()"
   ]
  },
  {
   "cell_type": "code",
   "execution_count": null,
   "metadata": {},
   "outputs": [],
   "source": [
    "#create line of best fit\n",
    "sns.lmplot(x = 'vote_average', y = 'profit', data = wwp1_movie_db, height = 8, aspect = 1.5);"
   ]
  },
  {
   "cell_type": "markdown",
   "metadata": {},
   "source": [
    "### Domestic Revenue per Budget Graph"
   ]
  },
  {
   "cell_type": "code",
   "execution_count": null,
   "metadata": {},
   "outputs": [],
   "source": [
    "#graph visual\n",
    "x = new_movie_db['production_budget']\n",
    "\n",
    "y = new_movie_db['domestic_gross']\n",
    "\n",
    "plt.scatter(x, y)\n",
    "plt.xlabel('Budget')\n",
    "plt.ylabel('Domestic Revenue')\n",
    "plt.title('Domestic Revenue per Budget')\n",
    "plt.show()"
   ]
  },
  {
   "cell_type": "code",
   "execution_count": null,
   "metadata": {},
   "outputs": [],
   "source": [
    "#create line of best fit\n",
    "sns.lmplot(x = 'production_budget', y = 'domestic_gross', data = new_movie_db, height = 8, aspect = 1.5);"
   ]
  },
  {
   "cell_type": "markdown",
   "metadata": {},
   "source": [
    "### Worldwide Revenue per Budget Graph"
   ]
  },
  {
   "cell_type": "code",
   "execution_count": null,
   "metadata": {},
   "outputs": [],
   "source": [
    "#graph visual\n",
    "x = new_movie_db['production_budget']\n",
    "\n",
    "y = new_movie_db['worldwide_gross']\n",
    "\n",
    "plt.scatter(x, y)\n",
    "plt.xlabel('Budget')\n",
    "plt.ylabel('Worldwide Revenue')\n",
    "plt.title('Worldwide Revenue per Budget')\n",
    "plt.show()"
   ]
  },
  {
   "cell_type": "code",
   "execution_count": null,
   "metadata": {},
   "outputs": [],
   "source": [
    "#create line of best fit\n",
    "sns.lmplot(x = 'production_budget', y = 'worldwide_gross', data = new_movie_db, height = 8, aspect = 1.5);"
   ]
  },
  {
   "cell_type": "markdown",
   "metadata": {},
   "source": [
    "### Domestic Revenue per Popularity Rating Graph"
   ]
  },
  {
   "cell_type": "code",
   "execution_count": null,
   "metadata": {},
   "outputs": [],
   "source": [
    "#determine outliers\n",
    "p25 = np.percentile(new_movie_db['popularity'], 25)\n",
    "p75 = np.percentile(new_movie_db['popularity'], 75)\n",
    "iqr = p75 - p25\n",
    "outlier = p75 + (1.5 * iqr)\n",
    "#create db that removes upper outliers\n",
    "popularity_movie_db = new_movie_db.drop(new_movie_db[new_movie_db['popularity'] > outlier].index)\n",
    "popularity_movie_db"
   ]
  },
  {
   "cell_type": "code",
   "execution_count": null,
   "metadata": {},
   "outputs": [],
   "source": [
    "#determine outliers\n",
    "p25 = np.percentile(popularity_movie_db['domestic_gross'], 25)\n",
    "p75 = np.percentile(popularity_movie_db['domestic_gross'], 75)\n",
    "iqr = p75 - p25\n",
    "outlier = p75 + (1.5 * iqr)\n",
    "#create db that removes upper outliers\n",
    "popularity1_movie_db = popularity_movie_db.drop(popularity_movie_db[popularity_movie_db['domestic_gross'] > outlier].index)\n",
    "popularity1_movie_db"
   ]
  },
  {
   "cell_type": "code",
   "execution_count": null,
   "metadata": {},
   "outputs": [],
   "source": [
    "#graph visual\n",
    "x = popularity1_movie_db['popularity']\n",
    "\n",
    "y = popularity1_movie_db['domestic_gross']\n",
    "\n",
    "plt.scatter(x, y)\n",
    "plt.xlabel('Popularity')\n",
    "plt.ylabel('Domestic Revenue')\n",
    "plt.title('Domestic Revenue per Popularity')\n",
    "plt.show()"
   ]
  },
  {
   "cell_type": "code",
   "execution_count": null,
   "metadata": {},
   "outputs": [],
   "source": [
    "#create line of best fit\n",
    "sns.lmplot(x = 'popularity', y = 'domestic_gross', data = popularity1_movie_db, height = 8, aspect = 1.5);"
   ]
  },
  {
   "cell_type": "markdown",
   "metadata": {},
   "source": [
    "### Worldwide Revenue per Popularity Rating Graph"
   ]
  },
  {
   "cell_type": "code",
   "execution_count": null,
   "metadata": {},
   "outputs": [],
   "source": [
    "#determine outliers\n",
    "p25 = np.percentile(popularity_movie_db['worldwide_gross'], 25)\n",
    "p75 = np.percentile(popularity_movie_db['worldwide_gross'], 75)\n",
    "iqr = p75 - p25\n",
    "outlier = p75 + (1.5 * iqr)\n",
    "#create db that removes upper outliers\n",
    "popularity2_movie_db = popularity_movie_db.drop(popularity_movie_db[popularity_movie_db['worldwide_gross'] > outlier].index)\n",
    "popularity2_movie_db"
   ]
  },
  {
   "cell_type": "code",
   "execution_count": null,
   "metadata": {},
   "outputs": [],
   "source": [
    "#graph visual\n",
    "x = popularity2_movie_db['popularity']\n",
    "\n",
    "y = popularity2_movie_db['worldwide_gross']\n",
    "\n",
    "plt.scatter(x, y)\n",
    "plt.xlabel('Popularity')\n",
    "plt.ylabel('Worldwide Revenue (hundred million $)')\n",
    "plt.title('Worldwide Revenue per Popularity')\n",
    "plt.show()"
   ]
  },
  {
   "cell_type": "code",
   "execution_count": null,
   "metadata": {},
   "outputs": [],
   "source": [
    "#create line of best fit\n",
    "sns.lmplot(x = 'popularity', y = 'worldwide_gross', data = popularity2_movie_db, height = 8, aspect = 1.5);"
   ]
  },
  {
   "cell_type": "markdown",
   "metadata": {},
   "source": [
    "### Domestic Profit per Popularity Rating Graph"
   ]
  },
  {
   "cell_type": "code",
   "execution_count": null,
   "metadata": {},
   "outputs": [],
   "source": [
    "#determine outliers\n",
    "p25 = np.percentile(popularity_movie_db['dom_profit'], 25)\n",
    "p75 = np.percentile(popularity_movie_db['dom_profit'], 75)\n",
    "iqr = p75 - p25\n",
    "outlier = p75 + (1.5 * iqr)\n",
    "#create db that removes upper outliers\n",
    "popularity3_movie_db = popularity_movie_db.drop(popularity_movie_db[popularity_movie_db['dom_profit'] > outlier].index)\n",
    "popularity3_movie_db"
   ]
  },
  {
   "cell_type": "code",
   "execution_count": null,
   "metadata": {},
   "outputs": [],
   "source": [
    "#determine outliers\n",
    "p25 = np.percentile(popularity3_movie_db['dom_profit'], 25)\n",
    "p75 = np.percentile(popularity3_movie_db['dom_profit'], 75)\n",
    "iqr = p75 - p25\n",
    "outlier = p25 - (1.5 * iqr)\n",
    "#create db that removes lower outliers\n",
    "popularity4_movie_db = popularity3_movie_db.drop(popularity3_movie_db[popularity3_movie_db['dom_profit'] < outlier].index)\n",
    "popularity4_movie_db"
   ]
  },
  {
   "cell_type": "code",
   "execution_count": null,
   "metadata": {},
   "outputs": [],
   "source": [
    "#graph visual including outliers\n",
    "x = popularity4_movie_db['popularity']\n",
    "\n",
    "y = popularity4_movie_db['dom_profit']\n",
    "\n",
    "plt.scatter(x, y)\n",
    "plt.xlabel('Popularity')\n",
    "plt.ylabel('Domestic Profit')\n",
    "plt.title('Domestic Profit per Popularity')\n",
    "plt.show()"
   ]
  },
  {
   "cell_type": "code",
   "execution_count": null,
   "metadata": {},
   "outputs": [],
   "source": [
    "#create line of best fit\n",
    "sns.lmplot(x = 'popularity', y = 'dom_profit', data = popularity4_movie_db, height = 8, aspect = 1.5);"
   ]
  },
  {
   "cell_type": "markdown",
   "metadata": {},
   "source": [
    "### Profit per Popularity Rating Graph"
   ]
  },
  {
   "cell_type": "code",
   "execution_count": null,
   "metadata": {},
   "outputs": [],
   "source": [
    "#determine outliers\n",
    "p25 = np.percentile(popularity_movie_db['profit'], 25)\n",
    "p75 = np.percentile(popularity_movie_db['profit'], 75)\n",
    "iqr = p75 - p25\n",
    "outlier = p75 + (1.5 * iqr)\n",
    "#create db that removes upper outliers\n",
    "popularity5_movie_db = popularity_movie_db.drop(popularity_movie_db[popularity_movie_db['profit'] > outlier].index)\n",
    "popularity5_movie_db"
   ]
  },
  {
   "cell_type": "code",
   "execution_count": null,
   "metadata": {},
   "outputs": [],
   "source": [
    "#graph visual\n",
    "x = popularity5_movie_db['popularity']\n",
    "\n",
    "y = popularity5_movie_db['profit']\n",
    "\n",
    "plt.scatter(x, y,)\n",
    "plt.xlabel('Popularity')\n",
    "plt.ylabel('Profit (hundred million $)')\n",
    "plt.title('Profit per Popularity')\n",
    "plt.show()"
   ]
  },
  {
   "cell_type": "code",
   "execution_count": null,
   "metadata": {},
   "outputs": [],
   "source": [
    "#create line of best fit\n",
    "sns.lmplot(x = 'popularity', y = 'profit', data = popularity5_movie_db, height = 8, aspect = 1.5);"
   ]
  },
  {
   "cell_type": "markdown",
   "metadata": {},
   "source": [
    "### Hypothesis Testing"
   ]
  },
  {
   "cell_type": "code",
   "execution_count": null,
   "metadata": {},
   "outputs": [],
   "source": [
    "#population must have more than 100 votes\n",
    "population_movie_db = new_movie_db.drop(new_movie_db[new_movie_db['vote_count'] < 100].index)\n",
    "population_movie_db"
   ]
  },
  {
   "cell_type": "code",
   "execution_count": null,
   "metadata": {},
   "outputs": [],
   "source": [
    "#sample must have a vote average higher than 6\n",
    "sample_movie_db = new_movie_db.drop(new_movie_db[new_movie_db['vote_average'] < 6].index)\n",
    "sample_movie_db"
   ]
  },
  {
   "cell_type": "code",
   "execution_count": null,
   "metadata": {},
   "outputs": [],
   "source": [
    "#import needed libraries\n",
    "import scipy.stats as stats\n",
    "from math import sqrt"
   ]
  },
  {
   "cell_type": "markdown",
   "metadata": {},
   "source": [
    "### Does rating have an impact on worldwide revenue?"
   ]
  },
  {
   "cell_type": "markdown",
   "metadata": {},
   "source": [
    "Ho: There is no relationship between ratings and worldwide revenue"
   ]
  },
  {
   "cell_type": "markdown",
   "metadata": {},
   "source": [
    "Ha: There is a relationship between ratings and worldwide revenue"
   ]
  },
  {
   "cell_type": "code",
   "execution_count": null,
   "metadata": {},
   "outputs": [],
   "source": [
    "#Run a two tail z test using a 95% confidence level\n",
    "alpha = 0.025\n",
    "x_bar = sample_movie_db['worldwide_gross'].mean() #sample mean \n",
    "n = sample_movie_db['worldwide_gross'].count() #number of samples\n",
    "sigma = population_movie_db['worldwide_gross'].std() #std of population\n",
    "mu = population_movie_db['worldwide_gross'].mean() #population mean \n",
    "\n",
    "#calculate the z score \n",
    "z = (x_bar - mu) / (sigma / sqrt(n))\n",
    "z"
   ]
  },
  {
   "cell_type": "code",
   "execution_count": null,
   "metadata": {},
   "outputs": [],
   "source": [
    "#calculate p-value\n",
    "pval = 1 - stats.norm.cdf(z)\n",
    "pval"
   ]
  },
  {
   "cell_type": "code",
   "execution_count": null,
   "metadata": {},
   "outputs": [],
   "source": [
    "#view results to identify if statistically significant\n",
    "print('p-value', pval)\n",
    "print('alpha', alpha)\n",
    "\n",
    "if pval < alpha:\n",
    "    print('Reject Null Hypothesis')\n",
    "elif pval >= alpha:\n",
    "    print('Fail to Reject Null Hypothesis')"
   ]
  },
  {
   "cell_type": "markdown",
   "metadata": {},
   "source": [
    "### Does rating have an impact on profit?"
   ]
  },
  {
   "cell_type": "markdown",
   "metadata": {},
   "source": [
    "Ho: There is no relationship between ratings and profit"
   ]
  },
  {
   "cell_type": "markdown",
   "metadata": {},
   "source": [
    "Ha: There is a relationship between ratings and profit"
   ]
  },
  {
   "cell_type": "code",
   "execution_count": null,
   "metadata": {},
   "outputs": [],
   "source": [
    "#Run a two tail z test using a 95% confidence level\n",
    "alpha = 0.025\n",
    "x_bar = sample_movie_db['profit'].mean() # sample mean \n",
    "n = sample_movie_db['profit'].count() # number\n",
    "sigma = population_movie_db['profit'].std() # std of population\n",
    "mu = population_movie_db['profit'].mean() # Population mean \n",
    "\n",
    "#calculate the z score \n",
    "z = (x_bar - mu) / (sigma / sqrt(n))\n",
    "z\n"
   ]
  },
  {
   "cell_type": "code",
   "execution_count": null,
   "metadata": {},
   "outputs": [],
   "source": [
    "#calculate p-value\n",
    "pval = 1 - stats.norm.cdf(z)\n",
    "pval"
   ]
  },
  {
   "cell_type": "code",
   "execution_count": null,
   "metadata": {},
   "outputs": [],
   "source": [
    "#view results to identify if statistically significant\n",
    "print('p-value', pval)\n",
    "print('alpha', alpha)\n",
    "\n",
    "if pval < alpha:\n",
    "    print('Reject Null Hypothesis')\n",
    "elif pval >= alpha:\n",
    "    print('Fail to Reject Null Hypothesis')"
   ]
  },
  {
   "cell_type": "code",
   "execution_count": null,
   "metadata": {},
   "outputs": [],
   "source": [
    "# normalizing distribution with for loop\n",
    "samp_standardized_rating = [(x-mu)/sigma for x in sample_movie_db['profit']]\n",
    "z_mean = np.mean(samp_standardized_rating)\n",
    "print(f' Standardized Sample Mean: {z_mean}')"
   ]
  },
  {
   "cell_type": "code",
   "execution_count": null,
   "metadata": {},
   "outputs": [],
   "source": [
    "# visualizing above distribution as histogram\n",
    "fig, ax = plt.subplots(figsize=(10,8))\n",
    "\n",
    "ax.hist(samp_standardized_rating, bins=15, density=True, color='r')\n",
    "ax.set_xlabel('Z Scores')\n",
    "ax.set_title('Profit per Movie Rating')\n",
    "\n",
    "# applying normalized curve over histogram\n",
    "sns.kdeplot(samp_standardized_rating, ax=ax, color='k')\n",
    "\n",
    "# marking standardized_mean\n",
    "ax.vlines(x=z_mean, ymin=0, ymax=0.7, color='b', label='Mean: 0.2331')\n",
    "ax.legend()"
   ]
  },
  {
   "cell_type": "code",
   "execution_count": null,
   "metadata": {},
   "outputs": [],
   "source": [
    "# standardizing population for secondary visualizations to follow\n",
    "mu = population_movie_db['profit'].mean()\n",
    "std = population_movie_db['profit'].std()\n",
    "\n",
    "pop_standardized_rating = [(x-mu)/std for x in population_movie_db['profit']]\n",
    "pop_z_mean = np.mean(pop_standardized_rating)\n",
    "pop_z_mean"
   ]
  },
  {
   "cell_type": "code",
   "execution_count": null,
   "metadata": {},
   "outputs": [],
   "source": [
    "# plotting tested runtime sample against population\n",
    "fig, ax = plt.subplots(figsize=(10,8))\n",
    "\n",
    "plt.hist(pop_standardized_rating, bins=45, density=True, color='b', alpha = 0.5)\n",
    "sns.kdeplot(pop_standardized_rating, ax=ax, color='y')\n",
    "\n",
    "plt.hist(samp_standardized_rating, bins=15, density=True, color='r', alpha = 0.5)\n",
    "sns.kdeplot(samp_standardized_rating, ax=ax, color='k')\n",
    "\n",
    "plt.vlines(x=z_mean, ymin=0, ymax=0.7, color='m', label='Sample Mean: 0.2331')\n",
    "plt.vlines(x=pop_z_mean, ymin=0, ymax=0.7, label='Population Mean: 0.0')\n",
    "                                              \n",
    "plt.xlabel('Z Scores')\n",
    "plt.title('Profit per Movie Rating')\n",
    "plt.legend()"
   ]
  },
  {
   "cell_type": "code",
   "execution_count": null,
   "metadata": {},
   "outputs": [],
   "source": [
    "#graph visual\n",
    "x = sample_movie_db['vote_average']\n",
    "\n",
    "y = sample_movie_db['profit']\n",
    "\n",
    "plt.bar(x, y)\n",
    "plt.xlabel('Movie Rating')\n",
    "plt.ylabel('Profit (in hundred million $)')\n",
    "plt.title('Profit per Movie Rating')\n",
    "plt.show()"
   ]
  },
  {
   "cell_type": "markdown",
   "metadata": {},
   "source": [
    "### Does popularity have an impact on worldwide revenue?"
   ]
  },
  {
   "cell_type": "markdown",
   "metadata": {},
   "source": [
    "Ho: There is no relationship between popularity and worldwide revenue"
   ]
  },
  {
   "cell_type": "markdown",
   "metadata": {},
   "source": [
    "Ha: There is a relationship between popularity and worldwide revenue"
   ]
  },
  {
   "cell_type": "code",
   "execution_count": null,
   "metadata": {},
   "outputs": [],
   "source": [
    "#sample must have a popularity rating higher than 10\n",
    "sample_movie_db = new_movie_db.drop(new_movie_db[new_movie_db['popularity'] < 10].index)\n",
    "sample_movie_db"
   ]
  },
  {
   "cell_type": "code",
   "execution_count": null,
   "metadata": {},
   "outputs": [],
   "source": [
    "#Run a two tail z test using a 95% confidence level\n",
    "alpha = 0.025\n",
    "x_bar = sample_movie_db['worldwide_gross'].mean() #sample mean \n",
    "n = sample_movie_db['worldwide_gross'].count() #number of samples\n",
    "sigma = new_movie_db['worldwide_gross'].std() #std of population\n",
    "mu = new_movie_db['worldwide_gross'].mean() #population mean \n",
    "\n",
    "#calculate the z score \n",
    "z = (x_bar - mu) / (sigma / sqrt(n))\n",
    "z"
   ]
  },
  {
   "cell_type": "code",
   "execution_count": null,
   "metadata": {},
   "outputs": [],
   "source": [
    "#calculate p-value\n",
    "pval = 1 - stats.norm.cdf(z)\n",
    "pval"
   ]
  },
  {
   "cell_type": "code",
   "execution_count": null,
   "metadata": {},
   "outputs": [],
   "source": [
    "#view results to identify if statistically significant\n",
    "print('p-value', pval)\n",
    "print('alpha', alpha)\n",
    "\n",
    "if pval < alpha:\n",
    "    print('Reject Null Hypothesis')\n",
    "elif pval >= alpha:\n",
    "    print('Fail to Reject Null Hypothesis')"
   ]
  },
  {
   "cell_type": "code",
   "execution_count": null,
   "metadata": {},
   "outputs": [],
   "source": [
    "# normalizing distribution with for loop\n",
    "samp_standardized_rating = [(x-mu)/sigma for x in sample_movie_db['worldwide_gross']]\n",
    "z_mean = np.mean(samp_standardized_rating)\n",
    "print(f' Standardized Sample Mean: {z_mean}')"
   ]
  },
  {
   "cell_type": "code",
   "execution_count": null,
   "metadata": {},
   "outputs": [],
   "source": [
    "# visualizing above distribution as histogram\n",
    "fig, ax = plt.subplots(figsize=(10,8))\n",
    "\n",
    "ax.hist(samp_standardized_rating, bins=15, density=True, color='r')\n",
    "ax.set_xlabel('Z Scores')\n",
    "ax.set_title('Worldwide Revenue per Popularity')\n",
    "\n",
    "# applying normalized curve over histogram\n",
    "sns.kdeplot(samp_standardized_rating, ax=ax, color='k')\n",
    "\n",
    "# marking standardized_mean\n",
    "ax.vlines(x=z_mean, ymin=0, ymax=0.7, color='b', label='Mean: 0.4928')\n",
    "ax.legend()"
   ]
  },
  {
   "cell_type": "code",
   "execution_count": null,
   "metadata": {},
   "outputs": [],
   "source": [
    "# standardizing population for secondary visualizations to follow\n",
    "mu = new_movie_db['worldwide_gross'].mean()\n",
    "std = new_movie_db['worldwide_gross'].std()\n",
    "\n",
    "pop_standardized_rating = [(x-mu)/std for x in new_movie_db['worldwide_gross']]\n",
    "pop_z_mean = np.mean(pop_standardized_rating)\n",
    "pop_z_mean"
   ]
  },
  {
   "cell_type": "code",
   "execution_count": null,
   "metadata": {},
   "outputs": [],
   "source": [
    "# plotting tested runtime sample against population\n",
    "fig, ax = plt.subplots(figsize=(10,8))\n",
    "\n",
    "plt.hist(pop_standardized_rating, bins=45, density=True, color='b', alpha = 0.5)\n",
    "sns.kdeplot(pop_standardized_rating, ax=ax, color='y')\n",
    "\n",
    "plt.hist(samp_standardized_rating, bins=15, density=True, color='r', alpha = 0.5)\n",
    "sns.kdeplot(samp_standardized_rating, ax=ax, color='k')\n",
    "\n",
    "plt.vlines(x=z_mean, ymin=0, ymax=0.7, color='m', label='Sample Mean: 0.4928')\n",
    "plt.vlines(x=pop_z_mean, ymin=0, ymax=0.7, label='Population Mean: 0.0')\n",
    "                                              \n",
    "plt.xlabel('Z Scores')\n",
    "plt.title('Worldwide Revenue per Movie Rating')\n",
    "plt.legend()"
   ]
  },
  {
   "cell_type": "code",
   "execution_count": null,
   "metadata": {},
   "outputs": [],
   "source": [
    "#graph visual\n",
    "x = sample_movie_db['popularity']\n",
    "\n",
    "y = sample_movie_db['worldwide_gross']\n",
    "\n",
    "plt.bar(x, y)\n",
    "plt.xlabel('Movie Popularity')\n",
    "plt.ylabel('Worldwide Revenue')\n",
    "plt.title('Worldwide Revenue per Movie Popularity')\n",
    "plt.show()"
   ]
  },
  {
   "cell_type": "markdown",
   "metadata": {},
   "source": [
    "### Does popularity have an impact on profit?"
   ]
  },
  {
   "cell_type": "markdown",
   "metadata": {},
   "source": [
    "Ho: There is no relationship between popularity and profit"
   ]
  },
  {
   "cell_type": "markdown",
   "metadata": {},
   "source": [
    "Ha: There is a relationship between popularity and profit"
   ]
  },
  {
   "cell_type": "code",
   "execution_count": null,
   "metadata": {},
   "outputs": [],
   "source": [
    "alpha = 0.05\n",
    "x_bar = sample_movie_db['profit'].mean() #sample mean \n",
    "n = sample_movie_db['profit'].count() #number of samples\n",
    "sigma = new_movie_db['profit'].std() #std of population\n",
    "mu = new_movie_db['profit'].mean() #population mean \n",
    "\n",
    "#calculate the z score \n",
    "z = (x_bar - mu) / (sigma / sqrt(n))\n",
    "z"
   ]
  },
  {
   "cell_type": "code",
   "execution_count": null,
   "metadata": {},
   "outputs": [],
   "source": [
    "#calculate p-value\n",
    "pval = 1 - stats.norm.cdf(z)\n",
    "pval"
   ]
  },
  {
   "cell_type": "code",
   "execution_count": null,
   "metadata": {},
   "outputs": [],
   "source": [
    "#view results to identify if statistically significant\n",
    "print('p-value', pval)\n",
    "print('alpha', alpha)\n",
    "\n",
    "if pval < alpha:\n",
    "    print('Reject Null Hypothesis')\n",
    "elif pval >= alpha:\n",
    "    print('Fail to Reject Null Hypothesis')"
   ]
  },
  {
   "cell_type": "code",
   "execution_count": null,
   "metadata": {},
   "outputs": [],
   "source": [
    "# normalizing distribution with for loop\n",
    "samp_standardized_rating = [(x-mu)/sigma for x in sample_movie_db['profit']]\n",
    "z_mean = np.mean(samp_standardized_rating)\n",
    "print(f' Standardized Sample Mean: {z_mean}')"
   ]
  },
  {
   "cell_type": "code",
   "execution_count": null,
   "metadata": {},
   "outputs": [],
   "source": [
    "# visualizing above distribution as histogram\n",
    "fig, ax = plt.subplots(figsize=(10,8))\n",
    "\n",
    "ax.hist(samp_standardized_rating, bins=15, density=True, color='r')\n",
    "ax.set_xlabel('Z Scores')\n",
    "ax.set_title('Profit per Popularity')\n",
    "\n",
    "# applying normalized curve over histogram\n",
    "sns.kdeplot(samp_standardized_rating, ax=ax, color='k')\n",
    "\n",
    "# marking standardized_mean\n",
    "ax.vlines(x=z_mean, ymin=0, ymax=0.7, color='b', label='Mean: 0.0042')\n",
    "ax.legend()"
   ]
  },
  {
   "cell_type": "code",
   "execution_count": null,
   "metadata": {},
   "outputs": [],
   "source": [
    "# standardizing population for secondary visualizations to follow\n",
    "mu = new_movie_db['profit'].mean()\n",
    "std = new_movie_db['profit'].std()\n",
    "\n",
    "pop_standardized_rating = [(x-mu)/std for x in new_movie_db['profit']]\n",
    "pop_z_mean = np.mean(pop_standardized_rating)\n",
    "pop_z_mean"
   ]
  },
  {
   "cell_type": "code",
   "execution_count": null,
   "metadata": {},
   "outputs": [],
   "source": [
    "# plotting tested runtime sample against population\n",
    "fig, ax = plt.subplots(figsize=(10,8))\n",
    "\n",
    "plt.hist(pop_standardized_rating, bins=45, density=True, color='b', alpha = 0.5)\n",
    "sns.kdeplot(pop_standardized_rating, ax=ax, color='y')\n",
    "\n",
    "plt.hist(samp_standardized_rating, bins=15, density=True, color='r', alpha = 0.5)\n",
    "sns.kdeplot(samp_standardized_rating, ax=ax, color='k')\n",
    "\n",
    "plt.vlines(x=z_mean, ymin=0, ymax=0.7, color='m', label='Sample Mean: 0.0042')\n",
    "plt.vlines(x=pop_z_mean, ymin=0, ymax=0.7, label='Population Mean: 0.0')\n",
    "                                              \n",
    "plt.xlabel('Z Scores')\n",
    "plt.title('Profit per Movie Rating')\n",
    "plt.legend()"
   ]
  },
  {
   "cell_type": "markdown",
   "metadata": {},
   "source": [
    "### Statistics"
   ]
  },
  {
   "cell_type": "code",
   "execution_count": null,
   "metadata": {},
   "outputs": [],
   "source": [
    "#average production budget from other released movies\n",
    "new_movie_db['production_budget'].mean()"
   ]
  },
  {
   "cell_type": "code",
   "execution_count": null,
   "metadata": {},
   "outputs": [],
   "source": [
    "#average domestic revenue from other released movies\n",
    "new_movie_db['domestic_gross'].mean()"
   ]
  },
  {
   "cell_type": "code",
   "execution_count": null,
   "metadata": {},
   "outputs": [],
   "source": [
    "#average production budget from other released movies\n",
    "new_movie_db['worldwide_gross'].mean()"
   ]
  },
  {
   "cell_type": "code",
   "execution_count": null,
   "metadata": {},
   "outputs": [],
   "source": [
    "#average domestic revenue multiplier based on production budget from other released movies\n",
    "new_movie_db['dom_gross / budget'].mean()"
   ]
  },
  {
   "cell_type": "code",
   "execution_count": null,
   "metadata": {},
   "outputs": [],
   "source": [
    "#average worldwide revenue multiplier based on production budget\n",
    "new_movie_db['ww_gross / budget'].mean()"
   ]
  },
  {
   "cell_type": "code",
   "execution_count": null,
   "metadata": {},
   "outputs": [],
   "source": [
    "#average domestic profits from other released movies\n",
    "new_movie_db['dom_profit'].mean()\n"
   ]
  },
  {
   "cell_type": "code",
   "execution_count": null,
   "metadata": {},
   "outputs": [],
   "source": [
    "#average worldwide profits from other released movies\n",
    "new_movie_db['profit'].mean()"
   ]
  },
  {
   "cell_type": "code",
   "execution_count": null,
   "metadata": {},
   "outputs": [],
   "source": [
    "#average movie rating\n",
    "new_movie_db['vote_average'].mean()"
   ]
  },
  {
   "cell_type": "code",
   "execution_count": null,
   "metadata": {},
   "outputs": [],
   "source": [
    "#average movie popularity rating\n",
    "new_movie_db['popularity'].mean()"
   ]
  },
  {
   "cell_type": "code",
   "execution_count": null,
   "metadata": {},
   "outputs": [],
   "source": [
    "#information regarding genres\n",
    "movie_db['genre_ids'].value_counts()"
   ]
  },
  {
   "cell_type": "markdown",
   "id": "b9407944",
   "metadata": {},
   "source": [
    "## Ian"
   ]
  },
  {
   "cell_type": "code",
   "execution_count": null,
   "id": "62880881",
   "metadata": {},
   "outputs": [],
   "source": [
    "# Your code here - remember to use markdown cells for comments as well!"
   ]
  },
  {
   "cell_type": "markdown",
   "id": "1d56dd89",
   "metadata": {},
   "source": [
    "## Frida"
   ]
  },
  {
   "cell_type": "markdown",
   "id": "f8330ed4",
   "metadata": {},
   "source": [
    "### Working with Data Info File\n",
    "#### Objective: Find the most popular genres and movie themes in the last decades in order to recomend movie content for the films.\n"
   ]
  },
  {
   "cell_type": "code",
   "execution_count": 21,
   "id": "227b6a79",
   "metadata": {},
   "outputs": [],
   "source": [
    "# Importing modules\n",
    "import pandas as pd\n",
    "import math\n",
    "import numpy as np\n",
    "import collections\n",
    "import matplotlib.pyplot as plt\n",
    "%matplotlib inline"
   ]
  },
  {
   "cell_type": "code",
   "execution_count": 8,
   "id": "35ded39c",
   "metadata": {},
   "outputs": [
    {
     "data": {
      "text/html": [
       "<div>\n",
       "<style scoped>\n",
       "    .dataframe tbody tr th:only-of-type {\n",
       "        vertical-align: middle;\n",
       "    }\n",
       "\n",
       "    .dataframe tbody tr th {\n",
       "        vertical-align: top;\n",
       "    }\n",
       "\n",
       "    .dataframe thead th {\n",
       "        text-align: right;\n",
       "    }\n",
       "</style>\n",
       "<table border=\"1\" class=\"dataframe\">\n",
       "  <thead>\n",
       "    <tr style=\"text-align: right;\">\n",
       "      <th></th>\n",
       "      <th>synopsis</th>\n",
       "      <th>rating</th>\n",
       "      <th>genre</th>\n",
       "      <th>director</th>\n",
       "      <th>writer</th>\n",
       "      <th>theater_date</th>\n",
       "      <th>dvd_date</th>\n",
       "      <th>currency</th>\n",
       "      <th>box_office</th>\n",
       "      <th>runtime</th>\n",
       "      <th>studio</th>\n",
       "    </tr>\n",
       "    <tr>\n",
       "      <th>id</th>\n",
       "      <th></th>\n",
       "      <th></th>\n",
       "      <th></th>\n",
       "      <th></th>\n",
       "      <th></th>\n",
       "      <th></th>\n",
       "      <th></th>\n",
       "      <th></th>\n",
       "      <th></th>\n",
       "      <th></th>\n",
       "      <th></th>\n",
       "    </tr>\n",
       "  </thead>\n",
       "  <tbody>\n",
       "    <tr>\n",
       "      <th>1</th>\n",
       "      <td>This gritty, fast-paced, and innovative police...</td>\n",
       "      <td>R</td>\n",
       "      <td>Action and Adventure|Classics|Drama</td>\n",
       "      <td>William Friedkin</td>\n",
       "      <td>Ernest Tidyman</td>\n",
       "      <td>Oct 9, 1971</td>\n",
       "      <td>Sep 25, 2001</td>\n",
       "      <td>NaN</td>\n",
       "      <td>NaN</td>\n",
       "      <td>104 minutes</td>\n",
       "      <td>NaN</td>\n",
       "    </tr>\n",
       "    <tr>\n",
       "      <th>3</th>\n",
       "      <td>New York City, not-too-distant-future: Eric Pa...</td>\n",
       "      <td>R</td>\n",
       "      <td>Drama|Science Fiction and Fantasy</td>\n",
       "      <td>David Cronenberg</td>\n",
       "      <td>David Cronenberg|Don DeLillo</td>\n",
       "      <td>Aug 17, 2012</td>\n",
       "      <td>Jan 1, 2013</td>\n",
       "      <td>$</td>\n",
       "      <td>600,000</td>\n",
       "      <td>108 minutes</td>\n",
       "      <td>Entertainment One</td>\n",
       "    </tr>\n",
       "    <tr>\n",
       "      <th>5</th>\n",
       "      <td>Illeana Douglas delivers a superb performance ...</td>\n",
       "      <td>R</td>\n",
       "      <td>Drama|Musical and Performing Arts</td>\n",
       "      <td>Allison Anders</td>\n",
       "      <td>Allison Anders</td>\n",
       "      <td>Sep 13, 1996</td>\n",
       "      <td>Apr 18, 2000</td>\n",
       "      <td>NaN</td>\n",
       "      <td>NaN</td>\n",
       "      <td>116 minutes</td>\n",
       "      <td>NaN</td>\n",
       "    </tr>\n",
       "    <tr>\n",
       "      <th>6</th>\n",
       "      <td>Michael Douglas runs afoul of a treacherous su...</td>\n",
       "      <td>R</td>\n",
       "      <td>Drama|Mystery and Suspense</td>\n",
       "      <td>Barry Levinson</td>\n",
       "      <td>Paul Attanasio|Michael Crichton</td>\n",
       "      <td>Dec 9, 1994</td>\n",
       "      <td>Aug 27, 1997</td>\n",
       "      <td>NaN</td>\n",
       "      <td>NaN</td>\n",
       "      <td>128 minutes</td>\n",
       "      <td>NaN</td>\n",
       "    </tr>\n",
       "    <tr>\n",
       "      <th>7</th>\n",
       "      <td>NaN</td>\n",
       "      <td>NR</td>\n",
       "      <td>Drama|Romance</td>\n",
       "      <td>Rodney Bennett</td>\n",
       "      <td>Giles Cooper</td>\n",
       "      <td>NaN</td>\n",
       "      <td>NaN</td>\n",
       "      <td>NaN</td>\n",
       "      <td>NaN</td>\n",
       "      <td>200 minutes</td>\n",
       "      <td>NaN</td>\n",
       "    </tr>\n",
       "  </tbody>\n",
       "</table>\n",
       "</div>"
      ],
      "text/plain": [
       "                                             synopsis rating  \\\n",
       "id                                                             \n",
       "1   This gritty, fast-paced, and innovative police...      R   \n",
       "3   New York City, not-too-distant-future: Eric Pa...      R   \n",
       "5   Illeana Douglas delivers a superb performance ...      R   \n",
       "6   Michael Douglas runs afoul of a treacherous su...      R   \n",
       "7                                                 NaN     NR   \n",
       "\n",
       "                                  genre          director  \\\n",
       "id                                                          \n",
       "1   Action and Adventure|Classics|Drama  William Friedkin   \n",
       "3     Drama|Science Fiction and Fantasy  David Cronenberg   \n",
       "5     Drama|Musical and Performing Arts    Allison Anders   \n",
       "6            Drama|Mystery and Suspense    Barry Levinson   \n",
       "7                         Drama|Romance    Rodney Bennett   \n",
       "\n",
       "                             writer  theater_date      dvd_date currency  \\\n",
       "id                                                                         \n",
       "1                    Ernest Tidyman   Oct 9, 1971  Sep 25, 2001      NaN   \n",
       "3      David Cronenberg|Don DeLillo  Aug 17, 2012   Jan 1, 2013        $   \n",
       "5                    Allison Anders  Sep 13, 1996  Apr 18, 2000      NaN   \n",
       "6   Paul Attanasio|Michael Crichton   Dec 9, 1994  Aug 27, 1997      NaN   \n",
       "7                      Giles Cooper           NaN           NaN      NaN   \n",
       "\n",
       "   box_office      runtime             studio  \n",
       "id                                             \n",
       "1         NaN  104 minutes                NaN  \n",
       "3     600,000  108 minutes  Entertainment One  \n",
       "5         NaN  116 minutes                NaN  \n",
       "6         NaN  128 minutes                NaN  \n",
       "7         NaN  200 minutes                NaN  "
      ]
     },
     "execution_count": 8,
     "metadata": {},
     "output_type": "execute_result"
    }
   ],
   "source": [
    "# Reading the \"Movie info\" file\n",
    "movie_info_df = pd.read_csv('databases/rt.movie_info.tsv', sep='\\t', encoding = 'utf-8', index_col=0)\n",
    "movie_info_df.head()"
   ]
  },
  {
   "cell_type": "markdown",
   "id": "781551dc",
   "metadata": {},
   "source": [
    "### Data Cleaning"
   ]
  },
  {
   "cell_type": "code",
   "execution_count": 9,
   "id": "2d100c27",
   "metadata": {},
   "outputs": [
    {
     "name": "stdout",
     "output_type": "stream",
     "text": [
      "<class 'pandas.core.frame.DataFrame'>\n",
      "Int64Index: 1560 entries, 1 to 2000\n",
      "Data columns (total 11 columns):\n",
      " #   Column        Non-Null Count  Dtype \n",
      "---  ------        --------------  ----- \n",
      " 0   synopsis      1498 non-null   object\n",
      " 1   rating        1557 non-null   object\n",
      " 2   genre         1552 non-null   object\n",
      " 3   director      1361 non-null   object\n",
      " 4   writer        1111 non-null   object\n",
      " 5   theater_date  1201 non-null   object\n",
      " 6   dvd_date      1201 non-null   object\n",
      " 7   currency      340 non-null    object\n",
      " 8   box_office    340 non-null    object\n",
      " 9   runtime       1530 non-null   object\n",
      " 10  studio        494 non-null    object\n",
      "dtypes: object(11)\n",
      "memory usage: 146.2+ KB\n"
     ]
    }
   ],
   "source": [
    "# Data frame overview. Column information, name-data type.\n",
    "movie_info_df.info()"
   ]
  },
  {
   "cell_type": "code",
   "execution_count": 10,
   "id": "0f849a54",
   "metadata": {},
   "outputs": [],
   "source": [
    "# Counting missing values\n",
    "movie_info_df.isna().sum()\n",
    "\n",
    "# Removing duplicate records\n",
    "movie_info_df = movie_info_df.drop_duplicates()\n",
    "\n",
    "# Changing NaN values for String \"Not Available\"\n",
    "movie_info_df['rating'] = movie_info_df['rating'].fillna('N/A')\n",
    "movie_info_df['genre'] = movie_info_df['genre'].fillna('N/A')\n",
    "movie_info_df['director'] = movie_info_df['director'].fillna('N/A')\n",
    "movie_info_df['theater_date'] = movie_info_df['theater_date'].fillna('N/A')\n",
    "movie_info_df['dvd_date'] = movie_info_df['dvd_date'].fillna('N/A')\n",
    "movie_info_df['runtime'] = movie_info_df['runtime'].fillna('N/A')\n",
    "movie_info_df['studio'] = movie_info_df['studio'].fillna('N/A')\n",
    "movie_info_df['writer'] = movie_info_df['writer'].fillna('N/A')"
   ]
  },
  {
   "cell_type": "code",
   "execution_count": 11,
   "id": "b3bf3205",
   "metadata": {},
   "outputs": [],
   "source": [
    "# Changing NaN values for 0 in Box Office column\n",
    "movie_info_df['box_office'] = movie_info_df['box_office'].fillna(0)\n",
    "\n",
    "# Remmoving commas from Box Office values\n",
    "movie_info_df['box_office'] = movie_info_df['box_office'].replace({',':''}, regex=True)\n",
    "\n",
    "# Converting Box Office values into Integers\n",
    "movie_info_df['box_office'] = movie_info_df['box_office'].astype(float)"
   ]
  },
  {
   "cell_type": "code",
   "execution_count": 12,
   "id": "d4db2725",
   "metadata": {},
   "outputs": [],
   "source": [
    "# Checking possible Currency values\n",
    "currency_values = set(movie_info_df.loc[:,\"currency\"])\n",
    "\n",
    "# Changing NaN values for \"$\" in Currency column since is the only currency in the DB\n",
    "movie_info_df['currency'] = movie_info_df['currency'].fillna('$')"
   ]
  },
  {
   "cell_type": "code",
   "execution_count": 13,
   "id": "a65ef5d4",
   "metadata": {},
   "outputs": [
    {
     "data": {
      "text/plain": [
       "synopsis        0\n",
       "rating          0\n",
       "genre           0\n",
       "director        0\n",
       "writer          0\n",
       "theater_date    0\n",
       "dvd_date        0\n",
       "currency        0\n",
       "box_office      0\n",
       "runtime         0\n",
       "studio          0\n",
       "dtype: int64"
      ]
     },
     "execution_count": 13,
     "metadata": {},
     "output_type": "execute_result"
    }
   ],
   "source": [
    "\"\"\"\n",
    "Note: The information that we are interested in extracting from this database is the synopsis of each film, \n",
    "therefore, we have decided to delete those rows that do not have one.\n",
    "\"\"\"\n",
    "# Dropping rows with no synopsis\n",
    "cleansed_movie_info = movie_info_df.dropna(subset=['synopsis'])\n",
    "\n",
    "# Confirming that there in no more NaN values in our cleansed Data Frame\n",
    "cleansed_movie_info.isna().sum() # No more NaN values! We can start our analysis using the cleansed_movie_info DF"
   ]
  },
  {
   "cell_type": "markdown",
   "id": "5ba904e7",
   "metadata": {},
   "source": [
    "### Creating new Data Frame to work on"
   ]
  },
  {
   "cell_type": "code",
   "execution_count": 14,
   "id": "4ffbce8a",
   "metadata": {},
   "outputs": [
    {
     "data": {
      "text/plain": [
       "'\\nNote: In order to analyze the most popular movies per year and genre, \\nwe created a new Data Frame containing only the Synopsis, Rating, Genres, Theater Date and Box Office.\\n'"
      ]
     },
     "execution_count": 14,
     "metadata": {},
     "output_type": "execute_result"
    }
   ],
   "source": [
    "\"\"\"\n",
    "Note: In order to analyze the most popular movies per year and genre, \n",
    "we created a new Data Frame containing only the Synopsis, Rating, Genres, Theater Date and Box Office.\n",
    "\"\"\""
   ]
  },
  {
   "cell_type": "code",
   "execution_count": 15,
   "id": "4438965c",
   "metadata": {},
   "outputs": [
    {
     "name": "stderr",
     "output_type": "stream",
     "text": [
      "C:\\Users\\fmartinezflores\\AppData\\Local\\Temp\\ipykernel_15324\\4214444057.py:6: DeprecationWarning: `np.float` is a deprecated alias for the builtin `float`. To silence this warning, use `float` by itself. Doing this will not modify any behavior and is safe. If you specifically wanted the numpy scalar type, use `np.float64` here.\n",
      "Deprecated in NumPy 1.20; for more details and guidance: https://numpy.org/devdocs/release/1.20.0-notes.html#deprecations\n",
      "  years = years.astype(np.float)\n"
     ]
    }
   ],
   "source": [
    "# Sppliting the theater date, keeping only the year.\n",
    "only_year = cleansed_movie_info[\"theater_date\"].str.split(\",\", n = 1, expand = True)\n",
    "# Creating columns for new DF\n",
    "years = np.array(only_year[1])\n",
    "# converting Year string into float\n",
    "years = years.astype(np.float) \n",
    "\n",
    "synopsis = np.array(cleansed_movie_info[\"synopsis\"])\n",
    "ratings = np.array(cleansed_movie_info[\"rating\"])\n",
    "box_office = np.array(cleansed_movie_info[\"box_office\"])\n",
    "\n",
    "# Creating Main Movie Info DF\n",
    "main_movie_info = pd.DataFrame() \n",
    "\n",
    "# Adding columns to new DF\n",
    "main_movie_info['Synopsis'] = synopsis\n",
    "main_movie_info['Ratings'] = ratings\n",
    "main_movie_info['Box Office'] = box_office\n",
    "main_movie_info['Years'] = years\n",
    "main_movie_info['Years'] = main_movie_info['Years'].fillna(0) # Filling with 0 the empty records"
   ]
  },
  {
   "cell_type": "code",
   "execution_count": 16,
   "id": "2a122fc9",
   "metadata": {},
   "outputs": [
    {
     "data": {
      "text/html": [
       "<div>\n",
       "<style scoped>\n",
       "    .dataframe tbody tr th:only-of-type {\n",
       "        vertical-align: middle;\n",
       "    }\n",
       "\n",
       "    .dataframe tbody tr th {\n",
       "        vertical-align: top;\n",
       "    }\n",
       "\n",
       "    .dataframe thead th {\n",
       "        text-align: right;\n",
       "    }\n",
       "</style>\n",
       "<table border=\"1\" class=\"dataframe\">\n",
       "  <thead>\n",
       "    <tr style=\"text-align: right;\">\n",
       "      <th></th>\n",
       "      <th>Synopsis</th>\n",
       "      <th>Ratings</th>\n",
       "      <th>Box Office</th>\n",
       "      <th>Years</th>\n",
       "      <th>Genre 1</th>\n",
       "      <th>Genre 2</th>\n",
       "    </tr>\n",
       "  </thead>\n",
       "  <tbody>\n",
       "    <tr>\n",
       "      <th>0</th>\n",
       "      <td>This gritty, fast-paced, and innovative police...</td>\n",
       "      <td>R</td>\n",
       "      <td>0.0</td>\n",
       "      <td>1971.0</td>\n",
       "      <td>Action and Adventure</td>\n",
       "      <td>Classics</td>\n",
       "    </tr>\n",
       "    <tr>\n",
       "      <th>1</th>\n",
       "      <td>New York City, not-too-distant-future: Eric Pa...</td>\n",
       "      <td>R</td>\n",
       "      <td>600000.0</td>\n",
       "      <td>2012.0</td>\n",
       "      <td>Drama</td>\n",
       "      <td>Science Fiction and Fantasy</td>\n",
       "    </tr>\n",
       "    <tr>\n",
       "      <th>2</th>\n",
       "      <td>Illeana Douglas delivers a superb performance ...</td>\n",
       "      <td>R</td>\n",
       "      <td>0.0</td>\n",
       "      <td>1996.0</td>\n",
       "      <td>Drama</td>\n",
       "      <td>Musical and Performing Arts</td>\n",
       "    </tr>\n",
       "    <tr>\n",
       "      <th>3</th>\n",
       "      <td>Michael Douglas runs afoul of a treacherous su...</td>\n",
       "      <td>R</td>\n",
       "      <td>0.0</td>\n",
       "      <td>1994.0</td>\n",
       "      <td>Drama</td>\n",
       "      <td>Mystery and Suspense</td>\n",
       "    </tr>\n",
       "    <tr>\n",
       "      <th>4</th>\n",
       "      <td>The year is 1942. As the Allies unite overseas...</td>\n",
       "      <td>PG</td>\n",
       "      <td>0.0</td>\n",
       "      <td>2000.0</td>\n",
       "      <td>Drama</td>\n",
       "      <td>Kids and Family</td>\n",
       "    </tr>\n",
       "  </tbody>\n",
       "</table>\n",
       "</div>"
      ],
      "text/plain": [
       "                                            Synopsis Ratings  Box Office  \\\n",
       "0  This gritty, fast-paced, and innovative police...       R         0.0   \n",
       "1  New York City, not-too-distant-future: Eric Pa...       R    600000.0   \n",
       "2  Illeana Douglas delivers a superb performance ...       R         0.0   \n",
       "3  Michael Douglas runs afoul of a treacherous su...       R         0.0   \n",
       "4  The year is 1942. As the Allies unite overseas...      PG         0.0   \n",
       "\n",
       "    Years               Genre 1                      Genre 2  \n",
       "0  1971.0  Action and Adventure                     Classics  \n",
       "1  2012.0                 Drama  Science Fiction and Fantasy  \n",
       "2  1996.0                 Drama  Musical and Performing Arts  \n",
       "3  1994.0                 Drama         Mystery and Suspense  \n",
       "4  2000.0                 Drama              Kids and Family  "
      ]
     },
     "execution_count": 16,
     "metadata": {},
     "output_type": "execute_result"
    }
   ],
   "source": [
    "#  Sppliting the Genres into different columns\n",
    "split_genre = cleansed_movie_info[\"genre\"].str.split(\"|\", n = 6, expand = True)\n",
    "\n",
    "# Some movies have more than five different genres\n",
    "genre1 = np.array(split_genre[0])\n",
    "genre2 = np.array(split_genre[1])\n",
    "genre3 = np.array(split_genre[2])\n",
    "genre4 = np.array(split_genre[3])\n",
    "genre5 = np.array(split_genre[4])\n",
    "genre6 = np.array(split_genre[5])\n",
    "genre7 = np.array(split_genre[6])\n",
    "\n",
    "# # Adding a column for each genre in the new DF\n",
    "main_movie_info['Genre 1'] = genre1\n",
    "main_movie_info['Genre 2'] = genre2\n",
    "#main_movie_info['Genre 3'] = genre3\n",
    "#main_movie_info['Genre 4'] = genre4\n",
    "#main_movie_info['Genre 5'] = genre5\n",
    "#main_movie_info['Genre 6'] = genre6\n",
    "#main_movie_info['Genre 7'] = genre7\n",
    "\n",
    "\"\"\"\n",
    "Note: We decided to leave only 2 genre columns because most of the films only have 2 types of genres\n",
    "\"\"\"\n",
    "# main_movie_info overview\n",
    "main_movie_info.head()"
   ]
  },
  {
   "cell_type": "markdown",
   "id": "719a6941",
   "metadata": {},
   "source": [
    "### Analyzing the data\n"
   ]
  },
  {
   "cell_type": "markdown",
   "id": "89ddfa08",
   "metadata": {},
   "source": [
    "#### How many movies have been filmed in the last decades?"
   ]
  },
  {
   "cell_type": "code",
   "execution_count": 17,
   "id": "cb804474",
   "metadata": {},
   "outputs": [
    {
     "name": "stdout",
     "output_type": "stream",
     "text": [
      "_________________________________________________________\n",
      "\n",
      "How many movies have been filmed in the last decades?\n",
      "\n",
      "Movies Per Decade:\n",
      "1920 5\n",
      "1930 14\n",
      "1940 40\n",
      "1950 55\n",
      "1960 72\n",
      "1970 64\n",
      "1980 163\n",
      "1999 266\n",
      "2000 314\n",
      "2010 204\n",
      "_________________________________________________________\n",
      "\n"
     ]
    }
   ],
   "source": [
    "# Preparing data by filtering movies per Decade\n",
    "_20sfilms = main_movie_info.loc[(main_movie_info['Years'] >= 1920) & (main_movie_info['Years'] <= 1929)]\n",
    "_30sfilms = main_movie_info.loc[(main_movie_info['Years'] >= 1930) & (main_movie_info['Years'] <= 1939)]\n",
    "_40sfilms = main_movie_info.loc[(main_movie_info['Years'] >= 1940) & (main_movie_info['Years'] <= 1949)]\n",
    "_50sfilms = main_movie_info.loc[(main_movie_info['Years'] >= 1950) & (main_movie_info['Years'] <= 1959)]\n",
    "_60sfilms = main_movie_info.loc[(main_movie_info['Years'] >= 1960) & (main_movie_info['Years'] <= 1969)]\n",
    "_70sfilms = main_movie_info.loc[(main_movie_info['Years'] >= 1970) & (main_movie_info['Years'] <= 1979)]\n",
    "_80sfilms = main_movie_info.loc[(main_movie_info['Years'] >= 1980) & (main_movie_info['Years'] <= 1989)]\n",
    "_90sfilms = main_movie_info.loc[(main_movie_info['Years'] >= 1990) & (main_movie_info['Years'] <= 1999)]\n",
    "_00sfilms = main_movie_info.loc[(main_movie_info['Years'] >= 2000) & (main_movie_info['Years'] <= 2009)]\n",
    "_2010sfilms = main_movie_info.loc[(main_movie_info['Years'] >= 2010) & (main_movie_info['Years'] <= 2019)]\n",
    "\n",
    "# Counting movies per decade\n",
    "decades = [1920, 1930, 1940, 1950, 1960, 1970, 1980, 1999, 2000, 2010]\n",
    "movies_per_decade = [len(_20sfilms),len(_30sfilms),len(_40sfilms),len(_50sfilms),len(_60sfilms),len(_70sfilms),len(_80sfilms),len(_90sfilms),len(_00sfilms),len(_2010sfilms)]\n",
    "\n",
    "print('_________________________________________________________\\n')\n",
    "print('How many movies have been filmed in the last decades?\\n')\n",
    "print('Movies Per Decade:')\n",
    "for x,y in zip(decades,movies_per_decade):\n",
    "    print(x,y)\n",
    "print('_________________________________________________________\\n')"
   ]
  },
  {
   "cell_type": "code",
   "execution_count": 18,
   "id": "d92c9e53",
   "metadata": {},
   "outputs": [
    {
     "data": {
      "image/png": "[encoded data removed]",
      "text/plain": [
       "<Figure size 720x720 with 1 Axes>"
      ]
     },
     "metadata": {
      "needs_background": "light"
     },
     "output_type": "display_data"
    }
   ],
   "source": [
    "# Visualizing data\n",
    "x_decades = decades\n",
    "y_count = movies_per_decade\n",
    "\n",
    "# Graph attributes\n",
    "plt.figure(figsize=(10,10))\n",
    "plt.xlabel('Decades', color='purple')\n",
    "plt.ylabel('Movies', color='purple')\n",
    "plt.title('Movies Per Decade', color='indigo')\n",
    "\n",
    "# Plotting\n",
    "plt.plot(x_decades, y_count, marker = 'o', markerfacecolor = 'r', color = 'plum')\n",
    "plt.grid(True)\n",
    "plt.show()"
   ]
  },
  {
   "cell_type": "markdown",
   "id": "bc974a58",
   "metadata": {},
   "source": [
    "## Which are the most popular genres in the last decades?"
   ]
  },
  {
   "cell_type": "code",
   "execution_count": 22,
   "id": "28618763",
   "metadata": {},
   "outputs": [],
   "source": [
    "# Prepering data for visualization \n",
    "# _decades = list of pd.serie that conteins all genres of movies released per decade \n",
    "_decades_ = [_20sfilms, _30sfilms, _40sfilms, _50sfilms, _60sfilms, _70sfilms, _80sfilms, _90sfilms, _00sfilms, _2010sfilms]\n",
    "\n",
    "# Creating a dictionary for each decade, it contains the total movies filmed per genre         \n",
    "_20sgenres = dict(collections.Counter(_20sfilms.loc[:,'Genre 1']))\n",
    "_30sgenres = dict(collections.Counter(_30sfilms.loc[:,'Genre 1']))\n",
    "_40sgenres = dict(collections.Counter(_40sfilms.loc[:,'Genre 1']))\n",
    "_50sgenres = dict(collections.Counter(_50sfilms.loc[:,'Genre 1']))\n",
    "_60sgenres = dict(collections.Counter(_60sfilms.loc[:,'Genre 1']))\n",
    "_70sgenres = dict(collections.Counter(_70sfilms.loc[:,'Genre 1']))\n",
    "_80sgenres = dict(collections.Counter(_80sfilms.loc[:,'Genre 1']))\n",
    "_90sgenres = dict(collections.Counter(_90sfilms.loc[:,'Genre 1']))\n",
    "_00sgenres = dict(collections.Counter(_00sfilms.loc[:,'Genre 1']))\n",
    "_2010sgenres = dict(collections.Counter(_2010sfilms.loc[:,'Genre 1']))"
   ]
  },
  {
   "cell_type": "code",
   "execution_count": 23,
   "id": "e94ae387",
   "metadata": {},
   "outputs": [
    {
     "data": {
      "image/png": "[encoded data removed]",
      "text/plain": [
       "<Figure size 360x360 with 1 Axes>"
      ]
     },
     "metadata": {},
     "output_type": "display_data"
    },
    {
     "data": {
      "image/png": "[encoded data removed]",
      "text/plain": [
       "<Figure size 432x432 with 1 Axes>"
      ]
     },
     "metadata": {},
     "output_type": "display_data"
    },
    {
     "data": {
      "image/png": "[encoded data removed]",
      "text/plain": [
       "<Figure size 720x720 with 1 Axes>"
      ]
     },
     "metadata": {},
     "output_type": "display_data"
    },
    {
     "data": {
      "image/png": "[encoded data removed]",
      "text/plain": [
       "<Figure size 360x360 with 1 Axes>"
      ]
     },
     "metadata": {},
     "output_type": "display_data"
    }
   ],
   "source": [
    "# To visualize the most popular genres we're ploting data from the last 4 decades (80s - 2010s)\n",
    "# 80s Decade\n",
    "_80_labels = _80sgenres.keys()\n",
    "_80_values = _80sgenres.values()\n",
    "\n",
    "plt.figure(figsize=(5,5))\n",
    "plt.title('Popular movie genre in the 1980s Decade', color='indigo')\n",
    "\n",
    "# Plotting\n",
    "plt.pie(_80_values, labels = _80_labels)\n",
    "plt.show()\n",
    "\n",
    "# 90s Decade\n",
    "_90_labels = _90sgenres.keys()\n",
    "_90_values = _90sgenres.values()\n",
    "\n",
    "plt.figure(figsize=(6,6))\n",
    "plt.title('Popular movie genre in the 1990s Decade', color='indigo')\n",
    "\n",
    "# Plotting\n",
    "plt.pie(_90_values, labels = _90_labels)\n",
    "plt.show()\n",
    "\n",
    "# 2000 Decade\n",
    "_2000_labels = _00sgenres.keys()\n",
    "_2000_values = _00sgenres.values()\n",
    "\n",
    "plt.figure(figsize=(10,10))\n",
    "plt.title('Popular movie genre in the 2000s Decade', color='indigo')\n",
    "\n",
    "# Plotting\n",
    "plt.pie(_2000_values, labels = _2000_labels)\n",
    "plt.show()\n",
    "\n",
    "# 2010 Decade\n",
    "_2010_labels = _2010sgenres.keys()\n",
    "_2010_values = _2010sgenres.values()\n",
    "\n",
    "plt.figure(figsize=(5,5))\n",
    "plt.title('Popular movie genre in the 2010s Decade', color='indigo')\n",
    "\n",
    "# Plotting\n",
    "plt.pie(_2010_values, labels = _2010_labels)\n",
    "plt.show()"
   ]
  },
  {
   "cell_type": "code",
   "execution_count": 24,
   "id": "29b15d75",
   "metadata": {},
   "outputs": [
    {
     "name": "stdout",
     "output_type": "stream",
     "text": [
      "_________________________________________________________\n",
      "\n",
      "Which are the most popular genres in the last decades?\n",
      "\n",
      "As we can see in the pie plots, Action and Adventure, Comedy and Drama are the most popular Gernres in the las Decades.\n",
      "We recomend filming this type of movies.\n",
      "_________________________________________________________\n",
      "\n"
     ]
    }
   ],
   "source": [
    "print('_________________________________________________________\\n')\n",
    "print('Which are the most popular genres in the last decades?\\n')\n",
    "print('As we can see in the pie plots, Action and Adventure, Comedy and Drama are the most popular Gernres in the las Decades.')\n",
    "print('We recomend filming this type of movies.')\n",
    "print('_________________________________________________________\\n')"
   ]
  },
  {
   "cell_type": "markdown",
   "id": "e6fe87f8",
   "metadata": {},
   "source": [
    "### What are the most popular themes per genre?"
   ]
  },
  {
   "cell_type": "markdown",
   "id": "0fdf9aac",
   "metadata": {},
   "source": [
    "#### In order to find the most popular content we joined the synopsis per genre and cleand the vocabulary that is used. Finaly, we count the repetitions of each word and sort them to obtain the most popular \"key words\" to create our recomendations."
   ]
  },
  {
   "cell_type": "code",
   "execution_count": 25,
   "id": "8bacbff7",
   "metadata": {},
   "outputs": [
    {
     "name": "stderr",
     "output_type": "stream",
     "text": [
      "[nltk_data] Downloading package stopwords to\n",
      "[nltk_data]     C:\\Users\\fmartinezflores\\AppData\\Roaming\\nltk_data...\n",
      "[nltk_data]   Package stopwords is already up-to-date!\n"
     ]
    }
   ],
   "source": [
    "# Importing librarys for text cleaning\n",
    "import re\n",
    "import math\n",
    "import nltk \n",
    "nltk.download('stopwords')\n",
    "from nltk.corpus import stopwords"
   ]
  },
  {
   "cell_type": "code",
   "execution_count": 26,
   "id": "31f55e0b",
   "metadata": {},
   "outputs": [],
   "source": [
    "# Cleaning synopsis\n",
    "def clean_synopsis(word, stop_words):\n",
    "    word = word.lower()\n",
    "    words = re.findall('[a-záéíóúüñ]+', word)# Making sure synopsis words dont have a-záéíóúüñ \n",
    "    new_words = [w for w in words if ((not w in stop_words) and len(w)>=3 and len(w)<=24)] # Keeping only words ->\n",
    "    return new_words                        #  different from stop words and also removing short or long words\n",
    "                                            # this function returns the cleaned words from the synopsis\n",
    "    \n",
    "# Creating a vocabulary based on synopsis with matching Genre and Decade\n",
    "def create_vocabulary(decade_genre_df):\n",
    "    vocabulary = []    # Vocabulary joins all synopsis words with matching Genre and Decade \n",
    "    for synopsis in decade_genre_df :\n",
    "        s = clean_synopsis(synopsis.strip(),s_w) # striping word from synopsis, this will clean a word at a time\n",
    "        vocabulary.extend(s)\n",
    "\n",
    "    return dict(collections.Counter(vocabulary)) # returns a dictionary like: key -> word, value -> repetitions of that word \n",
    "\n",
    "s_w = stopwords.words('english')\n",
    "#stops = set(stopwords.words('english')) # Uncoment to print ount english stop words \n",
    "#print(stops)\n",
    "\n",
    "# more words that we eant to ignore to refine our vocabulary\n",
    "s_w.extend(['film','one','two','story','director','new','action','adventure','peter', 'john', 'back',\n",
    "            'world','man', 'well','life', 'also', 'first','get','comedy','however', 'become', 'david','allen','jack'\n",
    "           'true', 'award', 'academy','deckard','willie', 'even','celie', 'loretta', 'whose','lynn','james'])"
   ]
  },
  {
   "cell_type": "code",
   "execution_count": 27,
   "id": "4ce69bc7",
   "metadata": {},
   "outputs": [],
   "source": [
    "# synopsis with matching Genre and Decade\n",
    "\n",
    "# Action and Adventure\n",
    "#_80s_action_Adventure\n",
    "_80s_action_Adventure = _80sfilms.loc[_80sfilms['Genre 1'] == 'Action and Adventure',\"Synopsis\"]\n",
    "_80s_acction_adventure_voc = create_vocabulary(_80s_action_Adventure) # Calling function to create vocabulary\n",
    "\n",
    "#_90s_action_Adventure \n",
    "_90s_action_Adventure = _90sfilms.loc[_90sfilms['Genre 1'] == 'Action and Adventure',\"Synopsis\"]\n",
    "_90s_acction_adventure_voc = create_vocabulary(_90s_action_Adventure)\n",
    "\n",
    "#_00s_action_Adventure \n",
    "_00s_action_Adventure = _00sfilms.loc[_00sfilms['Genre 1'] == 'Action and Adventure',\"Synopsis\"]\n",
    "_00s_acction_adventure_voc = create_vocabulary(_00s_action_Adventure)\n",
    "\n",
    "#_00s_action_Adventure \n",
    "_2010s_action_Adventure = _2010sfilms.loc[_2010sfilms['Genre 1'] == 'Action and Adventure',\"Synopsis\"]\n",
    "_2010s_acction_adventure_voc = create_vocabulary(_2010s_action_Adventure)\n",
    "\n",
    "# ----------------------------------------------------------------------------------------------------------------\n",
    "#_80s_Comedy\n",
    "_80s_Comedy = _80sfilms.loc[_80sfilms['Genre 1'] == 'Comedy',\"Synopsis\"]\n",
    "_80s_Comedy_voc = create_vocabulary(_80s_Comedy)\n",
    "\n",
    "#_90s_Comedy \n",
    "_90s_Comedy = _90sfilms.loc[_90sfilms['Genre 1'] == 'Comedy',\"Synopsis\"]\n",
    "_90s_Comedy_voc = create_vocabulary(_90s_Comedy)\n",
    "\n",
    "#_00s_Comedy \n",
    "_00s_Comedy = _00sfilms.loc[_00sfilms['Genre 1'] == 'Comedy',\"Synopsis\"]\n",
    "_00s_Comedy_voc = create_vocabulary(_00s_Comedy)\n",
    "\n",
    "#_00s_Comedy \n",
    "_2010s_Comedy = _2010sfilms.loc[_2010sfilms['Genre 1'] == 'Comedy',\"Synopsis\"]\n",
    "_2010s_Comedy_voc = create_vocabulary(_2010s_Comedy)\n",
    "\n",
    "# ----------------------------------------------------------------------------------------------------------------\n",
    "#_80s_Drama\n",
    "_80s_Drama = _80sfilms.loc[_80sfilms['Genre 1'] == 'Drama',\"Synopsis\"]\n",
    "_80s_Drama_voc = create_vocabulary(_80s_Drama)\n",
    "\n",
    "#_90s_Drama \n",
    "_90s_Drama = _90sfilms.loc[_90sfilms['Genre 1'] == 'Drama',\"Synopsis\"]\n",
    "_90s_Drama_voc = create_vocabulary(_90s_Drama)\n",
    "\n",
    "#_00s_Drama\n",
    "_00s_Drama = _00sfilms.loc[_00sfilms['Genre 1'] == 'Drama',\"Synopsis\"]\n",
    "_00s_Drama_voc = create_vocabulary(_00s_Drama)\n",
    "\n",
    "#_00s_Drama\n",
    "_2010s_Drama = _2010sfilms.loc[_2010sfilms['Genre 1'] == 'Drama',\"Synopsis\"]\n",
    "_2010s_Drama_voc = create_vocabulary(_2010s_Drama)"
   ]
  },
  {
   "cell_type": "code",
   "execution_count": 28,
   "id": "833d0a1f",
   "metadata": {},
   "outputs": [],
   "source": [
    "def most_popular_themes(vocabulary):\n",
    "    _counter = 0\n",
    "    popular_themes = []\n",
    "    for word in sorted(vocabulary, key=vocabulary.get, reverse=True): # Sorting vocabulary dict in order to get the most \n",
    "        popular_themes.append(word)                                   # repeted words: \"popular words\"\n",
    "        _counter += 1\n",
    "        if _counter == 5: # Saving only the 5 most popular words in our vocabulary\n",
    "            break\n",
    "    \n",
    "    return popular_themes"
   ]
  },
  {
   "cell_type": "code",
   "execution_count": 29,
   "id": "32ee8c2d",
   "metadata": {},
   "outputs": [
    {
     "name": "stdout",
     "output_type": "stream",
     "text": [
      "Most popular words in Acction Adventure Vocabulary\n",
      "['time', 'stars', 'police', 'superman', 'three']\n",
      "['wife', 'family', 'cop', 'time', 'war']\n",
      "['way', 'star', 'young', 'city', 'thriller']\n",
      "['together', 'way', 'help', 'former', 'team']\n",
      "_______________________________________________\n",
      "Most popular words in Comedy Vocabulary\n",
      "['town', 'begins', 'young', 'friend', 'pfeiffer']\n",
      "['young', 'school', 'like', 'makes', 'tom']\n",
      "['family', 'love', 'begins', 'day', 'soon']\n",
      "['jack', 'family', 'time', 'friends', 'way']\n",
      "_______________________________________________\n",
      "Most popular words in Drama Vocabulary\n",
      "['years', 'young', 'husband', 'woman', 'mother']\n",
      "['family', 'drama', 'time', 'young', 'begins']\n",
      "['team', 'young', 'coach', 'star', 'family']\n",
      "['love', 'family', 'true', 'based', 'years']\n",
      "_______________________________________________\n"
     ]
    }
   ],
   "source": [
    "# Popular themes in Action Adventure movies\n",
    "most_popular_80s_acction_adventure = most_popular_themes(_80s_acction_adventure_voc)\n",
    "most_popular_90s_acction_adventure = most_popular_themes(_90s_acction_adventure_voc)\n",
    "most_popular_00s_acction_adventure = most_popular_themes(_00s_acction_adventure_voc)\n",
    "most_popular_2010s_acction_adventure = most_popular_themes(_2010s_acction_adventure_voc)\n",
    "\n",
    "# Popular themes in Comedy movies\n",
    "most_popular_80s_Comedy = most_popular_themes(_80s_Comedy_voc)\n",
    "most_popular_90s_Comedy = most_popular_themes(_90s_Comedy_voc)\n",
    "most_popular_00s_Comedy= most_popular_themes(_00s_Comedy_voc)\n",
    "most_popular_2010s_Comedy = most_popular_themes(_2010s_Comedy_voc)\n",
    "\n",
    "# Popular themes in Drama movies\n",
    "most_popular_80s_Drama = most_popular_themes(_80s_Drama_voc)\n",
    "most_popular_90s_Drama = most_popular_themes(_90s_Drama_voc)\n",
    "most_popular_00s_Drama = most_popular_themes(_00s_Drama_voc)\n",
    "most_popular_2010s_Drama = most_popular_themes(_2010s_Drama_voc)\n",
    "\n",
    "# Printing results of the most popular words per genre\n",
    "print('Most popular words in Acction Adventure Vocabulary')\n",
    "print(most_popular_80s_acction_adventure)\n",
    "print(most_popular_90s_acction_adventure)\n",
    "print(most_popular_00s_acction_adventure)\n",
    "print(most_popular_2010s_acction_adventure)\n",
    "print('_______________________________________________')\n",
    "\n",
    "print('Most popular words in Comedy Vocabulary')\n",
    "print(most_popular_80s_Comedy)\n",
    "print(most_popular_90s_Comedy)\n",
    "print(most_popular_00s_Comedy)\n",
    "print(most_popular_2010s_Comedy)\n",
    "print('_______________________________________________')\n",
    "\n",
    "print('Most popular words in Drama Vocabulary')\n",
    "print(most_popular_80s_Drama)\n",
    "print(most_popular_90s_Drama)\n",
    "print(most_popular_00s_Drama)\n",
    "print(most_popular_2010s_Drama)\n",
    "print('_______________________________________________')\n"
   ]
  },
  {
   "cell_type": "markdown",
   "id": "cc37d2d7",
   "metadata": {},
   "source": [
    "### Our recomendations"
   ]
  },
  {
   "cell_type": "code",
   "execution_count": 30,
   "id": "a8e9023c",
   "metadata": {},
   "outputs": [
    {
     "data": {
      "text/plain": [
       "'\\nBased on the insights founded in the Analysis on the data provided, we establish that the best opctions for filming \\n1)  Category: Acction/Adventure. \\n    Theme: cops with superpowers fighting a civil war in a big city.\\n\\n2)  Category: Comedy \\n    Theme: New kid arrives to high shcool, finds new love and seeks to please his friends. \\n\\n2)  Category: Drama\\n    Theme: Thue based story of a young family. \\n'"
      ]
     },
     "execution_count": 30,
     "metadata": {},
     "output_type": "execute_result"
    }
   ],
   "source": [
    "\"\"\"\n",
    "Based on the insights founded in the Analysis on the data provided, we establish that the best opctions for filming \n",
    "1)  Category: Acction/Adventure. \n",
    "    Theme: cops with superpowers fighting a civil war in a big city.\n",
    "\n",
    "2)  Category: Comedy \n",
    "    Theme: New kid arrives to high shcool, finds new love and seeks to please his friends. \n",
    "\n",
    "2)  Category: Drama\n",
    "    Theme: Thue based story of a young family. \n",
    "\"\"\""
   ]
  },
  {
   "cell_type": "markdown",
   "id": "29e06df9",
   "metadata": {},
   "source": [
    "## Enrique"
   ]
  },
  {
   "cell_type": "code",
   "execution_count": null,
   "id": "4af012b1",
   "metadata": {},
   "outputs": [],
   "source": [
    "# Your code here - remember to use markdown cells for comments as well!"
   ]
  },
  {
   "cell_type": "markdown",
   "id": "81b5fd64",
   "metadata": {},
   "source": [
    "## John"
   ]
  },
  {
   "cell_type": "code",
   "execution_count": 1,
   "id": "f603a74f",
   "metadata": {
    "scrolled": false
   },
   "outputs": [
    {
     "data": {
      "text/html": [
       "<div>\n",
       "<style scoped>\n",
       "    .dataframe tbody tr th:only-of-type {\n",
       "        vertical-align: middle;\n",
       "    }\n",
       "\n",
       "    .dataframe tbody tr th {\n",
       "        vertical-align: top;\n",
       "    }\n",
       "\n",
       "    .dataframe thead th {\n",
       "        text-align: right;\n",
       "    }\n",
       "</style>\n",
       "<table border=\"1\" class=\"dataframe\">\n",
       "  <thead>\n",
       "    <tr style=\"text-align: right;\">\n",
       "      <th></th>\n",
       "      <th>title</th>\n",
       "      <th>studio</th>\n",
       "      <th>domestic_gross</th>\n",
       "      <th>foreign_gross</th>\n",
       "      <th>year</th>\n",
       "    </tr>\n",
       "  </thead>\n",
       "  <tbody>\n",
       "    <tr>\n",
       "      <th>0</th>\n",
       "      <td>Toy Story 3</td>\n",
       "      <td>BV</td>\n",
       "      <td>415000000</td>\n",
       "      <td>652000000.0</td>\n",
       "      <td>2010</td>\n",
       "    </tr>\n",
       "    <tr>\n",
       "      <th>1</th>\n",
       "      <td>Alice in Wonderland (2010)</td>\n",
       "      <td>BV</td>\n",
       "      <td>334200000</td>\n",
       "      <td>691300000.0</td>\n",
       "      <td>2010</td>\n",
       "    </tr>\n",
       "    <tr>\n",
       "      <th>2</th>\n",
       "      <td>Harry Potter and the Deathly Hallows Part 1</td>\n",
       "      <td>WB</td>\n",
       "      <td>296000000</td>\n",
       "      <td>664300000.0</td>\n",
       "      <td>2010</td>\n",
       "    </tr>\n",
       "    <tr>\n",
       "      <th>3</th>\n",
       "      <td>Inception</td>\n",
       "      <td>WB</td>\n",
       "      <td>292600000</td>\n",
       "      <td>535700000.0</td>\n",
       "      <td>2010</td>\n",
       "    </tr>\n",
       "    <tr>\n",
       "      <th>4</th>\n",
       "      <td>Shrek Forever After</td>\n",
       "      <td>P/DW</td>\n",
       "      <td>238700000</td>\n",
       "      <td>513900000.0</td>\n",
       "      <td>2010</td>\n",
       "    </tr>\n",
       "    <tr>\n",
       "      <th>...</th>\n",
       "      <td>...</td>\n",
       "      <td>...</td>\n",
       "      <td>...</td>\n",
       "      <td>...</td>\n",
       "      <td>...</td>\n",
       "    </tr>\n",
       "    <tr>\n",
       "      <th>3382</th>\n",
       "      <td>The Quake</td>\n",
       "      <td>Magn.</td>\n",
       "      <td>6200</td>\n",
       "      <td>0.0</td>\n",
       "      <td>2018</td>\n",
       "    </tr>\n",
       "    <tr>\n",
       "      <th>3383</th>\n",
       "      <td>Edward II (2018 re-release)</td>\n",
       "      <td>FM</td>\n",
       "      <td>4800</td>\n",
       "      <td>0.0</td>\n",
       "      <td>2018</td>\n",
       "    </tr>\n",
       "    <tr>\n",
       "      <th>3384</th>\n",
       "      <td>El Pacto</td>\n",
       "      <td>Sony</td>\n",
       "      <td>2500</td>\n",
       "      <td>0.0</td>\n",
       "      <td>2018</td>\n",
       "    </tr>\n",
       "    <tr>\n",
       "      <th>3385</th>\n",
       "      <td>The Swan</td>\n",
       "      <td>Synergetic</td>\n",
       "      <td>2400</td>\n",
       "      <td>0.0</td>\n",
       "      <td>2018</td>\n",
       "    </tr>\n",
       "    <tr>\n",
       "      <th>3386</th>\n",
       "      <td>An Actor Prepares</td>\n",
       "      <td>Grav.</td>\n",
       "      <td>1700</td>\n",
       "      <td>0.0</td>\n",
       "      <td>2018</td>\n",
       "    </tr>\n",
       "  </tbody>\n",
       "</table>\n",
       "<p>3387 rows × 5 columns</p>\n",
       "</div>"
      ],
      "text/plain": [
       "                                            title      studio  domestic_gross  \\\n",
       "0                                     Toy Story 3          BV       415000000   \n",
       "1                      Alice in Wonderland (2010)          BV       334200000   \n",
       "2     Harry Potter and the Deathly Hallows Part 1          WB       296000000   \n",
       "3                                       Inception          WB       292600000   \n",
       "4                             Shrek Forever After        P/DW       238700000   \n",
       "...                                           ...         ...             ...   \n",
       "3382                                    The Quake       Magn.            6200   \n",
       "3383                  Edward II (2018 re-release)          FM            4800   \n",
       "3384                                     El Pacto        Sony            2500   \n",
       "3385                                     The Swan  Synergetic            2400   \n",
       "3386                            An Actor Prepares       Grav.            1700   \n",
       "\n",
       "      foreign_gross  year  \n",
       "0       652000000.0  2010  \n",
       "1       691300000.0  2010  \n",
       "2       664300000.0  2010  \n",
       "3       535700000.0  2010  \n",
       "4       513900000.0  2010  \n",
       "...             ...   ...  \n",
       "3382            0.0  2018  \n",
       "3383            0.0  2018  \n",
       "3384            0.0  2018  \n",
       "3385            0.0  2018  \n",
       "3386            0.0  2018  \n",
       "\n",
       "[3387 rows x 5 columns]"
      ]
     },
     "execution_count": 1,
     "metadata": {},
     "output_type": "execute_result"
    }
   ],
   "source": [
    "## Data Clean Up\n",
    "# import all necessary packages\n",
    "import csv\n",
    "import pandas as pd\n",
    "import numpy as np\n",
    "\n",
    "# Opening + Reading the Movie_Gross CSV file\n",
    "tmdb_movie_gross = pd.read_csv('DataBases/bom.movie_gross.csv', encoding = 'utf-8')\n",
    "\n",
    "# Remove duplicate records\n",
    "tmdb_movie_gross = tmdb_movie_gross.drop_duplicates()\n",
    "\n",
    "# Replace NaN / null values to a \"0\" because we're reviewing gross/money. no value = no money generated in domestic gross\n",
    "## Standardize domestic_gross into an int\n",
    "tmdb_movie_gross['domestic_gross'] = tmdb_movie_gross['domestic_gross'].fillna(0)\n",
    "tmdb_movie_gross['domestic_gross'] = tmdb_movie_gross['domestic_gross'].astype(int)\n",
    "\n",
    "# Standardize foreign_gross into a float because you cannot turn decimals into an int\n",
    "## Inorder to change values into a float, you must get rid of the commas\n",
    "### Replace NaN / null values to a \"0\" because we're reviewing gross/money. no value = no money generated in foreign_gross\n",
    "tmdb_movie_gross['foreign_gross'] = tmdb_movie_gross['foreign_gross'].replace(\",\", \"\", regex=True)\n",
    "tmdb_movie_gross['foreign_gross'] = tmdb_movie_gross['foreign_gross'].astype(float)\n",
    "tmdb_movie_gross['foreign_gross'] = tmdb_movie_gross['foreign_gross'].fillna(0)\n",
    "\n",
    "# Because there were 5 entries that were null in Studio, we change the null value to a string that says \"N/A\" which just means that we don't know the studio that produced the film\n",
    "tmdb_movie_gross['studio'] = tmdb_movie_gross['studio'].fillna('N/A')\n",
    "\n",
    "#Display Movie_Gross Data\n",
    "tmdb_movie_gross"
   ]
  },
  {
   "cell_type": "code",
   "execution_count": 2,
   "id": "be29c5c9",
   "metadata": {},
   "outputs": [
    {
     "name": "stdout",
     "output_type": "stream",
     "text": [
      "<class 'pandas.core.frame.DataFrame'>\n",
      "Int64Index: 3387 entries, 0 to 3386\n",
      "Data columns (total 5 columns):\n",
      " #   Column          Non-Null Count  Dtype  \n",
      "---  ------          --------------  -----  \n",
      " 0   title           3387 non-null   object \n",
      " 1   studio          3387 non-null   object \n",
      " 2   domestic_gross  3387 non-null   int32  \n",
      " 3   foreign_gross   3387 non-null   float64\n",
      " 4   year            3387 non-null   int64  \n",
      "dtypes: float64(1), int32(1), int64(1), object(2)\n",
      "memory usage: 145.5+ KB\n"
     ]
    }
   ],
   "source": [
    "#display info, type, and # of values in each column\n",
    "tmdb_movie_gross.info()"
   ]
  },
  {
   "cell_type": "code",
   "execution_count": 3,
   "id": "62eb53c0",
   "metadata": {},
   "outputs": [
    {
     "data": {
      "text/plain": [
       "False    3387\n",
       "dtype: int64"
      ]
     },
     "execution_count": 3,
     "metadata": {},
     "output_type": "execute_result"
    }
   ],
   "source": [
    "#test to see if all columns have the same ammount of values\n",
    "tmdb_movie_gross.duplicated().value_counts() "
   ]
  },
  {
   "cell_type": "code",
   "execution_count": 4,
   "id": "8e7b3072",
   "metadata": {},
   "outputs": [
    {
     "data": {
      "text/plain": [
       "title             0\n",
       "studio            0\n",
       "domestic_gross    0\n",
       "foreign_gross     0\n",
       "year              0\n",
       "dtype: int64"
      ]
     },
     "execution_count": 4,
     "metadata": {},
     "output_type": "execute_result"
    }
   ],
   "source": [
    "#test to see if there are NaN values\n",
    "tmdb_movie_gross.isnull().sum()"
   ]
  },
  {
   "cell_type": "code",
   "execution_count": 5,
   "id": "8715c4a0",
   "metadata": {},
   "outputs": [
    {
     "data": {
      "text/plain": [
       "\"Peer Programing/Assisting with Elliot's Branch for Data Viz\""
      ]
     },
     "execution_count": 5,
     "metadata": {},
     "output_type": "execute_result"
    }
   ],
   "source": [
    "\"Peer Programing/Assisting with Elliot's Branch for Data Viz\""
   ]
  },
  {
   "cell_type": "code",
   "execution_count": 6,
   "id": "24465b91",
   "metadata": {},
   "outputs": [
    {
     "data": {
      "text/html": [
       "<div>\n",
       "<style scoped>\n",
       "    .dataframe tbody tr th:only-of-type {\n",
       "        vertical-align: middle;\n",
       "    }\n",
       "\n",
       "    .dataframe tbody tr th {\n",
       "        vertical-align: top;\n",
       "    }\n",
       "\n",
       "    .dataframe thead th {\n",
       "        text-align: right;\n",
       "    }\n",
       "</style>\n",
       "<table border=\"1\" class=\"dataframe\">\n",
       "  <thead>\n",
       "    <tr style=\"text-align: right;\">\n",
       "      <th></th>\n",
       "      <th>genre_ids</th>\n",
       "      <th>id</th>\n",
       "      <th>original_language</th>\n",
       "      <th>popularity</th>\n",
       "      <th>release_date</th>\n",
       "      <th>title</th>\n",
       "      <th>vote_average</th>\n",
       "      <th>vote_count</th>\n",
       "    </tr>\n",
       "  </thead>\n",
       "  <tbody>\n",
       "    <tr>\n",
       "      <th>0</th>\n",
       "      <td>[12, 14, 10751]</td>\n",
       "      <td>12444</td>\n",
       "      <td>en</td>\n",
       "      <td>33.533</td>\n",
       "      <td>2010-11-19</td>\n",
       "      <td>Harry Potter and the Deathly Hallows: Part 1</td>\n",
       "      <td>7.7</td>\n",
       "      <td>10788</td>\n",
       "    </tr>\n",
       "    <tr>\n",
       "      <th>1</th>\n",
       "      <td>[14, 12, 16, 10751]</td>\n",
       "      <td>10191</td>\n",
       "      <td>en</td>\n",
       "      <td>28.734</td>\n",
       "      <td>2010-03-26</td>\n",
       "      <td>How to Train Your Dragon</td>\n",
       "      <td>7.7</td>\n",
       "      <td>7610</td>\n",
       "    </tr>\n",
       "    <tr>\n",
       "      <th>2</th>\n",
       "      <td>[12, 28, 878]</td>\n",
       "      <td>10138</td>\n",
       "      <td>en</td>\n",
       "      <td>28.515</td>\n",
       "      <td>2010-05-07</td>\n",
       "      <td>Iron Man 2</td>\n",
       "      <td>6.8</td>\n",
       "      <td>12368</td>\n",
       "    </tr>\n",
       "    <tr>\n",
       "      <th>3</th>\n",
       "      <td>[16, 35, 10751]</td>\n",
       "      <td>862</td>\n",
       "      <td>en</td>\n",
       "      <td>28.005</td>\n",
       "      <td>1995-11-22</td>\n",
       "      <td>Toy Story</td>\n",
       "      <td>7.9</td>\n",
       "      <td>10174</td>\n",
       "    </tr>\n",
       "    <tr>\n",
       "      <th>4</th>\n",
       "      <td>[28, 878, 12]</td>\n",
       "      <td>27205</td>\n",
       "      <td>en</td>\n",
       "      <td>27.920</td>\n",
       "      <td>2010-07-16</td>\n",
       "      <td>Inception</td>\n",
       "      <td>8.3</td>\n",
       "      <td>22186</td>\n",
       "    </tr>\n",
       "    <tr>\n",
       "      <th>...</th>\n",
       "      <td>...</td>\n",
       "      <td>...</td>\n",
       "      <td>...</td>\n",
       "      <td>...</td>\n",
       "      <td>...</td>\n",
       "      <td>...</td>\n",
       "      <td>...</td>\n",
       "      <td>...</td>\n",
       "    </tr>\n",
       "    <tr>\n",
       "      <th>26512</th>\n",
       "      <td>[27, 18]</td>\n",
       "      <td>488143</td>\n",
       "      <td>en</td>\n",
       "      <td>0.600</td>\n",
       "      <td>2018-10-13</td>\n",
       "      <td>Laboratory Conditions</td>\n",
       "      <td>0.0</td>\n",
       "      <td>1</td>\n",
       "    </tr>\n",
       "    <tr>\n",
       "      <th>26513</th>\n",
       "      <td>[18, 53]</td>\n",
       "      <td>485975</td>\n",
       "      <td>en</td>\n",
       "      <td>0.600</td>\n",
       "      <td>2018-05-01</td>\n",
       "      <td>_EXHIBIT_84xxx_</td>\n",
       "      <td>0.0</td>\n",
       "      <td>1</td>\n",
       "    </tr>\n",
       "    <tr>\n",
       "      <th>26514</th>\n",
       "      <td>[14, 28, 12]</td>\n",
       "      <td>381231</td>\n",
       "      <td>en</td>\n",
       "      <td>0.600</td>\n",
       "      <td>2018-10-01</td>\n",
       "      <td>The Last One</td>\n",
       "      <td>0.0</td>\n",
       "      <td>1</td>\n",
       "    </tr>\n",
       "    <tr>\n",
       "      <th>26515</th>\n",
       "      <td>[10751, 12, 28]</td>\n",
       "      <td>366854</td>\n",
       "      <td>en</td>\n",
       "      <td>0.600</td>\n",
       "      <td>2018-06-22</td>\n",
       "      <td>Trailer Made</td>\n",
       "      <td>0.0</td>\n",
       "      <td>1</td>\n",
       "    </tr>\n",
       "    <tr>\n",
       "      <th>26516</th>\n",
       "      <td>[53, 27]</td>\n",
       "      <td>309885</td>\n",
       "      <td>en</td>\n",
       "      <td>0.600</td>\n",
       "      <td>2018-10-05</td>\n",
       "      <td>The Church</td>\n",
       "      <td>0.0</td>\n",
       "      <td>1</td>\n",
       "    </tr>\n",
       "  </tbody>\n",
       "</table>\n",
       "<p>25497 rows × 8 columns</p>\n",
       "</div>"
      ],
      "text/plain": [
       "                 genre_ids      id original_language  popularity release_date  \\\n",
       "0          [12, 14, 10751]   12444                en      33.533   2010-11-19   \n",
       "1      [14, 12, 16, 10751]   10191                en      28.734   2010-03-26   \n",
       "2            [12, 28, 878]   10138                en      28.515   2010-05-07   \n",
       "3          [16, 35, 10751]     862                en      28.005   1995-11-22   \n",
       "4            [28, 878, 12]   27205                en      27.920   2010-07-16   \n",
       "...                    ...     ...               ...         ...          ...   \n",
       "26512             [27, 18]  488143                en       0.600   2018-10-13   \n",
       "26513             [18, 53]  485975                en       0.600   2018-05-01   \n",
       "26514         [14, 28, 12]  381231                en       0.600   2018-10-01   \n",
       "26515      [10751, 12, 28]  366854                en       0.600   2018-06-22   \n",
       "26516             [53, 27]  309885                en       0.600   2018-10-05   \n",
       "\n",
       "                                              title  vote_average  vote_count  \n",
       "0      Harry Potter and the Deathly Hallows: Part 1           7.7       10788  \n",
       "1                          How to Train Your Dragon           7.7        7610  \n",
       "2                                        Iron Man 2           6.8       12368  \n",
       "3                                         Toy Story           7.9       10174  \n",
       "4                                         Inception           8.3       22186  \n",
       "...                                             ...           ...         ...  \n",
       "26512                         Laboratory Conditions           0.0           1  \n",
       "26513                               _EXHIBIT_84xxx_           0.0           1  \n",
       "26514                                  The Last One           0.0           1  \n",
       "26515                                  Trailer Made           0.0           1  \n",
       "26516                                    The Church           0.0           1  \n",
       "\n",
       "[25497 rows x 8 columns]"
      ]
     },
     "execution_count": 6,
     "metadata": {},
     "output_type": "execute_result"
    }
   ],
   "source": [
    "## Coppied Over for Review\n",
    "\n",
    "#import needed libraries\n",
    "import pandas as pd\n",
    "\n",
    "#read tmdb file, make sure values are in the same format, and drop null values\n",
    "tmdb_movie_db = pd.read_csv('databases/tmdb.movies.csv', na_filter=True, na_values='[]', encoding = 'utf-8', index_col = 0)\n",
    "tmdb_movie_db.dropna()\n",
    "#drop extra title column\n",
    "tmdb_movie_db = tmdb_movie_db.drop('original_title', axis = 1)\n",
    "#standardize release date into date format\n",
    "tmdb_movie_db['release_date'] = pd.to_datetime(tmdb_movie_db['release_date'])\n",
    "#strip whitespace from title\n",
    "tmdb_movie_db['title'] = tmdb_movie_db['title'].str.strip()\n",
    "#remove duplicates\n",
    "tmdb_movie_db = tmdb_movie_db.drop_duplicates()\n",
    "#convert genre_ids to name\n",
    "#df.where()\n",
    "\n",
    "tmdb_movie_db"
   ]
  },
  {
   "cell_type": "code",
   "execution_count": 7,
   "id": "3c6821cd",
   "metadata": {},
   "outputs": [
    {
     "data": {
      "text/html": [
       "<div>\n",
       "<style scoped>\n",
       "    .dataframe tbody tr th:only-of-type {\n",
       "        vertical-align: middle;\n",
       "    }\n",
       "\n",
       "    .dataframe tbody tr th {\n",
       "        vertical-align: top;\n",
       "    }\n",
       "\n",
       "    .dataframe thead th {\n",
       "        text-align: right;\n",
       "    }\n",
       "</style>\n",
       "<table border=\"1\" class=\"dataframe\">\n",
       "  <thead>\n",
       "    <tr style=\"text-align: right;\">\n",
       "      <th></th>\n",
       "      <th>release_date</th>\n",
       "      <th>movie</th>\n",
       "      <th>production_budget</th>\n",
       "      <th>domestic_gross</th>\n",
       "      <th>worldwide_gross</th>\n",
       "      <th>dom_gross / budget</th>\n",
       "      <th>ww_gross / budget</th>\n",
       "      <th>dom_profit</th>\n",
       "      <th>profit</th>\n",
       "    </tr>\n",
       "    <tr>\n",
       "      <th>id</th>\n",
       "      <th></th>\n",
       "      <th></th>\n",
       "      <th></th>\n",
       "      <th></th>\n",
       "      <th></th>\n",
       "      <th></th>\n",
       "      <th></th>\n",
       "      <th></th>\n",
       "      <th></th>\n",
       "    </tr>\n",
       "  </thead>\n",
       "  <tbody>\n",
       "    <tr>\n",
       "      <th>1</th>\n",
       "      <td>2009-12-18</td>\n",
       "      <td>Avatar</td>\n",
       "      <td>425000000</td>\n",
       "      <td>760507625</td>\n",
       "      <td>2.776345e+09</td>\n",
       "      <td>1.789430</td>\n",
       "      <td>6.532577</td>\n",
       "      <td>335507625</td>\n",
       "      <td>2.351345e+09</td>\n",
       "    </tr>\n",
       "    <tr>\n",
       "      <th>2</th>\n",
       "      <td>2011-05-20</td>\n",
       "      <td>Pirates of the Caribbean: On Stranger Tides</td>\n",
       "      <td>410600000</td>\n",
       "      <td>241063875</td>\n",
       "      <td>1.045664e+09</td>\n",
       "      <td>0.587101</td>\n",
       "      <td>2.546673</td>\n",
       "      <td>-169536125</td>\n",
       "      <td>6.350639e+08</td>\n",
       "    </tr>\n",
       "    <tr>\n",
       "      <th>3</th>\n",
       "      <td>2019-06-07</td>\n",
       "      <td>Dark Phoenix</td>\n",
       "      <td>350000000</td>\n",
       "      <td>42762350</td>\n",
       "      <td>1.497624e+08</td>\n",
       "      <td>0.122178</td>\n",
       "      <td>0.427892</td>\n",
       "      <td>-307237650</td>\n",
       "      <td>-2.002376e+08</td>\n",
       "    </tr>\n",
       "    <tr>\n",
       "      <th>4</th>\n",
       "      <td>2015-05-01</td>\n",
       "      <td>Avengers: Age of Ultron</td>\n",
       "      <td>330600000</td>\n",
       "      <td>459005868</td>\n",
       "      <td>1.403014e+09</td>\n",
       "      <td>1.388403</td>\n",
       "      <td>4.243841</td>\n",
       "      <td>128405868</td>\n",
       "      <td>1.072414e+09</td>\n",
       "    </tr>\n",
       "    <tr>\n",
       "      <th>5</th>\n",
       "      <td>2017-12-15</td>\n",
       "      <td>Star Wars Ep. VIII: The Last Jedi</td>\n",
       "      <td>317000000</td>\n",
       "      <td>620181382</td>\n",
       "      <td>1.316722e+09</td>\n",
       "      <td>1.956408</td>\n",
       "      <td>4.153696</td>\n",
       "      <td>303181382</td>\n",
       "      <td>9.997217e+08</td>\n",
       "    </tr>\n",
       "    <tr>\n",
       "      <th>...</th>\n",
       "      <td>...</td>\n",
       "      <td>...</td>\n",
       "      <td>...</td>\n",
       "      <td>...</td>\n",
       "      <td>...</td>\n",
       "      <td>...</td>\n",
       "      <td>...</td>\n",
       "      <td>...</td>\n",
       "      <td>...</td>\n",
       "    </tr>\n",
       "    <tr>\n",
       "      <th>78</th>\n",
       "      <td>2018-12-31</td>\n",
       "      <td>Red 11</td>\n",
       "      <td>7000</td>\n",
       "      <td>0</td>\n",
       "      <td>0.000000e+00</td>\n",
       "      <td>0.000000</td>\n",
       "      <td>0.000000</td>\n",
       "      <td>-7000</td>\n",
       "      <td>-7.000000e+03</td>\n",
       "    </tr>\n",
       "    <tr>\n",
       "      <th>79</th>\n",
       "      <td>1999-04-02</td>\n",
       "      <td>Following</td>\n",
       "      <td>6000</td>\n",
       "      <td>48482</td>\n",
       "      <td>2.404950e+05</td>\n",
       "      <td>8.080333</td>\n",
       "      <td>40.082500</td>\n",
       "      <td>42482</td>\n",
       "      <td>2.344950e+05</td>\n",
       "    </tr>\n",
       "    <tr>\n",
       "      <th>80</th>\n",
       "      <td>2005-07-13</td>\n",
       "      <td>Return to the Land of Wonders</td>\n",
       "      <td>5000</td>\n",
       "      <td>1338</td>\n",
       "      <td>1.338000e+03</td>\n",
       "      <td>0.267600</td>\n",
       "      <td>0.267600</td>\n",
       "      <td>-3662</td>\n",
       "      <td>-3.662000e+03</td>\n",
       "    </tr>\n",
       "    <tr>\n",
       "      <th>81</th>\n",
       "      <td>2015-09-29</td>\n",
       "      <td>A Plague So Pleasant</td>\n",
       "      <td>1400</td>\n",
       "      <td>0</td>\n",
       "      <td>0.000000e+00</td>\n",
       "      <td>0.000000</td>\n",
       "      <td>0.000000</td>\n",
       "      <td>-1400</td>\n",
       "      <td>-1.400000e+03</td>\n",
       "    </tr>\n",
       "    <tr>\n",
       "      <th>82</th>\n",
       "      <td>2005-08-05</td>\n",
       "      <td>My Date With Drew</td>\n",
       "      <td>1100</td>\n",
       "      <td>181041</td>\n",
       "      <td>1.810410e+05</td>\n",
       "      <td>164.582727</td>\n",
       "      <td>164.582727</td>\n",
       "      <td>179941</td>\n",
       "      <td>1.799410e+05</td>\n",
       "    </tr>\n",
       "  </tbody>\n",
       "</table>\n",
       "<p>5782 rows × 9 columns</p>\n",
       "</div>"
      ],
      "text/plain": [
       "   release_date                                        movie  \\\n",
       "id                                                             \n",
       "1    2009-12-18                                       Avatar   \n",
       "2    2011-05-20  Pirates of the Caribbean: On Stranger Tides   \n",
       "3    2019-06-07                                 Dark Phoenix   \n",
       "4    2015-05-01                      Avengers: Age of Ultron   \n",
       "5    2017-12-15            Star Wars Ep. VIII: The Last Jedi   \n",
       "..          ...                                          ...   \n",
       "78   2018-12-31                                       Red 11   \n",
       "79   1999-04-02                                    Following   \n",
       "80   2005-07-13                Return to the Land of Wonders   \n",
       "81   2015-09-29                         A Plague So Pleasant   \n",
       "82   2005-08-05                            My Date With Drew   \n",
       "\n",
       "    production_budget  domestic_gross  worldwide_gross  dom_gross / budget  \\\n",
       "id                                                                           \n",
       "1           425000000       760507625     2.776345e+09            1.789430   \n",
       "2           410600000       241063875     1.045664e+09            0.587101   \n",
       "3           350000000        42762350     1.497624e+08            0.122178   \n",
       "4           330600000       459005868     1.403014e+09            1.388403   \n",
       "5           317000000       620181382     1.316722e+09            1.956408   \n",
       "..                ...             ...              ...                 ...   \n",
       "78               7000               0     0.000000e+00            0.000000   \n",
       "79               6000           48482     2.404950e+05            8.080333   \n",
       "80               5000            1338     1.338000e+03            0.267600   \n",
       "81               1400               0     0.000000e+00            0.000000   \n",
       "82               1100          181041     1.810410e+05          164.582727   \n",
       "\n",
       "    ww_gross / budget  dom_profit        profit  \n",
       "id                                               \n",
       "1            6.532577   335507625  2.351345e+09  \n",
       "2            2.546673  -169536125  6.350639e+08  \n",
       "3            0.427892  -307237650 -2.002376e+08  \n",
       "4            4.243841   128405868  1.072414e+09  \n",
       "5            4.153696   303181382  9.997217e+08  \n",
       "..                ...         ...           ...  \n",
       "78           0.000000       -7000 -7.000000e+03  \n",
       "79          40.082500       42482  2.344950e+05  \n",
       "80           0.267600       -3662 -3.662000e+03  \n",
       "81           0.000000       -1400 -1.400000e+03  \n",
       "82         164.582727      179941  1.799410e+05  \n",
       "\n",
       "[5782 rows x 9 columns]"
      ]
     },
     "execution_count": 7,
     "metadata": {},
     "output_type": "execute_result"
    }
   ],
   "source": [
    "## Coppied Over for Review\n",
    "\n",
    "#read tn file, make sure values are in the same format, and drop null values\n",
    "tn_movie_db = pd.read_csv('databases/tn.movie_budgets.csv', na_filter=True, na_values='[]', encoding = 'utf-8', index_col = 0)\n",
    "tn_movie_db.dropna()\n",
    "#standardize release date into date format\n",
    "tn_movie_db['release_date'] = pd.to_datetime(tn_movie_db['release_date'])\n",
    "#strip whitespace from title\n",
    "tn_movie_db['movie'] = tn_movie_db['movie'].str.strip()\n",
    "#strip $\n",
    "tn_movie_db['production_budget'] = tn_movie_db['production_budget'].str.strip('$')\n",
    "tn_movie_db['domestic_gross'] = tn_movie_db['domestic_gross'].str.strip('$')\n",
    "tn_movie_db['worldwide_gross'] = tn_movie_db['worldwide_gross'].str.strip('$')\n",
    "#remove ,\n",
    "tn_movie_db['production_budget'] = tn_movie_db['production_budget'].replace(\",\", \"\", regex=True)\n",
    "tn_movie_db['domestic_gross'] = tn_movie_db['domestic_gross'].replace(\",\", \"\", regex=True)\n",
    "tn_movie_db['worldwide_gross'] = tn_movie_db['worldwide_gross'].replace(\",\", \"\", regex=True)\n",
    "#convert to integers\n",
    "tn_movie_db['production_budget'] = tn_movie_db['production_budget'].astype(int)\n",
    "tn_movie_db['domestic_gross'] = tn_movie_db['domestic_gross'].astype(int)\n",
    "tn_movie_db['worldwide_gross'] = tn_movie_db['worldwide_gross'].astype(float)\n",
    "#create metric ratios\n",
    "tn_movie_db['dom_gross / budget'] = tn_movie_db['domestic_gross'] / tn_movie_db['production_budget']\n",
    "tn_movie_db['ww_gross / budget'] = tn_movie_db['worldwide_gross'] / tn_movie_db['production_budget']\n",
    "tn_movie_db['dom_profit'] = tn_movie_db['domestic_gross'] - tn_movie_db['production_budget']\n",
    "tn_movie_db['profit'] = tn_movie_db['worldwide_gross'] - tn_movie_db['production_budget']\n",
    "\n",
    "tn_movie_db"
   ]
  },
  {
   "cell_type": "code",
   "execution_count": 9,
   "id": "cabd8e3f",
   "metadata": {},
   "outputs": [
    {
     "data": {
      "text/html": [
       "<div>\n",
       "<style scoped>\n",
       "    .dataframe tbody tr th:only-of-type {\n",
       "        vertical-align: middle;\n",
       "    }\n",
       "\n",
       "    .dataframe tbody tr th {\n",
       "        vertical-align: top;\n",
       "    }\n",
       "\n",
       "    .dataframe thead th {\n",
       "        text-align: right;\n",
       "    }\n",
       "</style>\n",
       "<table border=\"1\" class=\"dataframe\">\n",
       "  <thead>\n",
       "    <tr style=\"text-align: right;\">\n",
       "      <th></th>\n",
       "      <th>genre_ids</th>\n",
       "      <th>id</th>\n",
       "      <th>original_language</th>\n",
       "      <th>popularity</th>\n",
       "      <th>release_date</th>\n",
       "      <th>title</th>\n",
       "      <th>vote_average</th>\n",
       "      <th>vote_count</th>\n",
       "      <th>production_budget</th>\n",
       "      <th>domestic_gross</th>\n",
       "      <th>worldwide_gross</th>\n",
       "      <th>dom_gross / budget</th>\n",
       "      <th>ww_gross / budget</th>\n",
       "      <th>dom_profit</th>\n",
       "      <th>profit</th>\n",
       "    </tr>\n",
       "  </thead>\n",
       "  <tbody>\n",
       "    <tr>\n",
       "      <th>0</th>\n",
       "      <td>[12, 14, 10751]</td>\n",
       "      <td>12444</td>\n",
       "      <td>en</td>\n",
       "      <td>33.533</td>\n",
       "      <td>2010-11-19</td>\n",
       "      <td>Harry Potter and the Deathly Hallows: Part 1</td>\n",
       "      <td>7.7</td>\n",
       "      <td>10788</td>\n",
       "      <td>125000000.0</td>\n",
       "      <td>296131568.0</td>\n",
       "      <td>960431568.0</td>\n",
       "      <td>2.369053</td>\n",
       "      <td>7.683453</td>\n",
       "      <td>171131568.0</td>\n",
       "      <td>835431568.0</td>\n",
       "    </tr>\n",
       "    <tr>\n",
       "      <th>1</th>\n",
       "      <td>[14, 12, 16, 10751]</td>\n",
       "      <td>10191</td>\n",
       "      <td>en</td>\n",
       "      <td>28.734</td>\n",
       "      <td>2010-03-26</td>\n",
       "      <td>How to Train Your Dragon</td>\n",
       "      <td>7.7</td>\n",
       "      <td>7610</td>\n",
       "      <td>165000000.0</td>\n",
       "      <td>217581232.0</td>\n",
       "      <td>494870992.0</td>\n",
       "      <td>1.318674</td>\n",
       "      <td>2.999218</td>\n",
       "      <td>52581232.0</td>\n",
       "      <td>329870992.0</td>\n",
       "    </tr>\n",
       "    <tr>\n",
       "      <th>2</th>\n",
       "      <td>[12, 28, 878]</td>\n",
       "      <td>10138</td>\n",
       "      <td>en</td>\n",
       "      <td>28.515</td>\n",
       "      <td>2010-05-07</td>\n",
       "      <td>Iron Man 2</td>\n",
       "      <td>6.8</td>\n",
       "      <td>12368</td>\n",
       "      <td>170000000.0</td>\n",
       "      <td>312433331.0</td>\n",
       "      <td>621156389.0</td>\n",
       "      <td>1.837843</td>\n",
       "      <td>3.653861</td>\n",
       "      <td>142433331.0</td>\n",
       "      <td>451156389.0</td>\n",
       "    </tr>\n",
       "    <tr>\n",
       "      <th>3</th>\n",
       "      <td>[16, 35, 10751]</td>\n",
       "      <td>862</td>\n",
       "      <td>en</td>\n",
       "      <td>28.005</td>\n",
       "      <td>1995-11-22</td>\n",
       "      <td>Toy Story</td>\n",
       "      <td>7.9</td>\n",
       "      <td>10174</td>\n",
       "      <td>30000000.0</td>\n",
       "      <td>191796233.0</td>\n",
       "      <td>364545516.0</td>\n",
       "      <td>6.393208</td>\n",
       "      <td>12.151517</td>\n",
       "      <td>161796233.0</td>\n",
       "      <td>334545516.0</td>\n",
       "    </tr>\n",
       "    <tr>\n",
       "      <th>4</th>\n",
       "      <td>[28, 878, 12]</td>\n",
       "      <td>27205</td>\n",
       "      <td>en</td>\n",
       "      <td>27.920</td>\n",
       "      <td>2010-07-16</td>\n",
       "      <td>Inception</td>\n",
       "      <td>8.3</td>\n",
       "      <td>22186</td>\n",
       "      <td>160000000.0</td>\n",
       "      <td>292576195.0</td>\n",
       "      <td>835524642.0</td>\n",
       "      <td>1.828601</td>\n",
       "      <td>5.222029</td>\n",
       "      <td>132576195.0</td>\n",
       "      <td>675524642.0</td>\n",
       "    </tr>\n",
       "    <tr>\n",
       "      <th>...</th>\n",
       "      <td>...</td>\n",
       "      <td>...</td>\n",
       "      <td>...</td>\n",
       "      <td>...</td>\n",
       "      <td>...</td>\n",
       "      <td>...</td>\n",
       "      <td>...</td>\n",
       "      <td>...</td>\n",
       "      <td>...</td>\n",
       "      <td>...</td>\n",
       "      <td>...</td>\n",
       "      <td>...</td>\n",
       "      <td>...</td>\n",
       "      <td>...</td>\n",
       "      <td>...</td>\n",
       "    </tr>\n",
       "    <tr>\n",
       "      <th>23711</th>\n",
       "      <td>[53, 18, 27]</td>\n",
       "      <td>510284</td>\n",
       "      <td>en</td>\n",
       "      <td>5.972</td>\n",
       "      <td>2019-02-01</td>\n",
       "      <td>Braid</td>\n",
       "      <td>6.4</td>\n",
       "      <td>18</td>\n",
       "      <td>1660000.0</td>\n",
       "      <td>0.0</td>\n",
       "      <td>80745.0</td>\n",
       "      <td>0.000000</td>\n",
       "      <td>0.048642</td>\n",
       "      <td>-1660000.0</td>\n",
       "      <td>-1579255.0</td>\n",
       "    </tr>\n",
       "    <tr>\n",
       "      <th>23747</th>\n",
       "      <td>[18, 10752]</td>\n",
       "      <td>514407</td>\n",
       "      <td>en</td>\n",
       "      <td>5.599</td>\n",
       "      <td>2018-10-26</td>\n",
       "      <td>Indivisible</td>\n",
       "      <td>5.4</td>\n",
       "      <td>13</td>\n",
       "      <td>2700000.0</td>\n",
       "      <td>3511417.0</td>\n",
       "      <td>3588305.0</td>\n",
       "      <td>1.300525</td>\n",
       "      <td>1.329002</td>\n",
       "      <td>811417.0</td>\n",
       "      <td>888305.0</td>\n",
       "    </tr>\n",
       "    <tr>\n",
       "      <th>23795</th>\n",
       "      <td>[18, 28, 80]</td>\n",
       "      <td>547590</td>\n",
       "      <td>en</td>\n",
       "      <td>5.274</td>\n",
       "      <td>2019-05-03</td>\n",
       "      <td>El Chicano</td>\n",
       "      <td>9.0</td>\n",
       "      <td>1</td>\n",
       "      <td>8000000.0</td>\n",
       "      <td>700261.0</td>\n",
       "      <td>700261.0</td>\n",
       "      <td>0.087533</td>\n",
       "      <td>0.087533</td>\n",
       "      <td>-7299739.0</td>\n",
       "      <td>-7299739.0</td>\n",
       "    </tr>\n",
       "    <tr>\n",
       "      <th>23907</th>\n",
       "      <td>[18, 35, 28, 80]</td>\n",
       "      <td>506971</td>\n",
       "      <td>ur</td>\n",
       "      <td>4.486</td>\n",
       "      <td>2018-07-20</td>\n",
       "      <td>Teefa in Trouble</td>\n",
       "      <td>7.6</td>\n",
       "      <td>11</td>\n",
       "      <td>1500000.0</td>\n",
       "      <td>0.0</td>\n",
       "      <td>98806.0</td>\n",
       "      <td>0.000000</td>\n",
       "      <td>0.065871</td>\n",
       "      <td>-1500000.0</td>\n",
       "      <td>-1401194.0</td>\n",
       "    </tr>\n",
       "    <tr>\n",
       "      <th>24219</th>\n",
       "      <td>[28, 12, 16]</td>\n",
       "      <td>332718</td>\n",
       "      <td>en</td>\n",
       "      <td>2.707</td>\n",
       "      <td>2018-02-02</td>\n",
       "      <td>Bilal: A New Breed of Hero</td>\n",
       "      <td>6.8</td>\n",
       "      <td>54</td>\n",
       "      <td>30000000.0</td>\n",
       "      <td>490973.0</td>\n",
       "      <td>648599.0</td>\n",
       "      <td>0.016366</td>\n",
       "      <td>0.021620</td>\n",
       "      <td>-29509027.0</td>\n",
       "      <td>-29351401.0</td>\n",
       "    </tr>\n",
       "  </tbody>\n",
       "</table>\n",
       "<p>1271 rows × 15 columns</p>\n",
       "</div>"
      ],
      "text/plain": [
       "                 genre_ids      id original_language  popularity release_date  \\\n",
       "0          [12, 14, 10751]   12444                en      33.533   2010-11-19   \n",
       "1      [14, 12, 16, 10751]   10191                en      28.734   2010-03-26   \n",
       "2            [12, 28, 878]   10138                en      28.515   2010-05-07   \n",
       "3          [16, 35, 10751]     862                en      28.005   1995-11-22   \n",
       "4            [28, 878, 12]   27205                en      27.920   2010-07-16   \n",
       "...                    ...     ...               ...         ...          ...   \n",
       "23711         [53, 18, 27]  510284                en       5.972   2019-02-01   \n",
       "23747          [18, 10752]  514407                en       5.599   2018-10-26   \n",
       "23795         [18, 28, 80]  547590                en       5.274   2019-05-03   \n",
       "23907     [18, 35, 28, 80]  506971                ur       4.486   2018-07-20   \n",
       "24219         [28, 12, 16]  332718                en       2.707   2018-02-02   \n",
       "\n",
       "                                              title  vote_average  vote_count  \\\n",
       "0      Harry Potter and the Deathly Hallows: Part 1           7.7       10788   \n",
       "1                          How to Train Your Dragon           7.7        7610   \n",
       "2                                        Iron Man 2           6.8       12368   \n",
       "3                                         Toy Story           7.9       10174   \n",
       "4                                         Inception           8.3       22186   \n",
       "...                                             ...           ...         ...   \n",
       "23711                                         Braid           6.4          18   \n",
       "23747                                   Indivisible           5.4          13   \n",
       "23795                                    El Chicano           9.0           1   \n",
       "23907                              Teefa in Trouble           7.6          11   \n",
       "24219                    Bilal: A New Breed of Hero           6.8          54   \n",
       "\n",
       "       production_budget  domestic_gross  worldwide_gross  dom_gross / budget  \\\n",
       "0            125000000.0     296131568.0      960431568.0            2.369053   \n",
       "1            165000000.0     217581232.0      494870992.0            1.318674   \n",
       "2            170000000.0     312433331.0      621156389.0            1.837843   \n",
       "3             30000000.0     191796233.0      364545516.0            6.393208   \n",
       "4            160000000.0     292576195.0      835524642.0            1.828601   \n",
       "...                  ...             ...              ...                 ...   \n",
       "23711          1660000.0             0.0          80745.0            0.000000   \n",
       "23747          2700000.0       3511417.0        3588305.0            1.300525   \n",
       "23795          8000000.0        700261.0         700261.0            0.087533   \n",
       "23907          1500000.0             0.0          98806.0            0.000000   \n",
       "24219         30000000.0        490973.0         648599.0            0.016366   \n",
       "\n",
       "       ww_gross / budget   dom_profit       profit  \n",
       "0               7.683453  171131568.0  835431568.0  \n",
       "1               2.999218   52581232.0  329870992.0  \n",
       "2               3.653861  142433331.0  451156389.0  \n",
       "3              12.151517  161796233.0  334545516.0  \n",
       "4               5.222029  132576195.0  675524642.0  \n",
       "...                  ...          ...          ...  \n",
       "23711           0.048642   -1660000.0   -1579255.0  \n",
       "23747           1.329002     811417.0     888305.0  \n",
       "23795           0.087533   -7299739.0   -7299739.0  \n",
       "23907           0.065871   -1500000.0   -1401194.0  \n",
       "24219           0.021620  -29509027.0  -29351401.0  \n",
       "\n",
       "[1271 rows x 15 columns]"
      ]
     },
     "execution_count": 9,
     "metadata": {},
     "output_type": "execute_result"
    }
   ],
   "source": [
    "## Coppied Over for Review \n",
    "\n",
    "#merge title and movie name\n",
    "tn_movie_db = tn_movie_db.rename(columns = {\"movie\":\"title\"})\n",
    "\n",
    "#special cases where movie titles do not match\n",
    "tn_movie_db['title'].replace({'Harry Potter and the Deathly Hallows: Part I' : 'Harry Potter and the Deathly Hallows: Part 1'}, inplace=True)\n",
    "tn_movie_db['title'].replace({'Harry Potter and the Deathly Hallows: Part II' : 'Harry Potter and the Deathly Hallows: Part 2'}, inplace=True)\n",
    "tmdb_movie_db['title'].replace({'Fast & Furious 6':'Fast and Furious 6'}, inplace=True)\n",
    "tn_movie_db['title'].replace({'Star Wars: The Force Awakens' : 'Star Wars Ep. VII: The Force Awakens'}, inplace=True)\n",
    "tn_movie_db['title'].replace({'Star Wars: The Last Jedi' : 'Star Wars Ep. VIII: The Last Jedi'}, inplace=True)\n",
    "\n",
    "#merge databases\n",
    "movie_db = tmdb_movie_db.merge(tn_movie_db, how = 'left')\n",
    "\n",
    "\n",
    "#drop null values\n",
    "movie_db = movie_db.dropna()\n",
    "\n",
    "movie_db"
   ]
  },
  {
   "cell_type": "code",
   "execution_count": 19,
   "id": "c346587e",
   "metadata": {
    "scrolled": true
   },
   "outputs": [],
   "source": [
    "# check to make sure that there are no values with 0\n",
    "## new_movie_db.loc[movie_db['worldwide_gross'] < 1]\n",
    "## sorted(new_movie_db['worldwide_gross'].value_counts().index.to_list())"
   ]
  },
  {
   "cell_type": "code",
   "execution_count": 11,
   "id": "7db17aad",
   "metadata": {},
   "outputs": [
    {
     "data": {
      "text/html": [
       "<div>\n",
       "<style scoped>\n",
       "    .dataframe tbody tr th:only-of-type {\n",
       "        vertical-align: middle;\n",
       "    }\n",
       "\n",
       "    .dataframe tbody tr th {\n",
       "        vertical-align: top;\n",
       "    }\n",
       "\n",
       "    .dataframe thead th {\n",
       "        text-align: right;\n",
       "    }\n",
       "</style>\n",
       "<table border=\"1\" class=\"dataframe\">\n",
       "  <thead>\n",
       "    <tr style=\"text-align: right;\">\n",
       "      <th></th>\n",
       "      <th>genre_ids</th>\n",
       "      <th>id</th>\n",
       "      <th>original_language</th>\n",
       "      <th>popularity</th>\n",
       "      <th>release_date</th>\n",
       "      <th>title</th>\n",
       "      <th>vote_average</th>\n",
       "      <th>vote_count</th>\n",
       "      <th>production_budget</th>\n",
       "      <th>domestic_gross</th>\n",
       "      <th>worldwide_gross</th>\n",
       "      <th>dom_gross / budget</th>\n",
       "      <th>ww_gross / budget</th>\n",
       "      <th>dom_profit</th>\n",
       "      <th>profit</th>\n",
       "    </tr>\n",
       "  </thead>\n",
       "  <tbody>\n",
       "    <tr>\n",
       "      <th>0</th>\n",
       "      <td>[12, 14, 10751]</td>\n",
       "      <td>12444</td>\n",
       "      <td>en</td>\n",
       "      <td>33.533</td>\n",
       "      <td>2010-11-19</td>\n",
       "      <td>Harry Potter and the Deathly Hallows: Part 1</td>\n",
       "      <td>7.7</td>\n",
       "      <td>10788</td>\n",
       "      <td>125000000.0</td>\n",
       "      <td>296131568.0</td>\n",
       "      <td>960431568.0</td>\n",
       "      <td>2.369053</td>\n",
       "      <td>7.683453</td>\n",
       "      <td>171131568.0</td>\n",
       "      <td>835431568.0</td>\n",
       "    </tr>\n",
       "    <tr>\n",
       "      <th>1</th>\n",
       "      <td>[14, 12, 16, 10751]</td>\n",
       "      <td>10191</td>\n",
       "      <td>en</td>\n",
       "      <td>28.734</td>\n",
       "      <td>2010-03-26</td>\n",
       "      <td>How to Train Your Dragon</td>\n",
       "      <td>7.7</td>\n",
       "      <td>7610</td>\n",
       "      <td>165000000.0</td>\n",
       "      <td>217581232.0</td>\n",
       "      <td>494870992.0</td>\n",
       "      <td>1.318674</td>\n",
       "      <td>2.999218</td>\n",
       "      <td>52581232.0</td>\n",
       "      <td>329870992.0</td>\n",
       "    </tr>\n",
       "    <tr>\n",
       "      <th>2</th>\n",
       "      <td>[12, 28, 878]</td>\n",
       "      <td>10138</td>\n",
       "      <td>en</td>\n",
       "      <td>28.515</td>\n",
       "      <td>2010-05-07</td>\n",
       "      <td>Iron Man 2</td>\n",
       "      <td>6.8</td>\n",
       "      <td>12368</td>\n",
       "      <td>170000000.0</td>\n",
       "      <td>312433331.0</td>\n",
       "      <td>621156389.0</td>\n",
       "      <td>1.837843</td>\n",
       "      <td>3.653861</td>\n",
       "      <td>142433331.0</td>\n",
       "      <td>451156389.0</td>\n",
       "    </tr>\n",
       "    <tr>\n",
       "      <th>3</th>\n",
       "      <td>[16, 35, 10751]</td>\n",
       "      <td>862</td>\n",
       "      <td>en</td>\n",
       "      <td>28.005</td>\n",
       "      <td>1995-11-22</td>\n",
       "      <td>Toy Story</td>\n",
       "      <td>7.9</td>\n",
       "      <td>10174</td>\n",
       "      <td>30000000.0</td>\n",
       "      <td>191796233.0</td>\n",
       "      <td>364545516.0</td>\n",
       "      <td>6.393208</td>\n",
       "      <td>12.151517</td>\n",
       "      <td>161796233.0</td>\n",
       "      <td>334545516.0</td>\n",
       "    </tr>\n",
       "    <tr>\n",
       "      <th>4</th>\n",
       "      <td>[28, 878, 12]</td>\n",
       "      <td>27205</td>\n",
       "      <td>en</td>\n",
       "      <td>27.920</td>\n",
       "      <td>2010-07-16</td>\n",
       "      <td>Inception</td>\n",
       "      <td>8.3</td>\n",
       "      <td>22186</td>\n",
       "      <td>160000000.0</td>\n",
       "      <td>292576195.0</td>\n",
       "      <td>835524642.0</td>\n",
       "      <td>1.828601</td>\n",
       "      <td>5.222029</td>\n",
       "      <td>132576195.0</td>\n",
       "      <td>675524642.0</td>\n",
       "    </tr>\n",
       "    <tr>\n",
       "      <th>...</th>\n",
       "      <td>...</td>\n",
       "      <td>...</td>\n",
       "      <td>...</td>\n",
       "      <td>...</td>\n",
       "      <td>...</td>\n",
       "      <td>...</td>\n",
       "      <td>...</td>\n",
       "      <td>...</td>\n",
       "      <td>...</td>\n",
       "      <td>...</td>\n",
       "      <td>...</td>\n",
       "      <td>...</td>\n",
       "      <td>...</td>\n",
       "      <td>...</td>\n",
       "      <td>...</td>\n",
       "    </tr>\n",
       "    <tr>\n",
       "      <th>23582</th>\n",
       "      <td>[28, 16, 14, 12, 35, 878]</td>\n",
       "      <td>503314</td>\n",
       "      <td>ja</td>\n",
       "      <td>6.868</td>\n",
       "      <td>2019-01-16</td>\n",
       "      <td>Dragon Ball Super: Broly</td>\n",
       "      <td>7.4</td>\n",
       "      <td>721</td>\n",
       "      <td>8500000.0</td>\n",
       "      <td>30376755.0</td>\n",
       "      <td>122747755.0</td>\n",
       "      <td>3.573736</td>\n",
       "      <td>14.440912</td>\n",
       "      <td>21876755.0</td>\n",
       "      <td>114247755.0</td>\n",
       "    </tr>\n",
       "    <tr>\n",
       "      <th>23687</th>\n",
       "      <td>[16, 12, 10751, 36, 10752]</td>\n",
       "      <td>433694</td>\n",
       "      <td>en</td>\n",
       "      <td>6.107</td>\n",
       "      <td>2018-04-13</td>\n",
       "      <td>Sgt. Stubby: An American Hero</td>\n",
       "      <td>6.4</td>\n",
       "      <td>9</td>\n",
       "      <td>25000000.0</td>\n",
       "      <td>3054285.0</td>\n",
       "      <td>3645957.0</td>\n",
       "      <td>0.122171</td>\n",
       "      <td>0.145838</td>\n",
       "      <td>-21945715.0</td>\n",
       "      <td>-21354043.0</td>\n",
       "    </tr>\n",
       "    <tr>\n",
       "      <th>23747</th>\n",
       "      <td>[18, 10752]</td>\n",
       "      <td>514407</td>\n",
       "      <td>en</td>\n",
       "      <td>5.599</td>\n",
       "      <td>2018-10-26</td>\n",
       "      <td>Indivisible</td>\n",
       "      <td>5.4</td>\n",
       "      <td>13</td>\n",
       "      <td>2700000.0</td>\n",
       "      <td>3511417.0</td>\n",
       "      <td>3588305.0</td>\n",
       "      <td>1.300525</td>\n",
       "      <td>1.329002</td>\n",
       "      <td>811417.0</td>\n",
       "      <td>888305.0</td>\n",
       "    </tr>\n",
       "    <tr>\n",
       "      <th>23795</th>\n",
       "      <td>[18, 28, 80]</td>\n",
       "      <td>547590</td>\n",
       "      <td>en</td>\n",
       "      <td>5.274</td>\n",
       "      <td>2019-05-03</td>\n",
       "      <td>El Chicano</td>\n",
       "      <td>9.0</td>\n",
       "      <td>1</td>\n",
       "      <td>8000000.0</td>\n",
       "      <td>700261.0</td>\n",
       "      <td>700261.0</td>\n",
       "      <td>0.087533</td>\n",
       "      <td>0.087533</td>\n",
       "      <td>-7299739.0</td>\n",
       "      <td>-7299739.0</td>\n",
       "    </tr>\n",
       "    <tr>\n",
       "      <th>24219</th>\n",
       "      <td>[28, 12, 16]</td>\n",
       "      <td>332718</td>\n",
       "      <td>en</td>\n",
       "      <td>2.707</td>\n",
       "      <td>2018-02-02</td>\n",
       "      <td>Bilal: A New Breed of Hero</td>\n",
       "      <td>6.8</td>\n",
       "      <td>54</td>\n",
       "      <td>30000000.0</td>\n",
       "      <td>490973.0</td>\n",
       "      <td>648599.0</td>\n",
       "      <td>0.016366</td>\n",
       "      <td>0.021620</td>\n",
       "      <td>-29509027.0</td>\n",
       "      <td>-29351401.0</td>\n",
       "    </tr>\n",
       "  </tbody>\n",
       "</table>\n",
       "<p>1205 rows × 15 columns</p>\n",
       "</div>"
      ],
      "text/plain": [
       "                        genre_ids      id original_language  popularity  \\\n",
       "0                 [12, 14, 10751]   12444                en      33.533   \n",
       "1             [14, 12, 16, 10751]   10191                en      28.734   \n",
       "2                   [12, 28, 878]   10138                en      28.515   \n",
       "3                 [16, 35, 10751]     862                en      28.005   \n",
       "4                   [28, 878, 12]   27205                en      27.920   \n",
       "...                           ...     ...               ...         ...   \n",
       "23582   [28, 16, 14, 12, 35, 878]  503314                ja       6.868   \n",
       "23687  [16, 12, 10751, 36, 10752]  433694                en       6.107   \n",
       "23747                 [18, 10752]  514407                en       5.599   \n",
       "23795                [18, 28, 80]  547590                en       5.274   \n",
       "24219                [28, 12, 16]  332718                en       2.707   \n",
       "\n",
       "      release_date                                         title  \\\n",
       "0       2010-11-19  Harry Potter and the Deathly Hallows: Part 1   \n",
       "1       2010-03-26                      How to Train Your Dragon   \n",
       "2       2010-05-07                                    Iron Man 2   \n",
       "3       1995-11-22                                     Toy Story   \n",
       "4       2010-07-16                                     Inception   \n",
       "...            ...                                           ...   \n",
       "23582   2019-01-16                      Dragon Ball Super: Broly   \n",
       "23687   2018-04-13                 Sgt. Stubby: An American Hero   \n",
       "23747   2018-10-26                                   Indivisible   \n",
       "23795   2019-05-03                                    El Chicano   \n",
       "24219   2018-02-02                    Bilal: A New Breed of Hero   \n",
       "\n",
       "       vote_average  vote_count  production_budget  domestic_gross  \\\n",
       "0               7.7       10788        125000000.0     296131568.0   \n",
       "1               7.7        7610        165000000.0     217581232.0   \n",
       "2               6.8       12368        170000000.0     312433331.0   \n",
       "3               7.9       10174         30000000.0     191796233.0   \n",
       "4               8.3       22186        160000000.0     292576195.0   \n",
       "...             ...         ...                ...             ...   \n",
       "23582           7.4         721          8500000.0      30376755.0   \n",
       "23687           6.4           9         25000000.0       3054285.0   \n",
       "23747           5.4          13          2700000.0       3511417.0   \n",
       "23795           9.0           1          8000000.0        700261.0   \n",
       "24219           6.8          54         30000000.0        490973.0   \n",
       "\n",
       "       worldwide_gross  dom_gross / budget  ww_gross / budget   dom_profit  \\\n",
       "0          960431568.0            2.369053           7.683453  171131568.0   \n",
       "1          494870992.0            1.318674           2.999218   52581232.0   \n",
       "2          621156389.0            1.837843           3.653861  142433331.0   \n",
       "3          364545516.0            6.393208          12.151517  161796233.0   \n",
       "4          835524642.0            1.828601           5.222029  132576195.0   \n",
       "...                ...                 ...                ...          ...   \n",
       "23582      122747755.0            3.573736          14.440912   21876755.0   \n",
       "23687        3645957.0            0.122171           0.145838  -21945715.0   \n",
       "23747        3588305.0            1.300525           1.329002     811417.0   \n",
       "23795         700261.0            0.087533           0.087533   -7299739.0   \n",
       "24219         648599.0            0.016366           0.021620  -29509027.0   \n",
       "\n",
       "            profit  \n",
       "0      835431568.0  \n",
       "1      329870992.0  \n",
       "2      451156389.0  \n",
       "3      334545516.0  \n",
       "4      675524642.0  \n",
       "...            ...  \n",
       "23582  114247755.0  \n",
       "23687  -21354043.0  \n",
       "23747     888305.0  \n",
       "23795   -7299739.0  \n",
       "24219  -29351401.0  \n",
       "\n",
       "[1205 rows x 15 columns]"
      ]
     },
     "execution_count": 11,
     "metadata": {},
     "output_type": "execute_result"
    }
   ],
   "source": [
    "new_movie_db = movie_db.drop(movie_db[movie_db['domestic_gross'] < 1].index)\n",
    "new_movie_db"
   ]
  },
  {
   "cell_type": "code",
   "execution_count": 12,
   "id": "cae82e8e",
   "metadata": {},
   "outputs": [],
   "source": [
    "# Import matplotlib\n",
    "import matplotlib.pyplot as plt\n",
    "\n",
    "# Set plot space as inline for inline plots and qt for external plots\n",
    "%matplotlib inline"
   ]
  },
  {
   "cell_type": "code",
   "execution_count": 13,
   "id": "3ce13e8b",
   "metadata": {},
   "outputs": [
    {
     "data": {
      "text/plain": [
       "[18]                             94\n",
       "[35]                             75\n",
       "[35, 18]                         39\n",
       "[18, 10749]                      33\n",
       "[27, 53]                         26\n",
       "                                 ..\n",
       "[14, 27, 28]                      1\n",
       "[28, 12, 16, 35, 10751, 14]       1\n",
       "[28, 12, 18, 9648, 10749, 14]     1\n",
       "[53, 80, 28, 35]                  1\n",
       "[28, 12, 16]                      1\n",
       "Name: genre_ids, Length: 493, dtype: int64"
      ]
     },
     "execution_count": 13,
     "metadata": {},
     "output_type": "execute_result"
    }
   ],
   "source": [
    "#check + count all values\n",
    "movie_db['genre_ids'].value_counts()"
   ]
  },
  {
   "cell_type": "code",
   "execution_count": 14,
   "id": "17569fb1",
   "metadata": {},
   "outputs": [
    {
     "data": {
      "image/png": "[encoded data removed]",
      "text/plain": [
       "<Figure size 720x864 with 1 Axes>"
      ]
     },
     "metadata": {
      "needs_background": "light"
     },
     "output_type": "display_data"
    }
   ],
   "source": [
    "# Plot Bar Chat\n",
    "## Genre's X Axis is conjested\n",
    "\n",
    "fig, ax = plt.subplots(figsize=(10, 12))\n",
    "\n",
    "#ax.hist(movie_db['dom_gross / budget'].mean(), 10, tick_label = movie_db['genre_ids'])\n",
    "ax.hist(movie_db['genre_ids'], bins='auto')\n",
    "\n",
    "ax.set_title('Average Dom_gross / Budget Ratio per Genres')\n",
    "ax.set_ylabel('Average Dom_gross / Budget')\n",
    "ax.set_xlabel('Movie Genres');\n",
    "\n",
    "\n",
    "\n",
    "#x = movie_db['genre_ids']\n",
    "\n",
    "#y = movie_db['dom_gross / budget'].mean()\n",
    "\n",
    "#plt.hist(x, bins = 1000, edgecolor='black', color='#00C8AD')\n",
    "#plt.xlabel('Movie Genres')\n",
    "#plt.ylabel('Average Dom_gross / Budget')\n",
    "#plt.title('Average Dom_gross / Budget Ratio per Genres')\n",
    "#plt.show()"
   ]
  },
  {
   "cell_type": "code",
   "execution_count": 16,
   "id": "56ec7dbe",
   "metadata": {
    "scrolled": true
   },
   "outputs": [
    {
     "data": {
      "image/png": "[encoded data removed]",
      "text/plain": [
       "<Figure size 432x288 with 1 Axes>"
      ]
     },
     "metadata": {
      "needs_background": "light"
     },
     "output_type": "display_data"
    }
   ],
   "source": [
    "\n",
    "x = movie_db['genre_ids']\n",
    "\n",
    "y = movie_db['ww_gross / budget'].mean()\n",
    "\n",
    "plt.hist(x, bins = 50, edgecolor='black')\n",
    "plt.xlabel('Movie Genres')\n",
    "plt.ylabel('Average WW_gross / Budget')\n",
    "plt.title('Average WW_gross / Budget Ratio per Genres')\n",
    "plt.show()\n",
    "\n",
    "\n",
    "\n"
   ]
  },
  {
   "cell_type": "code",
   "execution_count": 16,
   "id": "ecbdf1f7",
   "metadata": {},
   "outputs": [
    {
     "data": {
      "text/plain": [
       "'profit per genre'"
      ]
     },
     "execution_count": 16,
     "metadata": {},
     "output_type": "execute_result"
    }
   ],
   "source": [
    "'profit per genre'\n",
    "\n",
    "### Coppied Over for Peer Review\n",
    "\n",
    "## fig, ax = plt.subplots(figsize=(10, 12))\n",
    "## ax.hist(movie_db['dom_gross / budget'].mean(), 10, tick_label = movie_db['genre_ids'])\n",
    "## ax.hist(movie_db['genre_ids'], bins='auto')\n",
    "\n",
    "#ax.set_title('Profit by Genre')\n",
    "#ax.set_ylabel('Movie Profit')\n",
    "#x.set_xlabel('Movie Genres');\n",
    "\n",
    "# 'profit per genre'\n",
    "\n",
    "#df_mr1.value_counts('genres').nlargest(12)\n",
    "\n",
    "#for z test\n",
    "#df_mr1.describe()\n",
    "\n",
    "##ztest ,propability_value = stests.ztest(dataframe['movie_db'], x2=None, value=146)\n",
    "##print(float(propability_value))\n",
    "##if propability_value<0.05:\n",
    "##print(\"Null hyphothesis rejected , Alternative hyphothesis accepted\")\n",
    "##else:\n",
    "##print(\"Null hyphothesis accepted , Alternative hyphothesis rejected\")\n",
    "\n"
   ]
  },
  {
   "cell_type": "code",
   "execution_count": null,
   "id": "5d988e14",
   "metadata": {},
   "outputs": [],
   "source": [
    "# plotting tested runtime sample against population\n",
    "fig, ax = plt.subplots(figsize=(10,8))\n",
    "\n",
    "plt.hist(pop_standardized_rating, bins=45, density=True, color='b', alpha = 0.5)\n",
    "sns.kdeplot(pop_standardized_rating, ax=ax, color='y')\n",
    "\n",
    "plt.hist(samp_standardized_rating, bins=11, density=True, color='r', alpha = 0.5)\n",
    "sns.kdeplot(samp_standardized_rating, ax=ax, color='k')\n",
    "\n",
    "plt.vlines(x=z_mean, ymin=0, ymax=0.7, color='m', label='x<=40 Mean: 0.7702')\n",
    "plt.vlines(x=pop_z_mean, ymin=0, ymax=0.7, label='Population Mean: 0.0')\n",
    "                                              \n",
    "plt.xlabel('Z Scores')\n",
    "plt.title('Less than 40 Minutes to All Films - Ratings')\n",
    "plt.legend()"
   ]
  },
  {
   "cell_type": "markdown",
   "id": "581ca9d3",
   "metadata": {},
   "source": [
    "### Correlation\n",
    "\n",
    "### Ho:\n",
    "##### - There is no correlation between runtime and average rating for movies that are less than 40 minutes. \n",
    "\n",
    "### Ha:\n",
    "##### - There is a statistically significant correlation between runtime and average rating at the 95% level for movies that are less than 40 minutes. "
   ]
  },
  {
   "cell_type": "code",
   "execution_count": null,
   "id": "c2f018af",
   "metadata": {},
   "outputs": [],
   "source": [
    "# r-critical value to test if found r is statistically signifcant\n",
    "critical_r = 0.2510\n",
    "# Source: https://www.calculators.tech/t-value-calculator\n",
    "# (Unable to calculate by hand as I have been unable to find a direct formula to find this - must use either r-critical table or a r-crit calculator like the above source)\n",
    "df = df_up40['Runtime'].count() - 2 # getting degrees of freedom to determine r-critical\n",
    "df"
   ]
  },
  {
   "cell_type": "code",
   "execution_count": null,
   "id": "b5fe1fad",
   "metadata": {},
   "outputs": [],
   "source": [
    "# calculating correlation\n",
    "\n",
    "x = df_up40['Runtime']\n",
    "y = df_up40['AverageRating']\n",
    "\n",
    "r = x.corr(y) # result is the pearson correlation coefficient\n",
    "r\n",
    "\n",
    "print(f'Pearson Correlation: {r} | r-critical: {critical_r} | Is r greater? {abs(r) >= critical_r}')\n",
    "if abs(r) >= critical_r:\n",
    "    print(\"Reject the null\")\n",
    "elif abs(r) < critical_r:\n",
    "    print(\"Fail to reject null\")"
   ]
  },
  {
   "cell_type": "code",
   "execution_count": null,
   "id": "6a32de1f",
   "metadata": {},
   "outputs": [],
   "source": [
    "sns.lmplot(x=\"Runtime\", y=\"AverageRating\", data=df_up40, line_kws={'color': 'red'}, height=8, aspect=1.5);"
   ]
  },
  {
   "cell_type": "markdown",
   "id": "e707c823",
   "metadata": {},
   "source": [
    "### 40 to 60 Minutes Testing\n",
    "\n",
    "### Z-Test\n",
    "\n",
    "### Ho:\n",
    "##### - There is no difference between the average rating of a movie that has a runtime of between 40 minutes and 60 minutes and other movies in the population.\n",
    "\n",
    "### Ha:\n",
    "##### - There is a statistically significant difference between the average rating of a movie that has a runtime of between 40 minutes and 60 minutes and other movies in the population."
   ]
  },
  {
   "cell_type": "code",
   "execution_count": null,
   "id": "0795bfa7",
   "metadata": {
    "scrolled": true
   },
   "outputs": [],
   "source": [
    "# runtime sample 2 - long-form short films (40.0001 minutes to 60 minutes)\n",
    "q = \"\"\"\n",
    "SELECT\n",
    "    mb.movie_id\n",
    "    ,mb.primary_title AS title\n",
    "    ,mb.runtime_minutes AS Runtime\n",
    "    ,mb.genres\n",
    "    ,mr.averagerating AS AverageRating\n",
    "    ,mr.numvotes AS Num_Votes\n",
    "FROM\n",
    "    movie_basics AS mb\n",
    "    JOIN movie_ratings AS mr\n",
    "        USING(movie_id)\n",
    "WHERE\n",
    "    CAST(Num_Votes AS int) > 30\n",
    "    AND CAST(mb.runtime_minutes as float) BETWEEN 40.0001 AND 60\n",
    "    AND mb.runtime_minutes IS NOT NULL\n",
    "    AND mb.genres IS NOT NULL\n",
    "ORDER BY\n",
    "    mb.runtime_minutes DESC\n",
    ";\"\"\"\n",
    "df_4060 = pd.read_sql(q, conn)\n",
    "df_4060"
   ]
  },
  {
   "cell_type": "code",
   "execution_count": null,
   "id": "54268900",
   "metadata": {
    "scrolled": true
   },
   "outputs": [],
   "source": [
    "# z-test - 40 to 60 minutes ratings run\n",
    "\n",
    "a = 0.025\n",
    "\n",
    "# two-tailed z-test\n",
    "\n",
    "x_bar = df_4060['AverageRating'].mean()\n",
    "n = df_4060['AverageRating'].count()\n",
    "std = df_allrt['AverageRating'].std()\n",
    "mu = df_allrt['AverageRating'].mean()\n",
    "\n",
    "z = (x_bar - mu)/(std/np.sqrt(n))\n",
    "p = 1 - stats.norm.cdf(np.absolute(z))\n",
    "\n",
    "# displaying results\n",
    "print(f'Sample Mean: {x_bar} | Population Mean: {mu} | Sample Size: {n}')\n",
    "print(f'p-value: {p} | z-score: {z} | Is p less than alpha? {p < a}')\n",
    "if p < a:\n",
    "    print(\"Reject the null\")\n",
    "elif p >= a:\n",
    "    print(\"Fail to reject null\")"
   ]
  },
  {
   "cell_type": "code",
   "execution_count": null,
   "id": "33394b7b",
   "metadata": {},
   "outputs": [],
   "source": [
    "# normalizing distribution with for loop\n",
    "samp_standardized_rating = [(x-mu)/std for x in df_4060['AverageRating']]\n",
    "z_mean = np.mean(samp_standardized_rating)\n",
    "print(f' Standardized Sample Mean: {z_mean}')"
   ]
  },
  {
   "cell_type": "code",
   "execution_count": null,
   "id": "01ed3feb",
   "metadata": {},
   "outputs": [],
   "source": [
    "# visualizing above distribution as histogram\n",
    "fig, ax = plt.subplots(figsize=(10,8))\n",
    "\n",
    "ax.hist(samp_standardized_rating, bins=15, density=True, color='r')\n",
    "ax.set_xlabel('Z Scores')\n",
    "ax.set_title('40 to 60 Minutes - Ratings')\n",
    "\n",
    "# applying normalized curve over histogram\n",
    "sns.kdeplot(samp_standardized_rating, ax=ax, color='k')\n",
    "\n",
    "# marking standardized_mean\n",
    "ax.vlines(x=z_mean, ymin=0, ymax=0.7, color='b', label='Mean: 0.6132')\n",
    "ax.legend()"
   ]
  },
  {
   "cell_type": "code",
   "execution_count": null,
   "id": "423d6730",
   "metadata": {},
   "outputs": [],
   "source": [
    "# plotting tested runtime sample against population\n",
    "fig, ax = plt.subplots(figsize=(10,8))\n",
    "\n",
    "plt.hist(pop_standardized_rating, bins=45, density=True, color='b', alpha = 0.5)\n",
    "sns.kdeplot(pop_standardized_rating, ax=ax, color='y')\n",
    "\n",
    "plt.hist(samp_standardized_rating, bins=15, density=True, color='r', alpha = 0.5)\n",
    "sns.kdeplot(samp_standardized_rating, ax=ax, color='k')\n",
    "\n",
    "plt.vlines(x=z_mean, ymin=0, ymax=0.7, color='m', label='40 < x <= 60 Mean: 0.6132')\n",
    "plt.vlines(x=pop_z_mean, ymin=0, ymax=0.7, label='Population Mean: 0.0')\n",
    "                                              \n",
    "plt.xlabel('Z Scores')\n",
    "plt.title('40 to 60 Minutes to All Films - Ratings')\n",
    "plt.legend()"
   ]
  },
  {
   "cell_type": "markdown",
   "id": "6982227e",
   "metadata": {},
   "source": [
    "### Correlation\n",
    "\n",
    "### Ho:\n",
    "##### - There is no correlation between runtime and average rating for movies that are between 40 and 60 minutes. \n",
    "\n",
    "### Ha:\n",
    "##### - There is a statistically significant correlation between runtime and average rating at the 95% level for movies that are between 40 and 60 minutes. "
   ]
  },
  {
   "cell_type": "code",
   "execution_count": null,
   "id": "d3bdb8ab",
   "metadata": {},
   "outputs": [],
   "source": [
    "# r-critical value to test if found r is statistically signifcant\n",
    "critical_r = 0.0529\n",
    "# Source: https://www.calculators.tech/t-value-calculator\n",
    "# (Unable to calculate by hand as I have been unable to find a direct formula to find this - must use either r-critical table or a r-crit calculator like the above source)\n",
    "df = df_4060['Runtime'].count() - 2 # getting degrees of freedom to determine r-critical\n",
    "df"
   ]
  },
  {
   "cell_type": "code",
   "execution_count": null,
   "id": "01c9590c",
   "metadata": {
    "scrolled": true
   },
   "outputs": [],
   "source": [
    "# calculating correlation\n",
    "\n",
    "x = df_4060['Runtime']\n",
    "y = df_4060['AverageRating']\n",
    "\n",
    "r = x.corr(y) # result is the pearson correlation coefficient\n",
    "r\n",
    "\n",
    "print(f'Pearson Correlation: {r} | r-critical: {critical_r} | Is r greater? {abs(r) >= critical_r}')\n",
    "if abs(r) >= critical_r:\n",
    "    print(\"Reject the null\")\n",
    "elif abs(r) < critical_r:\n",
    "    print(\"Fail to reject null\")"
   ]
  },
  {
   "cell_type": "code",
   "execution_count": null,
   "id": "9a19bd11",
   "metadata": {
    "scrolled": true
   },
   "outputs": [],
   "source": [
    "sns.lmplot(x=\"Runtime\", y=\"AverageRating\", data=df_4060, line_kws={'color': 'red'}, height=8, aspect=1.5);"
   ]
  },
  {
   "cell_type": "markdown",
   "id": "9032bf33",
   "metadata": {},
   "source": [
    "### 60 to 90 Minutes Testing\n",
    "\n",
    "### Z-Test\n",
    "\n",
    "### Ho:\n",
    "##### - There is no difference between the average rating of a movie that has a runtime of between 60 minutes and 90 minutes and other movies in the population.\n",
    "\n",
    "### Ha:\n",
    "##### - There is a statistically significant difference between the average rating of a movie that has a runtime of between 60 minutes and 90 minutes and other movies in the population."
   ]
  },
  {
   "cell_type": "code",
   "execution_count": null,
   "id": "beeaafd9",
   "metadata": {
    "scrolled": true
   },
   "outputs": [],
   "source": [
    "# runtime sample 3 - short-mid length films (60.0001 minutes to 90 minutes)\n",
    "q = \"\"\"\n",
    "SELECT\n",
    "    mb.movie_id\n",
    "    ,mb.primary_title AS title\n",
    "    ,mb.runtime_minutes AS Runtime\n",
    "    ,mb.genres\n",
    "    ,mr.averagerating AS AverageRating\n",
    "    ,mr.numvotes AS Num_Votes\n",
    "FROM\n",
    "    movie_basics AS mb\n",
    "    JOIN movie_ratings AS mr\n",
    "        USING(movie_id)\n",
    "WHERE\n",
    "    CAST(Num_Votes AS int) > 30\n",
    "    AND CAST(mb.runtime_minutes as float) BETWEEN 60.0001 AND 90\n",
    "    AND mb.runtime_minutes IS NOT NULL\n",
    "    AND mb.genres IS NOT NULL\n",
    "ORDER BY\n",
    "    mb.runtime_minutes DESC\n",
    ";\"\"\"\n",
    "df_6090 = pd.read_sql(q, conn)\n",
    "df_6090"
   ]
  },
  {
   "cell_type": "code",
   "execution_count": null,
   "id": "31bc5f8e",
   "metadata": {
    "scrolled": true
   },
   "outputs": [],
   "source": [
    "# z-test - 60 to 90 minutes ratings run\n",
    "\n",
    "a = 0.025\n",
    "\n",
    "# two-tailed z-test\n",
    "\n",
    "x_bar = df_6090['AverageRating'].mean()\n",
    "n = df_6090['AverageRating'].count()\n",
    "std = df_allrt['AverageRating'].std()\n",
    "mu = df_allrt['AverageRating'].mean()\n",
    "\n",
    "z = (x_bar - mu)/(std/np.sqrt(n))\n",
    "p = 1 - stats.norm.cdf(np.absolute(z))\n",
    "\n",
    "# displaying results\n",
    "print(f'Sample Mean: {x_bar} | Population Mean: {mu} | Sample Size: {n}')\n",
    "print(f'p-value: {p} | z-score: {z} | Is p less than alpha? {p < a}')\n",
    "if p < a:\n",
    "    print(\"Reject the null\")\n",
    "elif p >= a:\n",
    "    print(\"Fail to reject null\")"
   ]
  },
  {
   "cell_type": "code",
   "execution_count": null,
   "id": "48dfc1c9",
   "metadata": {},
   "outputs": [],
   "source": [
    "# normalizing distribution with for loop\n",
    "samp_standardized_rating = [(x-mu)/std for x in df_6090['AverageRating']]\n",
    "z_mean = np.mean(samp_standardized_rating)\n",
    "print(f' Standardized Sample Mean: {z_mean}')"
   ]
  },
  {
   "cell_type": "code",
   "execution_count": null,
   "id": "21ddfa25",
   "metadata": {},
   "outputs": [],
   "source": [
    "# visualizing above distribution as histogram\n",
    "fig, ax = plt.subplots(figsize=(10,8))\n",
    "\n",
    "ax.hist(samp_standardized_rating, bins=22, density=True, color='r')\n",
    "ax.set_xlabel('Z Scores')\n",
    "ax.set_title('60 to 90 Minutes - Ratings')\n",
    "\n",
    "# applying normalized curve over histogram\n",
    "sns.kdeplot(samp_standardized_rating, ax=ax, color='k')\n",
    "\n",
    "# marking standardized_mean\n",
    "ax.vlines(x=z_mean, ymin=0, ymax=0.7, color='b', label='Mean: -0.1648')\n",
    "ax.legend()"
   ]
  },
  {
   "cell_type": "code",
   "execution_count": null,
   "id": "4703b638",
   "metadata": {},
   "outputs": [],
   "source": [
    "# plotting tested runtime sample against population\n",
    "fig, ax = plt.subplots(figsize=(10,8))\n",
    "\n",
    "plt.hist(pop_standardized_rating, bins=45, density=True, color='b', alpha = 0.5)\n",
    "sns.kdeplot(pop_standardized_rating, ax=ax, color='y')\n",
    "\n",
    "plt.hist(samp_standardized_rating, bins=22, density=True, color='r', alpha = 0.5)\n",
    "sns.kdeplot(samp_standardized_rating, ax=ax, color='k')\n",
    "\n",
    "plt.vlines(x=z_mean, ymin=0, ymax=0.7, color='m', label='60 < x <= 90 Mean: -0.1648')\n",
    "plt.vlines(x=pop_z_mean, ymin=0, ymax=0.7, label='Population Mean: 0.0')\n",
    "                                              \n",
    "plt.xlabel('Z Scores')\n",
    "plt.title('60 to 90 Minutes to All Films - Ratings')\n",
    "plt.legend()"
   ]
  },
  {
   "cell_type": "markdown",
   "id": "3291c523",
   "metadata": {},
   "source": [
    "### Correlation\n",
    "\n",
    "### Ho:\n",
    "##### - There is no correlation between runtime and average rating for movies that are between 60 and 90 minutes. \n",
    "\n",
    "### Ha:\n",
    "##### - There is a statistically significant correlation between runtime and average rating at the 95% level for movies that are between 60 and 90 minutes. "
   ]
  },
  {
   "cell_type": "code",
   "execution_count": null,
   "id": "2255c4d3",
   "metadata": {},
   "outputs": [],
   "source": [
    "# r-critical value to test if found r is statistically signifcant\n",
    "critical_r = 0.0132\n",
    "# Source: https://www.calculators.tech/t-value-calculator\n",
    "# (Unable to calculate by hand as I have been unable to find a direct formula to find this - must use either r-critical table or a r-crit calculator like the above source)\n",
    "df = df_6090['Runtime'].count() - 2 # getting degrees of freedom to determine r-critical\n",
    "df"
   ]
  },
  {
   "cell_type": "code",
   "execution_count": null,
   "id": "7646a0bf",
   "metadata": {},
   "outputs": [],
   "source": [
    "# calculating correlation\n",
    "\n",
    "x = df_6090['Runtime']\n",
    "y = df_6090['AverageRating']\n",
    "\n",
    "r = x.corr(y) # result is the pearson correlation coefficient\n",
    "r\n",
    "\n",
    "print(f'Pearson Correlation: {r} | r-critical: {critical_r} | Is r greater? {abs(r) >= critical_r}')\n",
    "if abs(r) >= critical_r:\n",
    "    print(\"Reject the null\")\n",
    "elif abs(r) < critical_r:\n",
    "    print(\"Fail to reject null\")"
   ]
  },
  {
   "cell_type": "code",
   "execution_count": null,
   "id": "b416a3d7",
   "metadata": {},
   "outputs": [],
   "source": [
    "sns.lmplot(x=\"Runtime\", y=\"AverageRating\", data=df_6090, line_kws={'color': 'red'}, height=8, aspect=1.5);"
   ]
  },
  {
   "cell_type": "markdown",
   "id": "674777e4",
   "metadata": {},
   "source": [
    "### 90 to 120 Minutes Testing\n",
    "\n",
    "### Z-Test\n",
    "\n",
    "### Ho\n",
    "##### - There is no difference between the average rating of a movie that has a runtime of between 90 minutes and 120 minutes and other movies in the population.\n",
    "\n",
    "### Ha:\n",
    "##### - There is a statistically significant difference between the average rating of a movie that has a runtime of between 90 minutes and 120 minutes and other movies in the population."
   ]
  },
  {
   "cell_type": "code",
   "execution_count": null,
   "id": "cf8a7703",
   "metadata": {},
   "outputs": [],
   "source": [
    "# runtime sample 4 - relative average length films (90.0001 minutes to 120 minutes)\n",
    "q = \"\"\"\n",
    "SELECT\n",
    "    mb.movie_id\n",
    "    ,mb.primary_title AS title\n",
    "    ,mb.runtime_minutes AS Runtime\n",
    "    ,mb.genres\n",
    "    ,mr.averagerating AS AverageRating\n",
    "    ,mr.numvotes AS Num_Votes\n",
    "FROM\n",
    "    movie_basics AS mb\n",
    "    JOIN movie_ratings AS mr\n",
    "        USING(movie_id)\n",
    "WHERE\n",
    "    CAST(Num_Votes AS int) > 30\n",
    "    AND CAST(mb.runtime_minutes as float) BETWEEN 90.0001 AND 120\n",
    "    AND mb.runtime_minutes IS NOT NULL\n",
    "    AND mb.genres IS NOT NULL\n",
    "ORDER BY\n",
    "    mb.runtime_minutes DESC\n",
    ";\"\"\"\n",
    "df_90120 = pd.read_sql(q, conn)\n",
    "df_90120"
   ]
  },
  {
   "cell_type": "code",
   "execution_count": null,
   "id": "2ead92ab",
   "metadata": {},
   "outputs": [],
   "source": [
    "# z-test - 90 to 120 minutes ratings run\n",
    "\n",
    "a = 0.025\n",
    "\n",
    "# two-tailed z-test\n",
    "\n",
    "x_bar = df_90120['AverageRating'].mean()\n",
    "n = df_90120['AverageRating'].count()\n",
    "std = df_allrt['AverageRating'].std()\n",
    "mu = df_allrt['AverageRating'].mean()\n",
    "\n",
    "z = (x_bar - mu)/(std/np.sqrt(n))\n",
    "p = 1 - stats.norm.cdf(np.absolute(z))\n",
    "\n",
    "# displaying results\n",
    "print(f'Sample Mean: {x_bar} | Population Mean: {mu} | Sample Size: {n}')\n",
    "print(f'p-value: {p} | z-score: {z} | Is p less than alpha? {p < a}')\n",
    "if p < a:\n",
    "    print(\"Reject the null\")\n",
    "elif p >= a:\n",
    "    print(\"Fail to reject null\")"
   ]
  },
  {
   "cell_type": "code",
   "execution_count": null,
   "id": "ec59debb",
   "metadata": {},
   "outputs": [],
   "source": [
    "# normalizing distribution with for loop\n",
    "samp_standardized_rating = [(x-mu)/std for x in df_90120['AverageRating']]\n",
    "z_mean = np.mean(samp_standardized_rating)\n",
    "print(f' Standardized Sample Mean: {z_mean}')"
   ]
  },
  {
   "cell_type": "code",
   "execution_count": null,
   "id": "f6fb2274",
   "metadata": {},
   "outputs": [],
   "source": [
    "# visualizing above distribution as histogram\n",
    "fig, ax = plt.subplots(figsize=(10,8))\n",
    "\n",
    "ax.hist(samp_standardized_rating, bins=24, density=True, color='r')\n",
    "ax.set_xlabel('Z Scores')\n",
    "ax.set_title('90 to 120 minutes - Ratings')\n",
    "\n",
    "# applying normalized curve over histogram\n",
    "sns.kdeplot(samp_standardized_rating, ax=ax, color='k')\n",
    "\n",
    "# marking standardized_mean\n",
    "ax.vlines(x=z_mean, ymin=0, ymax=0.7, color='b', label='Mean: 0.0270')\n",
    "ax.legend()"
   ]
  },
  {
   "cell_type": "code",
   "execution_count": null,
   "id": "a520c3bd",
   "metadata": {},
   "outputs": [],
   "source": [
    "# plotting tested runtime sample against population\n",
    "fig, ax = plt.subplots(figsize=(10,8))\n",
    "\n",
    "plt.hist(pop_standardized_rating, bins=45, density=True, color='b', alpha = 0.5)\n",
    "sns.kdeplot(pop_standardized_rating, ax=ax, color='y')\n",
    "\n",
    "plt.hist(samp_standardized_rating, bins=24, density=True, color='r', alpha = 0.5)\n",
    "sns.kdeplot(samp_standardized_rating, ax=ax, color='k')\n",
    "\n",
    "plt.vlines(x=z_mean, ymin=0, ymax=0.7, color='m', label='90 < x <= 120 Mean: 0.0270')\n",
    "plt.vlines(x=pop_z_mean, ymin=0, ymax=0.7, label='Population Mean: 0.0')\n",
    "                                              \n",
    "plt.xlabel('Z Scores')\n",
    "plt.title('90 to 120 minutes to All Films - Ratings')\n",
    "plt.legend()"
   ]
  },
  {
   "cell_type": "markdown",
   "id": "747ce023",
   "metadata": {},
   "source": [
    "### Correlation\n",
    "\n",
    "### Ho:\n",
    "##### - There is no correlation between runtime and average rating for movies that are between 90 and 120 minutes. \n",
    "\n",
    "### Ha:\n",
    "##### - There is a statistically significant correlation between runtime and average rating at the 95% level for movies that are between 90 and 120 minutes. "
   ]
  },
  {
   "cell_type": "code",
   "execution_count": null,
   "id": "f43fa373",
   "metadata": {},
   "outputs": [],
   "source": [
    "# r-critical value to test if found r is statistically signifcant\n",
    "critical_r = 0.0118\n",
    "# Source: https://www.calculators.tech/t-value-calculator\n",
    "# (Unable to calculate by hand as I have been unable to find a direct formula to find this - must use either r-critical table or a r-crit calculator like the above source)\n",
    "df = df_90120['Runtime'].count() - 2 # getting degrees of freedom to determine r-critical\n",
    "df"
   ]
  },
  {
   "cell_type": "code",
   "execution_count": null,
   "id": "a57bbd90",
   "metadata": {},
   "outputs": [],
   "source": [
    "# calculating correlation\n",
    "\n",
    "x = df_90120['Runtime']\n",
    "y = df_90120['AverageRating']\n",
    "\n",
    "r = x.corr(y) # result is the pearson correlation coefficient\n",
    "r\n",
    "\n",
    "print(f'Pearson Correlation: {r} | r-critical: {critical_r} | Is r greater? {abs(r) >= critical_r}')\n",
    "if abs(r) >= critical_r:\n",
    "    print(\"Reject the null\")\n",
    "elif abs(r) < critical_r:\n",
    "    print(\"Fail to reject null\")"
   ]
  },
  {
   "cell_type": "code",
   "execution_count": null,
   "id": "f1a2eb49",
   "metadata": {},
   "outputs": [],
   "source": [
    "sns.lmplot(x=\"Runtime\", y=\"AverageRating\", data=df_90120, line_kws={'color': 'red'}, height=8, aspect=1.5);"
   ]
  },
  {
   "cell_type": "markdown",
   "id": "c4c57d0f",
   "metadata": {},
   "source": [
    "### 120 Minutes and Up Testing\n",
    "\n",
    "### Z-Test\n",
    "\n",
    "### Ho\n",
    "##### - There is no difference between the average rating of a movie that has a runtime of 120 minutes or greater and other movies in the population.\n",
    "\n",
    "### Ha:\n",
    "##### - There is a statistically significant difference between the average rating of a movie that has a runtime of 120 minutes or greater and other movies in the population at the 95% level."
   ]
  },
  {
   "cell_type": "code",
   "execution_count": null,
   "id": "bd1ef2c7",
   "metadata": {},
   "outputs": [],
   "source": [
    "# runtime sample 5 - long length films (120.0001 minutes and up films)\n",
    "q = \"\"\"\n",
    "SELECT\n",
    "    mb.movie_id\n",
    "    ,mb.primary_title AS title\n",
    "    ,mb.runtime_minutes AS Runtime\n",
    "    ,mb.genres\n",
    "    ,mr.averagerating AS AverageRating\n",
    "    ,mr.numvotes AS Num_Votes\n",
    "FROM\n",
    "    movie_basics AS mb\n",
    "    JOIN movie_ratings AS mr\n",
    "        USING(movie_id)\n",
    "WHERE\n",
    "    CAST(Num_Votes AS int) > 30\n",
    "    AND CAST(mb.runtime_minutes as float) BETWEEN 120.0001 AND 210\n",
    "    AND mb.runtime_minutes IS NOT NULL\n",
    "    AND mb.genres IS NOT NULL\n",
    "ORDER BY\n",
    "    mb.runtime_minutes DESC\n",
    ";\"\"\"\n",
    "df_120up = pd.read_sql(q, conn)\n",
    "df_120up"
   ]
  },
  {
   "cell_type": "code",
   "execution_count": null,
   "id": "23337ea1",
   "metadata": {},
   "outputs": [],
   "source": [
    "# z-test - 120 minutes and up ratings run\n",
    "\n",
    "a = 0.025\n",
    "\n",
    "# two-tailed z-test\n",
    "\n",
    "x_bar = df_120up['AverageRating'].mean()\n",
    "n = df_120up['AverageRating'].count()\n",
    "std = df_allrt['AverageRating'].std()\n",
    "mu = df_allrt['AverageRating'].mean()\n",
    "\n",
    "z = (x_bar - mu)/(std/np.sqrt(n))\n",
    "p = 1 - stats.norm.cdf(np.absolute(z))\n",
    "\n",
    "# displaying results\n",
    "print(f'Sample Mean: {x_bar} | Population Mean: {mu} | Sample Size: {n}')\n",
    "print(f'p-value: {p} | z-score: {z} | Is p less than alpha? {p < a}')\n",
    "if p < a:\n",
    "    print(\"Reject the null\")\n",
    "elif p >= a:\n",
    "    print(\"Fail to reject null\")"
   ]
  },
  {
   "cell_type": "code",
   "execution_count": null,
   "id": "40eccee8",
   "metadata": {},
   "outputs": [],
   "source": [
    "# normalizing distribution with for loop\n",
    "samp_standardized_rating = [(x-mu)/std for x in df_120up['AverageRating']]\n",
    "z_mean = np.mean(samp_standardized_rating)\n",
    "print(f' Standardized Sample Mean: {z_mean}')"
   ]
  },
  {
   "cell_type": "code",
   "execution_count": null,
   "id": "8f77faa6",
   "metadata": {},
   "outputs": [],
   "source": [
    "# visualizing above distribution as histogram\n",
    "fig, ax = plt.subplots(figsize=(10,8))\n",
    "\n",
    "ax.hist(samp_standardized_rating, bins=15, density=True, color='r')\n",
    "ax.set_xlabel('Z Scores')\n",
    "ax.set_title('120 Minutes and Up - Ratings')\n",
    "\n",
    "# applying normalized curve over histogram\n",
    "sns.kdeplot(samp_standardized_rating, ax=ax, color='k')\n",
    "\n",
    "# marking standardized_mean\n",
    "ax.vlines(x=z_mean, ymin=0, ymax=0.7, color='b', label='Mean: 0.2899')\n",
    "ax.legend()"
   ]
  },
  {
   "cell_type": "code",
   "execution_count": null,
   "id": "ae9d4030",
   "metadata": {},
   "outputs": [],
   "source": [
    "# plotting tested runtime sample against population\n",
    "fig, ax = plt.subplots(figsize=(10,8))\n",
    "\n",
    "plt.hist(pop_standardized_rating, bins=45, density=True, color='b', alpha = 0.5)\n",
    "sns.kdeplot(pop_standardized_rating, ax=ax, color='y')\n",
    "\n",
    "plt.hist(samp_standardized_rating, bins=15, density=True, color='r', alpha = 0.5)\n",
    "sns.kdeplot(samp_standardized_rating, ax=ax, color='k')\n",
    "\n",
    "plt.vlines(x=z_mean, ymin=0, ymax=0.7, color='m', label='120 < x Mean: 0.2899')\n",
    "plt.vlines(x=pop_z_mean, ymin=0, ymax=0.7, label='Population Mean: 0.0')\n",
    "                                              \n",
    "plt.xlabel('Z Scores')\n",
    "plt.title('120 Minutes and Up to All Films - Ratings')\n",
    "plt.legend()"
   ]
  },
  {
   "cell_type": "markdown",
   "id": "5545494b",
   "metadata": {},
   "source": [
    "### Correlation:\n",
    "\n",
    "##### Ho:\n",
    "##### - There is no correlation between runtime and average rating for movies that are 120 minutes or longer. \n",
    "\n",
    "##### Ha:\n",
    "##### - There is a statistically significant correlation between runtime and average rating at the 95% level for movies that are 120 minutes or longer. "
   ]
  },
  {
   "cell_type": "code",
   "execution_count": null,
   "id": "909f0242",
   "metadata": {},
   "outputs": [],
   "source": [
    "# r-critical value to test if found r is statistically signifcant\n",
    "critical_r = 0.0235\n",
    "# Source: https://www.calculators.tech/t-value-calculator\n",
    "# (Unable to calculate by hand as I have been unable to find a direct formula to find this - must use either r-critical table or a r-crit calculator like the above source)\n",
    "df = df_120up['Runtime'].count() - 2 # getting degrees of freedom to determine r-critical\n",
    "df"
   ]
  },
  {
   "cell_type": "code",
   "execution_count": null,
   "id": "a9e7743a",
   "metadata": {},
   "outputs": [],
   "source": [
    "# calculating correlation\n",
    "\n",
    "x = df_120up['Runtime']\n",
    "y = df_120up['AverageRating']\n",
    "\n",
    "r = x.corr(y) # result is the pearson correlation coefficient\n",
    "r\n",
    "\n",
    "print(f'Pearson Correlation: {r} | r-critical: {critical_r} | Is r greater? {abs(r) >= critical_r}')\n",
    "if abs(r) >= critical_r:\n",
    "    print(\"Reject the null\")\n",
    "elif abs(r) < critical_r:\n",
    "    print(\"Fail to reject null\")"
   ]
  },
  {
   "cell_type": "code",
   "execution_count": null,
   "id": "58c0b5e5",
   "metadata": {},
   "outputs": [],
   "source": [
    "# plotting the regression showing the line of best fit with slope of r\n",
    "sns.lmplot(x=\"Runtime\", y=\"AverageRating\", data=df_120up, line_kws={'color': 'red'}, height=8, aspect=1.5);"
   ]
  },
  {
   "cell_type": "markdown",
   "id": "2d17c469",
   "metadata": {},
   "source": [
    "## Conclusions from Runtime Sample Testing for Average Ratings\n",
    "\n",
    "Z-Tests:\n",
    "- For films that are less than 40 minute runtimes, we can reject the null hypothesis with a statistically significant p-value of 0.0000001193, meaning that in 95% of cases we can expect our average ratings to be higher because of this set of runtimes.\n",
    "    ##### - Reject the Null\n",
    "- For films that have between 40 and 60 minute runtimes, we can reject the null hypothesis with a statistically significant p-value of 0.0, meaning that in 95% of cases we can expect our average ratings to be higher because of this set of runtimes.\n",
    "    ##### - Reject the Null\n",
    "- For films that have between 60 and 90 minute runtimes, we can reject the null hypothesis with a statistically significant p-value of 0.0, meaning that in 95% of cases we can expect our average ratings to be lower because of this set of runtimes.\n",
    "    ##### - Reject the Null\n",
    "- For films that have between 90 and 120 minute runtimes, we can reject the null hypothesis with a statistically significant p-value of 0.00008571, meaning that in 95% of cases we can expect our average ratings to be higher because of this set of runtimes.\n",
    "    ##### - Reject the Null\n",
    "- For films that have either 120 minute runtimes or longer, we can reject the null hypothesis with a statistically significant p-value of 0.0, meaning that in 95% of cases we can expect our average ratings to be higher because of this set of runtimes.\n",
    "    ##### - Reject the Null\n",
    "\n",
    "Correlation:\n",
    "- In 95% of cases, movies that 90 minutes or longer have a weak positive correlation between their runtime and their ratings. \n",
    "- In 95% of cases, movies that last between 60 and 90 minutes have a weak negative correlation between their runtime and ratings.\n",
    "- For movies that are less than 60 minutes long, we cannot conclude that there is a statistically significant correlation either.\n",
    "\n",
    "For all films less than 3.5 hours long (where we cut off movie runtimes that client would be unlikely to want to pursue), there is a statistically significant weak positive correlation between runtime and average rating of a film in 95% of cases."
   ]
  },
  {
   "cell_type": "markdown",
   "id": "b7a3873a",
   "metadata": {},
   "source": [
    "### Merging Data from SQL IMdb and Box Office Records (Elliot's Effort)"
   ]
  },
  {
   "cell_type": "markdown",
   "id": "7af54cd8",
   "metadata": {},
   "source": [
    "### Domestic Revenue per Rating Table \n",
    "- Merging on title"
   ]
  },
  {
   "cell_type": "code",
   "execution_count": null,
   "id": "3ac4d2ce",
   "metadata": {
    "scrolled": true
   },
   "outputs": [],
   "source": [
    "# merging dr_movie_db with the sql database data\n",
    "domgross_im_db = dr_movie_db.merge(df_allrt,how='inner',on='title')\n",
    "domgross_im_db"
   ]
  },
  {
   "cell_type": "code",
   "execution_count": null,
   "id": "f967cbcd",
   "metadata": {
    "scrolled": false
   },
   "outputs": [],
   "source": [
    "# checking for unintentionally duplicated values\n",
    "domgross_im_db.duplicated('title').value_counts() "
   ]
  },
  {
   "cell_type": "code",
   "execution_count": null,
   "id": "0bf78193",
   "metadata": {
    "scrolled": true
   },
   "outputs": [],
   "source": [
    "# dropping found unintentionally duplicated values\n",
    "domgross_im_db = domgross_im_db.drop_duplicates(subset='title')\n",
    "domgross_im_db"
   ]
  },
  {
   "cell_type": "markdown",
   "id": "b04c204f",
   "metadata": {},
   "source": [
    "### Hypothesis for Runtime and Domestic Gross Revenue"
   ]
  },
  {
   "cell_type": "code",
   "execution_count": null,
   "id": "161717d4",
   "metadata": {},
   "outputs": [],
   "source": [
    "# standardizing population for secondary visualizations to follow\n",
    "mu = domgross_im_db['domestic_gross'].mean()\n",
    "std = domgross_im_db['domestic_gross'].std()\n",
    "\n",
    "pop_standardized_rating = [(x-mu)/std for x in domgross_im_db['domestic_gross']]\n",
    "pop_z_mean = np.mean(pop_standardized_rating)\n",
    "pop_z_mean"
   ]
  },
  {
   "cell_type": "markdown",
   "id": "d7f2d842",
   "metadata": {},
   "source": [
    "### Up to 40 Minutes Testing\n",
    "\n",
    "### Z-Test\n",
    "\n",
    "### Ho:\n",
    "##### - There is no difference between the domestic revenue of a movie that has a runtime of 40 minutes or less and other movies in the population.\n",
    "\n",
    "### Ha:\n",
    "##### - There is a statistically significant difference between the domestic revenue of a movie that has a runtime of between 40 minutes or less minutes and other movies in the population."
   ]
  },
  {
   "cell_type": "code",
   "execution_count": null,
   "id": "6055758b",
   "metadata": {
    "scrolled": true
   },
   "outputs": [],
   "source": [
    "# pulling sample based on runtime from combined data\n",
    "domgross_40_db = domgross_im_db.loc[domgross_im_db['Runtime'] <= 40]\n",
    "domgross_40_db"
   ]
  },
  {
   "cell_type": "markdown",
   "id": "f3aa7fd4",
   "metadata": {},
   "source": [
    "##### Unable to perform z-test for this as there are no rows in sample for this range."
   ]
  },
  {
   "cell_type": "markdown",
   "id": "39d8b7cd",
   "metadata": {},
   "source": [
    "### 40 to 60 Minutes Testing\n",
    "\n",
    "### Z-Test\n",
    "\n",
    "### Ho:\n",
    "##### - There is no difference between the domestic revenue of a movie that has a runtime of between 40 minutes and 60 minutes and other movies in the population.\n",
    "\n",
    "### Ha:\n",
    "##### - There is a statistically significant difference between the domestic revenue of a movie that has a runtime of between 40 minutes and 60 minutes and other movies in the population."
   ]
  },
  {
   "cell_type": "code",
   "execution_count": null,
   "id": "34e5b62c",
   "metadata": {
    "scrolled": false
   },
   "outputs": [],
   "source": [
    "# pulling sample based on runtime from combined data\n",
    "domgross_4060_db = domgross_im_db.loc[(domgross_im_db['Runtime'] > 40) & (domgross_im_db['Runtime'] <= 60)]\n",
    "domgross_4060_db"
   ]
  },
  {
   "cell_type": "markdown",
   "id": "2bd2558a",
   "metadata": {},
   "source": [
    "##### Unable to perform z-test for this as there are no rows in sample for this range."
   ]
  },
  {
   "cell_type": "markdown",
   "id": "5e0d2b89",
   "metadata": {},
   "source": [
    "### 60 to 90 Minutes Testing\n",
    "\n",
    "### Z-Test\n",
    "\n",
    "### Ho:\n",
    "##### - There is no difference between the domestic revenue of a movie that has a runtime of between 60 minutes and 90 minutes and other movies in the population.\n",
    "\n",
    "### Ha:\n",
    "##### - There is a statistically significant difference between the domestic revenue of a movie that has a runtime of between 60 minutes and 90 minutes and other movies in the population."
   ]
  },
  {
   "cell_type": "code",
   "execution_count": null,
   "id": "68cf36c4",
   "metadata": {
    "scrolled": true
   },
   "outputs": [],
   "source": [
    "# pulling sample based on runtime from combined data\n",
    "domgross_6090_db = domgross_im_db.loc[(domgross_im_db['Runtime'] > 60) & (domgross_im_db['Runtime'] <= 90)]\n",
    "domgross_6090_db"
   ]
  },
  {
   "cell_type": "code",
   "execution_count": null,
   "id": "dd3fd4b1",
   "metadata": {},
   "outputs": [],
   "source": [
    "# z-test - 60 minutes to 90 minutes domestic revenue run\n",
    "\n",
    "a = 0.025\n",
    "\n",
    "# two-tailed z-test\n",
    "x_bar = domgross_6090_db['domestic_gross'].mean()\n",
    "n = domgross_6090_db['domestic_gross'].count()\n",
    "std = domgross_im_db['domestic_gross'].std()\n",
    "mu = domgross_im_db['domestic_gross'].mean()\n",
    "\n",
    "z = (x_bar - mu)/(std/np.sqrt(n))\n",
    "p = 1 - stats.norm.cdf(np.absolute(z))\n",
    "\n",
    "# displaying results\n",
    "print(f'Sample Mean: {x_bar} | Population Mean: {mu} | Sample Size: {n}')\n",
    "print(f'p-value: {p} | z-score: {z} | Is p less than alpha? {p < a}')\n",
    "if p < a:\n",
    "    print(\"Reject the null\")\n",
    "elif p >= a:\n",
    "    print(\"Fail to reject null\")"
   ]
  },
  {
   "cell_type": "code",
   "execution_count": null,
   "id": "22fbe2ab",
   "metadata": {},
   "outputs": [],
   "source": [
    "# normalizing distribution with for loop\n",
    "samp_standardized_rating = [(x-mu)/std for x in domgross_6090_db['domestic_gross']]\n",
    "z_mean = np.mean(samp_standardized_rating)\n",
    "print(f' Standardized Sample Mean: {z_mean}')"
   ]
  },
  {
   "cell_type": "code",
   "execution_count": null,
   "id": "9a8e0d35",
   "metadata": {},
   "outputs": [],
   "source": [
    "# visualizing above distribution as histogram\n",
    "fig, ax = plt.subplots(figsize=(10,8))\n",
    "\n",
    "ax.hist(samp_standardized_rating, bins=11, density=True, color='r')\n",
    "ax.set_xlabel('Z Scores')\n",
    "ax.set_title('60 to 90 Minutes - DM Revenue')\n",
    "\n",
    "# applying normalized curve over histogram\n",
    "sns.kdeplot(samp_standardized_rating, ax=ax, color='k')\n",
    "\n",
    "# marking standardized_mean\n",
    "ax.vlines(x=z_mean, ymin=0, ymax=0.7, color='b', label='Mean: -0.2567')\n",
    "ax.legend()"
   ]
  },
  {
   "cell_type": "code",
   "execution_count": null,
   "id": "6a822e48",
   "metadata": {},
   "outputs": [],
   "source": [
    "# plotting tested runtime sample against population\n",
    "fig, ax = plt.subplots(figsize=(10,8))\n",
    "\n",
    "plt.hist(pop_standardized_rating, bins=16, density=True, color='b', alpha = 0.5)\n",
    "sns.kdeplot(pop_standardized_rating, ax=ax, color='y')\n",
    "\n",
    "plt.hist(samp_standardized_rating, bins=11, density=True, color='r', alpha = 0.5)\n",
    "sns.kdeplot(samp_standardized_rating, ax=ax, color='k')\n",
    "\n",
    "plt.vlines(x=z_mean, ymin=0, ymax=0.7, color='m', label='60 < x <= 90 Mean: -0.2567')\n",
    "plt.vlines(x=pop_z_mean, ymin=0, ymax=0.7, label='Population Mean: 0.0')\n",
    "                                              \n",
    "plt.xlabel('Z Scores')\n",
    "plt.title('60 to 90 Minutes to All Films - DM Revenue')\n",
    "plt.legend()"
   ]
  },
  {
   "cell_type": "markdown",
   "id": "2ae6c4b4",
   "metadata": {},
   "source": [
    "### 90 to 120 Minutes Testing\n",
    "\n",
    "### Z-Test\n",
    "\n",
    "### Ho:\n",
    "##### - There is no difference between the domestic revenue of a movie that has a runtime of between 90 minutes and 120 minutes and other movies in the population.\n",
    "\n",
    "### Ha:\n",
    "##### - There is a statistically significant difference between the domestic revenue of a movie that has a runtime of between 90 minutes and 120 minutes and other movies in the population."
   ]
  },
  {
   "cell_type": "code",
   "execution_count": null,
   "id": "16616317",
   "metadata": {},
   "outputs": [],
   "source": [
    "# pulling sample based on runtime from combined data\n",
    "domgross_90120_db = domgross_im_db.loc[(domgross_im_db['Runtime'] > 90) & (domgross_im_db['Runtime'] <= 120)]\n",
    "domgross_90120_db"
   ]
  },
  {
   "cell_type": "code",
   "execution_count": null,
   "id": "350e60db",
   "metadata": {},
   "outputs": [],
   "source": [
    "# z-test - 90 minutes to 120 minutes domestic revenue run\n",
    "\n",
    "a = 0.025\n",
    "\n",
    "# two-tailed z-test\n",
    "x_bar = domgross_90120_db['domestic_gross'].mean()\n",
    "n = domgross_90120_db['domestic_gross'].count()\n",
    "std = domgross_im_db['domestic_gross'].std()\n",
    "mu = domgross_im_db['domestic_gross'].mean()\n",
    "\n",
    "z = (x_bar - mu)/(std/np.sqrt(n))\n",
    "p = 1 - stats.norm.cdf(np.absolute(z))\n",
    "\n",
    "# displaying results\n",
    "print(f'Sample Mean: {x_bar} | Population Mean: {mu} | Sample Size: {n}')\n",
    "print(f'p-value: {p} | z-score: {z} | Is p less than alpha? {p < a}')\n",
    "if p < a:\n",
    "    print(\"Reject the null\")\n",
    "elif p >= a:\n",
    "    print(\"Fail to reject null\")"
   ]
  },
  {
   "cell_type": "code",
   "execution_count": null,
   "id": "ddffe865",
   "metadata": {},
   "outputs": [],
   "source": [
    "# normalizing distribution with for loop\n",
    "samp_standardized_rating = [(x-mu)/std for x in domgross_90120_db['domestic_gross']]\n",
    "z_mean = np.mean(samp_standardized_rating)\n",
    "print(f' Standardized Sample Mean: {z_mean}')"
   ]
  },
  {
   "cell_type": "code",
   "execution_count": null,
   "id": "0d06e395",
   "metadata": {},
   "outputs": [],
   "source": [
    "# visualizing above distribution as histogram\n",
    "fig, ax = plt.subplots(figsize=(10,8))\n",
    "\n",
    "ax.hist(samp_standardized_rating, bins=22, density=True, color='r')\n",
    "ax.set_xlabel('Z Scores')\n",
    "ax.set_title('90 to 120 Minutes - DM Revenue')\n",
    "\n",
    "# applying normalized curve over histogram\n",
    "sns.kdeplot(samp_standardized_rating, ax=ax, color='k')\n",
    "\n",
    "# marking standardized_mean\n",
    "ax.vlines(x=z_mean, ymin=0, ymax=0.7, color='b', label='Mean: -0.04584')\n",
    "ax.legend()"
   ]
  },
  {
   "cell_type": "code",
   "execution_count": null,
   "id": "70f3288c",
   "metadata": {},
   "outputs": [],
   "source": [
    "# plotting tested runtime sample against population\n",
    "fig, ax = plt.subplots(figsize=(10,8))\n",
    "\n",
    "plt.hist(pop_standardized_rating, bins=45, density=True, color='b', alpha = 0.5)\n",
    "sns.kdeplot(pop_standardized_rating, ax=ax, color='y')\n",
    "\n",
    "plt.hist(samp_standardized_rating, bins=15, density=True, color='r', alpha = 0.5)\n",
    "sns.kdeplot(samp_standardized_rating, ax=ax, color='k')\n",
    "\n",
    "plt.vlines(x=z_mean, ymin=0, ymax=0.7, color='m', label='90 < x <= 120 Mean: -0.04584')\n",
    "plt.vlines(x=pop_z_mean, ymin=0, ymax=0.7, label='Population Mean: 0.0')\n",
    "                                              \n",
    "plt.xlabel('Z Scores')\n",
    "plt.title('90 to 120 Minutes to All Films - DM Revenue')\n",
    "plt.legend()"
   ]
  },
  {
   "cell_type": "markdown",
   "id": "2b1dccdb",
   "metadata": {},
   "source": [
    "### 120 Minutes and Up Testing\n",
    "\n",
    "### Z-Test\n",
    "\n",
    "### Ho:\n",
    "##### - There is no difference between the domestic revenue of a movie that has a runtime of 120 minutes or greater and other movies in the population.\n",
    "\n",
    "### Ha:\n",
    "##### - There is a statistically significant difference between the domestic revenue of a movie that has a runtime of 120 minutes or greater and other movies in the population at the 95% level."
   ]
  },
  {
   "cell_type": "code",
   "execution_count": null,
   "id": "bdaff413",
   "metadata": {
    "scrolled": true
   },
   "outputs": [],
   "source": [
    "# pulling sample based on runtime from combined data\n",
    "domgross_120up_db = domgross_im_db.loc[domgross_im_db['Runtime'] > 120]\n",
    "domgross_120up_db"
   ]
  },
  {
   "cell_type": "code",
   "execution_count": null,
   "id": "d06f76c9",
   "metadata": {},
   "outputs": [],
   "source": [
    "# z-test - 120 minutes and up domestic revenue run\n",
    "\n",
    "a = 0.025\n",
    "\n",
    "# two-tailed z-test\n",
    "x_bar = domgross_120up_db['domestic_gross'].mean()\n",
    "n = domgross_120up_db['domestic_gross'].count()\n",
    "std = domgross_im_db['domestic_gross'].std()\n",
    "mu = domgross_im_db['domestic_gross'].mean()\n",
    "\n",
    "z = (x_bar - mu)/(std/np.sqrt(n))\n",
    "p = 1 - stats.norm.cdf(np.absolute(z))\n",
    "\n",
    "# displaying results\n",
    "print(f'Sample Mean: {x_bar} | Population Mean: {mu} | Sample Size: {n}')\n",
    "print(f'p-value: {p} | z-score: {z} | Is p less than alpha? {p < a}')\n",
    "if p < a:\n",
    "    print(\"Reject the null\")\n",
    "elif p >= a:\n",
    "    print(\"Fail to reject null\")"
   ]
  },
  {
   "cell_type": "code",
   "execution_count": null,
   "id": "e1b87097",
   "metadata": {},
   "outputs": [],
   "source": [
    "# normalizing distribution with for loop\n",
    "samp_standardized_rating = [(x-mu)/std for x in domgross_120up_db['domestic_gross']]\n",
    "z_mean = np.mean(samp_standardized_rating)\n",
    "print(f' Standardized Sample Mean: {z_mean}')"
   ]
  },
  {
   "cell_type": "code",
   "execution_count": null,
   "id": "f6c80360",
   "metadata": {},
   "outputs": [],
   "source": [
    "# visualizing above distribution as histogram\n",
    "fig, ax = plt.subplots(figsize=(10,8))\n",
    "\n",
    "ax.hist(samp_standardized_rating, bins=11, density=True, color='r')\n",
    "ax.set_xlabel('Z Scores')\n",
    "ax.set_title('120 Minutes and Up - DM Revenue')\n",
    "\n",
    "# applying normalized curve over histogram\n",
    "sns.kdeplot(samp_standardized_rating, ax=ax, color='k')\n",
    "\n",
    "# marking standardized_mean\n",
    "ax.vlines(x=z_mean, ymin=0, ymax=0.7, color='b', label='Mean: 0.3130')\n",
    "ax.legend()"
   ]
  },
  {
   "cell_type": "code",
   "execution_count": null,
   "id": "5fc67764",
   "metadata": {},
   "outputs": [],
   "source": [
    "# plotting tested runtime sample against population\n",
    "fig, ax = plt.subplots(figsize=(10,8))\n",
    "\n",
    "plt.hist(pop_standardized_rating, bins=45, density=True, color='b', alpha = 0.5)\n",
    "sns.kdeplot(pop_standardized_rating, ax=ax, color='y')\n",
    "\n",
    "plt.hist(samp_standardized_rating, bins=15, density=True, color='r', alpha = 0.5)\n",
    "sns.kdeplot(samp_standardized_rating, ax=ax, color='k')\n",
    "\n",
    "plt.vlines(x=z_mean, ymin=0, ymax=0.7, color='m', label='120 < x Mean: 0.3130')\n",
    "plt.vlines(x=pop_z_mean, ymin=0, ymax=0.7, label='Population Mean: 0.0')\n",
    "                                              \n",
    "plt.xlabel('Z Scores')\n",
    "plt.title('120 Minutes and Up to All Films - DM Revenue')\n",
    "plt.legend()"
   ]
  },
  {
   "cell_type": "markdown",
   "id": "f6bce4d5",
   "metadata": {},
   "source": [
    "### Correlation\n",
    "\n",
    "### Ho:\n",
    "##### - There is no correlation between runtime and the domestic gross revenue for a given movie at the 95% level.  \n",
    "\n",
    "### Ha:\n",
    "##### - There is a statistically significant correlation between runtime and the domestic gross revenue at the 95% level for a given movie."
   ]
  },
  {
   "cell_type": "code",
   "execution_count": null,
   "id": "35f24319",
   "metadata": {},
   "outputs": [],
   "source": [
    "# r-critical value to test if found r is statistically signifcant\n",
    "critical_r = 0.0510\n",
    "# Source: https://www.calculators.tech/t-value-calculator\n",
    "# (Unable to calculate by hand as I have been unable to find a direct formula to find this - must use either r-critical table or a r-crit calculator like the above source)\n",
    "df = domgross_im_db['Runtime'].count() - 2 # getting degrees of freedom to determine r-critical\n",
    "df"
   ]
  },
  {
   "cell_type": "code",
   "execution_count": null,
   "id": "e1b75abf",
   "metadata": {},
   "outputs": [],
   "source": [
    "# calculating correlation\n",
    "\n",
    "x = domgross_im_db['Runtime']\n",
    "y = domgross_im_db['domestic_gross']\n",
    "\n",
    "r = x.corr(y) # result is the pearson correlation coefficient\n",
    "r\n",
    "\n",
    "print(f'Pearson Correlation: {r} | r-critical: {critical_r} | Is r greater? {abs(r) >= critical_r}')\n",
    "if abs(r) >= critical_r:\n",
    "    print(\"Reject the null\")\n",
    "elif abs(r) < critical_r:\n",
    "    print(\"Fail to reject null\")"
   ]
  },
  {
   "cell_type": "code",
   "execution_count": null,
   "id": "b8bbdd87",
   "metadata": {},
   "outputs": [],
   "source": [
    "sns.lmplot(x=\"Runtime\", y=\"domestic_gross\", data=domgross_im_db, line_kws={'color': 'red'}, height=8, aspect=1.5);"
   ]
  },
  {
   "cell_type": "markdown",
   "id": "2404c526",
   "metadata": {},
   "source": [
    "### Worldwide Revenue per Rating Table \n",
    "- Merging on title"
   ]
  },
  {
   "cell_type": "code",
   "execution_count": null,
   "id": "54d59bcd",
   "metadata": {},
   "outputs": [],
   "source": [
    "# merging dr_movie_db with the sql database data\n",
    "wwgross_im_db = wwr_movie_db.merge(df_allrt,how='inner',on='title')\n",
    "wwgross_im_db"
   ]
  },
  {
   "cell_type": "code",
   "execution_count": null,
   "id": "cb92e81f",
   "metadata": {},
   "outputs": [],
   "source": [
    "# checking for unintentionally duplicated values\n",
    "wwgross_im_db.duplicated('title').value_counts() "
   ]
  },
  {
   "cell_type": "code",
   "execution_count": null,
   "id": "cd5988c5",
   "metadata": {
    "scrolled": true
   },
   "outputs": [],
   "source": [
    "# dropping found unintentionally duplicated values\n",
    "wwgross_im_db = wwgross_im_db.drop_duplicates(subset='title')\n",
    "wwgross_im_db"
   ]
  },
  {
   "cell_type": "markdown",
   "id": "b4682502",
   "metadata": {},
   "source": [
    "### Hypothesis Testing for Runtime and Worldwide Gross Revenue"
   ]
  },
  {
   "cell_type": "code",
   "execution_count": null,
   "id": "2137c564",
   "metadata": {},
   "outputs": [],
   "source": [
    "# standardizing population for secondary visualizations to follow\n",
    "mu = wwgross_im_db['worldwide_gross'].mean()\n",
    "std = wwgross_im_db['worldwide_gross'].std()\n",
    "\n",
    "pop_standardized_rating = [(x-mu)/std for x in wwgross_im_db['worldwide_gross']]\n",
    "pop_z_mean = np.mean(pop_standardized_rating)\n",
    "pop_z_mean"
   ]
  },
  {
   "cell_type": "markdown",
   "id": "5a1ecb00",
   "metadata": {},
   "source": [
    "### Less than 40 Minutes Testing\n",
    "\n",
    "### Z-Test\n",
    "\n",
    "### Ho:\n",
    "##### - There is no difference between the worldwide revenue of a movie that has a runtime of less than 40 minutes and other movies in the population.\n",
    "\n",
    "### Ha:\n",
    "##### - There is a statistically significant difference between the worldwide revenue of a movie that has a runtime of less than 40 minutes and the population. "
   ]
  },
  {
   "cell_type": "code",
   "execution_count": null,
   "id": "0a3308b1",
   "metadata": {},
   "outputs": [],
   "source": [
    "wwgross_40_db = wwgross_im_db.loc[wwgross_im_db['Runtime'] <= 40]\n",
    "wwgross_40_db"
   ]
  },
  {
   "cell_type": "markdown",
   "id": "066a1822",
   "metadata": {},
   "source": [
    "##### Unable to perform z-test for this as there are no rows in sample for this range."
   ]
  },
  {
   "cell_type": "markdown",
   "id": "54a95066",
   "metadata": {},
   "source": [
    "### 40 to 60 Minutes Testing\n",
    "\n",
    "### Z-Test\n",
    "\n",
    "### Ho:\n",
    "##### - There is no difference between the worldwide revenue of a movie that has a runtime of between 40 minutes and 60 minutes and other movies in the population.\n",
    "\n",
    "### Ha:\n",
    "##### - There is a statistically significant difference between the worldwide revenue of a movie that has a runtime of between 40 minutes and 60 minutes and other movies in the population."
   ]
  },
  {
   "cell_type": "code",
   "execution_count": null,
   "id": "5f7fc3e3",
   "metadata": {},
   "outputs": [],
   "source": [
    "wwgross_4060_db = wwgross_im_db.loc[(wwgross_im_db['Runtime'] > 40) & (wwgross_im_db['Runtime'] <= 60)]\n",
    "wwgross_4060_db"
   ]
  },
  {
   "cell_type": "markdown",
   "id": "01f0faa0",
   "metadata": {},
   "source": [
    "##### Unable to perform z-test for this as there are no rows in sample for this range."
   ]
  },
  {
   "cell_type": "markdown",
   "id": "b47764ca",
   "metadata": {},
   "source": [
    "### 60 to 90 Minutes Testing\n",
    "\n",
    "### Z-Test\n",
    "\n",
    "### Ho:\n",
    "##### - There is no difference between the worldwide revenue of a movie that has a runtime of between 60 minutes and 90 minutes and other movies in the population.\n",
    "\n",
    "### Ha:\n",
    "##### - There is a statistically significant difference between the worldwide revenue of a movie that has a runtime of between 60 minutes and 90 minutes and other movies in the population."
   ]
  },
  {
   "cell_type": "code",
   "execution_count": null,
   "id": "f2a6b63b",
   "metadata": {},
   "outputs": [],
   "source": [
    "wwgross_6090_db = wwgross_im_db.loc[(wwgross_im_db['Runtime'] > 60) & (wwgross_im_db['Runtime'] <= 90)]\n",
    "wwgross_6090_db"
   ]
  },
  {
   "cell_type": "code",
   "execution_count": null,
   "id": "c1f41950",
   "metadata": {},
   "outputs": [],
   "source": [
    "# z-test - 60 minutes to 90 minutes worldwide revenue run\n",
    "\n",
    "a = 0.025\n",
    "\n",
    "# two-tailed z-test\n",
    "x_bar = wwgross_6090_db['worldwide_gross'].mean()\n",
    "n = wwgross_6090_db['worldwide_gross'].count()\n",
    "std = wwgross_im_db['worldwide_gross'].std()\n",
    "mu = wwgross_im_db['worldwide_gross'].mean()\n",
    "\n",
    "z = (x_bar - mu)/(std/np.sqrt(n))\n",
    "p = 1 - stats.norm.cdf(np.absolute(z))\n",
    "\n",
    "# displaying results\n",
    "print(f'Sample Mean: {x_bar} | Population Mean: {mu} | Sample Size: {n}')\n",
    "print(f'p-value: {p} | z-score: {z} | Is p less than alpha? {p < a}')\n",
    "if p < a:\n",
    "    print(\"Reject the null\")\n",
    "elif p >= a:\n",
    "    print(\"Fail to reject null\")"
   ]
  },
  {
   "cell_type": "code",
   "execution_count": null,
   "id": "1dbc1253",
   "metadata": {},
   "outputs": [],
   "source": [
    "# normalizing distribution with for loop\n",
    "samp_standardized_rating = [(x-mu)/std for x in wwgross_6090_db['worldwide_gross']]\n",
    "z_mean = np.mean(samp_standardized_rating)\n",
    "print(f' Standardized Sample Mean: {z_mean}')"
   ]
  },
  {
   "cell_type": "code",
   "execution_count": null,
   "id": "6fb85933",
   "metadata": {},
   "outputs": [],
   "source": [
    "# visualizing above distribution as histogram\n",
    "fig, ax = plt.subplots(figsize=(10,8))\n",
    "\n",
    "ax.hist(samp_standardized_rating, bins=11, density=True, color='r')\n",
    "ax.set_xlabel('Z Scores')\n",
    "ax.set_title('60 to 90 Minutes - WW Revenue')\n",
    "\n",
    "# applying normalized curve over histogram\n",
    "sns.kdeplot(samp_standardized_rating, ax=ax, color='k')\n",
    "\n",
    "# marking standardized_mean\n",
    "ax.vlines(x=z_mean, ymin=0, ymax=0.7, color='b', label='Mean: -0.3105')\n",
    "ax.legend()"
   ]
  },
  {
   "cell_type": "code",
   "execution_count": null,
   "id": "f138d7a6",
   "metadata": {},
   "outputs": [],
   "source": [
    "# plotting tested runtime sample against population\n",
    "fig, ax = plt.subplots(figsize=(10,8))\n",
    "\n",
    "plt.hist(pop_standardized_rating, bins=16, density=True, color='b', alpha = 0.5)\n",
    "sns.kdeplot(pop_standardized_rating, ax=ax, color='y')\n",
    "\n",
    "plt.hist(samp_standardized_rating, bins=11, density=True, color='r', alpha = 0.5)\n",
    "sns.kdeplot(samp_standardized_rating, ax=ax, color='k')\n",
    "\n",
    "plt.vlines(x=z_mean, ymin=0, ymax=0.7, color='m', label='60 < x <= 90 Mean: -0.3105')\n",
    "plt.vlines(x=pop_z_mean, ymin=0, ymax=0.7, label='Population Mean: 0.0')\n",
    "                                              \n",
    "plt.xlabel('Z Scores')\n",
    "plt.title('60 to 90 Minutes to All Films - WW Revenue')\n",
    "plt.legend()"
   ]
  },
  {
   "cell_type": "markdown",
   "id": "e5e717e2",
   "metadata": {},
   "source": [
    "### 90 to 120 Minutes Testing\n",
    "\n",
    "### Z-Test\n",
    "\n",
    "### Ho:\n",
    "##### - There is no difference between the worldwide revenue of a movie that has a runtime of between 90 minutes and 120 minutes and other movies in the population.\n",
    "\n",
    "### Ha:\n",
    "##### - There is a statistically significant difference between the worldwide revenue of a movie that has a runtime of between 90 minutes and 120 minutes and other movies in the population."
   ]
  },
  {
   "cell_type": "code",
   "execution_count": null,
   "id": "cc9ce3ce",
   "metadata": {
    "scrolled": true
   },
   "outputs": [],
   "source": [
    "wwgross_90120_db = wwgross_im_db.loc[(wwgross_im_db['Runtime'] > 90) & (wwgross_im_db['Runtime'] <= 120)]\n",
    "wwgross_90120_db"
   ]
  },
  {
   "cell_type": "code",
   "execution_count": null,
   "id": "00e4a259",
   "metadata": {},
   "outputs": [],
   "source": [
    "# z-test - 90 minutes to 120 minutes worldwide revenue run\n",
    "\n",
    "a = 0.025\n",
    "\n",
    "# two-tailed z-test\n",
    "x_bar = wwgross_90120_db['worldwide_gross'].mean()\n",
    "n = wwgross_90120_db['worldwide_gross'].count()\n",
    "std = wwgross_im_db['worldwide_gross'].std()\n",
    "mu = wwgross_im_db['worldwide_gross'].mean()\n",
    "\n",
    "z = (x_bar - mu)/(std/np.sqrt(n))\n",
    "p = 1 - stats.norm.cdf(np.absolute(z))\n",
    "\n",
    "# displaying results\n",
    "print(f'Sample Mean: {x_bar} | Population Mean: {mu} | Sample Size: {n}')\n",
    "print(f'p-value: {p} | z-score: {z} | Is p less than alpha? {p < a}')\n",
    "if p < a:\n",
    "    print(\"Reject the null\")\n",
    "elif p >= a:\n",
    "    print(\"Fail to reject null\")"
   ]
  },
  {
   "cell_type": "code",
   "execution_count": null,
   "id": "c1297f58",
   "metadata": {},
   "outputs": [],
   "source": [
    "# normalizing distribution with for loop\n",
    "samp_standardized_rating = [(x-mu)/std for x in wwgross_90120_db['worldwide_gross']]\n",
    "z_mean = np.mean(samp_standardized_rating)\n",
    "print(f' Standardized Sample Mean: {z_mean}')"
   ]
  },
  {
   "cell_type": "code",
   "execution_count": null,
   "id": "2029c8de",
   "metadata": {},
   "outputs": [],
   "source": [
    "# visualizing above distribution as histogram\n",
    "fig, ax = plt.subplots(figsize=(10,8))\n",
    "\n",
    "ax.hist(samp_standardized_rating, bins=15, density=True, color='r')\n",
    "ax.set_xlabel('Z Scores')\n",
    "ax.set_title('90 to 120 Minutes - WW Revenue')\n",
    "\n",
    "# applying normalized curve over histogram\n",
    "sns.kdeplot(samp_standardized_rating, ax=ax, color='k')\n",
    "\n",
    "# marking standardized_mean\n",
    "ax.vlines(x=z_mean, ymin=0, ymax=0.7, color='b', label='Mean: -0.0203')\n",
    "ax.legend()"
   ]
  },
  {
   "cell_type": "code",
   "execution_count": null,
   "id": "3a624faf",
   "metadata": {},
   "outputs": [],
   "source": [
    "# plotting tested runtime sample against population\n",
    "fig, ax = plt.subplots(figsize=(10,8))\n",
    "\n",
    "plt.hist(pop_standardized_rating, bins=45, density=True, color='b', alpha = 0.5)\n",
    "sns.kdeplot(pop_standardized_rating, ax=ax, color='y')\n",
    "\n",
    "plt.hist(samp_standardized_rating, bins=15, density=True, color='r', alpha = 0.5)\n",
    "sns.kdeplot(samp_standardized_rating, ax=ax, color='k')\n",
    "\n",
    "plt.vlines(x=z_mean, ymin=0, ymax=0.7, color='m', label='90 < x <= 120 Mean: -0.0203')\n",
    "plt.vlines(x=pop_z_mean, ymin=0, ymax=0.7, label='Population Mean: 0.0')\n",
    "                                              \n",
    "plt.xlabel('Z Scores')\n",
    "plt.title('90 to 120 Minutes to All Films - WW Revenue')\n",
    "plt.legend()"
   ]
  },
  {
   "cell_type": "markdown",
   "id": "b53ac1f0",
   "metadata": {},
   "source": [
    "### 120 and up Minutes Testing\n",
    "\n",
    "### Z-Test\n",
    "\n",
    "### Ho:\n",
    "##### - There is no difference between the worldwide revenue of a movie that has a runtime of 120 minutes or greater and other movies in the population.\n",
    "\n",
    "### Ha:\n",
    "##### - There is a statistically significant difference between the worldwide revenue of a movie that has a runtime of 120 minutes or greater and other movies in the population at the 95% level."
   ]
  },
  {
   "cell_type": "code",
   "execution_count": null,
   "id": "bc33f18b",
   "metadata": {},
   "outputs": [],
   "source": [
    "wwgross_120up_db = wwgross_im_db.loc[wwgross_im_db['Runtime'] > 120]\n",
    "wwgross_120up_db"
   ]
  },
  {
   "cell_type": "code",
   "execution_count": null,
   "id": "b4d01a93",
   "metadata": {},
   "outputs": [],
   "source": [
    "# z-test - 120 minutes and up worldwide revenue run\n",
    "\n",
    "a = 0.025\n",
    "\n",
    "# two-tailed z-test\n",
    "x_bar = wwgross_120up_db['worldwide_gross'].mean()\n",
    "n = wwgross_120up_db['worldwide_gross'].count()\n",
    "std = wwgross_im_db['worldwide_gross'].std()\n",
    "mu = wwgross_im_db['worldwide_gross'].mean()\n",
    "\n",
    "z = (x_bar - mu)/(std/np.sqrt(n))\n",
    "p = 1 - stats.norm.cdf(np.absolute(z))\n",
    "\n",
    "# displaying results\n",
    "print(f'Sample Mean: {x_bar} | Population Mean: {mu} | Sample Size: {n}')\n",
    "print(f'p-value: {p} | z-score: {z} | Is p less than alpha? {p < a}')\n",
    "if p < a:\n",
    "    print(\"Reject the null\")\n",
    "elif p >= a:\n",
    "    print(\"Fail to reject null\")"
   ]
  },
  {
   "cell_type": "code",
   "execution_count": null,
   "id": "8347a38a",
   "metadata": {},
   "outputs": [],
   "source": [
    "# normalizing distribution with for loop\n",
    "samp_standardized_rating = [(x-mu)/std for x in wwgross_120up_db['worldwide_gross']]\n",
    "z_mean = np.mean(samp_standardized_rating)\n",
    "print(f' Standardized Sample Mean: {z_mean}')"
   ]
  },
  {
   "cell_type": "code",
   "execution_count": null,
   "id": "386473c4",
   "metadata": {},
   "outputs": [],
   "source": [
    "# visualizing above distribution as histogram\n",
    "fig, ax = plt.subplots(figsize=(10,8))\n",
    "\n",
    "ax.hist(samp_standardized_rating, bins=15, density=True, color='r')\n",
    "ax.set_xlabel('Z Scores')\n",
    "ax.set_title('120 Minutes and Up - WW Revenue')\n",
    "\n",
    "# applying normalized curve over histogram\n",
    "sns.kdeplot(samp_standardized_rating, ax=ax, color='k')\n",
    "\n",
    "# marking standardized_mean\n",
    "ax.vlines(x=z_mean, ymin=0, ymax=0.7, color='b', label='Mean: 0.2631')\n",
    "ax.legend()"
   ]
  },
  {
   "cell_type": "code",
   "execution_count": null,
   "id": "0af74f31",
   "metadata": {},
   "outputs": [],
   "source": [
    "# plotting tested runtime sample against population\n",
    "fig, ax = plt.subplots(figsize=(10,8))\n",
    "\n",
    "plt.hist(pop_standardized_rating, bins=45, density=True, color='b', alpha = 0.5)\n",
    "sns.kdeplot(pop_standardized_rating, ax=ax, color='y')\n",
    "\n",
    "plt.hist(samp_standardized_rating, bins=15, density=True, color='r', alpha = 0.5)\n",
    "sns.kdeplot(samp_standardized_rating, ax=ax, color='k')\n",
    "\n",
    "plt.vlines(x=z_mean, ymin=0, ymax=0.7, color='m', label='120 < x Mean: 0.2631')\n",
    "plt.vlines(x=pop_z_mean, ymin=0, ymax=0.7, label='Population Mean: 0.0')\n",
    "                                              \n",
    "plt.xlabel('Z Scores')\n",
    "plt.title('120 Minutes and Up to All Films - WW Revenue')\n",
    "plt.legend()"
   ]
  },
  {
   "cell_type": "markdown",
   "id": "b79ee8f5",
   "metadata": {},
   "source": [
    "### Domestic Gross Z-Tests:\n",
    "- For films that are less than 40 minute runtimes, we cannot perform a hypothesis test because our filter returns no values in this runtime range.\n",
    "    ##### - Inconclusive\n",
    "- For films that have between 40 and 60 minute runtimes, we cannot perform a hypothesis test because our filter returns no values in this runtime range.\n",
    "    ##### - Inconclusive\n",
    "- For films that have between 60 and 90 minute runtimes, we can reject the null hypothesis with a statistically significant p-value of 0.0026, meaning that in 95% of cases we can expect our revenue to be lower (due to negative z-score) if a film falls within this set of runtimes.\n",
    "    ##### - Reject the Null\n",
    "- For films that have between 90 and 120 minute runtimes, we fail to reject the null hypothesis for a p-value of 0.1094 because it is greater than our alpha 0.025.\n",
    "    ##### - Fail to reject the Null\n",
    "- For films that have either 120 minute runtimes or longer, we can reject the null hypothesis with a statistically significant p-value of 0.000004, meaning that in 95% of cases we can expect our revenue to be higher (due to positive z-score) because of the movie falling this range of runtimes.\n",
    "    ##### - Reject the Null\n",
    "    \n",
    "### Worldwide Gross Z-Tests:\n",
    "- For films that are less than 40 minute runtimes, we cannot perform a hypothesis test because our filter returns no values in this runtime range.\n",
    "    ##### - Inconclusive\n",
    "- For films that have between 40 and 60 minute runtimes, we can reject the null hypothesis with a statistically significant p-value of 0.0, meaning that in 95% of cases we can expect our average ratings to be higher because of this set of runtimes.\n",
    "    ##### - Inconclusive\n",
    "- For films that have between 60 and 90 minute runtimes, we can reject the null hypothesis with a statistically significant p-value of 0.0004, meaning that in 95% of cases we can expect our revenue to be lower (due to negative z-score) if a film falls within this set of runtimes.\n",
    "    ##### - Reject the Null\n",
    "- For films that have between 90 and 120 minute runtimes, we fail to reject the null hypothesis for a p-value of 0.2937 because it is greater than our alpha 0.025.\n",
    "    ##### - Fail to reject the Null\n",
    "- For films that have either 120 minute runtimes or longer, we can reject the null hypothesis with a statistically significant p-value of 0.0001, meaning that in 95% of cases we can expect our revenue to be higher (due to positive z-score) because of the movie falling this range of runtimes.\n",
    "    ##### - Reject the Null"
   ]
  },
  {
   "cell_type": "markdown",
   "id": "64bbd82e",
   "metadata": {},
   "source": [
    "### Correlation for Worldwide Gross Revenue\n",
    "\n",
    "### Ho:\n",
    "##### - There is no correlation between runtime and the worldwide gross revenue for a given movie at the 95% level.  \n",
    "\n",
    "### Ha:\n",
    "##### - There is a statistically significant correlation between runtime and the worldwide gross revenue at the 95% level for a given movie."
   ]
  },
  {
   "cell_type": "code",
   "execution_count": null,
   "id": "970767bb",
   "metadata": {},
   "outputs": [],
   "source": [
    "# r-critical value to test if found r is statistically signifcant\n",
    "critical_r = 0.0515\n",
    "# Source: https://www.calculators.tech/t-value-calculator\n",
    "# (Unable to calculate by hand as I have been unable to find a direct formula to find this - must use either r-critical table or a r-crit calculator like the above source)\n",
    "df = wwgross_im_db['Runtime'].count() - 2 # getting degrees of freedom to determine r-critical\n",
    "df"
   ]
  },
  {
   "cell_type": "code",
   "execution_count": null,
   "id": "a3128ed3",
   "metadata": {},
   "outputs": [],
   "source": [
    "# calculating correlation\n",
    "\n",
    "x = wwgross_im_db['Runtime']\n",
    "y = wwgross_im_db['worldwide_gross']\n",
    "\n",
    "r = x.corr(y) # result is the pearson correlation coefficient\n",
    "r\n",
    "\n",
    "print(f'Pearson Correlation: {r} | r-critical: {critical_r} | Is r greater? {abs(r) >= critical_r}')\n",
    "if abs(r) >= critical_r:\n",
    "    print(\"Reject the null\")\n",
    "elif abs(r) < critical_r:\n",
    "    print(\"Fail to reject null\")"
   ]
  },
  {
   "cell_type": "code",
   "execution_count": null,
   "id": "c614c403",
   "metadata": {},
   "outputs": [],
   "source": [
    "sns.lmplot(x=\"Runtime\", y=\"worldwide_gross\", data=wwgross_im_db, line_kws={'color': 'red'}, height=8, aspect=1.5);"
   ]
  },
  {
   "cell_type": "markdown",
   "id": "0b176099",
   "metadata": {},
   "source": [
    "## Frida"
   ]
  },
  {
   "cell_type": "code",
   "execution_count": null,
   "id": "b53898ba",
   "metadata": {},
   "outputs": [],
   "source": [
    "# Reading the \"Movie info\" file\n",
    "movie_info_df = pd.read_csv('databases/rt.movie_info.tsv', sep='\\t', encoding = 'utf-8', index_col=0)\n",
    "movie_info_df.head()"
   ]
  },
  {
   "cell_type": "code",
   "execution_count": null,
   "metadata": {},
   "outputs": [],
   "source": [
    "# Data frame overview. Column information, name-data type.\n",
    "movie_info_df.info()"
   ]
  },
  {
   "cell_type": "code",
   "execution_count": null,
   "metadata": {},
   "outputs": [],
   "source": [
    "# Counting missing values\n",
    "movie_info_df.isna().sum()\n",
    "\n",
    "# Removing duplicate records\n",
    "movie_info_df = movie_info_df.drop_duplicates()\n",
    "\n",
    "# Changing NaN values for String \"Not Available\"\n",
    "movie_info_df['rating'] = movie_info_df['rating'].fillna('N/A')\n",
    "movie_info_df['genre'] = movie_info_df['genre'].fillna('N/A')\n",
    "movie_info_df['director'] = movie_info_df['director'].fillna('N/A')\n",
    "movie_info_df['theater_date'] = movie_info_df['theater_date'].fillna('N/A')\n",
    "movie_info_df['dvd_date'] = movie_info_df['dvd_date'].fillna('N/A')\n",
    "movie_info_df['runtime'] = movie_info_df['runtime'].fillna('N/A')\n",
    "movie_info_df['studio'] = movie_info_df['studio'].fillna('N/A')\n",
    "movie_info_df['writer'] = movie_info_df['writer'].fillna('N/A')"
   ]
  },
  {
   "cell_type": "code",
   "execution_count": null,
   "metadata": {},
   "outputs": [],
   "source": [
    "# Changing NaN values for 0 in Box Office column\n",
    "movie_info_df['box_office'] = movie_info_df['box_office'].fillna(0)\n",
    "\n",
    "# Remmoving commas from Box Office values\n",
    "movie_info_df['box_office'] = movie_info_df['box_office'].replace({',':''}, regex=True)\n",
    "\n",
    "# Converting Box Office values into Integers\n",
    "movie_info_df['box_office'] = movie_info_df['box_office'].astype(float)"
   ]
  },
  {
   "cell_type": "code",
   "execution_count": null,
   "metadata": {},
   "outputs": [],
   "source": [
    "# Checking possible Currency values\n",
    "currency_values = set(movie_info_df.loc[:,\"currency\"])\n",
    "\n",
    "# Changing NaN values for \"$\" in Currency column since is the only currency in the DB\n",
    "movie_info_df['currency'] = movie_info_df['currency'].fillna('$')"
   ]
  },
  {
   "cell_type": "code",
   "execution_count": null,
   "metadata": {},
   "outputs": [],
   "source": [
    "\"\"\"\n",
    "Note: The information that we are interested in extracting from this database is the synopsis of each film, \n",
    "therefore, we have decided to delete those rows that do not have one.\n",
    "\"\"\"\n",
    "# Dropping rows with no synopsis\n",
    "cleansed_movie_info = movie_info_df.dropna(subset=['synopsis'])\n",
    "\n",
    "# Confirming that there in no more NaN values in our cleansed Data Frame\n",
    "cleansed_movie_info.isna().sum() # No more NaN values! We can start our analysis using the cleansed_movie_info DF"
   ]
  },
  {
   "cell_type": "markdown",
   "metadata": {},
   "source": [
    "### Creating new Data Frame to work on"
   ]
  },
  {
   "cell_type": "code",
   "execution_count": null,
   "metadata": {},
   "outputs": [],
   "source": [
    "\"\"\"\n",
    "Note: In order to analyze the most popular movies per year and genre, \n",
    "we created a new Data Frame containing only the Synopsis, Rating, Genres, Theater Date and Box Office.\n",
    "\"\"\""
   ]
  },
  {
   "cell_type": "code",
   "execution_count": null,
   "metadata": {},
   "outputs": [],
   "source": [
    "# Spliting the theater date, keeping only the year.\n",
    "only_year = cleansed_movie_info[\"theater_date\"].str.split(\",\", n = 1, expand = True)\n",
    "# Creating columns for new DF\n",
    "years = np.array(only_year[1])\n",
    "# converting Year string into float\n",
    "years = years.astype(np.float) \n",
    "\n",
    "synopsis = np.array(cleansed_movie_info[\"synopsis\"])\n",
    "ratings = np.array(cleansed_movie_info[\"rating\"])\n",
    "box_office = np.array(cleansed_movie_info[\"box_office\"])\n",
    "\n",
    "# Creating Main Movie Info DF\n",
    "main_movie_info = pd.DataFrame() \n",
    "\n",
    "# Adding columns to new DF\n",
    "main_movie_info['Synopsis'] = synopsis\n",
    "main_movie_info['Ratings'] = ratings\n",
    "main_movie_info['Box Office'] = box_office\n",
    "main_movie_info['Years'] = years\n",
    "main_movie_info['Years'] = main_movie_info['Years'].fillna(0) # Filling with 0 the empty records"
   ]
  },
  {
   "cell_type": "code",
   "execution_count": null,
   "metadata": {},
   "outputs": [],
   "source": [
    "#  Sppliting the Genres into different columns\n",
    "split_genre = cleansed_movie_info[\"genre\"].str.split(\"|\", n = 6, expand = True)\n",
    "\n",
    "# Some movies have more than five different genres\n",
    "genre1 = np.array(split_genre[0])\n",
    "genre2 = np.array(split_genre[1])\n",
    "genre3 = np.array(split_genre[2])\n",
    "genre4 = np.array(split_genre[3])\n",
    "genre5 = np.array(split_genre[4])\n",
    "genre6 = np.array(split_genre[5])\n",
    "genre7 = np.array(split_genre[6])\n",
    "\n",
    "# # Adding a column for each genre in the new DF\n",
    "main_movie_info['Genre 1'] = genre1\n",
    "main_movie_info['Genre 2'] = genre2\n",
    "#main_movie_info['Genre 3'] = genre3\n",
    "#main_movie_info['Genre 4'] = genre4\n",
    "#main_movie_info['Genre 5'] = genre5\n",
    "#main_movie_info['Genre 6'] = genre6\n",
    "#main_movie_info['Genre 7'] = genre7\n",
    "\n",
    "\"\"\"\n",
    "Note: We decided to leave only 2 genre columns because most of the films only have 2 types of genres\n",
    "\"\"\"\n",
    "# main_movie_info overview\n",
    "main_movie_info.head()"
   ]
  },
  {
   "cell_type": "markdown",
   "metadata": {},
   "source": [
    "## Analyzing the data"
   ]
  },
  {
   "cell_type": "markdown",
   "metadata": {},
   "source": [
    "### How many movies have been filmed in the last decades?"
   ]
  },
  {
   "cell_type": "code",
   "execution_count": null,
   "metadata": {},
   "outputs": [],
   "source": [
    "# Preparing data by filtering movies per Decade\n",
    "_20sfilms = main_movie_info.loc[(main_movie_info['Years'] >= 1920) & (main_movie_info['Years'] <= 1929)]\n",
    "_30sfilms = main_movie_info.loc[(main_movie_info['Years'] >= 1930) & (main_movie_info['Years'] <= 1939)]\n",
    "_40sfilms = main_movie_info.loc[(main_movie_info['Years'] >= 1940) & (main_movie_info['Years'] <= 1949)]\n",
    "_50sfilms = main_movie_info.loc[(main_movie_info['Years'] >= 1950) & (main_movie_info['Years'] <= 1959)]\n",
    "_60sfilms = main_movie_info.loc[(main_movie_info['Years'] >= 1960) & (main_movie_info['Years'] <= 1969)]\n",
    "_70sfilms = main_movie_info.loc[(main_movie_info['Years'] >= 1970) & (main_movie_info['Years'] <= 1979)]\n",
    "_80sfilms = main_movie_info.loc[(main_movie_info['Years'] >= 1980) & (main_movie_info['Years'] <= 1989)]\n",
    "_90sfilms = main_movie_info.loc[(main_movie_info['Years'] >= 1990) & (main_movie_info['Years'] <= 1999)]\n",
    "_00sfilms = main_movie_info.loc[(main_movie_info['Years'] >= 2000) & (main_movie_info['Years'] <= 2009)]\n",
    "_2010sfilms = main_movie_info.loc[(main_movie_info['Years'] >= 2010) & (main_movie_info['Years'] <= 2019)]\n",
    "\n",
    "# Counting movies per decade\n",
    "decades = [1920, 1930, 1940, 1950, 1960, 1970, 1980, 1999, 2000, 2010]\n",
    "movies_per_decade = [len(_20sfilms),len(_30sfilms),len(_40sfilms),len(_50sfilms),len(_60sfilms),len(_70sfilms),len(_80sfilms),len(_90sfilms),len(_00sfilms),len(_2010sfilms)]\n",
    "\n",
    "print('_________________________________________________________\\n')\n",
    "print('How many movies have been filmed in the last decades?\\n')\n",
    "print('Movies Per Decade:')\n",
    "for x,y in zip(decades,movies_per_decade):\n",
    "    print(x,y)\n",
    "print('_________________________________________________________\\n')"
   ]
  },
  {
   "cell_type": "code",
   "execution_count": null,
   "metadata": {},
   "outputs": [],
   "source": [
    "# Visualizing data\n",
    "x_decades = decades\n",
    "y_count = movies_per_decade\n",
    "\n",
    "# Graph attributes\n",
    "plt.figure(figsize=(10,10))\n",
    "plt.xlabel('Decades', color='purple')\n",
    "plt.ylabel('Movies', color='purple')\n",
    "plt.title('Movies Per Decade', color='indigo')\n",
    "\n",
    "# Plotting\n",
    "plt.plot(x_decades, y_count, marker = 'o', markerfacecolor = 'r', color = 'plum')\n",
    "plt.grid(True)\n",
    "plt.show()"
   ]
  },
  {
   "cell_type": "markdown",
   "metadata": {},
   "source": [
    "## Which are the most popular genres in the last decades?"
   ]
  },
  {
   "cell_type": "code",
   "execution_count": null,
   "metadata": {},
   "outputs": [],
   "source": [
    "# Prepering data for visualization \n",
    "# _decades = list of pd.serie that conteins all genres of movies released per decade \n",
    "_decades_ = [_20sfilms, _30sfilms, _40sfilms, _50sfilms, _60sfilms, _70sfilms, _80sfilms, _90sfilms, _00sfilms, _2010sfilms]\n",
    "\n",
    "# Creating a dictionary for each decade, it contains the total movies filmed per genre         \n",
    "_20sgenres = dict(collections.Counter(_20sfilms.loc[:,'Genre 1']))\n",
    "_30sgenres = dict(collections.Counter(_30sfilms.loc[:,'Genre 1']))\n",
    "_40sgenres = dict(collections.Counter(_40sfilms.loc[:,'Genre 1']))\n",
    "_50sgenres = dict(collections.Counter(_50sfilms.loc[:,'Genre 1']))\n",
    "_60sgenres = dict(collections.Counter(_60sfilms.loc[:,'Genre 1']))\n",
    "_70sgenres = dict(collections.Counter(_70sfilms.loc[:,'Genre 1']))\n",
    "_80sgenres = dict(collections.Counter(_80sfilms.loc[:,'Genre 1']))\n",
    "_90sgenres = dict(collections.Counter(_90sfilms.loc[:,'Genre 1']))\n",
    "_00sgenres = dict(collections.Counter(_00sfilms.loc[:,'Genre 1']))\n",
    "_2010sgenres = dict(collections.Counter(_2010sfilms.loc[:,'Genre 1']))"
   ]
  },
  {
   "cell_type": "code",
   "execution_count": null,
   "metadata": {},
   "outputs": [],
   "source": [
    "# To visualize the most popular genres we're ploting data from the last 4 decades (80s - 2010s)\n",
    "# 80s Decade\n",
    "_80_labels = _80sgenres.keys()\n",
    "_80_values = _80sgenres.values()\n",
    "\n",
    "plt.figure(figsize=(5,5))\n",
    "plt.title('Popular movie genre in the 1980s Decade', color='indigo')\n",
    "\n",
    "# Plotting\n",
    "plt.pie(_80_values, labels = _80_labels)\n",
    "plt.show()\n",
    "\n",
    "# 90s Decade\n",
    "_90_labels = _90sgenres.keys()\n",
    "_90_values = _90sgenres.values()\n",
    "\n",
    "plt.figure(figsize=(6,6))\n",
    "plt.title('Popular movie genre in the 1990s Decade', color='indigo')\n",
    "\n",
    "# Plotting\n",
    "plt.pie(_90_values, labels = _90_labels)\n",
    "plt.show()\n",
    "\n",
    "# 2000 Decade\n",
    "_2000_labels = _00sgenres.keys()\n",
    "_2000_values = _00sgenres.values()\n",
    "\n",
    "plt.figure(figsize=(10,10))\n",
    "plt.title('Popular movie genre in the 2000s Decade', color='indigo')\n",
    "\n",
    "# Plotting\n",
    "plt.pie(_2000_values, labels = _2000_labels)\n",
    "plt.show()\n",
    "\n",
    "# 2010 Decade\n",
    "_2010_labels = _2010sgenres.keys()\n",
    "_2010_values = _2010sgenres.values()\n",
    "\n",
    "plt.figure(figsize=(5,5))\n",
    "plt.title('Popular movie genre in the 2010s Decade', color='indigo')\n",
    "\n",
    "# Plotting\n",
    "plt.pie(_2010_values, labels = _2010_labels)\n",
    "plt.show()"
   ]
  },
  {
   "cell_type": "code",
   "execution_count": null,
   "metadata": {},
   "outputs": [],
   "source": [
    "print('_________________________________________________________\\n')\n",
    "print('Which are the most popular genres in the last decades?\\n')\n",
    "print('As we can see in the pie plots, Action and Adventure, Comedy and Drama are the most popular Gernres in the las Decades.')\n",
    "print('We recomend filming this type of movies.')\n",
    "print('_________________________________________________________\\n')"
   ]
  },
  {
   "cell_type": "markdown",
   "metadata": {},
   "source": [
    "## What are the most popular themes per genre?"
   ]
  },
  {
   "cell_type": "markdown",
   "metadata": {},
   "source": [
    "### In order to find the most popular content we joined the synopsis per genre and cleand the vocabulary that is used. Finaly, we count the repetitions of each word and sort them to obtain the most popular \"key words\" to create our recomendations."
   ]
  },
  {
   "cell_type": "code",
   "execution_count": null,
   "metadata": {},
   "outputs": [],
   "source": [
    "# Cleaning synopsis\n",
    "def clean_synopsis(word, stop_words):\n",
    "    word = word.lower()\n",
    "    words = re.findall('[a-záéíóúüñ]+', word)# Making sure synopsis words dont have a-záéíóúüñ \n",
    "    new_words = [w for w in words if ((not w in stop_words) and len(w)>=3 and len(w)<=24)] # Keeping only words ->\n",
    "    return new_words                        #  different from stop words and also removing short or long words\n",
    "                                            # this function returns the cleaned words from the synopsis\n",
    "    \n",
    "# Creating a vocabulary based on synopsis with matching Genre and Decade\n",
    "def create_vocabulary(decade_genre_df):\n",
    "    vocabulary = []    # Vocabulary joins all synopsis words with matching Genre and Decade \n",
    "    for synopsis in decade_genre_df :\n",
    "        s = clean_synopsis(synopsis.strip(),s_w) # striping word from synopsis, this will clean a word at a time\n",
    "        vocabulary.extend(s)\n",
    "\n",
    "    return dict(collections.Counter(vocabulary)) # returns a dictionary like: key -> word, value -> repetitions of that word \n",
    "\n",
    "s_w = stopwords.words('english')\n",
    "#stops = set(stopwords.words('english')) # Uncoment to print ount english stop words \n",
    "#print(stops)\n",
    "\n",
    "# more words that we eant to ignore to refine our vocabulary\n",
    "s_w.extend(['film','one','two','story','director','new','action','adventure','peter', 'john', 'back',\n",
    "            'world','man', 'well','life', 'also', 'first','get','comedy','however', 'become', 'david','allen','jack'\n",
    "           'true', 'award', 'academy','deckard','willie', 'even','celie', 'loretta', 'whose','lynn','james'])"
   ]
  },
  {
   "cell_type": "code",
   "execution_count": null,
   "metadata": {},
   "outputs": [],
   "source": [
    "# synopsis with matching Genre and Decade\n",
    "\n",
    "# Action and Adventure\n",
    "#_80s_action_Adventure\n",
    "_80s_action_Adventure = _80sfilms.loc[_80sfilms['Genre 1'] == 'Action and Adventure',\"Synopsis\"]\n",
    "_80s_acction_adventure_voc = create_vocabulary(_80s_action_Adventure) # Calling function to create vocabulary\n",
    "\n",
    "#_90s_action_Adventure \n",
    "_90s_action_Adventure = _90sfilms.loc[_90sfilms['Genre 1'] == 'Action and Adventure',\"Synopsis\"]\n",
    "_90s_acction_adventure_voc = create_vocabulary(_90s_action_Adventure)\n",
    "\n",
    "#_00s_action_Adventure \n",
    "_00s_action_Adventure = _00sfilms.loc[_00sfilms['Genre 1'] == 'Action and Adventure',\"Synopsis\"]\n",
    "_00s_acction_adventure_voc = create_vocabulary(_00s_action_Adventure)\n",
    "\n",
    "#_00s_action_Adventure \n",
    "_2010s_action_Adventure = _2010sfilms.loc[_2010sfilms['Genre 1'] == 'Action and Adventure',\"Synopsis\"]\n",
    "_2010s_acction_adventure_voc = create_vocabulary(_2010s_action_Adventure)\n",
    "\n",
    "# ----------------------------------------------------------------------------------------------------------------\n",
    "#_80s_Comedy\n",
    "_80s_Comedy = _80sfilms.loc[_80sfilms['Genre 1'] == 'Comedy',\"Synopsis\"]\n",
    "_80s_Comedy_voc = create_vocabulary(_80s_Comedy)\n",
    "\n",
    "#_90s_Comedy \n",
    "_90s_Comedy = _90sfilms.loc[_90sfilms['Genre 1'] == 'Comedy',\"Synopsis\"]\n",
    "_90s_Comedy_voc = create_vocabulary(_90s_Comedy)\n",
    "\n",
    "#_00s_Comedy \n",
    "_00s_Comedy = _00sfilms.loc[_00sfilms['Genre 1'] == 'Comedy',\"Synopsis\"]\n",
    "_00s_Comedy_voc = create_vocabulary(_00s_Comedy)\n",
    "\n",
    "#_00s_Comedy \n",
    "_2010s_Comedy = _2010sfilms.loc[_2010sfilms['Genre 1'] == 'Comedy',\"Synopsis\"]\n",
    "_2010s_Comedy_voc = create_vocabulary(_2010s_Comedy)\n",
    "\n",
    "# ----------------------------------------------------------------------------------------------------------------\n",
    "#_80s_Drama\n",
    "_80s_Drama = _80sfilms.loc[_80sfilms['Genre 1'] == 'Drama',\"Synopsis\"]\n",
    "_80s_Drama_voc = create_vocabulary(_80s_Drama)\n",
    "\n",
    "#_90s_Drama \n",
    "_90s_Drama = _90sfilms.loc[_90sfilms['Genre 1'] == 'Drama',\"Synopsis\"]\n",
    "_90s_Drama_voc = create_vocabulary(_90s_Drama)\n",
    "\n",
    "#_00s_Drama\n",
    "_00s_Drama = _00sfilms.loc[_00sfilms['Genre 1'] == 'Drama',\"Synopsis\"]\n",
    "_00s_Drama_voc = create_vocabulary(_00s_Drama)\n",
    "\n",
    "#_00s_Drama\n",
    "_2010s_Drama = _2010sfilms.loc[_2010sfilms['Genre 1'] == 'Drama',\"Synopsis\"]\n",
    "_2010s_Drama_voc = create_vocabulary(_2010s_Drama)"
   ]
  },
  {
   "cell_type": "code",
   "execution_count": null,
   "metadata": {},
   "outputs": [],
   "source": [
    "def most_popular_themes(vocabulary):\n",
    "    _counter = 0\n",
    "    popular_themes = []\n",
    "    for word in sorted(vocabulary, key=vocabulary.get, reverse=True): # Sorting vocabulary dict in order to get the most \n",
    "        popular_themes.append(word)                                   # repeted words: \"popular words\"\n",
    "        _counter += 1\n",
    "        if _counter == 5: # Saving only the 5 most popular words in our vocabulary\n",
    "            break\n",
    "    \n",
    "    return popular_themes"
   ]
  },
  {
   "cell_type": "code",
   "execution_count": null,
   "metadata": {},
   "outputs": [],
   "source": [
    "# Popular themes in Action Adventure movies\n",
    "most_popular_80s_acction_adventure = most_popular_themes(_80s_acction_adventure_voc)\n",
    "most_popular_90s_acction_adventure = most_popular_themes(_90s_acction_adventure_voc)\n",
    "most_popular_00s_acction_adventure = most_popular_themes(_00s_acction_adventure_voc)\n",
    "most_popular_2010s_acction_adventure = most_popular_themes(_2010s_acction_adventure_voc)\n",
    "\n",
    "# Popular themes in Comedy movies\n",
    "most_popular_80s_Comedy = most_popular_themes(_80s_Comedy_voc)\n",
    "most_popular_90s_Comedy = most_popular_themes(_90s_Comedy_voc)\n",
    "most_popular_00s_Comedy= most_popular_themes(_00s_Comedy_voc)\n",
    "most_popular_2010s_Comedy = most_popular_themes(_2010s_Comedy_voc)\n",
    "\n",
    "# Popular themes in Drama movies\n",
    "most_popular_80s_Drama = most_popular_themes(_80s_Drama_voc)\n",
    "most_popular_90s_Drama = most_popular_themes(_90s_Drama_voc)\n",
    "most_popular_00s_Drama = most_popular_themes(_00s_Drama_voc)\n",
    "most_popular_2010s_Drama = most_popular_themes(_2010s_Drama_voc)\n",
    "\n",
    "# Printing results of the most popular words per genre\n",
    "print('Most popular words in Acction Adventure Vocabulary')\n",
    "print(most_popular_80s_acction_adventure)\n",
    "print(most_popular_90s_acction_adventure)\n",
    "print(most_popular_00s_acction_adventure)\n",
    "print(most_popular_2010s_acction_adventure)\n",
    "print('_______________________________________________')\n",
    "\n",
    "print('Most popular words in Comedy Vocabulary')\n",
    "print(most_popular_80s_Comedy)\n",
    "print(most_popular_90s_Comedy)\n",
    "print(most_popular_00s_Comedy)\n",
    "print(most_popular_2010s_Comedy)\n",
    "print('_______________________________________________')\n",
    "\n",
    "print('Most popular words in Drama Vocabulary')\n",
    "print(most_popular_80s_Drama)\n",
    "print(most_popular_90s_Drama)\n",
    "print(most_popular_00s_Drama)\n",
    "print(most_popular_2010s_Drama)\n",
    "print('_______________________________________________')"
   ]
  },
  {
   "cell_type": "markdown",
   "metadata": {},
   "source": [
    "### Our recomendations"
   ]
  },
  {
   "cell_type": "code",
   "execution_count": null,
   "metadata": {},
   "outputs": [],
   "source": [
    "\"\"\"\n",
    "Based on the insights founded in the Analysis on the data provided, we establish that the best opctions for filming \n",
    "1)  Category: Acction/Adventure. \n",
    "    Theme: cops with superpowers fighting a civil war in a big city.\n",
    "\n",
    "2)  Category: Comedy \n",
    "    Theme: New kid arrives to high shcool, finds new love and seeks to please his friends. \n",
    "\n",
    "3)  Category: Drama\n",
    "    Theme: Thue based story of a young family. \n",
    "\"\"\""
   ]
  },
  {
   "cell_type": "markdown",
   "id": "f716bcb3",
   "metadata": {},
   "source": [
    "## Enrique"
   ]
  },
  {
   "cell_type": "code",
   "execution_count": null,
   "id": "cb3612cc",
   "metadata": {},
   "outputs": [],
   "source": [
    "#read tmdb file, make sure values are in the same format, and drop null values\n",
    "tmdbmovie_db = pd.read_csv('databases/tmdb.movies.csv', na_filter=True, na_values='[]', encoding = 'utf-8', index_col = 0)\n",
    "tmdbmovie_db.dropna()\n",
    "\n",
    "#drop extra title column\n",
    "tmdbmovie_db = tmdbmovie_db.drop('original_title', axis = 1)\n",
    "\n",
    "#standardize release date into date format\n",
    "tmdbmovie_db['release_date'] = pd.to_datetime(tmdbmovie_db['release_date'])\n",
    "\n",
    "#strip whitespace from title\n",
    "tmdbmovie_db['title'] = tmdbmovie_db['title'].str.strip()\n",
    "\n",
    "#remove duplicates\n",
    "tmdbmovie_db = tmdbmovie_db.drop_duplicates()\n",
    "\n",
    "#convert genre_ids to name\n",
    "#df.where()\n",
    "\n",
    "tmdbmovie_db"
   ]
  },
  {
   "cell_type": "code",
   "execution_count": null,
   "metadata": {},
   "outputs": [],
   "source": [
    "#read tmdb file, make sure values are in the same format, and drop null values\n",
    "tmdbmovie_db = pd.read_csv('databases/tmdb.movies.csv', na_filter=True, na_values='[]', encoding = 'utf-8', index_col = 0)\n",
    "tmdbmovie_db.dropna()\n",
    "\n",
    "#drop extra title column\n",
    "tmdbmovie_db = tmdbmovie_db.drop('original_title', axis = 1)\n",
    "\n",
    "#standardize release date into date format\n",
    "tmdbmovie_db['release_date'] = pd.to_datetime(tmdbmovie_db['release_date'])\n",
    "\n",
    "#strip whitespace from title\n",
    "tmdbmovie_db['title'] = tmdbmovie_db['title'].str.strip()\n",
    "\n",
    "#remove duplicates\n",
    "tmdbmovie_db = tmdbmovie_db.drop_duplicates()\n",
    "\n",
    "#convert genre_ids to name\n",
    "#df.where()\n",
    "\n",
    "tmdbmovie_db"
   ]
  },
  {
   "cell_type": "code",
   "execution_count": null,
   "metadata": {},
   "outputs": [],
   "source": [
    "#read tn file, make sure values are in the same format, and drop null values\n",
    "tnmovie_db = pd.read_csv('databases/tn.movie_budgets.csv', na_filter=True, na_values='[]', encoding = 'utf-8', index_col = 0)\n",
    "tnmovie_db.dropna()\n",
    "\n",
    "#standardize release date into date format\n",
    "tnmovie_db['release_date'] = pd.to_datetime(tnmovie_db['release_date'])\n",
    "\n",
    "#strip whitespace from title\n",
    "tnmovie_db['movie'] = tnmovie_db['movie'].str.strip()\n",
    "\n",
    "#strip $\n",
    "tnmovie_db['production_budget'] = tnmovie_db['production_budget'].str.strip('$')\n",
    "tnmovie_db['domestic_gross'] = tnmovie_db['domestic_gross'].str.strip('$')\n",
    "tnmovie_db['worldwide_gross'] = tnmovie_db['worldwide_gross'].str.strip('$')\n",
    "\n",
    "#remove ,\n",
    "tnmovie_db['production_budget'] = tnmovie_db['production_budget'].replace(\",\", \"\", regex=True)\n",
    "tnmovie_db['domestic_gross'] = tnmovie_db['domestic_gross'].replace(\",\", \"\", regex=True)\n",
    "tnmovie_db['worldwide_gross'] = tnmovie_db['worldwide_gross'].replace(\",\", \"\", regex=True)\n",
    "\n",
    "#convert to integers\n",
    "tnmovie_db['production_budget'] = tnmovie_db['production_budget'].astype(int)\n",
    "tnmovie_db['domestic_gross'] = tnmovie_db['domestic_gross'].astype(int)\n",
    "tnmovie_db['worldwide_gross'] = tnmovie_db['worldwide_gross'].astype(float)\n",
    "\n",
    "#create metric ratios\n",
    "tnmovie_db['dom_gross / budget'] = tnmovie_db['domestic_gross'] / tnmovie_db['production_budget']\n",
    "tnmovie_db['ww_gross / budget'] = tnmovie_db['worldwide_gross'] / tnmovie_db['production_budget']\n",
    "tnmovie_db['dom_profit'] = tnmovie_db['domestic_gross'] - tnmovie_db['production_budget']\n",
    "tnmovie_db['profit'] = tnmovie_db['worldwide_gross'] - tnmovie_db['production_budget']\n",
    "\n",
    "tnmovie_db"
   ]
  },
  {
   "cell_type": "code",
   "execution_count": null,
   "metadata": {},
   "outputs": [],
   "source": [
    "#merge title and movie name\n",
    "tnmovie_db = tnmovie_db.rename(columns = {\"movie\":\"title\"})\n",
    "\n",
    "#special cases where movie titles do not match\n",
    "tnmovie_db['title'].replace({'Harry Potter and the Deathly Hallows: Part I' : 'Harry Potter and the Deathly Hallows: Part 1'}, inplace=True)\n",
    "tnmovie_db['title'].replace({'Harry Potter and the Deathly Hallows: Part II' : 'Harry Potter and the Deathly Hallows: Part 2'}, inplace=True)\n",
    "tmdbmovie_db['title'].replace({'Fast & Furious 6':'Fast and Furious 6'}, inplace=True)\n",
    "tnmovie_db['title'].replace({'Star Wars: The Force Awakens' : 'Star Wars Ep. VII: The Force Awakens'}, inplace=True)\n",
    "tnmovie_db['title'].replace({'Star Wars: The Last Jedi' : 'Star Wars Ep. VIII: The Last Jedi'}, inplace=True)\n",
    "\n",
    "#merge databases\n",
    "movie_db = tmdbmovie_db.merge(tnmovie_db, how = 'left')\n",
    "\n",
    "#drop null values\n",
    "movie_db.dropna()"
   ]
  },
  {
   "cell_type": "code",
   "execution_count": null,
   "metadata": {},
   "outputs": [],
   "source": [
    "#remove values that have 0 in the domestic_gross column\n",
    "newmovie_db = movie_db.drop(movie_db[movie_db['domestic_gross'] < 1].index)\n",
    "newmovie_db"
   ]
  },
  {
   "cell_type": "code",
   "execution_count": null,
   "metadata": {},
   "outputs": [],
   "source": [
    "#check to see if worldwide_gross and domestic_gross is 0 to remove outliers\n",
    "dcount = 0\n",
    "for x in movie_db['domestic_gross']:\n",
    "    if x == 0:\n",
    "        dcount += 1\n",
    "print(dcount)\n",
    "\n",
    "wwcount = 0\n",
    "for x in movie_db['worldwide_gross']:\n",
    "    if x == 0:\n",
    "        wwcount += 1\n",
    "print(wwcount)"
   ]
  },
  {
   "cell_type": "code",
   "execution_count": null,
   "metadata": {},
   "outputs": [],
   "source": [
    "newmovie_db.dtypesnewmovie_db['popularity'].describe()"
   ]
  },
  {
   "cell_type": "code",
   "execution_count": null,
   "metadata": {},
   "outputs": [],
   "source": [
    "newmovie_db['ww_gross / budget'].describe()"
   ]
  },
  {
   "cell_type": "code",
   "execution_count": null,
   "metadata": {},
   "outputs": [],
   "source": [
    "newmovie_db['dom_gross / budget'].describe()"
   ]
  },
  {
   "cell_type": "code",
   "execution_count": null,
   "metadata": {},
   "outputs": [],
   "source": [
    "newmovie_db['genre_ids'].describe()"
   ]
  },
  {
   "cell_type": "code",
   "execution_count": null,
   "metadata": {},
   "outputs": [],
   "source": [
    "newmovie_db.value_counts('genre_ids').nlargest(12)"
   ]
  },
  {
   "cell_type": "code",
   "execution_count": null,
   "metadata": {},
   "outputs": [],
   "source": [
    "newmovie_db.value_counts('popularity').nlargest(12)"
   ]
  },
  {
   "cell_type": "code",
   "execution_count": null,
   "metadata": {},
   "outputs": [],
   "source": [
    "dfg = newmovie_db.groupby(['release_date', 'genre_ids']).agg({'profit': sum}).reset_index()\n",
    "dfg"
   ]
  },
  {
   "cell_type": "code",
   "execution_count": null,
   "metadata": {},
   "outputs": [],
   "source": [
    "\n",
    "fig, ax = plt.subplots()\n",
    "ax.hist(movie_db['genre_ids'], bins='auto')\n",
    "ax.set_xlabel('genre')\n",
    "ax.set_ylabel('ww_gross / budget')\n",
    "ax.set_title('Distribution of genre in Raw Data')"
   ]
  },
  {
   "cell_type": "code",
   "execution_count": null,
   "metadata": {},
   "outputs": [],
   "source": [
    "plt.figure(figsize=(10, 6))\n",
    "\n",
    "sns.lineplot(x='release_date', y='profit', data=dfg, hue='genre_ids')\n",
    "plt.legend(bbox_to_anchor=(1.05, 1), loc='upper left')\n",
    "plt.xticks(rotation=90)\n",
    "plt.show()"
   ]
  },
  {
   "cell_type": "code",
   "execution_count": null,
   "metadata": {},
   "outputs": [],
   "source": [
    "fig, ax = plt.subplots()\n",
    "ax.hist(movie_db['genre_ids'], bins='auto')\n",
    "ax.set_xlabel('genre')\n",
    "ax.set_ylabel('ww_gross / budget')\n",
    "ax.set_title('Distribution of genre in Raw Data')"
   ]
  },
  {
   "cell_type": "markdown",
   "metadata": {},
   "source": [
    "Our recommendation would be, if you are looking for a gamble then Adventure, War, Action and Fantasy could produce some great results. The leading profit genres (Action, Drama, Adventure) paint the more reliable story, and genre Action appears to be increasing in popularity."
   ]
  },
  {
   "cell_type": "markdown",
   "metadata": {},
   "source": [
    "Beside here we try to find a correlation of what we have stated in the graphs above."
   ]
  },
  {
   "cell_type": "markdown",
   "metadata": {},
   "source": [
    "H0 = there's a significative correlation between genre, the ratios and popularity (worlwide_gross/production_rate, dom_gross / budget and popularity)"
   ]
  },
  {
   "cell_type": "markdown",
   "metadata": {},
   "source": [
    "H1 = there's not a significative correlation between genre,the ratios and popularity (worlwide_gross/production_rate and dom_gross / budget and popularity)"
   ]
  },
  {
   "cell_type": "markdown",
   "metadata": {},
   "source": [
    "ANOVA is the most appropriate technique since we are trying to determine whether there is a difference in genre across 3 categories."
   ]
  },
  {
   "cell_type": "markdown",
   "metadata": {},
   "source": [
    "#import statsmodels.api as sm\n",
    "#from statsmodels.formula.api import ols\n",
    "\n",
    "#formula = 'none'\n",
    "#lm = ols(formula, movie_db).fit()\n",
    "#sm.stats.anova_lm(lm)"
   ]
  },
  {
   "cell_type": "markdown",
   "metadata": {},
   "source": [
    "Preparation, modelling, visualisation and interpretation of the data, allowed us to conduct analysis of the movies that have been created since 2010.\n",
    "\n",
    "- Adventure films on average are the most profitable\n",
    "- The industry leaders preferred creating Action, Drama & Comedy films"
   ]
  },
  {
   "cell_type": "markdown",
   "id": "413fd3ee",
   "metadata": {},
   "source": [
    "## John"
   ]
  },
  {
   "cell_type": "code",
   "execution_count": null,
   "id": "c91e11f0",
   "metadata": {},
   "outputs": [],
   "source": [
    "# Opening + Reading the Movie_Gross CSV file\n",
    "tmdb_movie_gross = pd.read_csv('DataBases/bom.movie_gross.csv', encoding = 'utf-8')\n",
    "\n",
    "# Remove duplicate records\n",
    "tmdb_movie_gross = tmdb_movie_gross.drop_duplicates()\n",
    "\n",
    "# Replace NaN / null values to a \"0\" because we're reviewing gross/money. no value = no money generated in domestic gross\n",
    "## Standardize domestic_gross into an int\n",
    "tmdb_movie_gross['domestic_gross'] = tmdb_movie_gross['domestic_gross'].fillna(0)\n",
    "tmdb_movie_gross['domestic_gross'] = tmdb_movie_gross['domestic_gross'].astype(int)\n",
    "\n",
    "# Standardize foreign_gross into a float because you cannot turn decimals into an int\n",
    "## Inorder to change values into a float, you must get rid of the commas\n",
    "### Replace NaN / null values to a \"0\" because we're reviewing gross/money. no value = no money generated in foreign_gross\n",
    "tmdb_movie_gross['foreign_gross'] = tmdb_movie_gross['foreign_gross'].replace(\",\", \"\", regex=True)\n",
    "tmdb_movie_gross['foreign_gross'] = tmdb_movie_gross['foreign_gross'].astype(float)\n",
    "tmdb_movie_gross['foreign_gross'] = tmdb_movie_gross['foreign_gross'].fillna(0)\n",
    "\n",
    "# Because there were 5 entries that were null in Studio, we change the null value to a string that says \"N/A\" which just means that we don't know the studio that produced the film\n",
    "tmdb_movie_gross['studio'] = tmdb_movie_gross['studio'].fillna('N/A')\n",
    "\n",
    "#Display Movie_Gross Data\n",
    "tmdb_movie_gross"
   ]
  },
  {
   "cell_type": "code",
   "execution_count": null,
   "id": "4682ed66",
   "metadata": {},
   "outputs": [],
   "source": [
    "#display info, type, and # of values in each column\n",
    "tmdb_movie_gross.info()"
   ]
  },
  {
   "cell_type": "code",
   "execution_count": null,
   "id": "33d8149e",
   "metadata": {},
   "outputs": [],
   "source": [
    "#test to see if all columns have the same ammount of values\n",
    "tmdb_movie_gross.duplicated().value_counts() "
   ]
  },
  {
   "cell_type": "code",
   "execution_count": null,
   "id": "de44777c",
   "metadata": {},
   "outputs": [],
   "source": [
    "#test to see if there are NaN values\n",
    "tmdb_movie_gross.isnull().sum()"
   ]
  },
  {
   "cell_type": "code",
   "execution_count": null,
   "metadata": {},
   "outputs": [],
   "source": [
    "\"Peer Programing/Assisting with Elliot's Branch for Data Viz\""
   ]
  },
  {
   "cell_type": "code",
   "execution_count": null,
   "metadata": {},
   "outputs": [],
   "source": [
    "## Coppied Over for Review\n",
    "\n",
    "#read tmdb file, make sure values are in the same format, and drop null values\n",
    "tmdb_movie_db = pd.read_csv('databases/tmdb.movies.csv', na_filter=True, na_values='[]', encoding = 'utf-8', index_col = 0)\n",
    "tmdb_movie_db.dropna()\n",
    "#drop extra title column\n",
    "tmdb_movie_db = tmdb_movie_db.drop('original_title', axis = 1)\n",
    "#standardize release date into date format\n",
    "tmdb_movie_db['release_date'] = pd.to_datetime(tmdb_movie_db['release_date'])\n",
    "#strip whitespace from title\n",
    "tmdb_movie_db['title'] = tmdb_movie_db['title'].str.strip()\n",
    "#remove duplicates\n",
    "tmdb_movie_db = tmdb_movie_db.drop_duplicates()\n",
    "#convert genre_ids to name\n",
    "#df.where()\n",
    "\n",
    "tmdb_movie_db"
   ]
  },
  {
   "cell_type": "code",
   "execution_count": null,
   "metadata": {},
   "outputs": [],
   "source": [
    "## Coppied Over for Review\n",
    "\n",
    "#read tn file, make sure values are in the same format, and drop null values\n",
    "tn_movie_db = pd.read_csv('databases/tn.movie_budgets.csv', na_filter=True, na_values='[]', encoding = 'utf-8', index_col = 0)\n",
    "tn_movie_db.dropna()\n",
    "#standardize release date into date format\n",
    "tn_movie_db['release_date'] = pd.to_datetime(tn_movie_db['release_date'])\n",
    "#strip whitespace from title\n",
    "tn_movie_db['movie'] = tn_movie_db['movie'].str.strip()\n",
    "#strip $\n",
    "tn_movie_db['production_budget'] = tn_movie_db['production_budget'].str.strip('$')\n",
    "tn_movie_db['domestic_gross'] = tn_movie_db['domestic_gross'].str.strip('$')\n",
    "tn_movie_db['worldwide_gross'] = tn_movie_db['worldwide_gross'].str.strip('$')\n",
    "#remove ,\n",
    "tn_movie_db['production_budget'] = tn_movie_db['production_budget'].replace(\",\", \"\", regex=True)\n",
    "tn_movie_db['domestic_gross'] = tn_movie_db['domestic_gross'].replace(\",\", \"\", regex=True)\n",
    "tn_movie_db['worldwide_gross'] = tn_movie_db['worldwide_gross'].replace(\",\", \"\", regex=True)\n",
    "#convert to integers\n",
    "tn_movie_db['production_budget'] = tn_movie_db['production_budget'].astype(int)\n",
    "tn_movie_db['domestic_gross'] = tn_movie_db['domestic_gross'].astype(int)\n",
    "tn_movie_db['worldwide_gross'] = tn_movie_db['worldwide_gross'].astype(float)\n",
    "#create metric ratios\n",
    "tn_movie_db['dom_gross / budget'] = tn_movie_db['domestic_gross'] / tn_movie_db['production_budget']\n",
    "tn_movie_db['ww_gross / budget'] = tn_movie_db['worldwide_gross'] / tn_movie_db['production_budget']\n",
    "tn_movie_db['dom_profit'] = tn_movie_db['domestic_gross'] - tn_movie_db['production_budget']\n",
    "tn_movie_db['profit'] = tn_movie_db['worldwide_gross'] - tn_movie_db['production_budget']\n",
    "\n",
    "tn_movie_db"
   ]
  },
  {
   "cell_type": "code",
   "execution_count": null,
   "metadata": {},
   "outputs": [],
   "source": [
    "## Copied Over for Review \n",
    "\n",
    "#merge title and movie name\n",
    "tn_movie_db = tn_movie_db.rename(columns = {\"movie\":\"title\"})\n",
    "\n",
    "#special cases where movie titles do not match\n",
    "tn_movie_db['title'].replace({'Harry Potter and the Deathly Hallows: Part I' : 'Harry Potter and the Deathly Hallows: Part 1'}, inplace=True)\n",
    "tn_movie_db['title'].replace({'Harry Potter and the Deathly Hallows: Part II' : 'Harry Potter and the Deathly Hallows: Part 2'}, inplace=True)\n",
    "tmdb_movie_db['title'].replace({'Fast & Furious 6':'Fast and Furious 6'}, inplace=True)\n",
    "tn_movie_db['title'].replace({'Star Wars: The Force Awakens' : 'Star Wars Ep. VII: The Force Awakens'}, inplace=True)\n",
    "tn_movie_db['title'].replace({'Star Wars: The Last Jedi' : 'Star Wars Ep. VIII: The Last Jedi'}, inplace=True)\n",
    "\n",
    "#merge databases\n",
    "movie_db = tmdb_movie_db.merge(tn_movie_db, how = 'left')\n",
    "\n",
    "\n",
    "#drop null values\n",
    "movie_db = movie_db.dropna()\n",
    "\n",
    "movie_db"
   ]
  },
  {
   "cell_type": "code",
   "execution_count": null,
   "metadata": {},
   "outputs": [],
   "source": [
    "# check to make sure that there are no values with 0\n",
    "## new_movie_db.loc[movie_db['worldwide_gross'] < 1]\n",
    "## sorted(new_movie_db['worldwide_gross'].value_counts().index.to_list())"
   ]
  },
  {
   "cell_type": "code",
   "execution_count": null,
   "metadata": {},
   "outputs": [],
   "source": [
    "new_movie_db = movie_db.drop(movie_db[movie_db['domestic_gross'] < 1].index)\n",
    "new_movie_db"
   ]
  },
  {
   "cell_type": "code",
   "execution_count": null,
   "metadata": {},
   "outputs": [],
   "source": [
    "#check + count all values\n",
    "movie_db['genre_ids'].value_counts()"
   ]
  },
  {
   "cell_type": "code",
   "execution_count": null,
   "metadata": {},
   "outputs": [],
   "source": [
    "# Plot Bar Chart\n",
    "## Genre's X Axis is conjested\n",
    "\n",
    "fig, ax = plt.subplots(figsize=(10, 12))\n",
    "\n",
    "#ax.hist(movie_db['dom_gross / budget'].mean(), 10, tick_label = movie_db['genre_ids'])\n",
    "ax.hist(movie_db['genre_ids'], bins='auto')\n",
    "\n",
    "ax.set_title('Average Dom_gross / Budget Ratio per Genres')\n",
    "ax.set_ylabel('Average Dom_gross / Budget')\n",
    "ax.set_xlabel('Movie Genres');\n",
    "\n",
    "\n",
    "\n",
    "#x = movie_db['genre_ids']\n",
    "\n",
    "#y = movie_db['dom_gross / budget'].mean()\n",
    "\n",
    "#plt.hist(x, bins = 1000, edgecolor='black', color='#00C8AD')\n",
    "#plt.xlabel('Movie Genres')\n",
    "#plt.ylabel('Average Dom_gross / Budget')\n",
    "#plt.title('Average Dom_gross / Budget Ratio per Genres')\n",
    "#plt.show()"
   ]
  },
  {
   "cell_type": "code",
   "execution_count": null,
   "metadata": {},
   "outputs": [],
   "source": [
    "x = movie_db['genre_ids']\n",
    "\n",
    "y = movie_db['ww_gross / budget'].mean()\n",
    "\n",
    "plt.hist(x, bins = 50, edgecolor='black')\n",
    "plt.xlabel('Movie Genres')\n",
    "plt.ylabel('Average WW_gross / Budget')\n",
    "plt.title('Average WW_gross / Budget Ratio per Genres')\n",
    "plt.show()"
   ]
  },
  {
   "cell_type": "code",
   "execution_count": null,
   "metadata": {},
   "outputs": [],
   "source": [
    "'profit per genre'\n",
    "\n",
    "### Coppied Over for Peer Review\n",
    "\n",
    "## fig, ax = plt.subplots(figsize=(10, 12))\n",
    "## ax.hist(movie_db['dom_gross / budget'].mean(), 10, tick_label = movie_db['genre_ids'])\n",
    "## ax.hist(movie_db['genre_ids'], bins='auto')\n",
    "\n",
    "#ax.set_title('Profit by Genre')\n",
    "#ax.set_ylabel('Movie Profit')\n",
    "#x.set_xlabel('Movie Genres');\n",
    "\n",
    "# 'profit per genre'\n",
    "\n",
    "#df_mr1.value_counts('genres').nlargest(12)\n",
    "\n",
    "#for z test\n",
    "#df_mr1.describe()\n",
    "\n",
    "##ztest ,propability_value = stests.ztest(dataframe['movie_db'], x2=None, value=146)\n",
    "##print(float(propability_value))\n",
    "##if propability_value<0.05:\n",
    "##print(\"Null hyphothesis rejected , Alternative hyphothesis accepted\")\n",
    "##else:\n",
    "##print(\"Null hyphothesis accepted , Alternative hyphothesis rejected\")"
   ]
  }
 ],
 "metadata": {
  "kernelspec": {
   "display_name": "Python 3 (ipykernel)",
   "language": "python",
   "name": "python3"
  },
  "language_info": {
   "codemirror_mode": {
    "name": "ipython",
    "version": 3
   },
   "file_extension": ".py",
   "mimetype": "text/x-python",
   "name": "python",
   "nbconvert_exporter": "python",
   "pygments_lexer": "ipython3",
   "version": "3.9.12"
  }
 },
 "nbformat": 4,
 "nbformat_minor": 5
}
