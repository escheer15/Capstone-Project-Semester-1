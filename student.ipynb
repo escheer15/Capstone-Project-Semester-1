{
 "cells": [
  {
   "cell_type": "markdown",
   "metadata": {},
   "source": [
    "# Semester 1 Project Submission\n",
    "\n"
   ]
  },
  {
   "cell_type": "markdown",
   "metadata": {},
   "source": [
    "# Elliot"
   ]
  },
  {
   "cell_type": "code",
   "execution_count": 1,
   "metadata": {},
   "outputs": [],
   "source": [
    "# Your code here - remember to use markdown cells for comments as well!"
   ]
  },
  {
   "cell_type": "markdown",
   "metadata": {},
   "source": [
    "# Ian"
   ]
  },
  {
   "cell_type": "code",
   "execution_count": 2,
   "metadata": {},
   "outputs": [],
   "source": [
    "# Your code here - remember to use markdown cells for comments as well!"
   ]
  },
  {
   "cell_type": "markdown",
   "metadata": {},
   "source": [
    "# Frida"
   ]
  },
  {
   "cell_type": "code",
   "execution_count": 3,
   "metadata": {},
   "outputs": [],
   "source": [
    "# Importing\n",
    "import pandas as pd\n",
    "import numpy as np\n",
    "import collections\n",
    "import matplotlib.pyplot as plt\n",
    "%matplotlib inline"
   ]
  },
  {
   "cell_type": "code",
   "execution_count": 4,
   "metadata": {},
   "outputs": [
    {
     "data": {
      "text/html": [
       "<div>\n",
       "<style scoped>\n",
       "    .dataframe tbody tr th:only-of-type {\n",
       "        vertical-align: middle;\n",
       "    }\n",
       "\n",
       "    .dataframe tbody tr th {\n",
       "        vertical-align: top;\n",
       "    }\n",
       "\n",
       "    .dataframe thead th {\n",
       "        text-align: right;\n",
       "    }\n",
       "</style>\n",
       "<table border=\"1\" class=\"dataframe\">\n",
       "  <thead>\n",
       "    <tr style=\"text-align: right;\">\n",
       "      <th></th>\n",
       "      <th>synopsis</th>\n",
       "      <th>rating</th>\n",
       "      <th>genre</th>\n",
       "      <th>director</th>\n",
       "      <th>writer</th>\n",
       "      <th>theater_date</th>\n",
       "      <th>dvd_date</th>\n",
       "      <th>currency</th>\n",
       "      <th>box_office</th>\n",
       "      <th>runtime</th>\n",
       "      <th>studio</th>\n",
       "    </tr>\n",
       "    <tr>\n",
       "      <th>id</th>\n",
       "      <th></th>\n",
       "      <th></th>\n",
       "      <th></th>\n",
       "      <th></th>\n",
       "      <th></th>\n",
       "      <th></th>\n",
       "      <th></th>\n",
       "      <th></th>\n",
       "      <th></th>\n",
       "      <th></th>\n",
       "      <th></th>\n",
       "    </tr>\n",
       "  </thead>\n",
       "  <tbody>\n",
       "    <tr>\n",
       "      <th>1</th>\n",
       "      <td>This gritty, fast-paced, and innovative police...</td>\n",
       "      <td>R</td>\n",
       "      <td>Action and Adventure|Classics|Drama</td>\n",
       "      <td>William Friedkin</td>\n",
       "      <td>Ernest Tidyman</td>\n",
       "      <td>Oct 9, 1971</td>\n",
       "      <td>Sep 25, 2001</td>\n",
       "      <td>NaN</td>\n",
       "      <td>NaN</td>\n",
       "      <td>104 minutes</td>\n",
       "      <td>NaN</td>\n",
       "    </tr>\n",
       "    <tr>\n",
       "      <th>3</th>\n",
       "      <td>New York City, not-too-distant-future: Eric Pa...</td>\n",
       "      <td>R</td>\n",
       "      <td>Drama|Science Fiction and Fantasy</td>\n",
       "      <td>David Cronenberg</td>\n",
       "      <td>David Cronenberg|Don DeLillo</td>\n",
       "      <td>Aug 17, 2012</td>\n",
       "      <td>Jan 1, 2013</td>\n",
       "      <td>$</td>\n",
       "      <td>600,000</td>\n",
       "      <td>108 minutes</td>\n",
       "      <td>Entertainment One</td>\n",
       "    </tr>\n",
       "    <tr>\n",
       "      <th>5</th>\n",
       "      <td>Illeana Douglas delivers a superb performance ...</td>\n",
       "      <td>R</td>\n",
       "      <td>Drama|Musical and Performing Arts</td>\n",
       "      <td>Allison Anders</td>\n",
       "      <td>Allison Anders</td>\n",
       "      <td>Sep 13, 1996</td>\n",
       "      <td>Apr 18, 2000</td>\n",
       "      <td>NaN</td>\n",
       "      <td>NaN</td>\n",
       "      <td>116 minutes</td>\n",
       "      <td>NaN</td>\n",
       "    </tr>\n",
       "    <tr>\n",
       "      <th>6</th>\n",
       "      <td>Michael Douglas runs afoul of a treacherous su...</td>\n",
       "      <td>R</td>\n",
       "      <td>Drama|Mystery and Suspense</td>\n",
       "      <td>Barry Levinson</td>\n",
       "      <td>Paul Attanasio|Michael Crichton</td>\n",
       "      <td>Dec 9, 1994</td>\n",
       "      <td>Aug 27, 1997</td>\n",
       "      <td>NaN</td>\n",
       "      <td>NaN</td>\n",
       "      <td>128 minutes</td>\n",
       "      <td>NaN</td>\n",
       "    </tr>\n",
       "    <tr>\n",
       "      <th>7</th>\n",
       "      <td>NaN</td>\n",
       "      <td>NR</td>\n",
       "      <td>Drama|Romance</td>\n",
       "      <td>Rodney Bennett</td>\n",
       "      <td>Giles Cooper</td>\n",
       "      <td>NaN</td>\n",
       "      <td>NaN</td>\n",
       "      <td>NaN</td>\n",
       "      <td>NaN</td>\n",
       "      <td>200 minutes</td>\n",
       "      <td>NaN</td>\n",
       "    </tr>\n",
       "  </tbody>\n",
       "</table>\n",
       "</div>"
      ],
      "text/plain": [
       "                                             synopsis rating  \\\n",
       "id                                                             \n",
       "1   This gritty, fast-paced, and innovative police...      R   \n",
       "3   New York City, not-too-distant-future: Eric Pa...      R   \n",
       "5   Illeana Douglas delivers a superb performance ...      R   \n",
       "6   Michael Douglas runs afoul of a treacherous su...      R   \n",
       "7                                                 NaN     NR   \n",
       "\n",
       "                                  genre          director  \\\n",
       "id                                                          \n",
       "1   Action and Adventure|Classics|Drama  William Friedkin   \n",
       "3     Drama|Science Fiction and Fantasy  David Cronenberg   \n",
       "5     Drama|Musical and Performing Arts    Allison Anders   \n",
       "6            Drama|Mystery and Suspense    Barry Levinson   \n",
       "7                         Drama|Romance    Rodney Bennett   \n",
       "\n",
       "                             writer  theater_date      dvd_date currency  \\\n",
       "id                                                                         \n",
       "1                    Ernest Tidyman   Oct 9, 1971  Sep 25, 2001      NaN   \n",
       "3      David Cronenberg|Don DeLillo  Aug 17, 2012   Jan 1, 2013        $   \n",
       "5                    Allison Anders  Sep 13, 1996  Apr 18, 2000      NaN   \n",
       "6   Paul Attanasio|Michael Crichton   Dec 9, 1994  Aug 27, 1997      NaN   \n",
       "7                      Giles Cooper           NaN           NaN      NaN   \n",
       "\n",
       "   box_office      runtime             studio  \n",
       "id                                             \n",
       "1         NaN  104 minutes                NaN  \n",
       "3     600,000  108 minutes  Entertainment One  \n",
       "5         NaN  116 minutes                NaN  \n",
       "6         NaN  128 minutes                NaN  \n",
       "7         NaN  200 minutes                NaN  "
      ]
     },
     "execution_count": 4,
     "metadata": {},
     "output_type": "execute_result"
    }
   ],
   "source": [
    "# Reading the \"Movie info\" file\n",
    "movie_info_df = pd.read_csv('databases/rt.movie_info.tsv', sep='\\t', encoding = 'utf-8', index_col=0)\n",
    "movie_info_df.head()"
   ]
  },
  {
   "cell_type": "markdown",
   "metadata": {},
   "source": [
    "## Data Cleaning"
   ]
  },
  {
   "cell_type": "code",
   "execution_count": 5,
   "metadata": {},
   "outputs": [
    {
     "name": "stdout",
     "output_type": "stream",
     "text": [
      "<class 'pandas.core.frame.DataFrame'>\n",
      "Int64Index: 1560 entries, 1 to 2000\n",
      "Data columns (total 11 columns):\n",
      " #   Column        Non-Null Count  Dtype \n",
      "---  ------        --------------  ----- \n",
      " 0   synopsis      1498 non-null   object\n",
      " 1   rating        1557 non-null   object\n",
      " 2   genre         1552 non-null   object\n",
      " 3   director      1361 non-null   object\n",
      " 4   writer        1111 non-null   object\n",
      " 5   theater_date  1201 non-null   object\n",
      " 6   dvd_date      1201 non-null   object\n",
      " 7   currency      340 non-null    object\n",
      " 8   box_office    340 non-null    object\n",
      " 9   runtime       1530 non-null   object\n",
      " 10  studio        494 non-null    object\n",
      "dtypes: object(11)\n",
      "memory usage: 146.2+ KB\n"
     ]
    }
   ],
   "source": [
    "# Data frame overview. Column information, name-data type.\n",
    "movie_info_df.info()"
   ]
  },
  {
   "cell_type": "code",
   "execution_count": 6,
   "metadata": {},
   "outputs": [
    {
     "data": {
      "text/plain": [
       "synopsis          62\n",
       "rating             3\n",
       "genre              8\n",
       "director         199\n",
       "writer           449\n",
       "theater_date     359\n",
       "dvd_date         359\n",
       "currency        1220\n",
       "box_office      1220\n",
       "runtime           30\n",
       "studio          1066\n",
       "dtype: int64"
      ]
     },
     "execution_count": 6,
     "metadata": {},
     "output_type": "execute_result"
    }
   ],
   "source": [
    "# Counting missing values\n",
    "movie_info_df.isna().sum()"
   ]
  },
  {
   "cell_type": "code",
   "execution_count": 7,
   "metadata": {},
   "outputs": [],
   "source": [
    "# Removing duplicate records\n",
    "movie_info_df = movie_info_df.drop_duplicates()"
   ]
  },
  {
   "cell_type": "code",
   "execution_count": 8,
   "metadata": {},
   "outputs": [],
   "source": [
    "# Changing NaN values for String \"Not Available\"\n",
    "movie_info_df['rating'] = movie_info_df['rating'].fillna('N/A')\n",
    "movie_info_df['genre'] = movie_info_df['genre'].fillna('N/A')\n",
    "movie_info_df['director'] = movie_info_df['director'].fillna('N/A')\n",
    "movie_info_df['theater_date'] = movie_info_df['theater_date'].fillna('N/A')\n",
    "movie_info_df['dvd_date'] = movie_info_df['dvd_date'].fillna('N/A')\n",
    "movie_info_df['runtime'] = movie_info_df['runtime'].fillna('N/A')\n",
    "movie_info_df['studio'] = movie_info_df['studio'].fillna('N/A')\n",
    "movie_info_df['writer'] = movie_info_df['writer'].fillna('N/A')"
   ]
  },
  {
   "cell_type": "code",
   "execution_count": 9,
   "metadata": {},
   "outputs": [],
   "source": [
    "# Changing NaN values for 0 in Box Office column\n",
    "movie_info_df['box_office'] = movie_info_df['box_office'].fillna(0)\n",
    "\n",
    "# Remmoving commas from Box Office values\n",
    "movie_info_df['box_office'] = movie_info_df['box_office'].replace({',':''}, regex=True)\n",
    "\n",
    "# Converting Box Office values into Integers\n",
    "movie_info_df['box_office'] = movie_info_df['box_office'].astype(float)"
   ]
  },
  {
   "cell_type": "code",
   "execution_count": 10,
   "metadata": {},
   "outputs": [],
   "source": [
    "# Checking possible Currency values\n",
    "currency_values = set(movie_info_df.loc[:,\"currency\"])\n",
    "\n",
    "# Changing NaN values for \"$\" in Currency column\n",
    "movie_info_df['currency'] = movie_info_df['currency'].fillna('$')"
   ]
  },
  {
   "cell_type": "code",
   "execution_count": 11,
   "metadata": {},
   "outputs": [],
   "source": [
    "\"\"\"\n",
    "Note: The information that we are interested in extracting from this database is the synopsis of each film, \n",
    "therefore, we have decided to eliminate those lines that do not have one.\n",
    "\"\"\"\n",
    "# Dropping rows with no synopsis\n",
    "cleansed_movie_info = movie_info_df.dropna(subset=['synopsis'])"
   ]
  },
  {
   "cell_type": "code",
   "execution_count": 12,
   "metadata": {},
   "outputs": [
    {
     "data": {
      "text/plain": [
       "synopsis        0\n",
       "rating          0\n",
       "genre           0\n",
       "director        0\n",
       "writer          0\n",
       "theater_date    0\n",
       "dvd_date        0\n",
       "currency        0\n",
       "box_office      0\n",
       "runtime         0\n",
       "studio          0\n",
       "dtype: int64"
      ]
     },
     "execution_count": 12,
     "metadata": {},
     "output_type": "execute_result"
    }
   ],
   "source": [
    "# Confirming that there in no more NaN values in our cleansed Data Frame\n",
    "cleansed_movie_info.isna().sum() # No more NaN values! We can start our analysis using the cleansed_movie_info DF"
   ]
  },
  {
   "cell_type": "code",
   "execution_count": 13,
   "metadata": {},
   "outputs": [
    {
     "data": {
      "text/html": [
       "<div>\n",
       "<style scoped>\n",
       "    .dataframe tbody tr th:only-of-type {\n",
       "        vertical-align: middle;\n",
       "    }\n",
       "\n",
       "    .dataframe tbody tr th {\n",
       "        vertical-align: top;\n",
       "    }\n",
       "\n",
       "    .dataframe thead th {\n",
       "        text-align: right;\n",
       "    }\n",
       "</style>\n",
       "<table border=\"1\" class=\"dataframe\">\n",
       "  <thead>\n",
       "    <tr style=\"text-align: right;\">\n",
       "      <th></th>\n",
       "      <th>synopsis</th>\n",
       "      <th>rating</th>\n",
       "      <th>genre</th>\n",
       "      <th>director</th>\n",
       "      <th>writer</th>\n",
       "      <th>theater_date</th>\n",
       "      <th>dvd_date</th>\n",
       "      <th>currency</th>\n",
       "      <th>box_office</th>\n",
       "      <th>runtime</th>\n",
       "      <th>studio</th>\n",
       "    </tr>\n",
       "    <tr>\n",
       "      <th>id</th>\n",
       "      <th></th>\n",
       "      <th></th>\n",
       "      <th></th>\n",
       "      <th></th>\n",
       "      <th></th>\n",
       "      <th></th>\n",
       "      <th></th>\n",
       "      <th></th>\n",
       "      <th></th>\n",
       "      <th></th>\n",
       "      <th></th>\n",
       "    </tr>\n",
       "  </thead>\n",
       "  <tbody>\n",
       "    <tr>\n",
       "      <th>1</th>\n",
       "      <td>This gritty, fast-paced, and innovative police...</td>\n",
       "      <td>R</td>\n",
       "      <td>Action and Adventure|Classics|Drama</td>\n",
       "      <td>William Friedkin</td>\n",
       "      <td>Ernest Tidyman</td>\n",
       "      <td>Oct 9, 1971</td>\n",
       "      <td>Sep 25, 2001</td>\n",
       "      <td>$</td>\n",
       "      <td>0.0</td>\n",
       "      <td>104 minutes</td>\n",
       "      <td>N/A</td>\n",
       "    </tr>\n",
       "    <tr>\n",
       "      <th>1271</th>\n",
       "      <td>In 2003, respected filmmaker and screenwriter ...</td>\n",
       "      <td>R</td>\n",
       "      <td>Horror</td>\n",
       "      <td>Paul Schrader</td>\n",
       "      <td>N/A</td>\n",
       "      <td>May 20, 2005</td>\n",
       "      <td>Oct 25, 2005</td>\n",
       "      <td>$</td>\n",
       "      <td>0.0</td>\n",
       "      <td>111 minutes</td>\n",
       "      <td>N/A</td>\n",
       "    </tr>\n",
       "    <tr>\n",
       "      <th>1270</th>\n",
       "      <td>NaN</td>\n",
       "      <td>NR</td>\n",
       "      <td>Art House and International|Drama</td>\n",
       "      <td>Xie Jin</td>\n",
       "      <td>Yanzhou Lu</td>\n",
       "      <td>N/A</td>\n",
       "      <td>N/A</td>\n",
       "      <td>$</td>\n",
       "      <td>0.0</td>\n",
       "      <td>120 minutes</td>\n",
       "      <td>N/A</td>\n",
       "    </tr>\n",
       "    <tr>\n",
       "      <th>1267</th>\n",
       "      <td>NaN</td>\n",
       "      <td>NR</td>\n",
       "      <td>Action and Adventure|Kids and Family|Science F...</td>\n",
       "      <td>Guy Ritchie</td>\n",
       "      <td>John August|Guy Ritchie</td>\n",
       "      <td>N/A</td>\n",
       "      <td>N/A</td>\n",
       "      <td>$</td>\n",
       "      <td>0.0</td>\n",
       "      <td>N/A</td>\n",
       "      <td>N/A</td>\n",
       "    </tr>\n",
       "    <tr>\n",
       "      <th>1266</th>\n",
       "      <td>Slow-moving and dark, this Klute clone stars T...</td>\n",
       "      <td>R</td>\n",
       "      <td>Drama|Mystery and Suspense</td>\n",
       "      <td>Gordon Willis</td>\n",
       "      <td>N/A</td>\n",
       "      <td>N/A</td>\n",
       "      <td>N/A</td>\n",
       "      <td>$</td>\n",
       "      <td>0.0</td>\n",
       "      <td>96 minutes</td>\n",
       "      <td>N/A</td>\n",
       "    </tr>\n",
       "  </tbody>\n",
       "</table>\n",
       "</div>"
      ],
      "text/plain": [
       "                                               synopsis rating  \\\n",
       "id                                                               \n",
       "1     This gritty, fast-paced, and innovative police...      R   \n",
       "1271  In 2003, respected filmmaker and screenwriter ...      R   \n",
       "1270                                                NaN     NR   \n",
       "1267                                                NaN     NR   \n",
       "1266  Slow-moving and dark, this Klute clone stars T...      R   \n",
       "\n",
       "                                                  genre          director  \\\n",
       "id                                                                          \n",
       "1                   Action and Adventure|Classics|Drama  William Friedkin   \n",
       "1271                                             Horror     Paul Schrader   \n",
       "1270                  Art House and International|Drama           Xie Jin   \n",
       "1267  Action and Adventure|Kids and Family|Science F...       Guy Ritchie   \n",
       "1266                         Drama|Mystery and Suspense     Gordon Willis   \n",
       "\n",
       "                       writer  theater_date      dvd_date currency  \\\n",
       "id                                                                   \n",
       "1              Ernest Tidyman   Oct 9, 1971  Sep 25, 2001        $   \n",
       "1271                      N/A  May 20, 2005  Oct 25, 2005        $   \n",
       "1270               Yanzhou Lu           N/A           N/A        $   \n",
       "1267  John August|Guy Ritchie           N/A           N/A        $   \n",
       "1266                      N/A           N/A           N/A        $   \n",
       "\n",
       "      box_office      runtime studio  \n",
       "id                                    \n",
       "1            0.0  104 minutes    N/A  \n",
       "1271         0.0  111 minutes    N/A  \n",
       "1270         0.0  120 minutes    N/A  \n",
       "1267         0.0          N/A    N/A  \n",
       "1266         0.0   96 minutes    N/A  "
      ]
     },
     "execution_count": 13,
     "metadata": {},
     "output_type": "execute_result"
    }
   ],
   "source": [
    "# Movies with highest earnings\n",
    "box_o = movie_info_df.sort_values('box_office')\n",
    "box_o.head(5)"
   ]
  },
  {
   "cell_type": "markdown",
   "metadata": {},
   "source": [
    "## Creating new Data Frame to work on"
   ]
  },
  {
   "cell_type": "code",
   "execution_count": 14,
   "metadata": {},
   "outputs": [
    {
     "name": "stderr",
     "output_type": "stream",
     "text": [
      "C:\\Users\\fmartinezflores\\AppData\\Local\\Temp\\ipykernel_17756\\3660241732.py:10: DeprecationWarning: `np.float` is a deprecated alias for the builtin `float`. To silence this warning, use `float` by itself. Doing this will not modify any behavior and is safe. If you specifically wanted the numpy scalar type, use `np.float64` here.\n",
      "Deprecated in NumPy 1.20; for more details and guidance: https://numpy.org/devdocs/release/1.20.0-notes.html#deprecations\n",
      "  years = years.astype(np.float) # converting Year string into float\n"
     ]
    }
   ],
   "source": [
    "\"\"\"\n",
    "Note: In order to analyze the most popular movies per year and genre, \n",
    "we created a new Data Frame containing only the Synopsis, Rating, Genres, Theater Date and Box Office.\n",
    "\"\"\"\n",
    "# Sppliting the theater date, keeping only the year.\n",
    "only_year = cleansed_movie_info[\"theater_date\"].str.split(\",\", n = 1, expand = True)\n",
    "\n",
    "# Creating columns for new DF\n",
    "\n",
    "years = np.array(only_year[1])\n",
    "# converting Year string into float\n",
    "years = years.astype(np.float) \n",
    "\n",
    "synopsis = np.array(cleansed_movie_info[\"synopsis\"])\n",
    "ratings = np.array(cleansed_movie_info[\"rating\"])\n",
    "box_office = np.array(cleansed_movie_info[\"box_office\"])\n",
    "\n",
    "# Creating Main Movie Info DF\n",
    "main_movie_info = pd.DataFrame() \n",
    "\n",
    "# Adding columns to new DF\n",
    "main_movie_info['Synopsis'] = synopsis\n",
    "main_movie_info['Ratings'] = ratings\n",
    "main_movie_info['Box Office'] = box_office\n",
    "main_movie_info['Years'] = years\n",
    "main_movie_info['Years'] = main_movie_info['Years'].fillna(0)\n"
   ]
  },
  {
   "cell_type": "code",
   "execution_count": 15,
   "metadata": {},
   "outputs": [
    {
     "data": {
      "text/html": [
       "<div>\n",
       "<style scoped>\n",
       "    .dataframe tbody tr th:only-of-type {\n",
       "        vertical-align: middle;\n",
       "    }\n",
       "\n",
       "    .dataframe tbody tr th {\n",
       "        vertical-align: top;\n",
       "    }\n",
       "\n",
       "    .dataframe thead th {\n",
       "        text-align: right;\n",
       "    }\n",
       "</style>\n",
       "<table border=\"1\" class=\"dataframe\">\n",
       "  <thead>\n",
       "    <tr style=\"text-align: right;\">\n",
       "      <th></th>\n",
       "      <th>Synopsis</th>\n",
       "      <th>Ratings</th>\n",
       "      <th>Box Office</th>\n",
       "      <th>Years</th>\n",
       "      <th>Genre 1</th>\n",
       "      <th>Genre 2</th>\n",
       "    </tr>\n",
       "  </thead>\n",
       "  <tbody>\n",
       "    <tr>\n",
       "      <th>0</th>\n",
       "      <td>This gritty, fast-paced, and innovative police...</td>\n",
       "      <td>R</td>\n",
       "      <td>0.0</td>\n",
       "      <td>1971.0</td>\n",
       "      <td>Action and Adventure</td>\n",
       "      <td>Classics</td>\n",
       "    </tr>\n",
       "    <tr>\n",
       "      <th>1</th>\n",
       "      <td>New York City, not-too-distant-future: Eric Pa...</td>\n",
       "      <td>R</td>\n",
       "      <td>600000.0</td>\n",
       "      <td>2012.0</td>\n",
       "      <td>Drama</td>\n",
       "      <td>Science Fiction and Fantasy</td>\n",
       "    </tr>\n",
       "    <tr>\n",
       "      <th>2</th>\n",
       "      <td>Illeana Douglas delivers a superb performance ...</td>\n",
       "      <td>R</td>\n",
       "      <td>0.0</td>\n",
       "      <td>1996.0</td>\n",
       "      <td>Drama</td>\n",
       "      <td>Musical and Performing Arts</td>\n",
       "    </tr>\n",
       "    <tr>\n",
       "      <th>3</th>\n",
       "      <td>Michael Douglas runs afoul of a treacherous su...</td>\n",
       "      <td>R</td>\n",
       "      <td>0.0</td>\n",
       "      <td>1994.0</td>\n",
       "      <td>Drama</td>\n",
       "      <td>Mystery and Suspense</td>\n",
       "    </tr>\n",
       "    <tr>\n",
       "      <th>4</th>\n",
       "      <td>The year is 1942. As the Allies unite overseas...</td>\n",
       "      <td>PG</td>\n",
       "      <td>0.0</td>\n",
       "      <td>2000.0</td>\n",
       "      <td>Drama</td>\n",
       "      <td>Kids and Family</td>\n",
       "    </tr>\n",
       "  </tbody>\n",
       "</table>\n",
       "</div>"
      ],
      "text/plain": [
       "                                            Synopsis Ratings  Box Office  \\\n",
       "0  This gritty, fast-paced, and innovative police...       R         0.0   \n",
       "1  New York City, not-too-distant-future: Eric Pa...       R    600000.0   \n",
       "2  Illeana Douglas delivers a superb performance ...       R         0.0   \n",
       "3  Michael Douglas runs afoul of a treacherous su...       R         0.0   \n",
       "4  The year is 1942. As the Allies unite overseas...      PG         0.0   \n",
       "\n",
       "    Years               Genre 1                      Genre 2  \n",
       "0  1971.0  Action and Adventure                     Classics  \n",
       "1  2012.0                 Drama  Science Fiction and Fantasy  \n",
       "2  1996.0                 Drama  Musical and Performing Arts  \n",
       "3  1994.0                 Drama         Mystery and Suspense  \n",
       "4  2000.0                 Drama              Kids and Family  "
      ]
     },
     "execution_count": 15,
     "metadata": {},
     "output_type": "execute_result"
    }
   ],
   "source": [
    "#  Sppliting the Genres into different columns\n",
    "split_genre = cleansed_movie_info[\"genre\"].str.split(\"|\", n = 6, expand = True)\n",
    "\n",
    "genre1 = np.array(split_genre[0])\n",
    "genre2 = np.array(split_genre[1])\n",
    "genre3 = np.array(split_genre[2])\n",
    "genre4 = np.array(split_genre[3])\n",
    "genre5 = np.array(split_genre[4])\n",
    "genre6 = np.array(split_genre[5])\n",
    "genre7 = np.array(split_genre[6])\n",
    "\n",
    "# # Adding a column for each genre in the new DF\n",
    "main_movie_info['Genre 1'] = genre1\n",
    "main_movie_info['Genre 2'] = genre2\n",
    "#main_movie_info['Genre 3'] = genre3\n",
    "#main_movie_info['Genre 4'] = genre4\n",
    "#main_movie_info['Genre 5'] = genre5\n",
    "#main_movie_info['Genre 6'] = genre6\n",
    "#main_movie_info['Genre 7'] = genre7\n",
    "\n",
    "# main_movie_info overview\n",
    "main_movie_info.head()\n",
    "\n",
    "# **AÑADIR NOTA EXPLICANDO PORQUE DECIDÍ DEJAR UNICAMENTE LAS PRIMERAS 2 COLIMNAS DE GÉNERO"
   ]
  },
  {
   "cell_type": "markdown",
   "metadata": {},
   "source": [
    "## Analyzing the data"
   ]
  },
  {
   "cell_type": "markdown",
   "metadata": {},
   "source": [
    "### How many movies have been filmed in the last decades?  "
   ]
  },
  {
   "cell_type": "code",
   "execution_count": 33,
   "metadata": {},
   "outputs": [
    {
     "name": "stdout",
     "output_type": "stream",
     "text": [
      "-> Movies Per Decade: \n",
      "1920 5\n",
      "1930 14\n",
      "1940 40\n",
      "1950 55\n",
      "1960 72\n",
      "1970 64\n",
      "1980 163\n",
      "1999 266\n",
      "2000 314\n",
      "2010 204\n"
     ]
    }
   ],
   "source": [
    "# Preparing data by filtering movies per Decade per Gender\n",
    "_20sfilms = main_movie_info.loc[(main_movie_info['Years'] >= 1920) & (main_movie_info['Years'] <= 1929), 'Genre 1' ]\n",
    "_30sfilms = main_movie_info.loc[(main_movie_info['Years'] >= 1930) & (main_movie_info['Years'] <= 1939), 'Genre 1' ]\n",
    "_40sfilms = main_movie_info.loc[(main_movie_info['Years'] >= 1940) & (main_movie_info['Years'] <= 1949), 'Genre 1' ]\n",
    "_50sfilms = main_movie_info.loc[(main_movie_info['Years'] >= 1950) & (main_movie_info['Years'] <= 1959), 'Genre 1' ]\n",
    "_60sfilms = main_movie_info.loc[(main_movie_info['Years'] >= 1960) & (main_movie_info['Years'] <= 1969), 'Genre 1' ]\n",
    "_70sfilms = main_movie_info.loc[(main_movie_info['Years'] >= 1970) & (main_movie_info['Years'] <= 1979), 'Genre 1' ]\n",
    "_80sfilms = main_movie_info.loc[(main_movie_info['Years'] >= 1980) & (main_movie_info['Years'] <= 1989), 'Genre 1' ]\n",
    "_90sfilms = main_movie_info.loc[(main_movie_info['Years'] >= 1990) & (main_movie_info['Years'] <= 1999), 'Genre 1' ]\n",
    "_00sfilms = main_movie_info.loc[(main_movie_info['Years'] >= 2000) & (main_movie_info['Years'] <= 2009), 'Genre 1' ]\n",
    "_2010sfilms = main_movie_info.loc[(main_movie_info['Years'] >= 2010) & (main_movie_info['Years'] <= 2019), 'Genre 1' ]\n",
    "\n",
    "# Counting movies per decade\n",
    "decades = [1920, 1930, 1940, 1950, 1960, 1970, 1980, 1999, 2000, 2010]\n",
    "movies_per_decade = [len(_20sfilms),len(_30sfilms),len(_40sfilms),len(_50sfilms),len(_60sfilms),len(_70sfilms),len(_80sfilms),len(_90sfilms),len(_00sfilms),len(_2010sfilms)]\n",
    "\n",
    "print('-> Movies Per Decade: ')\n",
    "for x,y in zip(decades,movies_per_decade):\n",
    "    print(x,y)\n"
   ]
  },
  {
   "cell_type": "code",
   "execution_count": 26,
   "metadata": {},
   "outputs": [
    {
     "data": {
      "image/png": "[encoded data removed]",
      "text/plain": [
       "<Figure size 720x720 with 1 Axes>"
      ]
     },
     "metadata": {
      "needs_background": "light"
     },
     "output_type": "display_data"
    }
   ],
   "source": [
    "# Visualized data\n",
    "x_decades = decades\n",
    "y_count = movies_per_decade\n",
    "\n",
    "# Graph attributes\n",
    "plt.figure(figsize=(10,10))\n",
    "plt.xlabel('Decades', color='purple')\n",
    "plt.ylabel('Movies', color='purple')\n",
    "plt.title('Movies Per Decade', color='indigo')\n",
    "\n",
    "# Plotting\n",
    "plt.plot(x_decades, y_count, marker = 'o', markerfacecolor = 'r', color = 'plum')\n",
    "plt.grid(True)\n",
    "plt.show()\n",
    "\n"
   ]
  },
  {
   "cell_type": "markdown",
   "metadata": {},
   "source": [
    "### How many movies have been filmed in the last decades per genre?"
   ]
  },
  {
   "cell_type": "code",
   "execution_count": 118,
   "metadata": {},
   "outputs": [
    {
     "ename": "ValueError",
     "evalue": "All arrays must be of the same length",
     "output_type": "error",
     "traceback": [
      "\u001b[1;31m---------------------------------------------------------------------------\u001b[0m",
      "\u001b[1;31mValueError\u001b[0m                                Traceback (most recent call last)",
      "Input \u001b[1;32mIn [118]\u001b[0m, in \u001b[0;36m<cell line: 46>\u001b[1;34m()\u001b[0m\n\u001b[0;32m     43\u001b[0m         \u001b[38;5;28;01melse\u001b[39;00m:\n\u001b[0;32m     44\u001b[0m             \u001b[38;5;28;01mcontinue\u001b[39;00m\n\u001b[1;32m---> 46\u001b[0m x \u001b[38;5;241m=\u001b[39m \u001b[43mpd\u001b[49m\u001b[38;5;241;43m.\u001b[39;49m\u001b[43mDataFrame\u001b[49m\u001b[43m(\u001b[49m\u001b[43mg_p_d_count\u001b[49m\u001b[43m)\u001b[49m\n",
      "File \u001b[1;32m~\\Anaconda3\\lib\\site-packages\\pandas\\core\\frame.py:636\u001b[0m, in \u001b[0;36mDataFrame.__init__\u001b[1;34m(self, data, index, columns, dtype, copy)\u001b[0m\n\u001b[0;32m    630\u001b[0m     mgr \u001b[38;5;241m=\u001b[39m \u001b[38;5;28mself\u001b[39m\u001b[38;5;241m.\u001b[39m_init_mgr(\n\u001b[0;32m    631\u001b[0m         data, axes\u001b[38;5;241m=\u001b[39m{\u001b[38;5;124m\"\u001b[39m\u001b[38;5;124mindex\u001b[39m\u001b[38;5;124m\"\u001b[39m: index, \u001b[38;5;124m\"\u001b[39m\u001b[38;5;124mcolumns\u001b[39m\u001b[38;5;124m\"\u001b[39m: columns}, dtype\u001b[38;5;241m=\u001b[39mdtype, copy\u001b[38;5;241m=\u001b[39mcopy\n\u001b[0;32m    632\u001b[0m     )\n\u001b[0;32m    634\u001b[0m \u001b[38;5;28;01melif\u001b[39;00m \u001b[38;5;28misinstance\u001b[39m(data, \u001b[38;5;28mdict\u001b[39m):\n\u001b[0;32m    635\u001b[0m     \u001b[38;5;66;03m# GH#38939 de facto copy defaults to False only in non-dict cases\u001b[39;00m\n\u001b[1;32m--> 636\u001b[0m     mgr \u001b[38;5;241m=\u001b[39m \u001b[43mdict_to_mgr\u001b[49m\u001b[43m(\u001b[49m\u001b[43mdata\u001b[49m\u001b[43m,\u001b[49m\u001b[43m \u001b[49m\u001b[43mindex\u001b[49m\u001b[43m,\u001b[49m\u001b[43m \u001b[49m\u001b[43mcolumns\u001b[49m\u001b[43m,\u001b[49m\u001b[43m \u001b[49m\u001b[43mdtype\u001b[49m\u001b[38;5;241;43m=\u001b[39;49m\u001b[43mdtype\u001b[49m\u001b[43m,\u001b[49m\u001b[43m \u001b[49m\u001b[43mcopy\u001b[49m\u001b[38;5;241;43m=\u001b[39;49m\u001b[43mcopy\u001b[49m\u001b[43m,\u001b[49m\u001b[43m \u001b[49m\u001b[43mtyp\u001b[49m\u001b[38;5;241;43m=\u001b[39;49m\u001b[43mmanager\u001b[49m\u001b[43m)\u001b[49m\n\u001b[0;32m    637\u001b[0m \u001b[38;5;28;01melif\u001b[39;00m \u001b[38;5;28misinstance\u001b[39m(data, ma\u001b[38;5;241m.\u001b[39mMaskedArray):\n\u001b[0;32m    638\u001b[0m     \u001b[38;5;28;01mimport\u001b[39;00m \u001b[38;5;21;01mnumpy\u001b[39;00m\u001b[38;5;21;01m.\u001b[39;00m\u001b[38;5;21;01mma\u001b[39;00m\u001b[38;5;21;01m.\u001b[39;00m\u001b[38;5;21;01mmrecords\u001b[39;00m \u001b[38;5;28;01mas\u001b[39;00m \u001b[38;5;21;01mmrecords\u001b[39;00m\n",
      "File \u001b[1;32m~\\Anaconda3\\lib\\site-packages\\pandas\\core\\internals\\construction.py:502\u001b[0m, in \u001b[0;36mdict_to_mgr\u001b[1;34m(data, index, columns, dtype, typ, copy)\u001b[0m\n\u001b[0;32m    494\u001b[0m     arrays \u001b[38;5;241m=\u001b[39m [\n\u001b[0;32m    495\u001b[0m         x\n\u001b[0;32m    496\u001b[0m         \u001b[38;5;28;01mif\u001b[39;00m \u001b[38;5;129;01mnot\u001b[39;00m \u001b[38;5;28mhasattr\u001b[39m(x, \u001b[38;5;124m\"\u001b[39m\u001b[38;5;124mdtype\u001b[39m\u001b[38;5;124m\"\u001b[39m) \u001b[38;5;129;01mor\u001b[39;00m \u001b[38;5;129;01mnot\u001b[39;00m \u001b[38;5;28misinstance\u001b[39m(x\u001b[38;5;241m.\u001b[39mdtype, ExtensionDtype)\n\u001b[0;32m    497\u001b[0m         \u001b[38;5;28;01melse\u001b[39;00m x\u001b[38;5;241m.\u001b[39mcopy()\n\u001b[0;32m    498\u001b[0m         \u001b[38;5;28;01mfor\u001b[39;00m x \u001b[38;5;129;01min\u001b[39;00m arrays\n\u001b[0;32m    499\u001b[0m     ]\n\u001b[0;32m    500\u001b[0m     \u001b[38;5;66;03m# TODO: can we get rid of the dt64tz special case above?\u001b[39;00m\n\u001b[1;32m--> 502\u001b[0m \u001b[38;5;28;01mreturn\u001b[39;00m \u001b[43marrays_to_mgr\u001b[49m\u001b[43m(\u001b[49m\u001b[43marrays\u001b[49m\u001b[43m,\u001b[49m\u001b[43m \u001b[49m\u001b[43mcolumns\u001b[49m\u001b[43m,\u001b[49m\u001b[43m \u001b[49m\u001b[43mindex\u001b[49m\u001b[43m,\u001b[49m\u001b[43m \u001b[49m\u001b[43mdtype\u001b[49m\u001b[38;5;241;43m=\u001b[39;49m\u001b[43mdtype\u001b[49m\u001b[43m,\u001b[49m\u001b[43m \u001b[49m\u001b[43mtyp\u001b[49m\u001b[38;5;241;43m=\u001b[39;49m\u001b[43mtyp\u001b[49m\u001b[43m,\u001b[49m\u001b[43m \u001b[49m\u001b[43mconsolidate\u001b[49m\u001b[38;5;241;43m=\u001b[39;49m\u001b[43mcopy\u001b[49m\u001b[43m)\u001b[49m\n",
      "File \u001b[1;32m~\\Anaconda3\\lib\\site-packages\\pandas\\core\\internals\\construction.py:120\u001b[0m, in \u001b[0;36marrays_to_mgr\u001b[1;34m(arrays, columns, index, dtype, verify_integrity, typ, consolidate)\u001b[0m\n\u001b[0;32m    117\u001b[0m \u001b[38;5;28;01mif\u001b[39;00m verify_integrity:\n\u001b[0;32m    118\u001b[0m     \u001b[38;5;66;03m# figure out the index, if necessary\u001b[39;00m\n\u001b[0;32m    119\u001b[0m     \u001b[38;5;28;01mif\u001b[39;00m index \u001b[38;5;129;01mis\u001b[39;00m \u001b[38;5;28;01mNone\u001b[39;00m:\n\u001b[1;32m--> 120\u001b[0m         index \u001b[38;5;241m=\u001b[39m \u001b[43m_extract_index\u001b[49m\u001b[43m(\u001b[49m\u001b[43marrays\u001b[49m\u001b[43m)\u001b[49m\n\u001b[0;32m    121\u001b[0m     \u001b[38;5;28;01melse\u001b[39;00m:\n\u001b[0;32m    122\u001b[0m         index \u001b[38;5;241m=\u001b[39m ensure_index(index)\n",
      "File \u001b[1;32m~\\Anaconda3\\lib\\site-packages\\pandas\\core\\internals\\construction.py:674\u001b[0m, in \u001b[0;36m_extract_index\u001b[1;34m(data)\u001b[0m\n\u001b[0;32m    672\u001b[0m lengths \u001b[38;5;241m=\u001b[39m \u001b[38;5;28mlist\u001b[39m(\u001b[38;5;28mset\u001b[39m(raw_lengths))\n\u001b[0;32m    673\u001b[0m \u001b[38;5;28;01mif\u001b[39;00m \u001b[38;5;28mlen\u001b[39m(lengths) \u001b[38;5;241m>\u001b[39m \u001b[38;5;241m1\u001b[39m:\n\u001b[1;32m--> 674\u001b[0m     \u001b[38;5;28;01mraise\u001b[39;00m \u001b[38;5;167;01mValueError\u001b[39;00m(\u001b[38;5;124m\"\u001b[39m\u001b[38;5;124mAll arrays must be of the same length\u001b[39m\u001b[38;5;124m\"\u001b[39m)\n\u001b[0;32m    676\u001b[0m \u001b[38;5;28;01mif\u001b[39;00m have_dicts:\n\u001b[0;32m    677\u001b[0m     \u001b[38;5;28;01mraise\u001b[39;00m \u001b[38;5;167;01mValueError\u001b[39;00m(\n\u001b[0;32m    678\u001b[0m         \u001b[38;5;124m\"\u001b[39m\u001b[38;5;124mMixing dicts with non-Series may lead to ambiguous ordering.\u001b[39m\u001b[38;5;124m\"\u001b[39m\n\u001b[0;32m    679\u001b[0m     )\n",
      "\u001b[1;31mValueError\u001b[0m: All arrays must be of the same length"
     ]
    }
   ],
   "source": [
    "# Prepering data for visualization \n",
    "_decades_ = [_20sfilms, _30sfilms, _40sfilms, _50sfilms, _60sfilms, _70sfilms, _80sfilms, _90sfilms, _00sfilms, _2010sfilms]\n",
    "popular_genres_per_decade = []\n",
    "\n",
    "g_p_d_count = {\n",
    "    \"Action_Adventure\" : [],\n",
    "    \"Animation\" : [],\n",
    "    \"Anime_Manga\" : [],\n",
    "    \"Art_House_International\" : [],\n",
    "    \"Classics\" : [],\n",
    "    \"Comedy\" : [],\n",
    "    \"Cult_Movies\" : [],\n",
    "    \"Documentary\" : [],\n",
    "    \"Drama\" : [],\n",
    "    \"Faith_Spirituality\" : [],\n",
    "    \"Gay_Lesbian\" : [],\n",
    "    \"Horror\" : [],\n",
    "    \"Kids_Family\" : [],\n",
    "    \"Musical_Performing_Arts\" : [],\n",
    "    \"Mystery_Suspense\" : [],\n",
    "    \"Romance\" : [],\n",
    "    \"Science_Fiction_Fantasy\" : [],\n",
    "    \"Special_Interest\" : [],\n",
    "    \"Sports_Fitness\" : [],\n",
    "    \"Television\" : [],\n",
    "    \"Western\" : []\n",
    "}\n",
    "\n",
    "# Creating a dictionary of all genres count per decade\n",
    "for decade in _decades_:\n",
    "    genres_count = collections.Counter(decade)\n",
    "    gen_c = dict(genres_count)\n",
    "    popular_genres_per_decade.append(gen_c)\n",
    "\n",
    "for decade in popular_genres_per_decade:\n",
    "    for _genre, _count in decade.items():\n",
    "        if _genre == 'Action and Adventure':\n",
    "            g_p_d_count[\"Action_Adventure\"].append(_count)\n",
    "        elif _genre == 'Art House and International':\n",
    "            g_p_d_count[\"Art_House_International\"].append(_count)\n",
    "        elif _genre == 'Classics':\n",
    "            g_p_d_count[\"Classics\"].append(_count)\n",
    "        else:\n",
    "            continue\n",
    "        \n",
    "x = pd.DataFrame(g_p_d_count) "
   ]
  },
  {
   "cell_type": "code",
   "execution_count": 114,
   "metadata": {},
   "outputs": [
    {
     "ename": "TypeError",
     "evalue": "unhashable type: 'list'",
     "output_type": "error",
     "traceback": [
      "\u001b[1;31m---------------------------------------------------------------------------\u001b[0m",
      "\u001b[1;31mTypeError\u001b[0m                                 Traceback (most recent call last)",
      "Input \u001b[1;32mIn [114]\u001b[0m, in \u001b[0;36m<cell line: 3>\u001b[1;34m()\u001b[0m\n\u001b[0;32m      1\u001b[0m \u001b[38;5;66;03m# Data\u001b[39;00m\n\u001b[0;32m      2\u001b[0m r \u001b[38;5;241m=\u001b[39m [\u001b[38;5;241m0\u001b[39m,\u001b[38;5;241m1\u001b[39m]\n\u001b[1;32m----> 3\u001b[0m raw_data \u001b[38;5;241m=\u001b[39m {g_p_d_count[\u001b[38;5;124m\"\u001b[39m\u001b[38;5;124mAction_Adventure\u001b[39m\u001b[38;5;124m\"\u001b[39m], g_p_d_count[\u001b[38;5;124m\"\u001b[39m\u001b[38;5;124mArt_House_International\u001b[39m\u001b[38;5;124m\"\u001b[39m], g_p_d_count[\u001b[38;5;124m\"\u001b[39m\u001b[38;5;124mClassics\u001b[39m\u001b[38;5;124m\"\u001b[39m]}\n\u001b[0;32m      4\u001b[0m df \u001b[38;5;241m=\u001b[39m pd\u001b[38;5;241m.\u001b[39mDataFrame(raw_data)\n\u001b[0;32m      6\u001b[0m \u001b[38;5;66;03m# From raw value to percentage\u001b[39;00m\n",
      "\u001b[1;31mTypeError\u001b[0m: unhashable type: 'list'"
     ]
    }
   ],
   "source": [
    "# Data\n",
    "r = [0,1]\n",
    "raw_data = {g_p_d_count[\"Action_Adventure\"], g_p_d_count[\"Art_House_International\"], g_p_d_count[\"Classics\"]}\n",
    "df = pd.DataFrame(raw_data)\n",
    " \n",
    "# From raw value to percentage\n",
    "totals = [i+j+k for i,j,k in zip(g_p_d_count[\"Action_Adventure\"],g_p_d_count[\"Art_House_International\"], g_p_d_count[\"Classics\"])]\n",
    "ActionAdventure = [i / j * 100 for i,j in zip(g_p_d_count[\"Action_Adventure\"], totals)]\n",
    "ArtHouseInternational = [i / j * 100 for i,j in zip(g_p_d_count[\"Art_House_International\"], totals)]\n",
    "Classics_ = [i / j * 100 for i,j in zip(g_p_d_count[\"Classics\"], totals)]\n",
    " \n",
    "# plot\n",
    "barWidth = 0.85\n",
    "names = ('A','B','C')\n",
    "# Create green Bars\n",
    "plt.bar(r, ActionAdventure, color='#b5ffb9', edgecolor='white', width=barWidth)\n",
    "# Create orange Bars\n",
    "plt.bar(r, ArtHouseInternational, bottom=greenBars, color='#f9bc86', edgecolor='white', width=barWidth)\n",
    "# Create blue Bars\n",
    "plt.bar(r, Classics_, bottom=[i+j for i,j in zip(ActionAdventure, ArtHouseInternational)], color='#a3acff', edgecolor='white', width=barWidth)\n",
    " \n",
    "# Custom x axis\n",
    "plt.xticks(r, names)\n",
    "plt.xlabel(\"group\")\n",
    " \n",
    "# Show graphic\n",
    "plt.show()"
   ]
  },
  {
   "cell_type": "code",
   "execution_count": null,
   "metadata": {},
   "outputs": [],
   "source": [
    " 'Action and Adventure', 'Animation', 'Anime and Manga', \n",
    "'Art House and International', 'Classics', 'Comedy', 'Cult Movies', 'Documentary', 'Drama', \n",
    "'Faith and Spirituality', 'Gay and Lesbian', 'Horror', 'Kids and Family', 'Musical and Performing Arts',\n",
    "'Mystery and Suspense', \n",
    "'N/A', None, 'Romance', 'Science Fiction and Fantasy', 'Special Interest', 'Sports and Fitness', 'Television', 'Western'\n",
    "   \n",
    "    \n",
    "    \n",
    "    if bike == 'Hero':\n",
    "    print(\"bike is Hero\")\n",
    " \n",
    "elif bike == \"Suzuki\":\n",
    "    print(\"bike is Suzuki\")\n",
    " \n",
    "elif bike == \"Yamaha\":\n",
    "    print(\"bike is Yamaha\")\n",
    " \n",
    "else:\n",
    "    print(\"Please choose correct answer\")"
   ]
  },
  {
   "cell_type": "markdown",
   "metadata": {},
   "source": [
    "## Finding most popular Genres"
   ]
  },
  {
   "cell_type": "code",
   "execution_count": null,
   "metadata": {},
   "outputs": [],
   "source": [
    "\"\"\"\n",
    "**CHANGE \"NONE\" -> N/A IN THE GENRE COLUMNS\n",
    "\n",
    "\n",
    "\"\"\"\n",
    "# Concatenating all genres \n",
    "_genres = np.concatenate((genre1, genre2, genre3, genre4, genre5, genre6, genre7), axis=0)\n",
    "\n",
    "# Creating a list that contains all different generes\n",
    "all_genres = list(set(_genres))\n",
    "#all_genres\n",
    "\n",
    "# Counting frecuency of Genres using Collections Module\n",
    "genres_count = collections.Counter(_genres)\n",
    "genres_count.most_common() # sorts the values\n",
    "\n",
    "# ADD A GRAPH"
   ]
  },
  {
   "cell_type": "code",
   "execution_count": null,
   "metadata": {},
   "outputs": [],
   "source": [
    "import re\n",
    "import math\n",
    "import nltk \n",
    "nltk.download('stopwords')"
   ]
  },
  {
   "cell_type": "markdown",
   "metadata": {},
   "source": [
    "## Cleaning Synopsis"
   ]
  },
  {
   "cell_type": "code",
   "execution_count": null,
   "metadata": {},
   "outputs": [],
   "source": [
    "\n",
    "from nltk.corpus import stopwords\n",
    "\n",
    "def clean_synopsis(word, stop_words):\n",
    "    word = word.lower()\n",
    "    words = re.findall('[a-záéíóúüñ]+', word)\n",
    "    new_word = [w for w in words if ((not w in stop_words) and len(w)>=3 and len(w)<=24)]\n",
    "    return new_word\n",
    "\n",
    "s_w = stopwords.words('english')\n",
    "#stops = set(stopwords.words('english'))\n",
    "#print(stops)\n",
    "s_w.extend(['film','one'])\n",
    "vocabulary = []\n",
    "\n",
    "\n",
    "for synopsis in main_movie_info[\"Synopsis\"] :\n",
    "    s = clean_synopsis(synopsis.strip(),s_w)\n",
    "    vocabulary.extend(s)\n",
    "\n",
    "#print(vocabulary)\n",
    "\n",
    "vocabulary_count = collections.Counter(vocabulary)\n",
    "vocabulary_count.most_common() # sorts the values\n"
   ]
  },
  {
   "cell_type": "markdown",
   "metadata": {},
   "source": [
    "# Enrique"
   ]
  },
  {
   "cell_type": "code",
   "execution_count": null,
   "metadata": {},
   "outputs": [],
   "source": [
    "# Your code here - remember to use markdown cells for comments as well!"
   ]
  },
  {
   "cell_type": "markdown",
   "metadata": {},
   "source": [
    "# John"
   ]
  },
  {
   "cell_type": "code",
   "execution_count": null,
   "metadata": {},
   "outputs": [],
   "source": [
    "# Your code here - remember to use markdown cells for comments as well!"
   ]
  },
  {
   "cell_type": "code",
   "execution_count": null,
   "metadata": {},
   "outputs": [],
   "source": []
  },
  {
   "cell_type": "code",
   "execution_count": null,
   "metadata": {},
   "outputs": [],
   "source": []
  },
  {
   "cell_type": "code",
   "execution_count": null,
   "metadata": {},
   "outputs": [],
   "source": []
  }
 ],
 "metadata": {
  "kernelspec": {
   "display_name": "Python 3 (ipykernel)",
   "language": "python",
   "name": "python3"
  },
  "language_info": {
   "codemirror_mode": {
    "name": "ipython",
    "version": 3
   },
   "file_extension": ".py",
   "mimetype": "text/x-python",
   "name": "python",
   "nbconvert_exporter": "python",
   "pygments_lexer": "ipython3",
   "version": "3.9.12"
  }
 },
 "nbformat": 4,
 "nbformat_minor": 2
}
